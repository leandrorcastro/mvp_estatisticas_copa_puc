{
 "cells": [
  {
   "cell_type": "markdown",
   "metadata": {
    "application/vnd.databricks.v1+cell": {
     "cellMetadata": {},
     "inputWidgets": {},
     "nuid": "6f39bac4-a371-49eb-9f37-449110786faa",
     "showTitle": false,
     "tableResultSettingsMap": {},
     "title": ""
    }
   },
   "source": [
    "## Análise Estatística das Copas do Mundo\n",
    "\n",
    "**PUC-Rio**\n",
    "\n",
    "**MVP da Disciplina Engenharia de Dados**\n",
    "\n",
    "**Aluno:** Leandro Ribeiro de Castro"
   ]
  },
  {
   "cell_type": "markdown",
   "metadata": {
    "application/vnd.databricks.v1+cell": {
     "cellMetadata": {},
     "inputWidgets": {},
     "nuid": "ffe08027-3143-4d3a-aec3-da28de73e80b",
     "showTitle": false,
     "tableResultSettingsMap": {},
     "title": ""
    }
   },
   "source": [
    "## Objetivo\n",
    "\n",
    "Esta análise tem como objetivo examinar de forma sistemática um conjunto de dados que reúne informações detalhadas acerca das edições da Copa do Mundo da FIFA de 1930 à 2014. Por meio dessa abordagem exploratória, pretende-se extrair insights significativos que possibilitem uma compreensão do torneio ao longo do tempo.\n",
    "\n",
    "A análise visa, ainda, responder a um conjunto de métricas-chave, com o intuito de identificar padrões históricos, bem como evidenciar o desempenho de seleções e jogadores. Com isso, busca-se não apenas a descrição dos dados, mas também a geração de conhecimento da Copa do Mundo no cenário esportivo global. A partir dessa análise, deseja-se responder as seguintes métricas-chave:\n",
    "\n",
    "- **Desempenho das Seleções:** Identificar quais seleções tiveram o maior número de vitórias e derrotas.\n",
    "- **Artilheiros Destacados:** Destacar os jogadores com maior número de gols ao longo da história do torneio.\n",
    "- **Fair Play:** Analisar dados relacionados a cartões amarelos e vermelhos para identificar quais jogadores foram mais agressivos.\n",
    "- **Top 5 Maiores Campeões:** Identificar as seleções com mais títulos conquistados.\n",
    "- **Top 5 Países com Mais Troféus:** Identificar as seleções com mais troféus conquistados (primeiro, segundo e terceiro lugar).\n",
    "- **Maior Público Geral:** Identificar a edição com o maior total de público acumulado.\n",
    "- **Top 5 Maiores Públicos em uma Partida:** Listar os maiores públicos registrados em jogos únicos.\n",
    "- **País que Mais Sediou a Copa:** Verificar qual país foi sede da Copa do Mundo mais vezes.\n",
    "- **Top 5 Recordes de Gols em Edições:** Edições com maior número de gols marcados no total.\n",
    "- **Top 10 Maiores Artilheiros da História das Copas:** Ranking dos jogadores com mais gols somados em diferentes edições.\n",
    "- **Top 5 Países com Mais Gols Marcados:** Seleções que mais balançaram as redes ao longo das Copas.\n",
    "- **Top 5 Países com Mais Gols Sofridos:** Seleções que mais sofreram gols.\n",
    "- **Top 10 Árbitros com Mais Jogos Apitados:** Principais árbitros com mais atuações em partidas de Copa do Mundo.\n",
    "- **Top 5 Países com Mais Árbitros Principais Representados:** Analisar a presença de árbitros principais por país.\n",
    "\n",
    "Essas análises fornecerão uma visão abrangente e detalhada da história da Copa do Mundo, revelando padrões, curiosidades e destaques que marcaram o maior torneio de futebol do planeta."
   ]
  },
  {
   "cell_type": "markdown",
   "metadata": {
    "application/vnd.databricks.v1+cell": {
     "cellMetadata": {},
     "inputWidgets": {},
     "nuid": "c13ca4d4-0ced-42a0-a0a8-f51f75a6a5d2",
     "showTitle": false,
     "tableResultSettingsMap": {},
     "title": ""
    }
   },
   "source": [
    "## Coleta dos Dados\n",
    "\n",
    "O conjunto dados brutos foram obtidos atráves da plataforma Kaggle, de forma gratuita, o mesmo foi disponibilizado pelo usuário [Andre Becklas no Kaggle](https://www.kaggle.com/datasets/abecklas/fifa-world-cup), e é estruturado em 3 tabelas:\n",
    "\n",
    "- **WorldCups** - CSV com dados gerais sobre cada edição da Copa do Mundo da FIFA de 1930 à 2014.\n",
    "- **WorldCupMatches** - CSV com dados dos jogos de cada edição da Copa do Mundo da FIFA de 1930 à 2014.\n",
    "- **WorldCupPlayers** - CSV com dados dos jogadores e eventos relacionados em cada jogo da Copa do Mundo da FIFA de 1930 à 2014.\n",
    "\n",
    "Foi utilizado a biblioteca python [kagglehub](https://pypi.org/project/kagglehub/) que contém nativamente uma API para consumo dos dados público da plataforma Kaggle.\n"
   ]
  },
  {
   "cell_type": "markdown",
   "metadata": {
    "application/vnd.databricks.v1+cell": {
     "cellMetadata": {},
     "inputWidgets": {},
     "nuid": "f0c54951-f9af-4691-9f9c-436b60a6570c",
     "showTitle": false,
     "tableResultSettingsMap": {},
     "title": ""
    }
   },
   "source": [
    "## Modelagem\n",
    "\n",
    "Foi construído um modelo de dados baseado em Esquema Estrela, organizado em três camadas: bronze, silver e gold.\n",
    "\n",
    "Na camada bronze, foi necessário renomear campos que continham caracteres especiais e converter dados do tipo double para integer, a fim de evitar erros na criação das tabelas e garantir a padronização dos dados brutos.\n",
    "\n",
    "Na camada silver, foi realizada a etapa de tratamento e validação da qualidade dos dados (data quality). Identificou-se que a tabela worldcupmatches continha 3.720 linhas nulas, o que poderia comprometer a qualidade das análises. Essas linhas, juntamente com registros duplicados, foram removidas por meio de modelagem, assegurando dados mais consistentes.\n",
    "\n",
    "Ainda nesta camada, foi conduzida uma análise detalhada dos campos string, com foco em encontrar valores inválidos ou nomes não amigáveis. Foram encontradas inconsistências resultantes de problemas de codificação nos arquivos de origem, com caracteres não reconhecidos. Como a simples conversão de encoding não foi suficiente, optou-se por uma modelagem direta para substituir os nomes incorretos.\n",
    "\n",
    "Além disso, na tabela worldcupmatches, foi criada uma nova coluna chamada RefereeCountry, extraída a partir da identificação do país presente no campo Referee. Já na tabela worldcupplayers, o campo Event — que contém a descrição dos eventos da partida por jogador — foi processado para extrair informações específicas sobre gols, cartões amarelos e cartões vermelhos. Os dados extraídos foram armazenados em novos campos: Goals, YellowCards e RedCards, respectivamente. Foram também excluídas as linhas em que todas essas três colunas apresentavam valores iguais a zero, por não contribuírem com informações relevantes para análise. Por fim, as colunas foram renomeadas para evitar ambiguidade entre os nomes durante os joins.\n",
    "\n",
    "Na camada gold, foram realizadas as validações finais e integradas as tabelas da camada silver por meio de joins, consolidando os dados tratados e prontos para análise.\n",
    "\n",
    "**Catálogo dos dados da Tabela \"wcstats\"**\n",
    "\n",
    "| CAMPO           | DESCRIÇÃO                                     | TIPO    | DOMÍNIO / OBSERVAÇÕES                                               |\n",
    "|-----------------|-----------------------------------------------|---------|---------------------------------------------------------------------|\n",
    "| MatchID         | Identificador único do jogo                   | integer | Ex: 1, 2, 3...                                                      |\n",
    "| Year            | Ano da Copa do Mundo da FIFA / Jogo           | integer | Mínimo: 1930 - Máximo: 2014                                         |\n",
    "| CountryCup      | Nome do País sede da Copa do Mundo da FIFA    | string  | Ex: Brasil, Argentina, Alemanha...                                  |\n",
    "| WinnerCup       | Nome do País campeão da Copa                  | string  | Ex: Brasil, Argentina, Alemanha...                                  |\n",
    "| RunnersUpCup    | Nome do País com a segunda colocação da Copa  | string  | Ex: Brasil, Argentina, Alemanha...                                  |\n",
    "| ThirdCup        | Nome do País com a terceira colocação da Copa | string  | Ex: Brasil, Argentina, Alemanha...                                  |\n",
    "| GoalsScoredCup  | Total de gols da Copa do Mundo da FIFA        | integer | Ex: 1, 2, 3...                                                      |\n",
    "| AttendanceCup   | Total de público da Copa do Mundo da FIFA     | integer | Ex: 1, 2, 3...                                                      |\n",
    "| HomeTeamName    | Nome do time mandante do jogo                 | string  | Ex: Brasil, Argentina, Alemanha...                                  |\n",
    "| HomeTeamGoals   | Total de gols do time mandante                | integer | Ex: 1, 2, 3...                                                      |\n",
    "| AwayTeamGoals   | Total de gols do time visitante               | integer | Ex: 1, 2, 3...                                                      |\n",
    "| AwayTeamName    | Nome do time visitante do jogo                | string  | Ex: Brasil, Argentina, Alemanha...                                  |\n",
    "| AttendanceMatch | Total de público do jogo                      | integer | Ex: 1, 2, 3...                                                      |\n",
    "| Referee         | Nome do árbitro principal                     | string  | Ex: BAERT Louis (BEL), QUINIOU Joel (FRA), COLLINA Pierluigi (ITA)  |\n",
    "| RefereeCountry  | Nomeclatura do País do árbitro principal      | string  | Ex: BRA, ARG, GER...                                                |\n",
    "| TeamInitials    | Nomeclatura do país defendido                 | string  | Ex: BRA, ARG, GER...                                                |\n",
    "| PlayerName      | Nome do jogador                               | string  | Ex: Tom FLORIE, Bert PATENAUDE, Bart McGHEE                         |\n",
    "| Goals           | Total de gols                                 | integer | Ex: 1, 2, 3...                                                      |\n",
    "| YellowCards     | Total de cartões amarelos                     | integer | Ex: 1, 2, 3...                                                      |\n",
    "| RedCards        | Total de cartões vermelhos                    | integer | Ex: 1, 2, 3...                                                      |\n"
   ]
  },
  {
   "cell_type": "markdown",
   "metadata": {
    "application/vnd.databricks.v1+cell": {
     "cellMetadata": {},
     "inputWidgets": {},
     "nuid": "2f4750eb-cf48-46df-b866-1e3fd60ff632",
     "showTitle": false,
     "tableResultSettingsMap": {},
     "title": ""
    }
   },
   "source": [
    "## Análise"
   ]
  },
  {
   "cell_type": "markdown",
   "metadata": {
    "application/vnd.databricks.v1+cell": {
     "cellMetadata": {},
     "inputWidgets": {},
     "nuid": "eb2e2a26-9d09-4dab-b9a8-aef8812b42c5",
     "showTitle": false,
     "tableResultSettingsMap": {},
     "title": ""
    }
   },
   "source": [
    "**Instalando dependências necessárias**"
   ]
  },
  {
   "cell_type": "code",
   "execution_count": 0,
   "metadata": {
    "application/vnd.databricks.v1+cell": {
     "cellMetadata": {
      "byteLimit": 2048000,
      "rowLimit": 10000
     },
     "inputWidgets": {},
     "nuid": "591263c5-ac58-416b-ab8c-f80f3d18c5ff",
     "showTitle": true,
     "tableResultSettingsMap": {},
     "title": "Instalando dependências necessárias"
    }
   },
   "outputs": [
    {
     "output_type": "stream",
     "name": "stdout",
     "output_type": "stream",
     "text": [
      "Python interpreter will be restarted.\nRequirement already satisfied: kagglehub[pandas-datasets] in /local_disk0/.ephemeral_nfs/envs/pythonEnv-4caf3d99-2935-418e-904f-f7cfca00effe/lib/python3.9/site-packages (0.3.11)\nRequirement already satisfied: pyyaml in /local_disk0/.ephemeral_nfs/envs/pythonEnv-4caf3d99-2935-418e-904f-f7cfca00effe/lib/python3.9/site-packages (from kagglehub[pandas-datasets]) (6.0.2)\nRequirement already satisfied: packaging in /databricks/python3/lib/python3.9/site-packages (from kagglehub[pandas-datasets]) (21.3)\nRequirement already satisfied: tqdm in /local_disk0/.ephemeral_nfs/envs/pythonEnv-4caf3d99-2935-418e-904f-f7cfca00effe/lib/python3.9/site-packages (from kagglehub[pandas-datasets]) (4.67.1)\nRequirement already satisfied: requests in /databricks/python3/lib/python3.9/site-packages (from kagglehub[pandas-datasets]) (2.27.1)\nRequirement already satisfied: pandas in /databricks/python3/lib/python3.9/site-packages (from kagglehub[pandas-datasets]) (1.4.2)\nRequirement already satisfied: pyparsing!=3.0.5,>=2.0.2 in /databricks/python3/lib/python3.9/site-packages (from packaging->kagglehub[pandas-datasets]) (3.0.4)\nRequirement already satisfied: python-dateutil>=2.8.1 in /databricks/python3/lib/python3.9/site-packages (from pandas->kagglehub[pandas-datasets]) (2.8.2)\nRequirement already satisfied: numpy>=1.18.5 in /databricks/python3/lib/python3.9/site-packages (from pandas->kagglehub[pandas-datasets]) (1.21.5)\nRequirement already satisfied: pytz>=2020.1 in /databricks/python3/lib/python3.9/site-packages (from pandas->kagglehub[pandas-datasets]) (2021.3)\nRequirement already satisfied: six>=1.5 in /databricks/python3/lib/python3.9/site-packages (from python-dateutil>=2.8.1->pandas->kagglehub[pandas-datasets]) (1.16.0)\nRequirement already satisfied: charset-normalizer~=2.0.0 in /databricks/python3/lib/python3.9/site-packages (from requests->kagglehub[pandas-datasets]) (2.0.4)\nRequirement already satisfied: idna<4,>=2.5 in /databricks/python3/lib/python3.9/site-packages (from requests->kagglehub[pandas-datasets]) (3.3)\nRequirement already satisfied: certifi>=2017.4.17 in /databricks/python3/lib/python3.9/site-packages (from requests->kagglehub[pandas-datasets]) (2021.10.8)\nRequirement already satisfied: urllib3<1.27,>=1.21.1 in /databricks/python3/lib/python3.9/site-packages (from requests->kagglehub[pandas-datasets]) (1.26.9)\nPython interpreter will be restarted.\n"
     ]
    }
   ],
   "source": [
    "# Instalando as dependências\n",
    "%pip install kagglehub[pandas-datasets]"
   ]
  },
  {
   "cell_type": "markdown",
   "metadata": {
    "application/vnd.databricks.v1+cell": {
     "cellMetadata": {},
     "inputWidgets": {},
     "nuid": "966c5080-e392-4f4d-8622-00bb5a8d2f35",
     "showTitle": false,
     "tableResultSettingsMap": {},
     "title": ""
    }
   },
   "source": [
    "**Importando bibliotecas necessárias**"
   ]
  },
  {
   "cell_type": "code",
   "execution_count": 0,
   "metadata": {
    "application/vnd.databricks.v1+cell": {
     "cellMetadata": {
      "byteLimit": 2048000,
      "rowLimit": 10000
     },
     "inputWidgets": {},
     "nuid": "ab63205a-d459-4d8e-815c-188addc052d5",
     "showTitle": true,
     "tableResultSettingsMap": {},
     "title": "Importando bibliotecas necessárias"
    }
   },
   "outputs": [],
   "source": [
    "# Importando a biblioteca kagglehub para coleta dos conjuntos de dados \n",
    "import kagglehub\n",
    "from kagglehub import KaggleDatasetAdapter\n",
    "\n",
    "# Importando biblioteca re para suporte de expressões regulares (regex), necessárias manipulações em strings\n",
    "import re\n",
    "\n",
    "# Importando funções definidas do PySpark manipulações em DataFrames\n",
    "from pyspark.sql.functions import col, expr, length, regexp_replace\n"
   ]
  },
  {
   "cell_type": "markdown",
   "metadata": {
    "application/vnd.databricks.v1+cell": {
     "cellMetadata": {},
     "inputWidgets": {},
     "nuid": "702aa0fd-b9fe-41c8-bbfa-e1da3b8905f5",
     "showTitle": false,
     "tableResultSettingsMap": {},
     "title": ""
    }
   },
   "source": [
    "**Criando e carregando o dataframe worldcups bronze e exibindo primeiras 5 linhas**"
   ]
  },
  {
   "cell_type": "code",
   "execution_count": 0,
   "metadata": {
    "application/vnd.databricks.v1+cell": {
     "cellMetadata": {
      "byteLimit": 2048000,
      "rowLimit": 10000
     },
     "inputWidgets": {},
     "nuid": "8086eb79-acbf-4caa-ade4-c1480be8a4d6",
     "showTitle": true,
     "tableResultSettingsMap": {},
     "title": "Criando e carregando o dataframe worldcups bronze e exibindo primeiras 5 linhas"
    }
   },
   "outputs": [
    {
     "output_type": "stream",
     "name": "stdout",
     "output_type": "stream",
     "text": [
      "+----+-----------+----------+--------------+-------+----------+-----------+--------------+-------------+----------+\n|Year|Country    |Winner    |Runners-Up    |Third  |Fourth    |GoalsScored|QualifiedTeams|MatchesPlayed|Attendance|\n+----+-----------+----------+--------------+-------+----------+-----------+--------------+-------------+----------+\n|1930|Uruguay    |Uruguay   |Argentina     |USA    |Yugoslavia|70         |13            |18           |590.549   |\n|1934|Italy      |Italy     |Czechoslovakia|Germany|Austria   |70         |16            |17           |363.000   |\n|1938|France     |Italy     |Hungary       |Brazil |Sweden    |84         |15            |18           |375.700   |\n|1950|Brazil     |Uruguay   |Brazil        |Sweden |Spain     |88         |13            |22           |1.045.246 |\n|1954|Switzerland|Germany FR|Hungary       |Austria|Uruguay   |140        |16            |26           |768.607   |\n+----+-----------+----------+--------------+-------+----------+-----------+--------------+-------------+----------+\nonly showing top 5 rows\n\n"
     ]
    }
   ],
   "source": [
    "# Carregando e criando o dataframe df_worldcups_bronze\n",
    "df_worldcups_bronze = kagglehub.dataset_load(\n",
    "    KaggleDatasetAdapter.PANDAS,\n",
    "    \"abecklas/fifa-world-cup/versions/5\",\n",
    "    \"WorldCups.csv\",\n",
    ")\n",
    "\n",
    "# Convertendo em spark\n",
    "df_worldcups_bronze = spark.createDataFrame(df_worldcups_bronze)\n",
    "\n",
    "# Exibindo as 5 primeiras linhas\n",
    "df_worldcups_bronze.show(5, truncate=False)"
   ]
  },
  {
   "cell_type": "markdown",
   "metadata": {
    "application/vnd.databricks.v1+cell": {
     "cellMetadata": {},
     "inputWidgets": {},
     "nuid": "1ccf6a8b-42c5-4feb-8a8f-5f4638df6207",
     "showTitle": false,
     "tableResultSettingsMap": {},
     "title": ""
    }
   },
   "source": [
    "**Estrutura dos dados do dataframe worldcups bronze - Tipo de Dados**"
   ]
  },
  {
   "cell_type": "code",
   "execution_count": 0,
   "metadata": {
    "application/vnd.databricks.v1+cell": {
     "cellMetadata": {
      "byteLimit": 2048000,
      "rowLimit": 10000
     },
     "inputWidgets": {},
     "nuid": "0c4f22e4-b97e-4a43-8823-c4bb14870c6f",
     "showTitle": true,
     "tableResultSettingsMap": {},
     "title": "Estrutura dos dados do dataframe worldcups bronze - Tipo de Dados"
    }
   },
   "outputs": [
    {
     "output_type": "stream",
     "name": "stdout",
     "output_type": "stream",
     "text": [
      "root\n |-- Year: long (nullable = true)\n |-- Country: string (nullable = true)\n |-- Winner: string (nullable = true)\n |-- Runners-Up: string (nullable = true)\n |-- Third: string (nullable = true)\n |-- Fourth: string (nullable = true)\n |-- GoalsScored: long (nullable = true)\n |-- QualifiedTeams: long (nullable = true)\n |-- MatchesPlayed: long (nullable = true)\n |-- Attendance: string (nullable = true)\n\n"
     ]
    }
   ],
   "source": [
    "# Exibindo tipo de dados no dataframe\n",
    "df_worldcups_bronze.printSchema()"
   ]
  },
  {
   "cell_type": "markdown",
   "metadata": {
    "application/vnd.databricks.v1+cell": {
     "cellMetadata": {},
     "inputWidgets": {},
     "nuid": "74ef5fc2-e4df-4e95-9102-97bff1e030fd",
     "showTitle": false,
     "tableResultSettingsMap": {},
     "title": ""
    }
   },
   "source": [
    "**Renomeando colunas e convertendo tipo de dados do dataframe worldcups bronze**"
   ]
  },
  {
   "cell_type": "code",
   "execution_count": 0,
   "metadata": {
    "application/vnd.databricks.v1+cell": {
     "cellMetadata": {
      "byteLimit": 2048000,
      "rowLimit": 10000
     },
     "inputWidgets": {},
     "nuid": "ec627563-4859-498a-927f-f092efe4553b",
     "showTitle": true,
     "tableResultSettingsMap": {},
     "title": "Renomeando colunas e convertendo tipo de dados do dataframe worldcups bronze"
    }
   },
   "outputs": [
    {
     "output_type": "stream",
     "name": "stdout",
     "output_type": "stream",
     "text": [
      "root\n |-- Year: integer (nullable = true)\n |-- Country: string (nullable = true)\n |-- Winner: string (nullable = true)\n |-- RunnersUp: string (nullable = true)\n |-- Third: string (nullable = true)\n |-- Fourth: string (nullable = true)\n |-- GoalsScored: integer (nullable = true)\n |-- QualifiedTeams: integer (nullable = true)\n |-- MatchesPlayed: integer (nullable = true)\n |-- Attendance: integer (nullable = true)\n\n"
     ]
    }
   ],
   "source": [
    "# Renomear colunas para um formato amigável\n",
    "df_worldcups_bronze = df_worldcups_bronze.withColumnRenamed(\"Runners-Up\", \"RunnersUp\")\n",
    "\n",
    "# Convertendo tipo de dados\n",
    "df_worldcups_bronze = df_worldcups_bronze.withColumn(\"Year\", col(\"Year\").cast(\"int\"))\n",
    "df_worldcups_bronze = df_worldcups_bronze.withColumn(\"GoalsScored\", col(\"GoalsScored\").cast(\"int\"))\n",
    "df_worldcups_bronze = df_worldcups_bronze.withColumn(\"QualifiedTeams\", col(\"QualifiedTeams\").cast(\"int\"))\n",
    "df_worldcups_bronze = df_worldcups_bronze.withColumn(\"MatchesPlayed\", col(\"MatchesPlayed\").cast(\"int\"))\n",
    "\n",
    "# Convertendo coluna em string para inteiro\n",
    "df_worldcups_bronze = df_worldcups_bronze.withColumn(\"Attendance\", regexp_replace(\"Attendance\", r\"[.]\", \"\"))\n",
    "df_worldcups_bronze = df_worldcups_bronze.withColumn(\"Attendance\", col(\"Attendance\").cast(\"int\"))\n",
    "\n",
    "# Exibindo tipo de dados no dataframe com colunas renomeadas\n",
    "df_worldcups_bronze.printSchema()"
   ]
  },
  {
   "cell_type": "markdown",
   "metadata": {
    "application/vnd.databricks.v1+cell": {
     "cellMetadata": {},
     "inputWidgets": {},
     "nuid": "6a2dc9dd-8aa2-4ac8-ac1f-d311aea22ccf",
     "showTitle": false,
     "tableResultSettingsMap": {},
     "title": ""
    }
   },
   "source": [
    "**Criando e carregando o dataframe worldcupmatches bronze exibindo primeiras 5 linhas**"
   ]
  },
  {
   "cell_type": "code",
   "execution_count": 0,
   "metadata": {
    "application/vnd.databricks.v1+cell": {
     "cellMetadata": {
      "byteLimit": 2048000,
      "rowLimit": 10000
     },
     "inputWidgets": {},
     "nuid": "67917618-87f6-443e-ab27-a005e5318095",
     "showTitle": true,
     "tableResultSettingsMap": {},
     "title": "Criando e carregando o dataframe worldcupmatches bronze exibindo primeiras 5 linhas"
    }
   },
   "outputs": [
    {
     "output_type": "stream",
     "name": "stdout",
     "output_type": "stream",
     "text": [
      "+------+--------------------+-------+--------------+-----------+--------------+---------------+---------------+--------------+--------------+----------+--------------------+--------------------+----------------------+------------------------+--------------------------+-------+-------+------------------+------------------+\n|Year  |Datetime            |Stage  |Stadium       |City       |Home Team Name|Home Team Goals|Away Team Goals|Away Team Name|Win conditions|Attendance|Half-time Home Goals|Half-time Away Goals|Referee               |Assistant 1             |Assistant 2               |RoundID|MatchID|Home Team Initials|Away Team Initials|\n+------+--------------------+-------+--------------+-----------+--------------+---------------+---------------+--------------+--------------+----------+--------------------+--------------------+----------------------+------------------------+--------------------------+-------+-------+------------------+------------------+\n|1930.0|13 Jul 1930 - 15:00 |Group 1|Pocitos       |Montevideo |France        |4.0            |1.0            |Mexico        |              |4444.0    |3.0                 |0.0                 |LOMBARDI Domingo (URU)|CRISTOPHE Henry (BEL)   |REGO Gilberto (BRA)       |201.0  |1096.0 |FRA               |MEX               |\n|1930.0|13 Jul 1930 - 15:00 |Group 4|Parque Central|Montevideo |USA           |3.0            |0.0            |Belgium       |              |18346.0   |2.0                 |0.0                 |MACIAS Jose (ARG)     |MATEUCCI Francisco (URU)|WARNKEN Alberto (CHI)     |201.0  |1090.0 |USA               |BEL               |\n|1930.0|14 Jul 1930 - 12:45 |Group 2|Parque Central|Montevideo |Yugoslavia    |2.0            |1.0            |Brazil        |              |24059.0   |2.0                 |0.0                 |TEJADA Anibal (URU)   |VALLARINO Ricardo (URU) |BALWAY Thomas (FRA)       |201.0  |1093.0 |YUG               |BRA               |\n|1930.0|14 Jul 1930 - 14:50 |Group 3|Pocitos       |Montevideo |Romania       |3.0            |1.0            |Peru          |              |2549.0    |1.0                 |0.0                 |WARNKEN Alberto (CHI) |LANGENUS Jean (BEL)     |MATEUCCI Francisco (URU)  |201.0  |1098.0 |ROU               |PER               |\n|1930.0|15 Jul 1930 - 16:00 |Group 1|Parque Central|Montevideo |Argentina     |1.0            |0.0            |France        |              |23409.0   |0.0                 |0.0                 |REGO Gilberto (BRA)   |SAUCEDO Ulises (BOL)    |RADULESCU Constantin (ROU)|201.0  |1085.0 |ARG               |FRA               |\n+------+--------------------+-------+--------------+-----------+--------------+---------------+---------------+--------------+--------------+----------+--------------------+--------------------+----------------------+------------------------+--------------------------+-------+-------+------------------+------------------+\nonly showing top 5 rows\n\n"
     ]
    }
   ],
   "source": [
    "# Carregando e criando o dataframe df_worldcupmatches_bronze\n",
    "df_worldcupmatches_bronze = kagglehub.dataset_load(\n",
    "    KaggleDatasetAdapter.PANDAS,\n",
    "    \"abecklas/fifa-world-cup/versions/5\",\n",
    "    \"WorldCupMatches.csv\",\n",
    ")\n",
    "\n",
    "# Convertendo em spark\n",
    "df_worldcupmatches_bronze = spark.createDataFrame(df_worldcupmatches_bronze)\n",
    "\n",
    "# Exibindo as 5 primeiras linhas\n",
    "df_worldcupmatches_bronze.show(5, truncate=False)"
   ]
  },
  {
   "cell_type": "markdown",
   "metadata": {
    "application/vnd.databricks.v1+cell": {
     "cellMetadata": {},
     "inputWidgets": {},
     "nuid": "20d29e9c-2364-41cd-ae47-eea6f48c7a34",
     "showTitle": false,
     "tableResultSettingsMap": {},
     "title": ""
    }
   },
   "source": [
    "**Estrutura dos dados do dataframe worldcupmatches bronze - Tipo de Dados**"
   ]
  },
  {
   "cell_type": "code",
   "execution_count": 0,
   "metadata": {
    "application/vnd.databricks.v1+cell": {
     "cellMetadata": {
      "byteLimit": 2048000,
      "rowLimit": 10000
     },
     "inputWidgets": {},
     "nuid": "1bd6c71e-4a77-4313-876f-43a59f073c4b",
     "showTitle": true,
     "tableResultSettingsMap": {},
     "title": "Estrutura dos dados do dataframe worldcupmatches bronze - Tipo de Dados"
    }
   },
   "outputs": [
    {
     "output_type": "stream",
     "name": "stdout",
     "output_type": "stream",
     "text": [
      "root\n |-- Year: double (nullable = true)\n |-- Datetime: string (nullable = true)\n |-- Stage: string (nullable = true)\n |-- Stadium: string (nullable = true)\n |-- City: string (nullable = true)\n |-- Home Team Name: string (nullable = true)\n |-- Home Team Goals: double (nullable = true)\n |-- Away Team Goals: double (nullable = true)\n |-- Away Team Name: string (nullable = true)\n |-- Win conditions: string (nullable = true)\n |-- Attendance: double (nullable = true)\n |-- Half-time Home Goals: double (nullable = true)\n |-- Half-time Away Goals: double (nullable = true)\n |-- Referee: string (nullable = true)\n |-- Assistant 1: string (nullable = true)\n |-- Assistant 2: string (nullable = true)\n |-- RoundID: double (nullable = true)\n |-- MatchID: double (nullable = true)\n |-- Home Team Initials: string (nullable = true)\n |-- Away Team Initials: string (nullable = true)\n\n"
     ]
    }
   ],
   "source": [
    "# Exibindo tipo de dados no dataset\n",
    "df_worldcupmatches_bronze.printSchema()"
   ]
  },
  {
   "cell_type": "markdown",
   "metadata": {
    "application/vnd.databricks.v1+cell": {
     "cellMetadata": {},
     "inputWidgets": {},
     "nuid": "962c7915-ed71-4ffc-b270-51679696c1b9",
     "showTitle": false,
     "tableResultSettingsMap": {},
     "title": ""
    }
   },
   "source": [
    "**Renomeando colunas e convertendo tipo de dados do dataframe worldcupmatches bronze**"
   ]
  },
  {
   "cell_type": "code",
   "execution_count": 0,
   "metadata": {
    "application/vnd.databricks.v1+cell": {
     "cellMetadata": {
      "byteLimit": 2048000,
      "rowLimit": 10000
     },
     "inputWidgets": {},
     "nuid": "fc93d7d5-c511-4ffe-bc21-40ea75553284",
     "showTitle": true,
     "tableResultSettingsMap": {},
     "title": "Renomeando colunas e convertendo tipo de dados do dataframe worldcupmatches bronze"
    }
   },
   "outputs": [
    {
     "output_type": "stream",
     "name": "stdout",
     "output_type": "stream",
     "text": [
      "root\n |-- Year: integer (nullable = true)\n |-- Datetime: string (nullable = true)\n |-- Stage: string (nullable = true)\n |-- Stadium: string (nullable = true)\n |-- City: string (nullable = true)\n |-- HomeTeamName: string (nullable = true)\n |-- HomeTeamGoals: integer (nullable = true)\n |-- AwayTeamGoals: integer (nullable = true)\n |-- AwayTeamName: string (nullable = true)\n |-- WinConditions: string (nullable = true)\n |-- Attendance: integer (nullable = true)\n |-- HalfTimeHomeGoals: integer (nullable = true)\n |-- HalfTimeAwayGoals: integer (nullable = true)\n |-- Referee: string (nullable = true)\n |-- Assistant1: string (nullable = true)\n |-- Assistant2: string (nullable = true)\n |-- RoundID: integer (nullable = true)\n |-- MatchID: integer (nullable = true)\n |-- HomeTeamInitials: string (nullable = true)\n |-- AwayTeamInitials: string (nullable = true)\n\n"
     ]
    }
   ],
   "source": [
    "# Renomear colunas para um formato amigável\n",
    "df_worldcupmatches_bronze = df_worldcupmatches_bronze.withColumnRenamed(\"Home Team Name\", \"HomeTeamName\") \\\n",
    "    .withColumnRenamed(\"Home Team Goals\", \"HomeTeamGoals\") \\\n",
    "    .withColumnRenamed(\"Away Team Goals\", \"AwayTeamGoals\") \\\n",
    "    .withColumnRenamed(\"Away Team Name\", \"AwayTeamName\") \\\n",
    "    .withColumnRenamed(\"Win conditions\", \"WinConditions\") \\\n",
    "    .withColumnRenamed(\"Half-time Home Goals\", \"HalfTimeHomeGoals\") \\\n",
    "    .withColumnRenamed(\"Half-time Away Goals\", \"HalfTimeAwayGoals\") \\\n",
    "    .withColumnRenamed(\"Assistant 1\", \"Assistant1\") \\\n",
    "    .withColumnRenamed(\"Assistant 2\", \"Assistant2\") \\\n",
    "    .withColumnRenamed(\"Home Team Initials\", \"HomeTeamInitials\") \\\n",
    "    .withColumnRenamed(\"Away Team Initials\", \"AwayTeamInitials\")\n",
    "\n",
    "# Convertendo tipo de dados\n",
    "df_worldcupmatches_bronze = df_worldcupmatches_bronze.withColumn(\"Year\", col(\"Year\").cast(\"int\"))\n",
    "df_worldcupmatches_bronze = df_worldcupmatches_bronze.withColumn(\"HomeTeamGoals\", col(\"HomeTeamGoals\").cast(\"int\"))\n",
    "df_worldcupmatches_bronze = df_worldcupmatches_bronze.withColumn(\"AwayTeamGoals\", col(\"AwayTeamGoals\").cast(\"int\"))\n",
    "df_worldcupmatches_bronze = df_worldcupmatches_bronze.withColumn(\"Attendance\", col(\"Attendance\").cast(\"int\"))\n",
    "df_worldcupmatches_bronze = df_worldcupmatches_bronze.withColumn(\"HalfTimeHomeGoals\", col(\"HalfTimeHomeGoals\").cast(\"int\"))\n",
    "df_worldcupmatches_bronze = df_worldcupmatches_bronze.withColumn(\"HalfTimeAwayGoals\", col(\"HalfTimeAwayGoals\").cast(\"int\"))\n",
    "df_worldcupmatches_bronze = df_worldcupmatches_bronze.withColumn(\"RoundID\", col(\"RoundID\").cast(\"int\"))\n",
    "df_worldcupmatches_bronze = df_worldcupmatches_bronze.withColumn(\"MatchID\", col(\"MatchID\").cast(\"int\"))\n",
    "\n",
    "# Exibindo tipo de dados no dataset com colunas renomeadas\n",
    "df_worldcupmatches_bronze.printSchema()"
   ]
  },
  {
   "cell_type": "markdown",
   "metadata": {
    "application/vnd.databricks.v1+cell": {
     "cellMetadata": {},
     "inputWidgets": {},
     "nuid": "8f589643-a1f3-4f35-973c-9d8a31338c4b",
     "showTitle": false,
     "tableResultSettingsMap": {},
     "title": ""
    }
   },
   "source": [
    "**Criando e carregando o dataframe worldcupplayers bronze e exibindo primeiras 5 linhas**"
   ]
  },
  {
   "cell_type": "code",
   "execution_count": 0,
   "metadata": {
    "application/vnd.databricks.v1+cell": {
     "cellMetadata": {
      "byteLimit": 2048000,
      "rowLimit": 10000
     },
     "inputWidgets": {},
     "nuid": "95832bf5-0be5-41d7-a8ad-c1936f70a326",
     "showTitle": true,
     "tableResultSettingsMap": {},
     "title": "Criando e carregando o dataframe worldcupplayers bronze e exibindo primeiras 5 linhas"
    }
   },
   "outputs": [
    {
     "output_type": "stream",
     "name": "stdout",
     "output_type": "stream",
     "text": [
      "+-------+-------+-------------+-------------------+-------+------------+----------------+--------+-----+\n|RoundID|MatchID|Team Initials|Coach Name         |Line-up|Shirt Number|Player Name     |Position|Event|\n+-------+-------+-------------+-------------------+-------+------------+----------------+--------+-----+\n|201    |1096   |FRA          |CAUDRON Raoul (FRA)|S      |0           |Alex THEPOT     |GK      |null |\n|201    |1096   |MEX          |LUQUE Juan (MEX)   |S      |0           |Oscar BONFIGLIO |GK      |null |\n|201    |1096   |FRA          |CAUDRON Raoul (FRA)|S      |0           |Marcel LANGILLER|null    |G40' |\n|201    |1096   |MEX          |LUQUE Juan (MEX)   |S      |0           |Juan CARRENO    |null    |G70' |\n|201    |1096   |FRA          |CAUDRON Raoul (FRA)|S      |0           |Ernest LIBERATI |null    |null |\n+-------+-------+-------------+-------------------+-------+------------+----------------+--------+-----+\nonly showing top 5 rows\n\n"
     ]
    }
   ],
   "source": [
    "# Carregando e criando o dataframe df_worldcupplayers_bronze\n",
    "df_worldcupplayers_bronze = kagglehub.dataset_load(\n",
    "    KaggleDatasetAdapter.PANDAS,\n",
    "    \"abecklas/fifa-world-cup/versions/5\",\n",
    "    \"WorldCupPlayers.csv\",\n",
    ")\n",
    "\n",
    "# Convertendo em spark\n",
    "df_worldcupplayers_bronze = spark.createDataFrame(df_worldcupplayers_bronze)\n",
    "\n",
    "# Exibindo as 5 primeiras linhas\n",
    "df_worldcupplayers_bronze.show(5, truncate=False)"
   ]
  },
  {
   "cell_type": "markdown",
   "metadata": {
    "application/vnd.databricks.v1+cell": {
     "cellMetadata": {},
     "inputWidgets": {},
     "nuid": "ba41f466-d0fd-4997-afd7-7e8f51883b22",
     "showTitle": false,
     "tableResultSettingsMap": {},
     "title": ""
    }
   },
   "source": [
    "**Estrutura dos dados do dataframe worldcupplayers bronze - Tipo de Dados**"
   ]
  },
  {
   "cell_type": "code",
   "execution_count": 0,
   "metadata": {
    "application/vnd.databricks.v1+cell": {
     "cellMetadata": {
      "byteLimit": 2048000,
      "rowLimit": 10000
     },
     "inputWidgets": {},
     "nuid": "ce5e74e9-3996-4297-9573-080f155d43a7",
     "showTitle": true,
     "tableResultSettingsMap": {},
     "title": "Estrutura dos dados do dataframe worldcupplayers bronze - Tipo de Dados"
    }
   },
   "outputs": [
    {
     "output_type": "stream",
     "name": "stdout",
     "output_type": "stream",
     "text": [
      "root\n |-- RoundID: long (nullable = true)\n |-- MatchID: long (nullable = true)\n |-- Team Initials: string (nullable = true)\n |-- Coach Name: string (nullable = true)\n |-- Line-up: string (nullable = true)\n |-- Shirt Number: long (nullable = true)\n |-- Player Name: string (nullable = true)\n |-- Position: string (nullable = true)\n |-- Event: string (nullable = true)\n\n"
     ]
    }
   ],
   "source": [
    "# Exibindo tipo de dados no dataset\n",
    "df_worldcupplayers_bronze.printSchema()"
   ]
  },
  {
   "cell_type": "markdown",
   "metadata": {
    "application/vnd.databricks.v1+cell": {
     "cellMetadata": {},
     "inputWidgets": {},
     "nuid": "03c74f81-f6fc-4134-9ca8-69bc63b15679",
     "showTitle": false,
     "tableResultSettingsMap": {},
     "title": ""
    }
   },
   "source": [
    "**Renomeando colunas e convertendo tipo de dados do dataframe worldcupplayers bronze**"
   ]
  },
  {
   "cell_type": "code",
   "execution_count": 0,
   "metadata": {
    "application/vnd.databricks.v1+cell": {
     "cellMetadata": {
      "byteLimit": 2048000,
      "rowLimit": 10000
     },
     "inputWidgets": {},
     "nuid": "4e1d92c3-96db-49fc-8b2c-0dc957b224b6",
     "showTitle": true,
     "tableResultSettingsMap": {},
     "title": "Renomeando colunas e convertendo tipo de dados do dataframe worldcupplayers bronze"
    }
   },
   "outputs": [
    {
     "output_type": "stream",
     "name": "stdout",
     "output_type": "stream",
     "text": [
      "root\n |-- RoundID: integer (nullable = true)\n |-- MatchID: integer (nullable = true)\n |-- TeamInitials: string (nullable = true)\n |-- CoachName: string (nullable = true)\n |-- LineUp: string (nullable = true)\n |-- ShirtNumber: integer (nullable = true)\n |-- PlayerName: string (nullable = true)\n |-- Position: string (nullable = true)\n |-- Event: string (nullable = true)\n\n"
     ]
    }
   ],
   "source": [
    "# Renomear colunas para um formato amigável\n",
    "df_worldcupplayers_bronze = df_worldcupplayers_bronze.withColumnRenamed(\"Team Initials\", \"TeamInitials\") \\\n",
    "    .withColumnRenamed(\"Coach Name\", \"CoachName\") \\\n",
    "    .withColumnRenamed(\"Line-up\", \"LineUp\") \\\n",
    "    .withColumnRenamed(\"Shirt Number\", \"ShirtNumber\") \\\n",
    "    .withColumnRenamed(\"Player Name\", \"PlayerName\")\n",
    "\n",
    "# Convertendo tipo de dados\n",
    "df_worldcupplayers_bronze = df_worldcupplayers_bronze.withColumn(\"RoundID\", col(\"RoundID\").cast(\"int\"))\n",
    "df_worldcupplayers_bronze = df_worldcupplayers_bronze.withColumn(\"MatchID\", col(\"MatchID\").cast(\"int\"))\n",
    "df_worldcupplayers_bronze = df_worldcupplayers_bronze.withColumn(\"ShirtNumber\", col(\"ShirtNumber\").cast(\"int\"))\n",
    "\n",
    "# Exibindo tipo de dados no dataset com colunas renomeadas\n",
    "df_worldcupplayers_bronze.printSchema()"
   ]
  },
  {
   "cell_type": "markdown",
   "metadata": {
    "application/vnd.databricks.v1+cell": {
     "cellMetadata": {},
     "inputWidgets": {},
     "nuid": "dc34a6e9-1be5-4bb8-a415-e2b05f3e9d41",
     "showTitle": false,
     "tableResultSettingsMap": {},
     "title": ""
    }
   },
   "source": [
    "**Deletando o database 'bronze', caso ele exista**"
   ]
  },
  {
   "cell_type": "code",
   "execution_count": 0,
   "metadata": {
    "application/vnd.databricks.v1+cell": {
     "cellMetadata": {
      "byteLimit": 2048000,
      "implicitDf": true,
      "rowLimit": 10000
     },
     "inputWidgets": {},
     "nuid": "884d397a-4daf-4a16-84a2-5e53791f5ea4",
     "showTitle": true,
     "tableResultSettingsMap": {},
     "title": "Deletando o database 'bronze', caso ele exista"
    }
   },
   "outputs": [
    {
     "output_type": "display_data",
     "data": {
      "text/html": [
       "<style scoped>\n",
       "  .table-result-container {\n",
       "    max-height: 300px;\n",
       "    overflow: auto;\n",
       "  }\n",
       "  table, th, td {\n",
       "    border: 1px solid black;\n",
       "    border-collapse: collapse;\n",
       "  }\n",
       "  th, td {\n",
       "    padding: 5px;\n",
       "  }\n",
       "  th {\n",
       "    text-align: left;\n",
       "  }\n",
       "</style><div class='table-result-container'><table class='table-result'><thead style='background-color: white'><tr></tr></thead><tbody></tbody></table></div>"
      ]
     },
     "metadata": {
      "application/vnd.databricks.v1+output": {
       "addedWidgets": {},
       "aggData": [],
       "aggError": "",
       "aggOverflow": false,
       "aggSchema": [],
       "aggSeriesLimitReached": false,
       "aggType": "",
       "arguments": {},
       "columnCustomDisplayInfos": {},
       "data": [],
       "datasetInfos": [],
       "dbfsResultPath": null,
       "isJsonSchema": true,
       "metadata": {},
       "overflow": false,
       "plotOptions": {
        "customPlotOptions": {},
        "displayType": "table",
        "pivotAggregation": null,
        "pivotColumns": null,
        "xColumns": null,
        "yColumns": null
       },
       "removedWidgets": [],
       "schema": [],
       "type": "table"
      }
     },
     "output_type": "display_data"
    }
   ],
   "source": [
    "%sql DROP DATABASE IF EXISTS bronze CASCADE"
   ]
  },
  {
   "cell_type": "markdown",
   "metadata": {
    "application/vnd.databricks.v1+cell": {
     "cellMetadata": {},
     "inputWidgets": {},
     "nuid": "c978f33f-7e4b-4f00-94f2-81436d64bb51",
     "showTitle": false,
     "tableResultSettingsMap": {},
     "title": ""
    }
   },
   "source": [
    "**Criando o database 'bronze'**"
   ]
  },
  {
   "cell_type": "code",
   "execution_count": 0,
   "metadata": {
    "application/vnd.databricks.v1+cell": {
     "cellMetadata": {
      "byteLimit": 2048000,
      "implicitDf": true,
      "rowLimit": 10000
     },
     "inputWidgets": {},
     "nuid": "10550bbb-5069-4955-8ff2-d9305a73a087",
     "showTitle": true,
     "tableResultSettingsMap": {},
     "title": "Criando o database 'bronze'"
    }
   },
   "outputs": [
    {
     "output_type": "display_data",
     "data": {
      "text/html": [
       "<style scoped>\n",
       "  .table-result-container {\n",
       "    max-height: 300px;\n",
       "    overflow: auto;\n",
       "  }\n",
       "  table, th, td {\n",
       "    border: 1px solid black;\n",
       "    border-collapse: collapse;\n",
       "  }\n",
       "  th, td {\n",
       "    padding: 5px;\n",
       "  }\n",
       "  th {\n",
       "    text-align: left;\n",
       "  }\n",
       "</style><div class='table-result-container'><table class='table-result'><thead style='background-color: white'><tr></tr></thead><tbody></tbody></table></div>"
      ]
     },
     "metadata": {
      "application/vnd.databricks.v1+output": {
       "addedWidgets": {},
       "aggData": [],
       "aggError": "",
       "aggOverflow": false,
       "aggSchema": [],
       "aggSeriesLimitReached": false,
       "aggType": "",
       "arguments": {},
       "columnCustomDisplayInfos": {},
       "data": [],
       "datasetInfos": [],
       "dbfsResultPath": null,
       "isJsonSchema": true,
       "metadata": {},
       "overflow": false,
       "plotOptions": {
        "customPlotOptions": {},
        "displayType": "table",
        "pivotAggregation": null,
        "pivotColumns": null,
        "xColumns": null,
        "yColumns": null
       },
       "removedWidgets": [],
       "schema": [],
       "type": "table"
      }
     },
     "output_type": "display_data"
    }
   ],
   "source": [
    "%sql CREATE DATABASE bronze;"
   ]
  },
  {
   "cell_type": "markdown",
   "metadata": {
    "application/vnd.databricks.v1+cell": {
     "cellMetadata": {},
     "inputWidgets": {},
     "nuid": "e2de271b-31d8-4b1d-84b0-1f1a5afd837b",
     "showTitle": false,
     "tableResultSettingsMap": {},
     "title": ""
    }
   },
   "source": [
    "**Criando as tabelas 'bronze'**"
   ]
  },
  {
   "cell_type": "code",
   "execution_count": 0,
   "metadata": {
    "application/vnd.databricks.v1+cell": {
     "cellMetadata": {
      "byteLimit": 2048000,
      "rowLimit": 10000
     },
     "inputWidgets": {},
     "nuid": "61155a54-a040-48dd-a75c-b047eedc0c97",
     "showTitle": true,
     "tableResultSettingsMap": {},
     "title": "Criando as tabelas 'bronze'"
    }
   },
   "outputs": [],
   "source": [
    "# Criando a tabela worldcups\n",
    "df_worldcups_bronze.write.mode(\"overwrite\").saveAsTable(\"bronze.worldcups\")\n",
    "\n",
    "# Criando a tabela worldcupmatches\n",
    "df_worldcupmatches_bronze.write.mode(\"overwrite\").saveAsTable(\"bronze.worldcupmatches\")\n",
    "\n",
    "# Criando a tabela worldcupplayers\n",
    "df_worldcupplayers_bronze.write.mode(\"overwrite\").saveAsTable(\"bronze.worldcupplayers\")"
   ]
  },
  {
   "cell_type": "markdown",
   "metadata": {
    "application/vnd.databricks.v1+cell": {
     "cellMetadata": {},
     "inputWidgets": {},
     "nuid": "90255f91-5ee6-420f-8f09-e91d0992a72f",
     "showTitle": false,
     "tableResultSettingsMap": {},
     "title": ""
    }
   },
   "source": [
    "**Analisando a tabela bronze.worldcups**"
   ]
  },
  {
   "cell_type": "code",
   "execution_count": 0,
   "metadata": {
    "application/vnd.databricks.v1+cell": {
     "cellMetadata": {
      "byteLimit": 2048000,
      "implicitDf": true,
      "rowLimit": 10000
     },
     "inputWidgets": {},
     "nuid": "cee91548-7519-424c-a0b2-25eee01896a7",
     "showTitle": true,
     "tableResultSettingsMap": {},
     "title": "Analisando a tabela bronze.worldcups"
    }
   },
   "outputs": [
    {
     "output_type": "display_data",
     "data": {
      "text/html": [
       "<style scoped>\n",
       "  .table-result-container {\n",
       "    max-height: 300px;\n",
       "    overflow: auto;\n",
       "  }\n",
       "  table, th, td {\n",
       "    border: 1px solid black;\n",
       "    border-collapse: collapse;\n",
       "  }\n",
       "  th, td {\n",
       "    padding: 5px;\n",
       "  }\n",
       "  th {\n",
       "    text-align: left;\n",
       "  }\n",
       "</style><div class='table-result-container'><table class='table-result'><thead style='background-color: white'><tr><th>Year</th><th>Country</th><th>Winner</th><th>RunnersUp</th><th>Third</th><th>Fourth</th><th>GoalsScored</th><th>QualifiedTeams</th><th>MatchesPlayed</th><th>Attendance</th></tr></thead><tbody><tr><td>1930</td><td>Uruguay</td><td>Uruguay</td><td>Argentina</td><td>USA</td><td>Yugoslavia</td><td>70</td><td>13</td><td>18</td><td>590549</td></tr><tr><td>1934</td><td>Italy</td><td>Italy</td><td>Czechoslovakia</td><td>Germany</td><td>Austria</td><td>70</td><td>16</td><td>17</td><td>363000</td></tr><tr><td>1938</td><td>France</td><td>Italy</td><td>Hungary</td><td>Brazil</td><td>Sweden</td><td>84</td><td>15</td><td>18</td><td>375700</td></tr><tr><td>1950</td><td>Brazil</td><td>Uruguay</td><td>Brazil</td><td>Sweden</td><td>Spain</td><td>88</td><td>13</td><td>22</td><td>1045246</td></tr><tr><td>1954</td><td>Switzerland</td><td>Germany FR</td><td>Hungary</td><td>Austria</td><td>Uruguay</td><td>140</td><td>16</td><td>26</td><td>768607</td></tr><tr><td>1958</td><td>Sweden</td><td>Brazil</td><td>Sweden</td><td>France</td><td>Germany FR</td><td>126</td><td>16</td><td>35</td><td>819810</td></tr><tr><td>1962</td><td>Chile</td><td>Brazil</td><td>Czechoslovakia</td><td>Chile</td><td>Yugoslavia</td><td>89</td><td>16</td><td>32</td><td>893172</td></tr><tr><td>1966</td><td>England</td><td>England</td><td>Germany FR</td><td>Portugal</td><td>Soviet Union</td><td>89</td><td>16</td><td>32</td><td>1563135</td></tr><tr><td>1970</td><td>Mexico</td><td>Brazil</td><td>Italy</td><td>Germany FR</td><td>Uruguay</td><td>95</td><td>16</td><td>32</td><td>1603975</td></tr><tr><td>1974</td><td>Germany</td><td>Germany FR</td><td>Netherlands</td><td>Poland</td><td>Brazil</td><td>97</td><td>16</td><td>38</td><td>1865753</td></tr><tr><td>1978</td><td>Argentina</td><td>Argentina</td><td>Netherlands</td><td>Brazil</td><td>Italy</td><td>102</td><td>16</td><td>38</td><td>1545791</td></tr><tr><td>1982</td><td>Spain</td><td>Italy</td><td>Germany FR</td><td>Poland</td><td>France</td><td>146</td><td>24</td><td>52</td><td>2109723</td></tr><tr><td>1986</td><td>Mexico</td><td>Argentina</td><td>Germany FR</td><td>France</td><td>Belgium</td><td>132</td><td>24</td><td>52</td><td>2394031</td></tr><tr><td>1990</td><td>Italy</td><td>Germany FR</td><td>Argentina</td><td>Italy</td><td>England</td><td>115</td><td>24</td><td>52</td><td>2516215</td></tr><tr><td>1994</td><td>USA</td><td>Brazil</td><td>Italy</td><td>Sweden</td><td>Bulgaria</td><td>141</td><td>24</td><td>52</td><td>3587538</td></tr><tr><td>1998</td><td>France</td><td>France</td><td>Brazil</td><td>Croatia</td><td>Netherlands</td><td>171</td><td>32</td><td>64</td><td>2785100</td></tr><tr><td>2002</td><td>Korea/Japan</td><td>Brazil</td><td>Germany</td><td>Turkey</td><td>Korea Republic</td><td>161</td><td>32</td><td>64</td><td>2705197</td></tr><tr><td>2006</td><td>Germany</td><td>Italy</td><td>France</td><td>Germany</td><td>Portugal</td><td>147</td><td>32</td><td>64</td><td>3359439</td></tr><tr><td>2010</td><td>South Africa</td><td>Spain</td><td>Netherlands</td><td>Germany</td><td>Uruguay</td><td>145</td><td>32</td><td>64</td><td>3178856</td></tr><tr><td>2014</td><td>Brazil</td><td>Germany</td><td>Argentina</td><td>Netherlands</td><td>Brazil</td><td>171</td><td>32</td><td>64</td><td>3386810</td></tr></tbody></table></div>"
      ]
     },
     "metadata": {
      "application/vnd.databricks.v1+output": {
       "addedWidgets": {},
       "aggData": [],
       "aggError": "",
       "aggOverflow": false,
       "aggSchema": [],
       "aggSeriesLimitReached": false,
       "aggType": "",
       "arguments": {},
       "columnCustomDisplayInfos": {},
       "data": [
        [
         1930,
         "Uruguay",
         "Uruguay",
         "Argentina",
         "USA",
         "Yugoslavia",
         70,
         13,
         18,
         590549
        ],
        [
         1934,
         "Italy",
         "Italy",
         "Czechoslovakia",
         "Germany",
         "Austria",
         70,
         16,
         17,
         363000
        ],
        [
         1938,
         "France",
         "Italy",
         "Hungary",
         "Brazil",
         "Sweden",
         84,
         15,
         18,
         375700
        ],
        [
         1950,
         "Brazil",
         "Uruguay",
         "Brazil",
         "Sweden",
         "Spain",
         88,
         13,
         22,
         1045246
        ],
        [
         1954,
         "Switzerland",
         "Germany FR",
         "Hungary",
         "Austria",
         "Uruguay",
         140,
         16,
         26,
         768607
        ],
        [
         1958,
         "Sweden",
         "Brazil",
         "Sweden",
         "France",
         "Germany FR",
         126,
         16,
         35,
         819810
        ],
        [
         1962,
         "Chile",
         "Brazil",
         "Czechoslovakia",
         "Chile",
         "Yugoslavia",
         89,
         16,
         32,
         893172
        ],
        [
         1966,
         "England",
         "England",
         "Germany FR",
         "Portugal",
         "Soviet Union",
         89,
         16,
         32,
         1563135
        ],
        [
         1970,
         "Mexico",
         "Brazil",
         "Italy",
         "Germany FR",
         "Uruguay",
         95,
         16,
         32,
         1603975
        ],
        [
         1974,
         "Germany",
         "Germany FR",
         "Netherlands",
         "Poland",
         "Brazil",
         97,
         16,
         38,
         1865753
        ],
        [
         1978,
         "Argentina",
         "Argentina",
         "Netherlands",
         "Brazil",
         "Italy",
         102,
         16,
         38,
         1545791
        ],
        [
         1982,
         "Spain",
         "Italy",
         "Germany FR",
         "Poland",
         "France",
         146,
         24,
         52,
         2109723
        ],
        [
         1986,
         "Mexico",
         "Argentina",
         "Germany FR",
         "France",
         "Belgium",
         132,
         24,
         52,
         2394031
        ],
        [
         1990,
         "Italy",
         "Germany FR",
         "Argentina",
         "Italy",
         "England",
         115,
         24,
         52,
         2516215
        ],
        [
         1994,
         "USA",
         "Brazil",
         "Italy",
         "Sweden",
         "Bulgaria",
         141,
         24,
         52,
         3587538
        ],
        [
         1998,
         "France",
         "France",
         "Brazil",
         "Croatia",
         "Netherlands",
         171,
         32,
         64,
         2785100
        ],
        [
         2002,
         "Korea/Japan",
         "Brazil",
         "Germany",
         "Turkey",
         "Korea Republic",
         161,
         32,
         64,
         2705197
        ],
        [
         2006,
         "Germany",
         "Italy",
         "France",
         "Germany",
         "Portugal",
         147,
         32,
         64,
         3359439
        ],
        [
         2010,
         "South Africa",
         "Spain",
         "Netherlands",
         "Germany",
         "Uruguay",
         145,
         32,
         64,
         3178856
        ],
        [
         2014,
         "Brazil",
         "Germany",
         "Argentina",
         "Netherlands",
         "Brazil",
         171,
         32,
         64,
         3386810
        ]
       ],
       "datasetInfos": [],
       "dbfsResultPath": null,
       "isJsonSchema": true,
       "metadata": {},
       "overflow": false,
       "plotOptions": {
        "customPlotOptions": {},
        "displayType": "table",
        "pivotAggregation": null,
        "pivotColumns": null,
        "xColumns": null,
        "yColumns": null
       },
       "removedWidgets": [],
       "schema": [
        {
         "metadata": "{}",
         "name": "Year",
         "type": "\"integer\""
        },
        {
         "metadata": "{}",
         "name": "Country",
         "type": "\"string\""
        },
        {
         "metadata": "{}",
         "name": "Winner",
         "type": "\"string\""
        },
        {
         "metadata": "{}",
         "name": "RunnersUp",
         "type": "\"string\""
        },
        {
         "metadata": "{}",
         "name": "Third",
         "type": "\"string\""
        },
        {
         "metadata": "{}",
         "name": "Fourth",
         "type": "\"string\""
        },
        {
         "metadata": "{}",
         "name": "GoalsScored",
         "type": "\"integer\""
        },
        {
         "metadata": "{}",
         "name": "QualifiedTeams",
         "type": "\"integer\""
        },
        {
         "metadata": "{}",
         "name": "MatchesPlayed",
         "type": "\"integer\""
        },
        {
         "metadata": "{}",
         "name": "Attendance",
         "type": "\"integer\""
        }
       ],
       "type": "table"
      }
     },
     "output_type": "display_data"
    }
   ],
   "source": [
    "%sql SELECT * FROM bronze.worldcups LIMIT 100"
   ]
  },
  {
   "cell_type": "markdown",
   "metadata": {
    "application/vnd.databricks.v1+cell": {
     "cellMetadata": {},
     "inputWidgets": {},
     "nuid": "dfa63835-e92f-43f3-b359-8029d69006e5",
     "showTitle": false,
     "tableResultSettingsMap": {},
     "title": ""
    }
   },
   "source": [
    "**Data Quality da tabela bronze.worldcups**"
   ]
  },
  {
   "cell_type": "code",
   "execution_count": 0,
   "metadata": {
    "application/vnd.databricks.v1+cell": {
     "cellMetadata": {
      "byteLimit": 2048000,
      "implicitDf": true,
      "rowLimit": 10000
     },
     "inputWidgets": {},
     "nuid": "fada8385-d6cc-4ca3-b970-0475b933c780",
     "showTitle": true,
     "tableResultSettingsMap": {},
     "title": "Data Quality da tabela bronze.worldcups"
    }
   },
   "outputs": [
    {
     "output_type": "display_data",
     "data": {
      "text/html": [
       "<style scoped>\n",
       "  .table-result-container {\n",
       "    max-height: 300px;\n",
       "    overflow: auto;\n",
       "  }\n",
       "  table, th, td {\n",
       "    border: 1px solid black;\n",
       "    border-collapse: collapse;\n",
       "  }\n",
       "  th, td {\n",
       "    padding: 5px;\n",
       "  }\n",
       "  th {\n",
       "    text-align: left;\n",
       "  }\n",
       "</style><div class='table-result-container'><table class='table-result'><thead style='background-color: white'><tr><th>null_year</th><th>null_country</th><th>null_winner</th></tr></thead><tbody><tr><td>0</td><td>0</td><td>0</td></tr></tbody></table></div>"
      ]
     },
     "metadata": {
      "application/vnd.databricks.v1+output": {
       "addedWidgets": {},
       "aggData": [],
       "aggError": "",
       "aggOverflow": false,
       "aggSchema": [],
       "aggSeriesLimitReached": false,
       "aggType": "",
       "arguments": {},
       "columnCustomDisplayInfos": {},
       "data": [
        [
         0,
         0,
         0
        ]
       ],
       "datasetInfos": [],
       "dbfsResultPath": null,
       "isJsonSchema": true,
       "metadata": {},
       "overflow": false,
       "plotOptions": {
        "customPlotOptions": {},
        "displayType": "table",
        "pivotAggregation": null,
        "pivotColumns": null,
        "xColumns": null,
        "yColumns": null
       },
       "removedWidgets": [],
       "schema": [
        {
         "metadata": "{}",
         "name": "null_year",
         "type": "\"long\""
        },
        {
         "metadata": "{}",
         "name": "null_country",
         "type": "\"long\""
        },
        {
         "metadata": "{}",
         "name": "null_winner",
         "type": "\"long\""
        }
       ],
       "type": "table"
      }
     },
     "output_type": "display_data"
    }
   ],
   "source": [
    "%sql\n",
    "SELECT \n",
    "    COUNT(CASE WHEN Year IS NULL THEN 1 END) AS null_year,\n",
    "    COUNT(CASE WHEN Country IS NULL THEN 1 END) AS null_country,\n",
    "    COUNT(CASE WHEN Winner IS NULL THEN 1 END) AS null_winner\n",
    "FROM bronze.worldcups;"
   ]
  },
  {
   "cell_type": "markdown",
   "metadata": {
    "application/vnd.databricks.v1+cell": {
     "cellMetadata": {},
     "inputWidgets": {},
     "nuid": "cc85b987-8d22-4dfb-96e3-68f18c27d0e3",
     "showTitle": false,
     "tableResultSettingsMap": {},
     "title": ""
    }
   },
   "source": [
    "**Criando dataframe worldcups silver, excluindo colunas não utilizadas e linhas duplicadas/nulas**"
   ]
  },
  {
   "cell_type": "code",
   "execution_count": 0,
   "metadata": {
    "application/vnd.databricks.v1+cell": {
     "cellMetadata": {
      "byteLimit": 2048000,
      "rowLimit": 10000
     },
     "inputWidgets": {},
     "nuid": "c3a5ce9a-5ab5-4d90-8810-48ba37ad0f65",
     "showTitle": true,
     "tableResultSettingsMap": {},
     "title": "Criando dataframe worldcups silver, excluindo colunas não utilizadas e linhas duplicadas/nulas"
    }
   },
   "outputs": [],
   "source": [
    "# Criando dataframe df_worldcups_silver\n",
    "df_worldcups_silver = spark.sql(\"SELECT * FROM bronze.worldcups\")\n",
    "\n",
    "# Excluindo colunas não utilizadas para análise\n",
    "df_worldcups_silver = df_worldcups_silver.drop(\"Fourth\", \"QualifiedTeams\", \"MatchesPlayed\")\n",
    "\n",
    "# Removendo linha nulas em \"Year\" ,\"Country\" e \"Winner\"\n",
    "df_worldcups_silver = df_worldcups_silver.na.drop(subset=[\"Year\" ,\"Country\", \"Winner\"])\n",
    "\n",
    "# Excluindo duplicadas\n",
    "df_worldcups_silver = df_worldcups_silver.dropDuplicates()"
   ]
  },
  {
   "cell_type": "markdown",
   "metadata": {
    "application/vnd.databricks.v1+cell": {
     "cellMetadata": {},
     "inputWidgets": {},
     "nuid": "eba189fe-9390-41cc-9c25-38bfaefbe64b",
     "showTitle": false,
     "tableResultSettingsMap": {},
     "title": ""
    }
   },
   "source": [
    "**Listando nomes para correção do dataframe worldcups silver**"
   ]
  },
  {
   "cell_type": "code",
   "execution_count": 0,
   "metadata": {
    "application/vnd.databricks.v1+cell": {
     "cellMetadata": {
      "byteLimit": 2048000,
      "rowLimit": 10000
     },
     "inputWidgets": {},
     "nuid": "57a63121-c4dc-4b28-9e02-a81c7c6a2930",
     "showTitle": true,
     "tableResultSettingsMap": {},
     "title": "Listando nomes para correção do dataframe worldcups silver"
    }
   },
   "outputs": [
    {
     "output_type": "stream",
     "name": "stdout",
     "output_type": "stream",
     "text": [
      "+------------+-----+\n|Country     |count|\n+------------+-----+\n|Sweden      |1    |\n|Germany     |2    |\n|France      |2    |\n|Argentina   |1    |\n|Korea/Japan |1    |\n|Chile       |1    |\n|Italy       |2    |\n|Spain       |1    |\n|USA         |1    |\n|Uruguay     |1    |\n|Mexico      |2    |\n|Switzerland |1    |\n|Brazil      |2    |\n|England     |1    |\n|South Africa|1    |\n+------------+-----+\n\n+----------+-----+\n|Winner    |count|\n+----------+-----+\n|Germany   |1    |\n|France    |1    |\n|Argentina |2    |\n|Italy     |4    |\n|Spain     |1    |\n|Uruguay   |2    |\n|Brazil    |5    |\n|England   |1    |\n|Germany FR|3    |\n+----------+-----+\n\n+--------------+-----+\n|RunnersUp     |count|\n+--------------+-----+\n|Sweden        |1    |\n|Germany       |1    |\n|France        |1    |\n|Argentina     |3    |\n|Czechoslovakia|2    |\n|Italy         |2    |\n|Brazil        |2    |\n|Germany FR    |3    |\n|Hungary       |2    |\n|Netherlands   |3    |\n+--------------+-----+\n\n+-----------+-----+\n|Third      |count|\n+-----------+-----+\n|Sweden     |2    |\n|Turkey     |1    |\n|Germany    |3    |\n|France     |2    |\n|Chile      |1    |\n|Croatia    |1    |\n|Italy      |1    |\n|USA        |1    |\n|Brazil     |2    |\n|Poland     |2    |\n|Portugal   |1    |\n|Germany FR |1    |\n|Austria    |1    |\n|Netherlands|1    |\n+-----------+-----+\n\n"
     ]
    }
   ],
   "source": [
    "# Copiando dataset\n",
    "df_worldcups_silver_copy = df_worldcups_silver.selectExpr(\"*\")\n",
    "\n",
    "# Coluna Country\n",
    "df_worldcups_silver_copy.groupBy(\"Country\").count().show(100, truncate=False)\n",
    "\n",
    "# Coluna Winner\n",
    "df_worldcups_silver_copy.groupBy(\"Winner\").count().show(100, truncate=False)\n",
    "\n",
    "# Coluna RunnersUp\n",
    "df_worldcups_silver_copy.groupBy(\"RunnersUp\").count().show(100, truncate=False)\n",
    "\n",
    "# Coluna Third\n",
    "df_worldcups_silver_copy.groupBy(\"Third\").count().show(100, truncate=False)"
   ]
  },
  {
   "cell_type": "markdown",
   "metadata": {
    "application/vnd.databricks.v1+cell": {
     "cellMetadata": {},
     "inputWidgets": {},
     "nuid": "4e42b63a-1dd2-47cf-916b-5a2e8f613085",
     "showTitle": false,
     "tableResultSettingsMap": {},
     "title": ""
    }
   },
   "source": [
    "**Refinando e modelando os dados do dataframe worldcups silver**"
   ]
  },
  {
   "cell_type": "code",
   "execution_count": 0,
   "metadata": {
    "application/vnd.databricks.v1+cell": {
     "cellMetadata": {
      "byteLimit": 2048000,
      "rowLimit": 10000
     },
     "inputWidgets": {},
     "nuid": "5b7db3cf-8eff-4445-a7ed-f3c3c6ba056a",
     "showTitle": true,
     "tableResultSettingsMap": {},
     "title": "Refinando e modelando os dados do dataframe worldcups silver"
    }
   },
   "outputs": [
    {
     "output_type": "stream",
     "name": "stdout",
     "output_type": "stream",
     "text": [
      "+----+------------+---------+--------------+--------+--------------+-------------+\n|Year|CountryCup  |WinnerCup|RunnersUpCup  |ThirdCup|GoalsScoredCup|AttendanceCup|\n+----+------------+---------+--------------+--------+--------------+-------------+\n|1990|Italy       |Germany  |Argentina     |Italy   |115           |2516215      |\n|1958|Sweden      |Brazil   |Sweden        |France  |126           |819810       |\n|2010|South Africa|Spain    |Netherlands   |Germany |145           |3178856      |\n|1934|Italy       |Italy    |Czechoslovakia|Germany |70            |363000       |\n|1970|Mexico      |Brazil   |Italy         |Germany |95            |1603975      |\n+----+------------+---------+--------------+--------+--------------+-------------+\nonly showing top 5 rows\n\nroot\n |-- Year: integer (nullable = true)\n |-- CountryCup: string (nullable = true)\n |-- WinnerCup: string (nullable = true)\n |-- RunnersUpCup: string (nullable = true)\n |-- ThirdCup: string (nullable = true)\n |-- GoalsScoredCup: integer (nullable = true)\n |-- AttendanceCup: integer (nullable = true)\n\n"
     ]
    }
   ],
   "source": [
    "# Corrigindo nomes incorretos/não amigáveis\n",
    "old_name = ['Germany FR', 'USA']\n",
    "new_name = ['Germany', 'United States']\n",
    "for index, wr in enumerate(old_name):\n",
    "    df_worldcups_silver = df_worldcups_silver.replace(old_name[index], new_name[index])\n",
    "\n",
    "# Renomeando colunas para evitar ambiguidade\n",
    "df_worldcups_silver = df_worldcups_silver.withColumnRenamed(\"Country\", \"CountryCup\") \\\n",
    "        .withColumnRenamed(\"Winner\", \"WinnerCup\") \\\n",
    "        .withColumnRenamed(\"RunnersUp\", \"RunnersUpCup\") \\\n",
    "        .withColumnRenamed(\"Third\", \"ThirdCup\") \\\n",
    "        .withColumnRenamed(\"GoalsScored\", \"GoalsScoredCup\") \\\n",
    "        .withColumnRenamed(\"Attendance\", \"AttendanceCup\")\n",
    "\n",
    "# Exibindo primeiras linhas e tipo de dados no dataset com coluna convertida\n",
    "df_worldcups_silver.show(5, truncate=False)\n",
    "df_worldcups_silver.printSchema()"
   ]
  },
  {
   "cell_type": "markdown",
   "metadata": {
    "application/vnd.databricks.v1+cell": {
     "cellMetadata": {},
     "inputWidgets": {},
     "nuid": "abd62cb8-6212-4d28-82f9-8d9486a81edf",
     "showTitle": false,
     "tableResultSettingsMap": {},
     "title": ""
    }
   },
   "source": [
    "**Analisando a tabela bronze.worldcupmatches**"
   ]
  },
  {
   "cell_type": "code",
   "execution_count": 0,
   "metadata": {
    "application/vnd.databricks.v1+cell": {
     "cellMetadata": {
      "byteLimit": 2048000,
      "implicitDf": true,
      "rowLimit": 10000
     },
     "inputWidgets": {},
     "nuid": "87fa5c95-d91a-49be-86d5-acc40abff524",
     "showTitle": true,
     "tableResultSettingsMap": {},
     "title": "Analisando a tabela bronze.worldcupmatches"
    }
   },
   "outputs": [
    {
     "output_type": "display_data",
     "data": {
      "text/html": [
       "<style scoped>\n",
       "  .table-result-container {\n",
       "    max-height: 300px;\n",
       "    overflow: auto;\n",
       "  }\n",
       "  table, th, td {\n",
       "    border: 1px solid black;\n",
       "    border-collapse: collapse;\n",
       "  }\n",
       "  th, td {\n",
       "    padding: 5px;\n",
       "  }\n",
       "  th {\n",
       "    text-align: left;\n",
       "  }\n",
       "</style><div class='table-result-container'><table class='table-result'><thead style='background-color: white'><tr><th>Year</th><th>Datetime</th><th>Stage</th><th>Stadium</th><th>City</th><th>HomeTeamName</th><th>HomeTeamGoals</th><th>AwayTeamGoals</th><th>AwayTeamName</th><th>WinConditions</th><th>Attendance</th><th>HalfTimeHomeGoals</th><th>HalfTimeAwayGoals</th><th>Referee</th><th>Assistant1</th><th>Assistant2</th><th>RoundID</th><th>MatchID</th><th>HomeTeamInitials</th><th>AwayTeamInitials</th></tr></thead><tbody><tr><td>1930</td><td>13 Jul 1930 - 15:00 </td><td>Group 1</td><td>Pocitos</td><td>Montevideo </td><td>France</td><td>4</td><td>1</td><td>Mexico</td><td> </td><td>4444</td><td>3</td><td>0</td><td>LOMBARDI Domingo (URU)</td><td>CRISTOPHE Henry (BEL)</td><td>REGO Gilberto (BRA)</td><td>201</td><td>1096</td><td>FRA</td><td>MEX</td></tr><tr><td>1930</td><td>13 Jul 1930 - 15:00 </td><td>Group 4</td><td>Parque Central</td><td>Montevideo </td><td>USA</td><td>3</td><td>0</td><td>Belgium</td><td> </td><td>18346</td><td>2</td><td>0</td><td>MACIAS Jose (ARG)</td><td>MATEUCCI Francisco (URU)</td><td>WARNKEN Alberto (CHI)</td><td>201</td><td>1090</td><td>USA</td><td>BEL</td></tr><tr><td>1930</td><td>14 Jul 1930 - 12:45 </td><td>Group 2</td><td>Parque Central</td><td>Montevideo </td><td>Yugoslavia</td><td>2</td><td>1</td><td>Brazil</td><td> </td><td>24059</td><td>2</td><td>0</td><td>TEJADA Anibal (URU)</td><td>VALLARINO Ricardo (URU)</td><td>BALWAY Thomas (FRA)</td><td>201</td><td>1093</td><td>YUG</td><td>BRA</td></tr><tr><td>1930</td><td>14 Jul 1930 - 14:50 </td><td>Group 3</td><td>Pocitos</td><td>Montevideo </td><td>Romania</td><td>3</td><td>1</td><td>Peru</td><td> </td><td>2549</td><td>1</td><td>0</td><td>WARNKEN Alberto (CHI)</td><td>LANGENUS Jean (BEL)</td><td>MATEUCCI Francisco (URU)</td><td>201</td><td>1098</td><td>ROU</td><td>PER</td></tr><tr><td>1930</td><td>15 Jul 1930 - 16:00 </td><td>Group 1</td><td>Parque Central</td><td>Montevideo </td><td>Argentina</td><td>1</td><td>0</td><td>France</td><td> </td><td>23409</td><td>0</td><td>0</td><td>REGO Gilberto (BRA)</td><td>SAUCEDO Ulises (BOL)</td><td>RADULESCU Constantin (ROU)</td><td>201</td><td>1085</td><td>ARG</td><td>FRA</td></tr><tr><td>1930</td><td>16 Jul 1930 - 14:45 </td><td>Group 1</td><td>Parque Central</td><td>Montevideo </td><td>Chile</td><td>3</td><td>0</td><td>Mexico</td><td> </td><td>9249</td><td>1</td><td>0</td><td>CRISTOPHE Henry (BEL)</td><td>APHESTEGUY Martin (URU)</td><td>LANGENUS Jean (BEL)</td><td>201</td><td>1095</td><td>CHI</td><td>MEX</td></tr><tr><td>1930</td><td>17 Jul 1930 - 12:45 </td><td>Group 2</td><td>Parque Central</td><td>Montevideo </td><td>Yugoslavia</td><td>4</td><td>0</td><td>Bolivia</td><td> </td><td>18306</td><td>0</td><td>0</td><td>MATEUCCI Francisco (URU)</td><td>LOMBARDI Domingo (URU)</td><td>WARNKEN Alberto (CHI)</td><td>201</td><td>1092</td><td>YUG</td><td>BOL</td></tr><tr><td>1930</td><td>17 Jul 1930 - 14:45 </td><td>Group 4</td><td>Parque Central</td><td>Montevideo </td><td>USA</td><td>3</td><td>0</td><td>Paraguay</td><td> </td><td>18306</td><td>2</td><td>0</td><td>MACIAS Jose (ARG)</td><td>APHESTEGUY Martin (URU)</td><td>TEJADA Anibal (URU)</td><td>201</td><td>1097</td><td>USA</td><td>PAR</td></tr><tr><td>1930</td><td>18 Jul 1930 - 14:30 </td><td>Group 3</td><td>Estadio Centenario</td><td>Montevideo </td><td>Uruguay</td><td>1</td><td>0</td><td>Peru</td><td> </td><td>57735</td><td>0</td><td>0</td><td>LANGENUS Jean (BEL)</td><td>BALWAY Thomas (FRA)</td><td>CRISTOPHE Henry (BEL)</td><td>201</td><td>1099</td><td>URU</td><td>PER</td></tr><tr><td>1930</td><td>19 Jul 1930 - 12:50 </td><td>Group 1</td><td>Estadio Centenario</td><td>Montevideo </td><td>Chile</td><td>1</td><td>0</td><td>France</td><td> </td><td>2000</td><td>0</td><td>0</td><td>TEJADA Anibal (URU)</td><td>LOMBARDI Domingo (URU)</td><td>REGO Gilberto (BRA)</td><td>201</td><td>1094</td><td>CHI</td><td>FRA</td></tr><tr><td>1930</td><td>19 Jul 1930 - 15:00 </td><td>Group 1</td><td>Estadio Centenario</td><td>Montevideo </td><td>Argentina</td><td>6</td><td>3</td><td>Mexico</td><td> </td><td>42100</td><td>3</td><td>1</td><td>SAUCEDO Ulises (BOL)</td><td>ALONSO Gualberto (URU)</td><td>RADULESCU Constantin (ROU)</td><td>201</td><td>1086</td><td>ARG</td><td>MEX</td></tr><tr><td>1930</td><td>20 Jul 1930 - 13:00 </td><td>Group 2</td><td>Estadio Centenario</td><td>Montevideo </td><td>Brazil</td><td>4</td><td>0</td><td>Bolivia</td><td> </td><td>25466</td><td>1</td><td>0</td><td>BALWAY Thomas (FRA)</td><td>MATEUCCI Francisco (URU)</td><td>VALLEJO Gaspar (MEX)</td><td>201</td><td>1091</td><td>BRA</td><td>BOL</td></tr><tr><td>1930</td><td>20 Jul 1930 - 15:00 </td><td>Group 4</td><td>Estadio Centenario</td><td>Montevideo </td><td>Paraguay</td><td>1</td><td>0</td><td>Belgium</td><td> </td><td>12000</td><td>1</td><td>0</td><td>VALLARINO Ricardo (URU)</td><td>MACIAS Jose (ARG)</td><td>LOMBARDI Domingo (URU)</td><td>201</td><td>1089</td><td>PAR</td><td>BEL</td></tr><tr><td>1930</td><td>21 Jul 1930 - 14:50 </td><td>Group 3</td><td>Estadio Centenario</td><td>Montevideo </td><td>Uruguay</td><td>4</td><td>0</td><td>Romania</td><td> </td><td>70022</td><td>4</td><td>0</td><td>REGO Gilberto (BRA)</td><td>WARNKEN Alberto (CHI)</td><td>SAUCEDO Ulises (BOL)</td><td>201</td><td>1100</td><td>URU</td><td>ROU</td></tr><tr><td>1930</td><td>22 Jul 1930 - 14:45 </td><td>Group 1</td><td>Estadio Centenario</td><td>Montevideo </td><td>Argentina</td><td>3</td><td>1</td><td>Chile</td><td> </td><td>41459</td><td>2</td><td>1</td><td>LANGENUS Jean (BEL)</td><td>CRISTOPHE Henry (BEL)</td><td>SAUCEDO Ulises (BOL)</td><td>201</td><td>1084</td><td>ARG</td><td>CHI</td></tr><tr><td>1930</td><td>26 Jul 1930 - 14:45 </td><td>Semi-finals</td><td>Estadio Centenario</td><td>Montevideo </td><td>Argentina</td><td>6</td><td>1</td><td>USA</td><td> </td><td>72886</td><td>1</td><td>0</td><td>LANGENUS Jean (BEL)</td><td>VALLEJO Gaspar (MEX)</td><td>WARNKEN Alberto (CHI)</td><td>202</td><td>1088</td><td>ARG</td><td>USA</td></tr><tr><td>1930</td><td>27 Jul 1930 - 14:45 </td><td>Semi-finals</td><td>Estadio Centenario</td><td>Montevideo </td><td>Uruguay</td><td>6</td><td>1</td><td>Yugoslavia</td><td> </td><td>79867</td><td>3</td><td>1</td><td>REGO Gilberto (BRA)</td><td>SAUCEDO Ulises (BOL)</td><td>BALWAY Thomas (FRA)</td><td>202</td><td>1101</td><td>URU</td><td>YUG</td></tr><tr><td>1930</td><td>30 Jul 1930 - 14:15 </td><td>Final</td><td>Estadio Centenario</td><td>Montevideo </td><td>Uruguay</td><td>4</td><td>2</td><td>Argentina</td><td> </td><td>68346</td><td>1</td><td>2</td><td>LANGENUS Jean (BEL)</td><td>SAUCEDO Ulises (BOL)</td><td>CRISTOPHE Henry (BEL)</td><td>405</td><td>1087</td><td>URU</td><td>ARG</td></tr><tr><td>1934</td><td>27 May 1934 - 16:30 </td><td>Preliminary round</td><td>Stadio Benito Mussolini</td><td>Turin </td><td>Austria</td><td>3</td><td>2</td><td>France</td><td>Austria win after extra time </td><td>16000</td><td>0</td><td>0</td><td>VAN MOORSEL Johannes (NED)</td><td>CAIRONI Camillo (ITA)</td><td>BAERT Louis (BEL)</td><td>204</td><td>1104</td><td>AUT</td><td>FRA</td></tr><tr><td>1934</td><td>27 May 1934 - 16:30 </td><td>Preliminary round</td><td>Giorgio Ascarelli</td><td>Naples </td><td>Hungary</td><td>4</td><td>2</td><td>Egypt</td><td> </td><td>9000</td><td>2</td><td>2</td><td>BARLASSINA Rinaldo (ITA)</td><td>DATTILO Generoso (ITA)</td><td>SASSI Otello (ITA)</td><td>204</td><td>1119</td><td>HUN</td><td>EGY</td></tr><tr><td>1934</td><td>27 May 1934 - 16:30 </td><td>Preliminary round</td><td>San Siro</td><td>Milan </td><td>Switzerland</td><td>3</td><td>2</td><td>Netherlands</td><td> </td><td>33000</td><td>2</td><td>1</td><td>EKLIND Ivan (SWE)</td><td>BERANEK Alois (AUT)</td><td>BONIVENTO Ferruccio (ITA)</td><td>204</td><td>1133</td><td>SUI</td><td>NED</td></tr><tr><td>1934</td><td>27 May 1934 - 16:30 </td><td>Preliminary round</td><td>Littorale</td><td>Bologna </td><td>Sweden</td><td>3</td><td>2</td><td>Argentina</td><td> </td><td>14000</td><td>1</td><td>1</td><td>BRAUN Eugen (AUT)</td><td>CARRARO Albino (ITA)</td><td>TURBIANI Giuseppe (ITA)</td><td>204</td><td>1102</td><td>SWE</td><td>ARG</td></tr><tr><td>1934</td><td>27 May 1934 - 16:30 </td><td>Preliminary round</td><td>Giovanni Berta</td><td>Florence </td><td>Germany</td><td>5</td><td>2</td><td>Belgium</td><td> </td><td>8000</td><td>1</td><td>2</td><td>MATTEA Francesco (ITA)</td><td>MELANDRI Ermenegildo (ITA)</td><td>BAERT Jacques (FRA)</td><td>204</td><td>1108</td><td>GER</td><td>BEL</td></tr><tr><td>1934</td><td>27 May 1934 - 16:30 </td><td>Preliminary round</td><td>Luigi Ferraris</td><td>Genoa </td><td>Spain</td><td>3</td><td>1</td><td>Brazil</td><td> </td><td>21000</td><td>3</td><td>0</td><td>BIRLEM Alfred (GER)</td><td>CARMINATI Ettore (ITA)</td><td>IVANCSICS Mihaly (HUN)</td><td>204</td><td>1111</td><td>ESP</td><td>BRA</td></tr><tr><td>1934</td><td>27 May 1934 - 16:30 </td><td>Preliminary round</td><td>Nazionale PNF</td><td>Rome </td><td>Italy</td><td>7</td><td>1</td><td>USA</td><td> </td><td>25000</td><td>3</td><td>0</td><td>MERCET Rene (SUI)</td><td>ESCARTIN Pedro (ESP)</td><td>ZENISEK Bohumil (TCH)</td><td>204</td><td>1135</td><td>ITA</td><td>USA</td></tr><tr><td>1934</td><td>27 May 1934 - 16:30 </td><td>Preliminary round</td><td>Littorio</td><td>Trieste </td><td>Czechoslovakia</td><td>2</td><td>1</td><td>Romania</td><td> </td><td>9000</td><td>0</td><td>1</td><td>LANGENUS Jean (BEL)</td><td>SCARPI Giuseppe (ITA)</td><td>SCORZONI Raffaele (ITA)</td><td>204</td><td>1141</td><td>TCH</td><td>ROU</td></tr><tr><td>1934</td><td>31 May 1934 - 16:30 </td><td>Quarter-finals</td><td>Stadio Benito Mussolini</td><td>Turin </td><td>Czechoslovakia</td><td>3</td><td>2</td><td>Switzerland</td><td> </td><td>12000</td><td>1</td><td>1</td><td>BERANEK Alois (AUT)</td><td>MOHAMED Youssuf (EGY)</td><td>BAERT Jacques (FRA)</td><td>418</td><td>1143</td><td>TCH</td><td>SUI</td></tr><tr><td>1934</td><td>31 May 1934 - 16:30 </td><td>Quarter-finals</td><td>San Siro</td><td>Milan </td><td>Germany</td><td>2</td><td>1</td><td>Sweden</td><td> </td><td>3000</td><td>0</td><td>0</td><td>BARLASSINA Rinaldo (ITA)</td><td>MERCET Rene (SUI)</td><td>VAN MOORSEL Johannes (NED)</td><td>418</td><td>1129</td><td>GER</td><td>SWE</td></tr><tr><td>1934</td><td>31 May 1934 - 16:30 </td><td>Quarter-finals</td><td>Giovanni Berta</td><td>Florence </td><td>Italy</td><td>1</td><td>1</td><td>Spain</td><td> </td><td>35000</td><td>0</td><td>0</td><td>BAERT Louis (BEL)</td><td>ZENISEK Bohumil (TCH)</td><td>IVANCSICS Mihaly (HUN)</td><td>418</td><td>1122</td><td>ITA</td><td>ESP</td></tr><tr><td>1934</td><td>31 May 1934 - 16:30 </td><td>Quarter-finals</td><td>Littorale</td><td>Bologna </td><td>Austria</td><td>2</td><td>1</td><td>Hungary</td><td> </td><td>23000</td><td>1</td><td>0</td><td>MATTEA Francesco (ITA)</td><td>ESCARTIN Pedro (ESP)</td><td>BIRLEM Alfred (GER)</td><td>418</td><td>1106</td><td>AUT</td><td>HUN</td></tr><tr><td>1934</td><td>01 Jun 1934 - 16:30 </td><td>Quarter-finals</td><td>Giovanni Berta</td><td>Florence </td><td>Italy</td><td>1</td><td>0</td><td>Spain</td><td> </td><td>43000</td><td>1</td><td>0</td><td>MERCET Rene (SUI)</td><td>IVANCSICS Mihaly (HUN)</td><td>ZENISEK Bohumil (TCH)</td><td>418</td><td>1123</td><td>ITA</td><td>ESP</td></tr><tr><td>1934</td><td>03 Jun 1934 - 16:30 </td><td>Semi-finals</td><td>San Siro</td><td>Milan </td><td>Italy</td><td>1</td><td>0</td><td>Austria</td><td> </td><td>35000</td><td>1</td><td>0</td><td>EKLIND Ivan (SWE)</td><td>BAERT Louis (BEL)</td><td>ZENISEK Bohumil (TCH)</td><td>3492</td><td>1107</td><td>ITA</td><td>AUT</td></tr><tr><td>1934</td><td>03 Jun 1934 - 16:30 </td><td>Semi-finals</td><td>Nazionale PNF</td><td>Rome </td><td>Czechoslovakia</td><td>3</td><td>1</td><td>Germany</td><td> </td><td>15000</td><td>1</td><td>0</td><td>BARLASSINA Rinaldo (ITA)</td><td>BERANEK Alois (AUT)</td><td>ESCARTIN Pedro (ESP)</td><td>3492</td><td>1130</td><td>TCH</td><td>GER</td></tr><tr><td>1934</td><td>07 Jun 1934 - 18:00 </td><td>Match for third place</td><td>Giorgio Ascarelli</td><td>Naples </td><td>Germany</td><td>3</td><td>2</td><td>Austria</td><td> </td><td>7000</td><td>3</td><td>1</td><td>CARRARO Albino (ITA)</td><td>CAIRONI Camillo (ITA)</td><td>ESCARTIN Pedro (ESP)</td><td>3491</td><td>1105</td><td>GER</td><td>AUT</td></tr><tr><td>1934</td><td>10 Jun 1934 - 17:30 </td><td>Final</td><td>Nazionale PNF</td><td>Rome </td><td>Italy</td><td>2</td><td>1</td><td>Czechoslovakia</td><td>Italy win after extra time </td><td>55000</td><td>0</td><td>0</td><td>EKLIND Ivan (SWE)</td><td>BAERT Louis (BEL)</td><td>IVANCSICS Mihaly (HUN)</td><td>3490</td><td>1134</td><td>ITA</td><td>TCH</td></tr><tr><td>1938</td><td>04 Jun 1938 - 17:00 </td><td>First round</td><td>Parc des Princes</td><td>Paris </td><td>Switzerland</td><td>1</td><td>1</td><td>Germany</td><td> </td><td>27152</td><td>0</td><td>0</td><td>LANGENUS Jean (BEL)</td><td>MARENCO Paul (FRA)</td><td>VAN MOORSEL Johannes (NED)</td><td>206</td><td>1165</td><td>SUI</td><td>GER</td></tr><tr><td>1938</td><td>05 Jun 1938 - 17:00 </td><td>First round</td><td>Velodrome Municipale</td><td>Reims </td><td>Hungary</td><td>6</td><td>0</td><td>Dutch East Indies</td><td> </td><td>9000</td><td>4</td><td>0</td><td>CONRIE Roger (FRA)</td><td>DE LA SALLE Charles (FRA)</td><td>WEINGARTNER Karl (AUT)</td><td>206</td><td>1173</td><td>HUN</td><td>INH</td></tr><tr><td>1938</td><td>05 Jun 1938 - 17:00 </td><td>First round</td><td>Stade Olympique</td><td>Colombes </td><td>France</td><td>3</td><td>1</td><td>Belgium</td><td> </td><td>30454</td><td>2</td><td>1</td><td>WUETHRICH Hans (SUI)</td><td>KRIST Gustav (TCH)</td><td>BIRLEM Alfred (GER)</td><td>206</td><td>1146</td><td>FRA</td><td>BEL</td></tr><tr><td>1938</td><td>05 Jun 1938 - 17:00 </td><td>First round</td><td>Stade Municipal</td><td>Toulouse </td><td>Cuba</td><td>3</td><td>3</td><td>Romania</td><td> </td><td>7000</td><td>0</td><td>0</td><td>SCARPI Giuseppe (ITA)</td><td>VALPREDE Ferdinand (FRA)</td><td>MERKCX Jean (FRA)</td><td>206</td><td>1156</td><td>CUB</td><td>ROU</td></tr><tr><td>1938</td><td>05 Jun 1938 - 17:00 </td><td>First round</td><td>Stade V�lodrome</td><td>Marseilles </td><td>Italy</td><td>2</td><td>1</td><td>Norway</td><td>Italy win after extra time </td><td>19000</td><td>0</td><td>0</td><td>BERANEK Alois (AUT)</td><td>BOUTOURE D. (FRA)</td><td>TREHOU D. (FRA)</td><td>206</td><td>1179</td><td>ITA</td><td>NOR</td></tr><tr><td>1938</td><td>05 Jun 1938 - 17:30 </td><td>First round</td><td>Stade de la Meinau</td><td>Strasbourg </td><td>Brazil</td><td>6</td><td>5</td><td>Poland</td><td>Brazil win after extra time </td><td>13452</td><td>0</td><td>0</td><td>EKLIND Ivan (SWE)</td><td>POISSANT Louis (FRA)</td><td>KISSENBERGER Ernest (FRA)</td><td>206</td><td>1150</td><td>BRA</td><td>POL</td></tr><tr><td>1938</td><td>05 Jun 1938 - 18:30 </td><td>First round</td><td>Cavee Verte</td><td>Le Havre </td><td>Czechoslovakia</td><td>3</td><td>0</td><td>Netherlands</td><td>Czechoslovakia win after extra time </td><td>11000</td><td>0</td><td>0</td><td>LECLERCQ Lucien (FRA)</td><td>OLIVE D. (FRA)</td><td>SDEZ Victor (FRA)</td><td>206</td><td>1172</td><td>TCH</td><td>NED</td></tr><tr><td>1938</td><td>09 Jun 1938 - 18:00 </td><td>First round</td><td>Stade Municipal</td><td>Toulouse </td><td>Cuba</td><td>2</td><td>1</td><td>Romania</td><td> </td><td>8000</td><td>0</td><td>1</td><td>BIRLEM Alfred (GER)</td><td>CAPDEVILLE Pierre (FRA)</td><td>MARENCO Paul (FRA)</td><td>206</td><td>1157</td><td>CUB</td><td>ROU</td></tr><tr><td>1938</td><td>09 Jun 1938 - 18:00 </td><td>First round</td><td>Parc des Princes</td><td>Paris </td><td>Switzerland</td><td>4</td><td>2</td><td>Germany</td><td> </td><td>20025</td><td>1</td><td>2</td><td>EKLIND Ivan (SWE)</td><td>BAERT Louis (BEL)</td><td>VAN MOORSEL Johannes (NED)</td><td>206</td><td>1166</td><td>SUI</td><td>GER</td></tr><tr><td>1938</td><td>12 Jun 1938 - 17:00 </td><td>Quarter-finals</td><td>Stade du Parc Lescure</td><td>Bordeaux </td><td>Brazil</td><td>1</td><td>1</td><td>Czechoslovakia</td><td> </td><td>22021</td><td>0</td><td>0</td><td>VON HERTZKA Pal (HUN)</td><td>SCARPI Giuseppe (ITA)</td><td>DE LA SALLE Charles (FRA)</td><td>429</td><td>1152</td><td>BRA</td><td>TCH</td></tr><tr><td>1938</td><td>12 Jun 1938 - 17:00 </td><td>Quarter-finals</td><td>Victor Boucquey</td><td>Lille </td><td>Hungary</td><td>2</td><td>0</td><td>Switzerland</td><td> </td><td>15000</td><td>1</td><td>0</td><td>BARLASSINA Rinaldo (ITA)</td><td>BERANEK Alois (AUT)</td><td>BOUTOURE D. (FRA)</td><td>429</td><td>1175</td><td>HUN</td><td>SUI</td></tr><tr><td>1938</td><td>12 Jun 1938 - 17:00 </td><td>Quarter-finals</td><td>Fort Carree</td><td>Antibes </td><td>Sweden</td><td>8</td><td>0</td><td>Cuba</td><td> </td><td>7000</td><td>4</td><td>0</td><td>KRIST Gustav (TCH)</td><td>WEINGARTNER Karl (AUT)</td><td>SDEZ Victor (FRA)</td><td>429</td><td>1158</td><td>SWE</td><td>CUB</td></tr><tr><td>1938</td><td>12 Jun 1938 - 17:00 </td><td>Quarter-finals</td><td>Stade Olympique</td><td>Colombes </td><td>Italy</td><td>3</td><td>1</td><td>France</td><td> </td><td>58455</td><td>1</td><td>1</td><td>BAERT Louis (BEL)</td><td>WUETHRICH Hans (SUI)</td><td>EKLIND Ivan (SWE)</td><td>429</td><td>1164</td><td>ITA</td><td>FRA</td></tr><tr><td>1938</td><td>14 Jun 1938 - 18:00 </td><td>Quarter-finals</td><td>Stade du Parc Lescure</td><td>Bordeaux </td><td>Brazil</td><td>2</td><td>1</td><td>Czechoslovakia</td><td> </td><td>18141</td><td>0</td><td>1</td><td>CAPDEVILLE Georges (FRA)</td><td>MARENCO Paul (FRA)</td><td>KISSENBERGER Ernest (FRA)</td><td>429</td><td>1153</td><td>BRA</td><td>TCH</td></tr><tr><td>1938</td><td>16 Jun 1938 - 18:00 </td><td>Semi-finals</td><td>Parc des Princes</td><td>Paris </td><td>Hungary</td><td>5</td><td>1</td><td>Sweden</td><td> </td><td>20000</td><td>3</td><td>1</td><td>LECLERCQ Lucien (FRA)</td><td>VAN MOORSEL Johannes (NED)</td><td>SCARPI Giuseppe (ITA)</td><td>3489</td><td>1176</td><td>HUN</td><td>SWE</td></tr><tr><td>1938</td><td>16 Jun 1938 - 18:00 </td><td>Semi-finals</td><td>Stade V�lodrome</td><td>Marseilles </td><td>Italy</td><td>2</td><td>1</td><td>Brazil</td><td> </td><td>33000</td><td>0</td><td>0</td><td>WUETHRICH Hans (SUI)</td><td>BERANEK Alois (AUT)</td><td>MARENCO Paul (FRA)</td><td>3489</td><td>1149</td><td>ITA</td><td>BRA</td></tr><tr><td>1938</td><td>19 Jun 1938 - 17:00 </td><td>Match for third place</td><td>Stade du Parc Lescure</td><td>Bordeaux </td><td>Brazil</td><td>4</td><td>2</td><td>Sweden</td><td> </td><td>12000</td><td>1</td><td>2</td><td>LANGENUS Jean (BEL)</td><td>OLIVE D. (FRA)</td><td>VALPREDE Ferdinand (FRA)</td><td>3488</td><td>1151</td><td>BRA</td><td>SWE</td></tr><tr><td>1938</td><td>19 Jun 1938 - 17:00 </td><td>Final</td><td>Stade Olympique</td><td>Colombes </td><td>Italy</td><td>4</td><td>2</td><td>Hungary</td><td> </td><td>45000</td><td>3</td><td>1</td><td>CAPDEVILLE Georges (FRA)</td><td>WUETHRICH Hans (SUI)</td><td>KRIST Gustav (TCH)</td><td>3487</td><td>1174</td><td>ITA</td><td>HUN</td></tr><tr><td>1950</td><td>24 Jun 1950 - 15:00 </td><td>Group 1</td><td>Maracan� - Est�dio Jornalista M�rio Filho</td><td>Rio De Janeiro </td><td>Brazil</td><td>4</td><td>0</td><td>Mexico</td><td> </td><td>81649</td><td>1</td><td>0</td><td>READER George (ENG)</td><td>GRIFFITHS Benjamin (WAL)</td><td>MITCHELL George (SCO)</td><td>208</td><td>1187</td><td>BRA</td><td>MEX</td></tr><tr><td>1950</td><td>25 Jun 1950 - 15:00 </td><td>Group 2</td><td>Maracan� - Est�dio Jornalista M�rio Filho</td><td>Rio De Janeiro </td><td>England</td><td>2</td><td>0</td><td>Chile</td><td> </td><td>29703</td><td>1</td><td>0</td><td>VAN DER MEER Karel (NED)</td><td>GARDELLI Mario (BRA)</td><td>DAHLNER Gunnar (SWE)</td><td>208</td><td>1192</td><td>ENG</td><td>CHI</td></tr><tr><td>1950</td><td>25 Jun 1950 - 15:00 </td><td>Group 2</td><td>Durival de Brito</td><td>Curitiba </td><td>Spain</td><td>3</td><td>1</td><td>USA</td><td> </td><td>9511</td><td>0</td><td>1</td><td>VIANA Mario (BRA)</td><td>DA COSTA VIEIRA Jose (POR)</td><td>DE LA SALLE Charles (FRA)</td><td>208</td><td>1208</td><td>ESP</td><td>USA</td></tr><tr><td>1950</td><td>25 Jun 1950 - 15:00 </td><td>Group 3</td><td>Pacaembu</td><td>Sao Paulo </td><td>Sweden</td><td>3</td><td>2</td><td>Italy</td><td> </td><td>36502</td><td>2</td><td>1</td><td>LUTZ Jean (SUI)</td><td>BERANEK Alois (AUT)</td><td>TEJADA Carlos (MEX)</td><td>208</td><td>1219</td><td>SWE</td><td>ITA</td></tr><tr><td>1950</td><td>25 Jun 1950 - 15:00 </td><td>Group 1</td><td>Independencia</td><td>Belo Horizonte </td><td>Yugoslavia</td><td>3</td><td>0</td><td>Switzerland</td><td> </td><td>7336</td><td>0</td><td>0</td><td>GALEATI Giovanni (ITA)</td><td>EKLIND Ivan (SWE)</td><td>DATTILO Generoso (ITA)</td><td>208</td><td>1230</td><td>YUG</td><td>SUI</td></tr><tr><td>1950</td><td>28 Jun 1950 - 15:00 </td><td>Group 1</td><td>Pacaembu</td><td>Sao Paulo </td><td>Brazil</td><td>2</td><td>2</td><td>Switzerland</td><td> </td><td>42032</td><td>2</td><td>1</td><td>AZON ROMA Ramon (ESP)</td><td>BUSTAMANTE Sergio (CHI)</td><td>DE NICOLA Cayetano (PAR)</td><td>208</td><td>1188</td><td>BRA</td><td>SUI</td></tr><tr><td>1950</td><td>28 Jun 1950 - 15:00 </td><td>Group 1</td><td>Eucaliptos</td><td>Porto Alegre </td><td>Yugoslavia</td><td>4</td><td>1</td><td>Mexico</td><td> </td><td>11078</td><td>2</td><td>0</td><td>LEAFE Reginald (ENG)</td><td>DAHLNER Gunnar (SWE)</td><td>VAN DER MEER Karel (NED)</td><td>208</td><td>1225</td><td>YUG</td><td>MEX</td></tr><tr><td>1950</td><td>29 Jun 1950 - 15:00 </td><td>Group 2</td><td>Maracan� - Est�dio Jornalista M�rio Filho</td><td>Rio De Janeiro </td><td>Spain</td><td>2</td><td>0</td><td>Chile</td><td> </td><td>19790</td><td>2</td><td>0</td><td>MALCHER Alberto (BRA)</td><td>MARINO Esteban (URU)</td><td>ALVAREZ Alfredo (BOL)</td><td>208</td><td>1193</td><td>ESP</td><td>CHI</td></tr><tr><td>1950</td><td>29 Jun 1950 - 15:30 </td><td>Group 3</td><td>Durival de Brito</td><td>Curitiba </td><td>Sweden</td><td>2</td><td>2</td><td>Paraguay</td><td> </td><td>7903</td><td>2</td><td>1</td><td>MITCHELL Robert (SCO)</td><td>LEMESIC Leo (YUG)</td><td>GARCIA Prudencio (USA)</td><td>208</td><td>1228</td><td>SWE</td><td>PAR</td></tr><tr><td>1950</td><td>29 Jun 1950 - 15:00 </td><td>Group 2</td><td>Independencia</td><td>Belo Horizonte </td><td>USA</td><td>1</td><td>0</td><td>England</td><td> </td><td>10151</td><td>1</td><td>0</td><td>DATTILO Generoso (ITA)</td><td>DE LA SALLE Charles (FRA)</td><td>GALEATI Giovanni (ITA)</td><td>208</td><td>1202</td><td>USA</td><td>ENG</td></tr><tr><td>1950</td><td>01 Jul 1950 - 15:00 </td><td>Group 1</td><td>Maracan� - Est�dio Jornalista M�rio Filho</td><td>Rio De Janeiro </td><td>Brazil</td><td>2</td><td>0</td><td>Yugoslavia</td><td> </td><td>142429</td><td>1</td><td>0</td><td>GRIFFITHS Benjamin (WAL)</td><td>BERANEK Alois (AUT)</td><td>DA COSTA VIEIRA Jose (POR)</td><td>208</td><td>1191</td><td>BRA</td><td>YUG</td></tr><tr><td>1950</td><td>02 Jul 1950 - 15:00 </td><td>Group 2</td><td>Maracan� - Est�dio Jornalista M�rio Filho</td><td>Rio De Janeiro </td><td>Spain</td><td>1</td><td>0</td><td>England</td><td> </td><td>74462</td><td>0</td><td>0</td><td>GALEATI Giovanni (ITA)</td><td>LUTZ Jean (SUI)</td><td>DATTILO Generoso (ITA)</td><td>208</td><td>1199</td><td>ESP</td><td>ENG</td></tr><tr><td>1950</td><td>02 Jul 1950 - 15:00 </td><td>Group 3</td><td>Pacaembu</td><td>Sao Paulo </td><td>Italy</td><td>2</td><td>0</td><td>Paraguay</td><td> </td><td>25811</td><td>1</td><td>0</td><td>ELLIS Arthur (ENG)</td><td>GARCIA Prudencio (USA)</td><td>DE LA SALLE Charles (FRA)</td><td>208</td><td>1218</td><td>ITA</td><td>PAR</td></tr><tr><td>1950</td><td>02 Jul 1950 - 15:00 </td><td>Group 4</td><td>Independencia</td><td>Belo Horizonte </td><td>Uruguay</td><td>8</td><td>0</td><td>Bolivia</td><td> </td><td>5284</td><td>4</td><td>0</td><td>READER George (ENG)</td><td>VIANA Mario (BRA)</td><td>LEMESIC Leo (YUG)</td><td>208</td><td>1185</td><td>URU</td><td>BOL</td></tr><tr><td>1950</td><td>02 Jul 1950 - 15:40 </td><td>Group 1</td><td>Eucaliptos</td><td>Porto Alegre </td><td>Switzerland</td><td>2</td><td>1</td><td>Mexico</td><td> </td><td>3580</td><td>2</td><td>0</td><td>EKLIND Ivan (SWE)</td><td>DAHLNER Gunnar (SWE)</td><td>BUSTAMANTE Sergio (CHI)</td><td>208</td><td>1222</td><td>SUI</td><td>MEX</td></tr><tr><td>1950</td><td>02 Jul 1950 - 15:00 </td><td>Group 2</td><td>Ilha do Retiro</td><td>Recife </td><td>Chile</td><td>5</td><td>2</td><td>USA</td><td> </td><td>8501</td><td>2</td><td>0</td><td>GARDELLI Mario (BRA)</td><td>HEYEN Mario Ruben (PAR)</td><td>ALVAREZ Alfredo (BOL)</td><td>208</td><td>1194</td><td>CHI</td><td>USA</td></tr><tr><td>1950</td><td>09 Jul 1950 - 15:00 </td><td>Group 6</td><td>Pacaembu</td><td>Sao Paulo </td><td>Uruguay</td><td>2</td><td>2</td><td>Spain</td><td> </td><td>44802</td><td>1</td><td>2</td><td>GRIFFITHS Benjamin (WAL)</td><td>DATTILO Generoso (ITA)</td><td>ALVAREZ Alfredo (BOL)</td><td>209</td><td>1207</td><td>URU</td><td>ESP</td></tr><tr><td>1950</td><td>09 Jul 1950 - 15:00 </td><td>Group 6</td><td>Maracan� - Est�dio Jornalista M�rio Filho</td><td>Rio De Janeiro </td><td>Brazil</td><td>7</td><td>1</td><td>Sweden</td><td> </td><td>138886</td><td>3</td><td>0</td><td>ELLIS Arthur (ENG)</td><td>GARCIA Prudencio (USA)</td><td>DE LA SALLE Charles (FRA)</td><td>209</td><td>1189</td><td>BRA</td><td>SWE</td></tr><tr><td>1950</td><td>13 Jul 1950 - 15:00 </td><td>Group 6</td><td>Maracan� - Est�dio Jornalista M�rio Filho</td><td>Rio De Janeiro </td><td>Brazil</td><td>6</td><td>1</td><td>Spain</td><td> </td><td>152772</td><td>3</td><td>0</td><td>LEAFE Reginald (ENG)</td><td>MITCHELL George (SCO)</td><td>DA COSTA VIEIRA Jose (POR)</td><td>209</td><td>1186</td><td>BRA</td><td>ESP</td></tr><tr><td>1950</td><td>13 Jul 1950 - 15:00 </td><td>Group 6</td><td>Pacaembu</td><td>Sao Paulo </td><td>Uruguay</td><td>3</td><td>2</td><td>Sweden</td><td> </td><td>7987</td><td>1</td><td>2</td><td>GALEATI Giovanni (ITA)</td><td>BERANEK Alois (AUT)</td><td>DE NICOLA Cayetano (PAR)</td><td>209</td><td>1231</td><td>URU</td><td>SWE</td></tr><tr><td>1950</td><td>16 Jul 1950 - 15:00 </td><td>Group 6</td><td>Pacaembu</td><td>Sao Paulo </td><td>Sweden</td><td>3</td><td>1</td><td>Spain</td><td> </td><td>11227</td><td>2</td><td>0</td><td>VAN DER MEER Karel (NED)</td><td>LUTZ Jean (SUI)</td><td>GARCIA Prudencio (USA)</td><td>209</td><td>1206</td><td>SWE</td><td>ESP</td></tr><tr><td>1950</td><td>16 Jul 1950 - 15:00 </td><td>Group 6</td><td>Maracan� - Est�dio Jornalista M�rio Filho</td><td>Rio De Janeiro </td><td>Uruguay</td><td>2</td><td>1</td><td>Brazil</td><td> </td><td>173850</td><td>0</td><td>0</td><td>READER George (ENG)</td><td>ELLIS Arthur (ENG)</td><td>MITCHELL George (SCO)</td><td>209</td><td>1190</td><td>URU</td><td>BRA</td></tr><tr><td>1954</td><td>16 Jun 1954 - 18:00 </td><td>Group 3</td><td>Wankdorf Stadium</td><td>Berne </td><td>Uruguay</td><td>2</td><td>0</td><td>Czechoslovakia</td><td> </td><td>20500</td><td>0</td><td>0</td><td>ELLIS Arthur (ENG)</td><td>LING William (ENG)</td><td>SCHICKER Werner (SUI)</td><td>211</td><td>1315</td><td>URU</td><td>TCH</td></tr><tr><td>1954</td><td>16 Jun 1954 - 18:00 </td><td>Group 3</td><td>Hardturm</td><td>Zurich </td><td>Austria</td><td>1</td><td>0</td><td>Scotland</td><td> </td><td>25000</td><td>1</td><td>0</td><td>FRANKEN Laurent (BEL)</td><td>VIANA Mario (BRA)</td><td>GULDE Josef (SUI)</td><td>211</td><td>1236</td><td>AUT</td><td>SCO</td></tr><tr><td>1954</td><td>16 Jun 1954 - 18:00 </td><td>Group 1</td><td>Charmilles</td><td>Geneva </td><td>Brazil</td><td>5</td><td>0</td><td>Mexico</td><td> </td><td>13470</td><td>4</td><td>0</td><td>WYSSLING Paul (SUI)</td><td>SCHONHOLZER Ernest (SUI)</td><td>DA COSTA VIEIRA Jose (POR)</td><td>211</td><td>1249</td><td>BRA</td><td>MEX</td></tr><tr><td>1954</td><td>16 Jun 1954 - 18:00 </td><td>Group 1</td><td>La Pontaise</td><td>Lausanne </td><td>Yugoslavia</td><td>1</td><td>0</td><td>France</td><td> </td><td>16000</td><td>1</td><td>0</td><td>GRIFFITHS Benjamin (WAL)</td><td>BAUMBERGER Rene (SUI)</td><td>ASENSI Manuel (ESP)</td><td>211</td><td>1276</td><td>YUG</td><td>FRA</td></tr><tr><td>1954</td><td>17 Jun 1954 - 18:00 </td><td>Group 2</td><td>Wankdorf Stadium</td><td>Berne </td><td>Germany FR</td><td>4</td><td>1</td><td>Turkey</td><td> </td><td>28000</td><td>1</td><td>1</td><td>DA COSTA VIEIRA Jose (POR)</td><td>ZSOLT Istvan (HUN)</td><td>MERLOTTI Armand (SUI)</td><td>211</td><td>1283</td><td>FRG</td><td>TUR</td></tr><tr><td>1954</td><td>17 Jun 1954 - 18:00 </td><td>Group 2</td><td>Hardturm</td><td>Zurich </td><td>Hungary</td><td>9</td><td>0</td><td>Korea Republic</td><td> </td><td>13000</td><td>4</td><td>0</td><td>VINCENTI Raymond (FRA)</td><td>VON GUNTER Albert (SUI)</td><td>STEINER Carl (AUT)</td><td>211</td><td>1294</td><td>HUN</td><td>KOR</td></tr><tr><td>1954</td><td>17 Jun 1954 - 18:10 </td><td>Group 4</td><td>St. Jakob</td><td>Basel </td><td>England</td><td>4</td><td>4</td><td>Belgium</td><td> </td><td>14000</td><td>0</td><td>0</td><td>SCHMETZER Emil (FRG)</td><td>BUCHMUELLER Fritz (SUI)</td><td>RUFFLI Willy (SUI)</td><td>211</td><td>1240</td><td>ENG</td><td>BEL</td></tr><tr><td>1954</td><td>17 Jun 1954 - 17:50 </td><td>Group 4</td><td>La Pontaise</td><td>Lausanne </td><td>Switzerland</td><td>2</td><td>1</td><td>Italy</td><td> </td><td>43000</td><td>1</td><td>1</td><td>VIANA Mario (BRA)</td><td>ASENSI Manuel (ESP)</td><td>MARINO Esteban (URU)</td><td>211</td><td>1300</td><td>SUI</td><td>ITA</td></tr><tr><td>1954</td><td>19 Jun 1954 - 16:50 </td><td>Group 3</td><td>St. Jakob</td><td>Basel </td><td>Uruguay</td><td>7</td><td>0</td><td>Scotland</td><td> </td><td>34000</td><td>2</td><td>0</td><td>ORLANDINI Vincenzo (ITA)</td><td>WYSSLING Paul (SUI)</td><td>GUIDI Denilo (SUI)</td><td>211</td><td>1313</td><td>URU</td><td>SCO</td></tr><tr><td>1954</td><td>19 Jun 1954 - 17:00 </td><td>Group 3</td><td>Hardturm</td><td>Zurich </td><td>Austria</td><td>5</td><td>0</td><td>Czechoslovakia</td><td> </td><td>26000</td><td>4</td><td>0</td><td>STEFANOVIC Vasa (YUG)</td><td>DOERFLINGER Ernst (SUI)</td><td>GULDE Josef (SUI)</td><td>211</td><td>1238</td><td>AUT</td><td>TCH</td></tr><tr><td>1954</td><td>19 Jun 1954 - 17:10 </td><td>Group 1</td><td>Charmilles</td><td>Geneva </td><td>France</td><td>3</td><td>2</td><td>Mexico</td><td> </td><td>19000</td><td>1</td><td>0</td><td>ASENSI Manuel (ESP)</td><td>FRANKEN Laurent (BEL)</td><td>BAUMBERGER Rene (SUI)</td><td>211</td><td>1275</td><td>FRA</td><td>MEX</td></tr><tr><td>1954</td><td>19 Jun 1954 - 17:00 </td><td>Group 1</td><td>La Pontaise</td><td>Lausanne </td><td>Brazil</td><td>1</td><td>1</td><td>Yugoslavia</td><td> </td><td>24637</td><td>0</td><td>0</td><td>FAULTLESS Charlie (SCO)</td><td>ELLIS Arthur (ENG)</td><td>VON GUNTER Albert (SUI)</td><td>211</td><td>1252</td><td>BRA</td><td>YUG</td></tr><tr><td>1954</td><td>20 Jun 1954 - 16:50 </td><td>Group 2</td><td>St. Jakob</td><td>Basel </td><td>Hungary</td><td>8</td><td>3</td><td>Germany FR</td><td> </td><td>56000</td><td>3</td><td>1</td><td>LING William (ENG)</td><td>SCHICKER Werner (SUI)</td><td>GRIFFITHS Benjamin (WAL)</td><td>211</td><td>1277</td><td>HUN</td><td>FRG</td></tr><tr><td>1954</td><td>20 Jun 1954 - 17:00 </td><td>Group 2</td><td>Charmilles</td><td>Geneva </td><td>Turkey</td><td>7</td><td>0</td><td>Korea Republic</td><td> </td><td>4000</td><td>4</td><td>0</td><td>MARINO Esteban (URU)</td><td>ORLANDINI Vincenzo (ITA)</td><td>SCHONHOLZER Ernest (SUI)</td><td>211</td><td>1304</td><td>TUR</td><td>KOR</td></tr><tr><td>1954</td><td>20 Jun 1954 - 17:10 </td><td>Group 4</td><td>Wankdorf Stadium</td><td>Berne </td><td>England</td><td>2</td><td>0</td><td>Switzerland</td><td> </td><td>43500</td><td>1</td><td>0</td><td>ZSOLT Istvan (HUN)</td><td>DA COSTA VIEIRA Jose (POR)</td><td>STEFANOVIC Vasa (YUG)</td><td>211</td><td>1263</td><td>ENG</td><td>SUI</td></tr><tr><td>1954</td><td>20 Jun 1954 - 17:00 </td><td>Group 4</td><td>Comunale di Cornaredo</td><td>Lugano </td><td>Italy</td><td>4</td><td>1</td><td>Belgium</td><td> </td><td>24000</td><td>1</td><td>0</td><td>STEINER Carl (AUT)</td><td>VINCENTI Raymond (FRA)</td><td>SCHMETZER Emil (FRG)</td><td>211</td><td>1243</td><td>ITA</td><td>BEL</td></tr><tr><td>1954</td><td>23 Jun 1954 - 18:00 </td><td>Group 2</td><td>Hardturm</td><td>Zurich </td><td>Germany FR</td><td>7</td><td>2</td><td>Turkey</td><td> </td><td>17000</td><td>3</td><td>1</td><td>VINCENTI Raymond (FRA)</td><td>FAULTLESS Charlie (SCO)</td><td>DOERFLINGER Ernst (SUI)</td><td>211</td><td>1284</td><td>FRG</td><td>TUR</td></tr><tr><td>1954</td><td>23 Jun 1954 - 18:00 </td><td>Group 4</td><td>St. Jakob</td><td>Basel </td><td>Switzerland</td><td>4</td><td>1</td><td>Italy</td><td> </td><td>30000</td><td>1</td><td>0</td><td>GRIFFITHS Benjamin (WAL)</td><td>DA COSTA VIEIRA Jose (POR)</td><td>LING William (ENG)</td><td>211</td><td>1301</td><td>SUI</td><td>ITA</td></tr><tr><td>1954</td><td>26 Jun 1954 - 17:00 </td><td>Quarter-finals</td><td>St. Jakob</td><td>Basel </td><td>Uruguay</td><td>4</td><td>2</td><td>England</td><td> </td><td>28000</td><td>2</td><td>1</td><td>STEINER Carl (AUT)</td><td>STEFANOVIC Vasa (YUG)</td><td>ORLANDINI Vincenzo (ITA)</td><td>212</td><td>1264</td><td>URU</td><td>ENG</td></tr><tr><td>1954</td><td>26 Jun 1954 - 17:00 </td><td>Quarter-finals</td><td>La Pontaise</td><td>Lausanne </td><td>Austria</td><td>7</td><td>5</td><td>Switzerland</td><td> </td><td>35000</td><td>5</td><td>4</td><td>FAULTLESS Charlie (SCO)</td><td>ASENSI Manuel (ESP)</td><td>SCHMETZER Emil (FRG)</td><td>212</td><td>1237</td><td>AUT</td><td>SUI</td></tr><tr><td>1954</td><td>27 Jun 1954 - 17:00 </td><td>Quarter-finals</td><td>Charmilles</td><td>Geneva </td><td>Germany FR</td><td>2</td><td>0</td><td>Yugoslavia</td><td> </td><td>17000</td><td>1</td><td>0</td><td>ZSOLT Istvan (HUN)</td><td>FRANKEN Laurent (BEL)</td><td>BUCHMUELLER Fritz (SUI)</td><td>212</td><td>1285</td><td>FRG</td><td>YUG</td></tr><tr><td>1954</td><td>27 Jun 1954 - 17:00 </td><td>Quarter-finals</td><td>Wankdorf Stadium</td><td>Berne </td><td>Hungary</td><td>4</td><td>2</td><td>Brazil</td><td> </td><td>40000</td><td>2</td><td>1</td><td>ELLIS Arthur (ENG)</td><td>LING William (ENG)</td><td>WYSSLING Paul (SUI)</td><td>212</td><td>1248</td><td>HUN</td><td>BRA</td></tr><tr><td>1954</td><td>30 Jun 1954 - 18:00 </td><td>Semi-finals</td><td>St. Jakob</td><td>Basel </td><td>Germany FR</td><td>6</td><td>1</td><td>Austria</td><td> </td><td>58000</td><td>1</td><td>0</td><td>ORLANDINI Vincenzo (ITA)</td><td>ELLIS Arthur (ENG)</td><td>BUCHMUELLER Fritz (SUI)</td><td>462</td><td>1233</td><td>FRG</td><td>AUT</td></tr><tr><td>1954</td><td>30 Jun 1954 - 18:00 </td><td>Semi-finals</td><td>La Pontaise</td><td>Lausanne </td><td>Hungary</td><td>4</td><td>2</td><td>Uruguay</td><td>Hungary win after extra time </td><td>45000</td><td>0</td><td>0</td><td>GRIFFITHS Benjamin (WAL)</td><td>FAULTLESS Charlie (SCO)</td><td>VINCENTI Raymond (FRA)</td><td>462</td><td>1295</td><td>HUN</td><td>URU</td></tr><tr><td>1954</td><td>03 Jul 1954 - 17:00 </td><td>Match for third place</td><td>Hardturm</td><td>Zurich </td><td>Austria</td><td>3</td><td>1</td><td>Uruguay</td><td> </td><td>32000</td><td>1</td><td>1</td><td>WYSSLING Paul (SUI)</td><td>ZSOLT Istvan (HUN)</td><td>ELLIS Arthur (ENG)</td><td>3485</td><td>1239</td><td>AUT</td><td>URU</td></tr></tbody></table></div>"
      ]
     },
     "metadata": {
      "application/vnd.databricks.v1+output": {
       "addedWidgets": {},
       "aggData": [],
       "aggError": "",
       "aggOverflow": false,
       "aggSchema": [],
       "aggSeriesLimitReached": false,
       "aggType": "",
       "arguments": {},
       "columnCustomDisplayInfos": {},
       "data": [
        [
         1930,
         "13 Jul 1930 - 15:00 ",
         "Group 1",
         "Pocitos",
         "Montevideo ",
         "France",
         4,
         1,
         "Mexico",
         " ",
         4444,
         3,
         0,
         "LOMBARDI Domingo (URU)",
         "CRISTOPHE Henry (BEL)",
         "REGO Gilberto (BRA)",
         201,
         1096,
         "FRA",
         "MEX"
        ],
        [
         1930,
         "13 Jul 1930 - 15:00 ",
         "Group 4",
         "Parque Central",
         "Montevideo ",
         "USA",
         3,
         0,
         "Belgium",
         " ",
         18346,
         2,
         0,
         "MACIAS Jose (ARG)",
         "MATEUCCI Francisco (URU)",
         "WARNKEN Alberto (CHI)",
         201,
         1090,
         "USA",
         "BEL"
        ],
        [
         1930,
         "14 Jul 1930 - 12:45 ",
         "Group 2",
         "Parque Central",
         "Montevideo ",
         "Yugoslavia",
         2,
         1,
         "Brazil",
         " ",
         24059,
         2,
         0,
         "TEJADA Anibal (URU)",
         "VALLARINO Ricardo (URU)",
         "BALWAY Thomas (FRA)",
         201,
         1093,
         "YUG",
         "BRA"
        ],
        [
         1930,
         "14 Jul 1930 - 14:50 ",
         "Group 3",
         "Pocitos",
         "Montevideo ",
         "Romania",
         3,
         1,
         "Peru",
         " ",
         2549,
         1,
         0,
         "WARNKEN Alberto (CHI)",
         "LANGENUS Jean (BEL)",
         "MATEUCCI Francisco (URU)",
         201,
         1098,
         "ROU",
         "PER"
        ],
        [
         1930,
         "15 Jul 1930 - 16:00 ",
         "Group 1",
         "Parque Central",
         "Montevideo ",
         "Argentina",
         1,
         0,
         "France",
         " ",
         23409,
         0,
         0,
         "REGO Gilberto (BRA)",
         "SAUCEDO Ulises (BOL)",
         "RADULESCU Constantin (ROU)",
         201,
         1085,
         "ARG",
         "FRA"
        ],
        [
         1930,
         "16 Jul 1930 - 14:45 ",
         "Group 1",
         "Parque Central",
         "Montevideo ",
         "Chile",
         3,
         0,
         "Mexico",
         " ",
         9249,
         1,
         0,
         "CRISTOPHE Henry (BEL)",
         "APHESTEGUY Martin (URU)",
         "LANGENUS Jean (BEL)",
         201,
         1095,
         "CHI",
         "MEX"
        ],
        [
         1930,
         "17 Jul 1930 - 12:45 ",
         "Group 2",
         "Parque Central",
         "Montevideo ",
         "Yugoslavia",
         4,
         0,
         "Bolivia",
         " ",
         18306,
         0,
         0,
         "MATEUCCI Francisco (URU)",
         "LOMBARDI Domingo (URU)",
         "WARNKEN Alberto (CHI)",
         201,
         1092,
         "YUG",
         "BOL"
        ],
        [
         1930,
         "17 Jul 1930 - 14:45 ",
         "Group 4",
         "Parque Central",
         "Montevideo ",
         "USA",
         3,
         0,
         "Paraguay",
         " ",
         18306,
         2,
         0,
         "MACIAS Jose (ARG)",
         "APHESTEGUY Martin (URU)",
         "TEJADA Anibal (URU)",
         201,
         1097,
         "USA",
         "PAR"
        ],
        [
         1930,
         "18 Jul 1930 - 14:30 ",
         "Group 3",
         "Estadio Centenario",
         "Montevideo ",
         "Uruguay",
         1,
         0,
         "Peru",
         " ",
         57735,
         0,
         0,
         "LANGENUS Jean (BEL)",
         "BALWAY Thomas (FRA)",
         "CRISTOPHE Henry (BEL)",
         201,
         1099,
         "URU",
         "PER"
        ],
        [
         1930,
         "19 Jul 1930 - 12:50 ",
         "Group 1",
         "Estadio Centenario",
         "Montevideo ",
         "Chile",
         1,
         0,
         "France",
         " ",
         2000,
         0,
         0,
         "TEJADA Anibal (URU)",
         "LOMBARDI Domingo (URU)",
         "REGO Gilberto (BRA)",
         201,
         1094,
         "CHI",
         "FRA"
        ],
        [
         1930,
         "19 Jul 1930 - 15:00 ",
         "Group 1",
         "Estadio Centenario",
         "Montevideo ",
         "Argentina",
         6,
         3,
         "Mexico",
         " ",
         42100,
         3,
         1,
         "SAUCEDO Ulises (BOL)",
         "ALONSO Gualberto (URU)",
         "RADULESCU Constantin (ROU)",
         201,
         1086,
         "ARG",
         "MEX"
        ],
        [
         1930,
         "20 Jul 1930 - 13:00 ",
         "Group 2",
         "Estadio Centenario",
         "Montevideo ",
         "Brazil",
         4,
         0,
         "Bolivia",
         " ",
         25466,
         1,
         0,
         "BALWAY Thomas (FRA)",
         "MATEUCCI Francisco (URU)",
         "VALLEJO Gaspar (MEX)",
         201,
         1091,
         "BRA",
         "BOL"
        ],
        [
         1930,
         "20 Jul 1930 - 15:00 ",
         "Group 4",
         "Estadio Centenario",
         "Montevideo ",
         "Paraguay",
         1,
         0,
         "Belgium",
         " ",
         12000,
         1,
         0,
         "VALLARINO Ricardo (URU)",
         "MACIAS Jose (ARG)",
         "LOMBARDI Domingo (URU)",
         201,
         1089,
         "PAR",
         "BEL"
        ],
        [
         1930,
         "21 Jul 1930 - 14:50 ",
         "Group 3",
         "Estadio Centenario",
         "Montevideo ",
         "Uruguay",
         4,
         0,
         "Romania",
         " ",
         70022,
         4,
         0,
         "REGO Gilberto (BRA)",
         "WARNKEN Alberto (CHI)",
         "SAUCEDO Ulises (BOL)",
         201,
         1100,
         "URU",
         "ROU"
        ],
        [
         1930,
         "22 Jul 1930 - 14:45 ",
         "Group 1",
         "Estadio Centenario",
         "Montevideo ",
         "Argentina",
         3,
         1,
         "Chile",
         " ",
         41459,
         2,
         1,
         "LANGENUS Jean (BEL)",
         "CRISTOPHE Henry (BEL)",
         "SAUCEDO Ulises (BOL)",
         201,
         1084,
         "ARG",
         "CHI"
        ],
        [
         1930,
         "26 Jul 1930 - 14:45 ",
         "Semi-finals",
         "Estadio Centenario",
         "Montevideo ",
         "Argentina",
         6,
         1,
         "USA",
         " ",
         72886,
         1,
         0,
         "LANGENUS Jean (BEL)",
         "VALLEJO Gaspar (MEX)",
         "WARNKEN Alberto (CHI)",
         202,
         1088,
         "ARG",
         "USA"
        ],
        [
         1930,
         "27 Jul 1930 - 14:45 ",
         "Semi-finals",
         "Estadio Centenario",
         "Montevideo ",
         "Uruguay",
         6,
         1,
         "Yugoslavia",
         " ",
         79867,
         3,
         1,
         "REGO Gilberto (BRA)",
         "SAUCEDO Ulises (BOL)",
         "BALWAY Thomas (FRA)",
         202,
         1101,
         "URU",
         "YUG"
        ],
        [
         1930,
         "30 Jul 1930 - 14:15 ",
         "Final",
         "Estadio Centenario",
         "Montevideo ",
         "Uruguay",
         4,
         2,
         "Argentina",
         " ",
         68346,
         1,
         2,
         "LANGENUS Jean (BEL)",
         "SAUCEDO Ulises (BOL)",
         "CRISTOPHE Henry (BEL)",
         405,
         1087,
         "URU",
         "ARG"
        ],
        [
         1934,
         "27 May 1934 - 16:30 ",
         "Preliminary round",
         "Stadio Benito Mussolini",
         "Turin ",
         "Austria",
         3,
         2,
         "France",
         "Austria win after extra time ",
         16000,
         0,
         0,
         "VAN MOORSEL Johannes (NED)",
         "CAIRONI Camillo (ITA)",
         "BAERT Louis (BEL)",
         204,
         1104,
         "AUT",
         "FRA"
        ],
        [
         1934,
         "27 May 1934 - 16:30 ",
         "Preliminary round",
         "Giorgio Ascarelli",
         "Naples ",
         "Hungary",
         4,
         2,
         "Egypt",
         " ",
         9000,
         2,
         2,
         "BARLASSINA Rinaldo (ITA)",
         "DATTILO Generoso (ITA)",
         "SASSI Otello (ITA)",
         204,
         1119,
         "HUN",
         "EGY"
        ],
        [
         1934,
         "27 May 1934 - 16:30 ",
         "Preliminary round",
         "San Siro",
         "Milan ",
         "Switzerland",
         3,
         2,
         "Netherlands",
         " ",
         33000,
         2,
         1,
         "EKLIND Ivan (SWE)",
         "BERANEK Alois (AUT)",
         "BONIVENTO Ferruccio (ITA)",
         204,
         1133,
         "SUI",
         "NED"
        ],
        [
         1934,
         "27 May 1934 - 16:30 ",
         "Preliminary round",
         "Littorale",
         "Bologna ",
         "Sweden",
         3,
         2,
         "Argentina",
         " ",
         14000,
         1,
         1,
         "BRAUN Eugen (AUT)",
         "CARRARO Albino (ITA)",
         "TURBIANI Giuseppe (ITA)",
         204,
         1102,
         "SWE",
         "ARG"
        ],
        [
         1934,
         "27 May 1934 - 16:30 ",
         "Preliminary round",
         "Giovanni Berta",
         "Florence ",
         "Germany",
         5,
         2,
         "Belgium",
         " ",
         8000,
         1,
         2,
         "MATTEA Francesco (ITA)",
         "MELANDRI Ermenegildo (ITA)",
         "BAERT Jacques (FRA)",
         204,
         1108,
         "GER",
         "BEL"
        ],
        [
         1934,
         "27 May 1934 - 16:30 ",
         "Preliminary round",
         "Luigi Ferraris",
         "Genoa ",
         "Spain",
         3,
         1,
         "Brazil",
         " ",
         21000,
         3,
         0,
         "BIRLEM Alfred (GER)",
         "CARMINATI Ettore (ITA)",
         "IVANCSICS Mihaly (HUN)",
         204,
         1111,
         "ESP",
         "BRA"
        ],
        [
         1934,
         "27 May 1934 - 16:30 ",
         "Preliminary round",
         "Nazionale PNF",
         "Rome ",
         "Italy",
         7,
         1,
         "USA",
         " ",
         25000,
         3,
         0,
         "MERCET Rene (SUI)",
         "ESCARTIN Pedro (ESP)",
         "ZENISEK Bohumil (TCH)",
         204,
         1135,
         "ITA",
         "USA"
        ],
        [
         1934,
         "27 May 1934 - 16:30 ",
         "Preliminary round",
         "Littorio",
         "Trieste ",
         "Czechoslovakia",
         2,
         1,
         "Romania",
         " ",
         9000,
         0,
         1,
         "LANGENUS Jean (BEL)",
         "SCARPI Giuseppe (ITA)",
         "SCORZONI Raffaele (ITA)",
         204,
         1141,
         "TCH",
         "ROU"
        ],
        [
         1934,
         "31 May 1934 - 16:30 ",
         "Quarter-finals",
         "Stadio Benito Mussolini",
         "Turin ",
         "Czechoslovakia",
         3,
         2,
         "Switzerland",
         " ",
         12000,
         1,
         1,
         "BERANEK Alois (AUT)",
         "MOHAMED Youssuf (EGY)",
         "BAERT Jacques (FRA)",
         418,
         1143,
         "TCH",
         "SUI"
        ],
        [
         1934,
         "31 May 1934 - 16:30 ",
         "Quarter-finals",
         "San Siro",
         "Milan ",
         "Germany",
         2,
         1,
         "Sweden",
         " ",
         3000,
         0,
         0,
         "BARLASSINA Rinaldo (ITA)",
         "MERCET Rene (SUI)",
         "VAN MOORSEL Johannes (NED)",
         418,
         1129,
         "GER",
         "SWE"
        ],
        [
         1934,
         "31 May 1934 - 16:30 ",
         "Quarter-finals",
         "Giovanni Berta",
         "Florence ",
         "Italy",
         1,
         1,
         "Spain",
         " ",
         35000,
         0,
         0,
         "BAERT Louis (BEL)",
         "ZENISEK Bohumil (TCH)",
         "IVANCSICS Mihaly (HUN)",
         418,
         1122,
         "ITA",
         "ESP"
        ],
        [
         1934,
         "31 May 1934 - 16:30 ",
         "Quarter-finals",
         "Littorale",
         "Bologna ",
         "Austria",
         2,
         1,
         "Hungary",
         " ",
         23000,
         1,
         0,
         "MATTEA Francesco (ITA)",
         "ESCARTIN Pedro (ESP)",
         "BIRLEM Alfred (GER)",
         418,
         1106,
         "AUT",
         "HUN"
        ],
        [
         1934,
         "01 Jun 1934 - 16:30 ",
         "Quarter-finals",
         "Giovanni Berta",
         "Florence ",
         "Italy",
         1,
         0,
         "Spain",
         " ",
         43000,
         1,
         0,
         "MERCET Rene (SUI)",
         "IVANCSICS Mihaly (HUN)",
         "ZENISEK Bohumil (TCH)",
         418,
         1123,
         "ITA",
         "ESP"
        ],
        [
         1934,
         "03 Jun 1934 - 16:30 ",
         "Semi-finals",
         "San Siro",
         "Milan ",
         "Italy",
         1,
         0,
         "Austria",
         " ",
         35000,
         1,
         0,
         "EKLIND Ivan (SWE)",
         "BAERT Louis (BEL)",
         "ZENISEK Bohumil (TCH)",
         3492,
         1107,
         "ITA",
         "AUT"
        ],
        [
         1934,
         "03 Jun 1934 - 16:30 ",
         "Semi-finals",
         "Nazionale PNF",
         "Rome ",
         "Czechoslovakia",
         3,
         1,
         "Germany",
         " ",
         15000,
         1,
         0,
         "BARLASSINA Rinaldo (ITA)",
         "BERANEK Alois (AUT)",
         "ESCARTIN Pedro (ESP)",
         3492,
         1130,
         "TCH",
         "GER"
        ],
        [
         1934,
         "07 Jun 1934 - 18:00 ",
         "Match for third place",
         "Giorgio Ascarelli",
         "Naples ",
         "Germany",
         3,
         2,
         "Austria",
         " ",
         7000,
         3,
         1,
         "CARRARO Albino (ITA)",
         "CAIRONI Camillo (ITA)",
         "ESCARTIN Pedro (ESP)",
         3491,
         1105,
         "GER",
         "AUT"
        ],
        [
         1934,
         "10 Jun 1934 - 17:30 ",
         "Final",
         "Nazionale PNF",
         "Rome ",
         "Italy",
         2,
         1,
         "Czechoslovakia",
         "Italy win after extra time ",
         55000,
         0,
         0,
         "EKLIND Ivan (SWE)",
         "BAERT Louis (BEL)",
         "IVANCSICS Mihaly (HUN)",
         3490,
         1134,
         "ITA",
         "TCH"
        ],
        [
         1938,
         "04 Jun 1938 - 17:00 ",
         "First round",
         "Parc des Princes",
         "Paris ",
         "Switzerland",
         1,
         1,
         "Germany",
         " ",
         27152,
         0,
         0,
         "LANGENUS Jean (BEL)",
         "MARENCO Paul (FRA)",
         "VAN MOORSEL Johannes (NED)",
         206,
         1165,
         "SUI",
         "GER"
        ],
        [
         1938,
         "05 Jun 1938 - 17:00 ",
         "First round",
         "Velodrome Municipale",
         "Reims ",
         "Hungary",
         6,
         0,
         "Dutch East Indies",
         " ",
         9000,
         4,
         0,
         "CONRIE Roger (FRA)",
         "DE LA SALLE Charles (FRA)",
         "WEINGARTNER Karl (AUT)",
         206,
         1173,
         "HUN",
         "INH"
        ],
        [
         1938,
         "05 Jun 1938 - 17:00 ",
         "First round",
         "Stade Olympique",
         "Colombes ",
         "France",
         3,
         1,
         "Belgium",
         " ",
         30454,
         2,
         1,
         "WUETHRICH Hans (SUI)",
         "KRIST Gustav (TCH)",
         "BIRLEM Alfred (GER)",
         206,
         1146,
         "FRA",
         "BEL"
        ],
        [
         1938,
         "05 Jun 1938 - 17:00 ",
         "First round",
         "Stade Municipal",
         "Toulouse ",
         "Cuba",
         3,
         3,
         "Romania",
         " ",
         7000,
         0,
         0,
         "SCARPI Giuseppe (ITA)",
         "VALPREDE Ferdinand (FRA)",
         "MERKCX Jean (FRA)",
         206,
         1156,
         "CUB",
         "ROU"
        ],
        [
         1938,
         "05 Jun 1938 - 17:00 ",
         "First round",
         "Stade V�lodrome",
         "Marseilles ",
         "Italy",
         2,
         1,
         "Norway",
         "Italy win after extra time ",
         19000,
         0,
         0,
         "BERANEK Alois (AUT)",
         "BOUTOURE D. (FRA)",
         "TREHOU D. (FRA)",
         206,
         1179,
         "ITA",
         "NOR"
        ],
        [
         1938,
         "05 Jun 1938 - 17:30 ",
         "First round",
         "Stade de la Meinau",
         "Strasbourg ",
         "Brazil",
         6,
         5,
         "Poland",
         "Brazil win after extra time ",
         13452,
         0,
         0,
         "EKLIND Ivan (SWE)",
         "POISSANT Louis (FRA)",
         "KISSENBERGER Ernest (FRA)",
         206,
         1150,
         "BRA",
         "POL"
        ],
        [
         1938,
         "05 Jun 1938 - 18:30 ",
         "First round",
         "Cavee Verte",
         "Le Havre ",
         "Czechoslovakia",
         3,
         0,
         "Netherlands",
         "Czechoslovakia win after extra time ",
         11000,
         0,
         0,
         "LECLERCQ Lucien (FRA)",
         "OLIVE D. (FRA)",
         "SDEZ Victor (FRA)",
         206,
         1172,
         "TCH",
         "NED"
        ],
        [
         1938,
         "09 Jun 1938 - 18:00 ",
         "First round",
         "Stade Municipal",
         "Toulouse ",
         "Cuba",
         2,
         1,
         "Romania",
         " ",
         8000,
         0,
         1,
         "BIRLEM Alfred (GER)",
         "CAPDEVILLE Pierre (FRA)",
         "MARENCO Paul (FRA)",
         206,
         1157,
         "CUB",
         "ROU"
        ],
        [
         1938,
         "09 Jun 1938 - 18:00 ",
         "First round",
         "Parc des Princes",
         "Paris ",
         "Switzerland",
         4,
         2,
         "Germany",
         " ",
         20025,
         1,
         2,
         "EKLIND Ivan (SWE)",
         "BAERT Louis (BEL)",
         "VAN MOORSEL Johannes (NED)",
         206,
         1166,
         "SUI",
         "GER"
        ],
        [
         1938,
         "12 Jun 1938 - 17:00 ",
         "Quarter-finals",
         "Stade du Parc Lescure",
         "Bordeaux ",
         "Brazil",
         1,
         1,
         "Czechoslovakia",
         " ",
         22021,
         0,
         0,
         "VON HERTZKA Pal (HUN)",
         "SCARPI Giuseppe (ITA)",
         "DE LA SALLE Charles (FRA)",
         429,
         1152,
         "BRA",
         "TCH"
        ],
        [
         1938,
         "12 Jun 1938 - 17:00 ",
         "Quarter-finals",
         "Victor Boucquey",
         "Lille ",
         "Hungary",
         2,
         0,
         "Switzerland",
         " ",
         15000,
         1,
         0,
         "BARLASSINA Rinaldo (ITA)",
         "BERANEK Alois (AUT)",
         "BOUTOURE D. (FRA)",
         429,
         1175,
         "HUN",
         "SUI"
        ],
        [
         1938,
         "12 Jun 1938 - 17:00 ",
         "Quarter-finals",
         "Fort Carree",
         "Antibes ",
         "Sweden",
         8,
         0,
         "Cuba",
         " ",
         7000,
         4,
         0,
         "KRIST Gustav (TCH)",
         "WEINGARTNER Karl (AUT)",
         "SDEZ Victor (FRA)",
         429,
         1158,
         "SWE",
         "CUB"
        ],
        [
         1938,
         "12 Jun 1938 - 17:00 ",
         "Quarter-finals",
         "Stade Olympique",
         "Colombes ",
         "Italy",
         3,
         1,
         "France",
         " ",
         58455,
         1,
         1,
         "BAERT Louis (BEL)",
         "WUETHRICH Hans (SUI)",
         "EKLIND Ivan (SWE)",
         429,
         1164,
         "ITA",
         "FRA"
        ],
        [
         1938,
         "14 Jun 1938 - 18:00 ",
         "Quarter-finals",
         "Stade du Parc Lescure",
         "Bordeaux ",
         "Brazil",
         2,
         1,
         "Czechoslovakia",
         " ",
         18141,
         0,
         1,
         "CAPDEVILLE Georges (FRA)",
         "MARENCO Paul (FRA)",
         "KISSENBERGER Ernest (FRA)",
         429,
         1153,
         "BRA",
         "TCH"
        ],
        [
         1938,
         "16 Jun 1938 - 18:00 ",
         "Semi-finals",
         "Parc des Princes",
         "Paris ",
         "Hungary",
         5,
         1,
         "Sweden",
         " ",
         20000,
         3,
         1,
         "LECLERCQ Lucien (FRA)",
         "VAN MOORSEL Johannes (NED)",
         "SCARPI Giuseppe (ITA)",
         3489,
         1176,
         "HUN",
         "SWE"
        ],
        [
         1938,
         "16 Jun 1938 - 18:00 ",
         "Semi-finals",
         "Stade V�lodrome",
         "Marseilles ",
         "Italy",
         2,
         1,
         "Brazil",
         " ",
         33000,
         0,
         0,
         "WUETHRICH Hans (SUI)",
         "BERANEK Alois (AUT)",
         "MARENCO Paul (FRA)",
         3489,
         1149,
         "ITA",
         "BRA"
        ],
        [
         1938,
         "19 Jun 1938 - 17:00 ",
         "Match for third place",
         "Stade du Parc Lescure",
         "Bordeaux ",
         "Brazil",
         4,
         2,
         "Sweden",
         " ",
         12000,
         1,
         2,
         "LANGENUS Jean (BEL)",
         "OLIVE D. (FRA)",
         "VALPREDE Ferdinand (FRA)",
         3488,
         1151,
         "BRA",
         "SWE"
        ],
        [
         1938,
         "19 Jun 1938 - 17:00 ",
         "Final",
         "Stade Olympique",
         "Colombes ",
         "Italy",
         4,
         2,
         "Hungary",
         " ",
         45000,
         3,
         1,
         "CAPDEVILLE Georges (FRA)",
         "WUETHRICH Hans (SUI)",
         "KRIST Gustav (TCH)",
         3487,
         1174,
         "ITA",
         "HUN"
        ],
        [
         1950,
         "24 Jun 1950 - 15:00 ",
         "Group 1",
         "Maracan� - Est�dio Jornalista M�rio Filho",
         "Rio De Janeiro ",
         "Brazil",
         4,
         0,
         "Mexico",
         " ",
         81649,
         1,
         0,
         "READER George (ENG)",
         "GRIFFITHS Benjamin (WAL)",
         "MITCHELL George (SCO)",
         208,
         1187,
         "BRA",
         "MEX"
        ],
        [
         1950,
         "25 Jun 1950 - 15:00 ",
         "Group 2",
         "Maracan� - Est�dio Jornalista M�rio Filho",
         "Rio De Janeiro ",
         "England",
         2,
         0,
         "Chile",
         " ",
         29703,
         1,
         0,
         "VAN DER MEER Karel (NED)",
         "GARDELLI Mario (BRA)",
         "DAHLNER Gunnar (SWE)",
         208,
         1192,
         "ENG",
         "CHI"
        ],
        [
         1950,
         "25 Jun 1950 - 15:00 ",
         "Group 2",
         "Durival de Brito",
         "Curitiba ",
         "Spain",
         3,
         1,
         "USA",
         " ",
         9511,
         0,
         1,
         "VIANA Mario (BRA)",
         "DA COSTA VIEIRA Jose (POR)",
         "DE LA SALLE Charles (FRA)",
         208,
         1208,
         "ESP",
         "USA"
        ],
        [
         1950,
         "25 Jun 1950 - 15:00 ",
         "Group 3",
         "Pacaembu",
         "Sao Paulo ",
         "Sweden",
         3,
         2,
         "Italy",
         " ",
         36502,
         2,
         1,
         "LUTZ Jean (SUI)",
         "BERANEK Alois (AUT)",
         "TEJADA Carlos (MEX)",
         208,
         1219,
         "SWE",
         "ITA"
        ],
        [
         1950,
         "25 Jun 1950 - 15:00 ",
         "Group 1",
         "Independencia",
         "Belo Horizonte ",
         "Yugoslavia",
         3,
         0,
         "Switzerland",
         " ",
         7336,
         0,
         0,
         "GALEATI Giovanni (ITA)",
         "EKLIND Ivan (SWE)",
         "DATTILO Generoso (ITA)",
         208,
         1230,
         "YUG",
         "SUI"
        ],
        [
         1950,
         "28 Jun 1950 - 15:00 ",
         "Group 1",
         "Pacaembu",
         "Sao Paulo ",
         "Brazil",
         2,
         2,
         "Switzerland",
         " ",
         42032,
         2,
         1,
         "AZON ROMA Ramon (ESP)",
         "BUSTAMANTE Sergio (CHI)",
         "DE NICOLA Cayetano (PAR)",
         208,
         1188,
         "BRA",
         "SUI"
        ],
        [
         1950,
         "28 Jun 1950 - 15:00 ",
         "Group 1",
         "Eucaliptos",
         "Porto Alegre ",
         "Yugoslavia",
         4,
         1,
         "Mexico",
         " ",
         11078,
         2,
         0,
         "LEAFE Reginald (ENG)",
         "DAHLNER Gunnar (SWE)",
         "VAN DER MEER Karel (NED)",
         208,
         1225,
         "YUG",
         "MEX"
        ],
        [
         1950,
         "29 Jun 1950 - 15:00 ",
         "Group 2",
         "Maracan� - Est�dio Jornalista M�rio Filho",
         "Rio De Janeiro ",
         "Spain",
         2,
         0,
         "Chile",
         " ",
         19790,
         2,
         0,
         "MALCHER Alberto (BRA)",
         "MARINO Esteban (URU)",
         "ALVAREZ Alfredo (BOL)",
         208,
         1193,
         "ESP",
         "CHI"
        ],
        [
         1950,
         "29 Jun 1950 - 15:30 ",
         "Group 3",
         "Durival de Brito",
         "Curitiba ",
         "Sweden",
         2,
         2,
         "Paraguay",
         " ",
         7903,
         2,
         1,
         "MITCHELL Robert (SCO)",
         "LEMESIC Leo (YUG)",
         "GARCIA Prudencio (USA)",
         208,
         1228,
         "SWE",
         "PAR"
        ],
        [
         1950,
         "29 Jun 1950 - 15:00 ",
         "Group 2",
         "Independencia",
         "Belo Horizonte ",
         "USA",
         1,
         0,
         "England",
         " ",
         10151,
         1,
         0,
         "DATTILO Generoso (ITA)",
         "DE LA SALLE Charles (FRA)",
         "GALEATI Giovanni (ITA)",
         208,
         1202,
         "USA",
         "ENG"
        ],
        [
         1950,
         "01 Jul 1950 - 15:00 ",
         "Group 1",
         "Maracan� - Est�dio Jornalista M�rio Filho",
         "Rio De Janeiro ",
         "Brazil",
         2,
         0,
         "Yugoslavia",
         " ",
         142429,
         1,
         0,
         "GRIFFITHS Benjamin (WAL)",
         "BERANEK Alois (AUT)",
         "DA COSTA VIEIRA Jose (POR)",
         208,
         1191,
         "BRA",
         "YUG"
        ],
        [
         1950,
         "02 Jul 1950 - 15:00 ",
         "Group 2",
         "Maracan� - Est�dio Jornalista M�rio Filho",
         "Rio De Janeiro ",
         "Spain",
         1,
         0,
         "England",
         " ",
         74462,
         0,
         0,
         "GALEATI Giovanni (ITA)",
         "LUTZ Jean (SUI)",
         "DATTILO Generoso (ITA)",
         208,
         1199,
         "ESP",
         "ENG"
        ],
        [
         1950,
         "02 Jul 1950 - 15:00 ",
         "Group 3",
         "Pacaembu",
         "Sao Paulo ",
         "Italy",
         2,
         0,
         "Paraguay",
         " ",
         25811,
         1,
         0,
         "ELLIS Arthur (ENG)",
         "GARCIA Prudencio (USA)",
         "DE LA SALLE Charles (FRA)",
         208,
         1218,
         "ITA",
         "PAR"
        ],
        [
         1950,
         "02 Jul 1950 - 15:00 ",
         "Group 4",
         "Independencia",
         "Belo Horizonte ",
         "Uruguay",
         8,
         0,
         "Bolivia",
         " ",
         5284,
         4,
         0,
         "READER George (ENG)",
         "VIANA Mario (BRA)",
         "LEMESIC Leo (YUG)",
         208,
         1185,
         "URU",
         "BOL"
        ],
        [
         1950,
         "02 Jul 1950 - 15:40 ",
         "Group 1",
         "Eucaliptos",
         "Porto Alegre ",
         "Switzerland",
         2,
         1,
         "Mexico",
         " ",
         3580,
         2,
         0,
         "EKLIND Ivan (SWE)",
         "DAHLNER Gunnar (SWE)",
         "BUSTAMANTE Sergio (CHI)",
         208,
         1222,
         "SUI",
         "MEX"
        ],
        [
         1950,
         "02 Jul 1950 - 15:00 ",
         "Group 2",
         "Ilha do Retiro",
         "Recife ",
         "Chile",
         5,
         2,
         "USA",
         " ",
         8501,
         2,
         0,
         "GARDELLI Mario (BRA)",
         "HEYEN Mario Ruben (PAR)",
         "ALVAREZ Alfredo (BOL)",
         208,
         1194,
         "CHI",
         "USA"
        ],
        [
         1950,
         "09 Jul 1950 - 15:00 ",
         "Group 6",
         "Pacaembu",
         "Sao Paulo ",
         "Uruguay",
         2,
         2,
         "Spain",
         " ",
         44802,
         1,
         2,
         "GRIFFITHS Benjamin (WAL)",
         "DATTILO Generoso (ITA)",
         "ALVAREZ Alfredo (BOL)",
         209,
         1207,
         "URU",
         "ESP"
        ],
        [
         1950,
         "09 Jul 1950 - 15:00 ",
         "Group 6",
         "Maracan� - Est�dio Jornalista M�rio Filho",
         "Rio De Janeiro ",
         "Brazil",
         7,
         1,
         "Sweden",
         " ",
         138886,
         3,
         0,
         "ELLIS Arthur (ENG)",
         "GARCIA Prudencio (USA)",
         "DE LA SALLE Charles (FRA)",
         209,
         1189,
         "BRA",
         "SWE"
        ],
        [
         1950,
         "13 Jul 1950 - 15:00 ",
         "Group 6",
         "Maracan� - Est�dio Jornalista M�rio Filho",
         "Rio De Janeiro ",
         "Brazil",
         6,
         1,
         "Spain",
         " ",
         152772,
         3,
         0,
         "LEAFE Reginald (ENG)",
         "MITCHELL George (SCO)",
         "DA COSTA VIEIRA Jose (POR)",
         209,
         1186,
         "BRA",
         "ESP"
        ],
        [
         1950,
         "13 Jul 1950 - 15:00 ",
         "Group 6",
         "Pacaembu",
         "Sao Paulo ",
         "Uruguay",
         3,
         2,
         "Sweden",
         " ",
         7987,
         1,
         2,
         "GALEATI Giovanni (ITA)",
         "BERANEK Alois (AUT)",
         "DE NICOLA Cayetano (PAR)",
         209,
         1231,
         "URU",
         "SWE"
        ],
        [
         1950,
         "16 Jul 1950 - 15:00 ",
         "Group 6",
         "Pacaembu",
         "Sao Paulo ",
         "Sweden",
         3,
         1,
         "Spain",
         " ",
         11227,
         2,
         0,
         "VAN DER MEER Karel (NED)",
         "LUTZ Jean (SUI)",
         "GARCIA Prudencio (USA)",
         209,
         1206,
         "SWE",
         "ESP"
        ],
        [
         1950,
         "16 Jul 1950 - 15:00 ",
         "Group 6",
         "Maracan� - Est�dio Jornalista M�rio Filho",
         "Rio De Janeiro ",
         "Uruguay",
         2,
         1,
         "Brazil",
         " ",
         173850,
         0,
         0,
         "READER George (ENG)",
         "ELLIS Arthur (ENG)",
         "MITCHELL George (SCO)",
         209,
         1190,
         "URU",
         "BRA"
        ],
        [
         1954,
         "16 Jun 1954 - 18:00 ",
         "Group 3",
         "Wankdorf Stadium",
         "Berne ",
         "Uruguay",
         2,
         0,
         "Czechoslovakia",
         " ",
         20500,
         0,
         0,
         "ELLIS Arthur (ENG)",
         "LING William (ENG)",
         "SCHICKER Werner (SUI)",
         211,
         1315,
         "URU",
         "TCH"
        ],
        [
         1954,
         "16 Jun 1954 - 18:00 ",
         "Group 3",
         "Hardturm",
         "Zurich ",
         "Austria",
         1,
         0,
         "Scotland",
         " ",
         25000,
         1,
         0,
         "FRANKEN Laurent (BEL)",
         "VIANA Mario (BRA)",
         "GULDE Josef (SUI)",
         211,
         1236,
         "AUT",
         "SCO"
        ],
        [
         1954,
         "16 Jun 1954 - 18:00 ",
         "Group 1",
         "Charmilles",
         "Geneva ",
         "Brazil",
         5,
         0,
         "Mexico",
         " ",
         13470,
         4,
         0,
         "WYSSLING Paul (SUI)",
         "SCHONHOLZER Ernest (SUI)",
         "DA COSTA VIEIRA Jose (POR)",
         211,
         1249,
         "BRA",
         "MEX"
        ],
        [
         1954,
         "16 Jun 1954 - 18:00 ",
         "Group 1",
         "La Pontaise",
         "Lausanne ",
         "Yugoslavia",
         1,
         0,
         "France",
         " ",
         16000,
         1,
         0,
         "GRIFFITHS Benjamin (WAL)",
         "BAUMBERGER Rene (SUI)",
         "ASENSI Manuel (ESP)",
         211,
         1276,
         "YUG",
         "FRA"
        ],
        [
         1954,
         "17 Jun 1954 - 18:00 ",
         "Group 2",
         "Wankdorf Stadium",
         "Berne ",
         "Germany FR",
         4,
         1,
         "Turkey",
         " ",
         28000,
         1,
         1,
         "DA COSTA VIEIRA Jose (POR)",
         "ZSOLT Istvan (HUN)",
         "MERLOTTI Armand (SUI)",
         211,
         1283,
         "FRG",
         "TUR"
        ],
        [
         1954,
         "17 Jun 1954 - 18:00 ",
         "Group 2",
         "Hardturm",
         "Zurich ",
         "Hungary",
         9,
         0,
         "Korea Republic",
         " ",
         13000,
         4,
         0,
         "VINCENTI Raymond (FRA)",
         "VON GUNTER Albert (SUI)",
         "STEINER Carl (AUT)",
         211,
         1294,
         "HUN",
         "KOR"
        ],
        [
         1954,
         "17 Jun 1954 - 18:10 ",
         "Group 4",
         "St. Jakob",
         "Basel ",
         "England",
         4,
         4,
         "Belgium",
         " ",
         14000,
         0,
         0,
         "SCHMETZER Emil (FRG)",
         "BUCHMUELLER Fritz (SUI)",
         "RUFFLI Willy (SUI)",
         211,
         1240,
         "ENG",
         "BEL"
        ],
        [
         1954,
         "17 Jun 1954 - 17:50 ",
         "Group 4",
         "La Pontaise",
         "Lausanne ",
         "Switzerland",
         2,
         1,
         "Italy",
         " ",
         43000,
         1,
         1,
         "VIANA Mario (BRA)",
         "ASENSI Manuel (ESP)",
         "MARINO Esteban (URU)",
         211,
         1300,
         "SUI",
         "ITA"
        ],
        [
         1954,
         "19 Jun 1954 - 16:50 ",
         "Group 3",
         "St. Jakob",
         "Basel ",
         "Uruguay",
         7,
         0,
         "Scotland",
         " ",
         34000,
         2,
         0,
         "ORLANDINI Vincenzo (ITA)",
         "WYSSLING Paul (SUI)",
         "GUIDI Denilo (SUI)",
         211,
         1313,
         "URU",
         "SCO"
        ],
        [
         1954,
         "19 Jun 1954 - 17:00 ",
         "Group 3",
         "Hardturm",
         "Zurich ",
         "Austria",
         5,
         0,
         "Czechoslovakia",
         " ",
         26000,
         4,
         0,
         "STEFANOVIC Vasa (YUG)",
         "DOERFLINGER Ernst (SUI)",
         "GULDE Josef (SUI)",
         211,
         1238,
         "AUT",
         "TCH"
        ],
        [
         1954,
         "19 Jun 1954 - 17:10 ",
         "Group 1",
         "Charmilles",
         "Geneva ",
         "France",
         3,
         2,
         "Mexico",
         " ",
         19000,
         1,
         0,
         "ASENSI Manuel (ESP)",
         "FRANKEN Laurent (BEL)",
         "BAUMBERGER Rene (SUI)",
         211,
         1275,
         "FRA",
         "MEX"
        ],
        [
         1954,
         "19 Jun 1954 - 17:00 ",
         "Group 1",
         "La Pontaise",
         "Lausanne ",
         "Brazil",
         1,
         1,
         "Yugoslavia",
         " ",
         24637,
         0,
         0,
         "FAULTLESS Charlie (SCO)",
         "ELLIS Arthur (ENG)",
         "VON GUNTER Albert (SUI)",
         211,
         1252,
         "BRA",
         "YUG"
        ],
        [
         1954,
         "20 Jun 1954 - 16:50 ",
         "Group 2",
         "St. Jakob",
         "Basel ",
         "Hungary",
         8,
         3,
         "Germany FR",
         " ",
         56000,
         3,
         1,
         "LING William (ENG)",
         "SCHICKER Werner (SUI)",
         "GRIFFITHS Benjamin (WAL)",
         211,
         1277,
         "HUN",
         "FRG"
        ],
        [
         1954,
         "20 Jun 1954 - 17:00 ",
         "Group 2",
         "Charmilles",
         "Geneva ",
         "Turkey",
         7,
         0,
         "Korea Republic",
         " ",
         4000,
         4,
         0,
         "MARINO Esteban (URU)",
         "ORLANDINI Vincenzo (ITA)",
         "SCHONHOLZER Ernest (SUI)",
         211,
         1304,
         "TUR",
         "KOR"
        ],
        [
         1954,
         "20 Jun 1954 - 17:10 ",
         "Group 4",
         "Wankdorf Stadium",
         "Berne ",
         "England",
         2,
         0,
         "Switzerland",
         " ",
         43500,
         1,
         0,
         "ZSOLT Istvan (HUN)",
         "DA COSTA VIEIRA Jose (POR)",
         "STEFANOVIC Vasa (YUG)",
         211,
         1263,
         "ENG",
         "SUI"
        ],
        [
         1954,
         "20 Jun 1954 - 17:00 ",
         "Group 4",
         "Comunale di Cornaredo",
         "Lugano ",
         "Italy",
         4,
         1,
         "Belgium",
         " ",
         24000,
         1,
         0,
         "STEINER Carl (AUT)",
         "VINCENTI Raymond (FRA)",
         "SCHMETZER Emil (FRG)",
         211,
         1243,
         "ITA",
         "BEL"
        ],
        [
         1954,
         "23 Jun 1954 - 18:00 ",
         "Group 2",
         "Hardturm",
         "Zurich ",
         "Germany FR",
         7,
         2,
         "Turkey",
         " ",
         17000,
         3,
         1,
         "VINCENTI Raymond (FRA)",
         "FAULTLESS Charlie (SCO)",
         "DOERFLINGER Ernst (SUI)",
         211,
         1284,
         "FRG",
         "TUR"
        ],
        [
         1954,
         "23 Jun 1954 - 18:00 ",
         "Group 4",
         "St. Jakob",
         "Basel ",
         "Switzerland",
         4,
         1,
         "Italy",
         " ",
         30000,
         1,
         0,
         "GRIFFITHS Benjamin (WAL)",
         "DA COSTA VIEIRA Jose (POR)",
         "LING William (ENG)",
         211,
         1301,
         "SUI",
         "ITA"
        ],
        [
         1954,
         "26 Jun 1954 - 17:00 ",
         "Quarter-finals",
         "St. Jakob",
         "Basel ",
         "Uruguay",
         4,
         2,
         "England",
         " ",
         28000,
         2,
         1,
         "STEINER Carl (AUT)",
         "STEFANOVIC Vasa (YUG)",
         "ORLANDINI Vincenzo (ITA)",
         212,
         1264,
         "URU",
         "ENG"
        ],
        [
         1954,
         "26 Jun 1954 - 17:00 ",
         "Quarter-finals",
         "La Pontaise",
         "Lausanne ",
         "Austria",
         7,
         5,
         "Switzerland",
         " ",
         35000,
         5,
         4,
         "FAULTLESS Charlie (SCO)",
         "ASENSI Manuel (ESP)",
         "SCHMETZER Emil (FRG)",
         212,
         1237,
         "AUT",
         "SUI"
        ],
        [
         1954,
         "27 Jun 1954 - 17:00 ",
         "Quarter-finals",
         "Charmilles",
         "Geneva ",
         "Germany FR",
         2,
         0,
         "Yugoslavia",
         " ",
         17000,
         1,
         0,
         "ZSOLT Istvan (HUN)",
         "FRANKEN Laurent (BEL)",
         "BUCHMUELLER Fritz (SUI)",
         212,
         1285,
         "FRG",
         "YUG"
        ],
        [
         1954,
         "27 Jun 1954 - 17:00 ",
         "Quarter-finals",
         "Wankdorf Stadium",
         "Berne ",
         "Hungary",
         4,
         2,
         "Brazil",
         " ",
         40000,
         2,
         1,
         "ELLIS Arthur (ENG)",
         "LING William (ENG)",
         "WYSSLING Paul (SUI)",
         212,
         1248,
         "HUN",
         "BRA"
        ],
        [
         1954,
         "30 Jun 1954 - 18:00 ",
         "Semi-finals",
         "St. Jakob",
         "Basel ",
         "Germany FR",
         6,
         1,
         "Austria",
         " ",
         58000,
         1,
         0,
         "ORLANDINI Vincenzo (ITA)",
         "ELLIS Arthur (ENG)",
         "BUCHMUELLER Fritz (SUI)",
         462,
         1233,
         "FRG",
         "AUT"
        ],
        [
         1954,
         "30 Jun 1954 - 18:00 ",
         "Semi-finals",
         "La Pontaise",
         "Lausanne ",
         "Hungary",
         4,
         2,
         "Uruguay",
         "Hungary win after extra time ",
         45000,
         0,
         0,
         "GRIFFITHS Benjamin (WAL)",
         "FAULTLESS Charlie (SCO)",
         "VINCENTI Raymond (FRA)",
         462,
         1295,
         "HUN",
         "URU"
        ],
        [
         1954,
         "03 Jul 1954 - 17:00 ",
         "Match for third place",
         "Hardturm",
         "Zurich ",
         "Austria",
         3,
         1,
         "Uruguay",
         " ",
         32000,
         1,
         1,
         "WYSSLING Paul (SUI)",
         "ZSOLT Istvan (HUN)",
         "ELLIS Arthur (ENG)",
         3485,
         1239,
         "AUT",
         "URU"
        ]
       ],
       "datasetInfos": [],
       "dbfsResultPath": null,
       "isJsonSchema": true,
       "metadata": {},
       "overflow": false,
       "plotOptions": {
        "customPlotOptions": {},
        "displayType": "table",
        "pivotAggregation": null,
        "pivotColumns": null,
        "xColumns": null,
        "yColumns": null
       },
       "removedWidgets": [],
       "schema": [
        {
         "metadata": "{}",
         "name": "Year",
         "type": "\"integer\""
        },
        {
         "metadata": "{}",
         "name": "Datetime",
         "type": "\"string\""
        },
        {
         "metadata": "{}",
         "name": "Stage",
         "type": "\"string\""
        },
        {
         "metadata": "{}",
         "name": "Stadium",
         "type": "\"string\""
        },
        {
         "metadata": "{}",
         "name": "City",
         "type": "\"string\""
        },
        {
         "metadata": "{}",
         "name": "HomeTeamName",
         "type": "\"string\""
        },
        {
         "metadata": "{}",
         "name": "HomeTeamGoals",
         "type": "\"integer\""
        },
        {
         "metadata": "{}",
         "name": "AwayTeamGoals",
         "type": "\"integer\""
        },
        {
         "metadata": "{}",
         "name": "AwayTeamName",
         "type": "\"string\""
        },
        {
         "metadata": "{}",
         "name": "WinConditions",
         "type": "\"string\""
        },
        {
         "metadata": "{}",
         "name": "Attendance",
         "type": "\"integer\""
        },
        {
         "metadata": "{}",
         "name": "HalfTimeHomeGoals",
         "type": "\"integer\""
        },
        {
         "metadata": "{}",
         "name": "HalfTimeAwayGoals",
         "type": "\"integer\""
        },
        {
         "metadata": "{}",
         "name": "Referee",
         "type": "\"string\""
        },
        {
         "metadata": "{}",
         "name": "Assistant1",
         "type": "\"string\""
        },
        {
         "metadata": "{}",
         "name": "Assistant2",
         "type": "\"string\""
        },
        {
         "metadata": "{}",
         "name": "RoundID",
         "type": "\"integer\""
        },
        {
         "metadata": "{}",
         "name": "MatchID",
         "type": "\"integer\""
        },
        {
         "metadata": "{}",
         "name": "HomeTeamInitials",
         "type": "\"string\""
        },
        {
         "metadata": "{}",
         "name": "AwayTeamInitials",
         "type": "\"string\""
        }
       ],
       "type": "table"
      }
     },
     "output_type": "display_data"
    }
   ],
   "source": [
    "%sql SELECT * FROM bronze.worldcupmatches LIMIT 100"
   ]
  },
  {
   "cell_type": "markdown",
   "metadata": {
    "application/vnd.databricks.v1+cell": {
     "cellMetadata": {},
     "inputWidgets": {},
     "nuid": "0f8822b6-a5b5-4699-b23b-7810e2130b49",
     "showTitle": false,
     "tableResultSettingsMap": {},
     "title": ""
    }
   },
   "source": [
    "**Data Quality da tabela bronze.worldcupmatches**"
   ]
  },
  {
   "cell_type": "code",
   "execution_count": 0,
   "metadata": {
    "application/vnd.databricks.v1+cell": {
     "cellMetadata": {
      "byteLimit": 2048000,
      "implicitDf": true,
      "rowLimit": 10000
     },
     "inputWidgets": {},
     "nuid": "def81f6d-a34e-4a5d-b04f-44b58bbb1f1c",
     "showTitle": true,
     "tableResultSettingsMap": {},
     "title": "Data Quality da tabela bronze.worldcupmatches"
    }
   },
   "outputs": [
    {
     "output_type": "display_data",
     "data": {
      "text/html": [
       "<style scoped>\n",
       "  .table-result-container {\n",
       "    max-height: 300px;\n",
       "    overflow: auto;\n",
       "  }\n",
       "  table, th, td {\n",
       "    border: 1px solid black;\n",
       "    border-collapse: collapse;\n",
       "  }\n",
       "  th, td {\n",
       "    padding: 5px;\n",
       "  }\n",
       "  th {\n",
       "    text-align: left;\n",
       "  }\n",
       "</style><div class='table-result-container'><table class='table-result'><thead style='background-color: white'><tr><th>null_year</th><th>null_matchID</th><th>null_referee</th></tr></thead><tbody><tr><td>3720</td><td>3720</td><td>3720</td></tr></tbody></table></div>"
      ]
     },
     "metadata": {
      "application/vnd.databricks.v1+output": {
       "addedWidgets": {},
       "aggData": [],
       "aggError": "",
       "aggOverflow": false,
       "aggSchema": [],
       "aggSeriesLimitReached": false,
       "aggType": "",
       "arguments": {},
       "columnCustomDisplayInfos": {},
       "data": [
        [
         3720,
         3720,
         3720
        ]
       ],
       "datasetInfos": [],
       "dbfsResultPath": null,
       "isJsonSchema": true,
       "metadata": {},
       "overflow": false,
       "plotOptions": {
        "customPlotOptions": {},
        "displayType": "table",
        "pivotAggregation": null,
        "pivotColumns": null,
        "xColumns": null,
        "yColumns": null
       },
       "removedWidgets": [],
       "schema": [
        {
         "metadata": "{}",
         "name": "null_year",
         "type": "\"long\""
        },
        {
         "metadata": "{}",
         "name": "null_matchID",
         "type": "\"long\""
        },
        {
         "metadata": "{}",
         "name": "null_referee",
         "type": "\"long\""
        }
       ],
       "type": "table"
      }
     },
     "output_type": "display_data"
    }
   ],
   "source": [
    "%sql\n",
    "SELECT \n",
    "    COUNT(CASE WHEN Year IS NULL THEN 1 END) AS null_year,\n",
    "    COUNT(CASE WHEN MatchID IS NULL THEN 1 END) AS null_matchID,\n",
    "    COUNT(CASE WHEN Referee IS NULL THEN 1 END) AS null_referee\n",
    "FROM bronze.worldcupmatches;"
   ]
  },
  {
   "cell_type": "markdown",
   "metadata": {
    "application/vnd.databricks.v1+cell": {
     "cellMetadata": {},
     "inputWidgets": {},
     "nuid": "8ecf55c4-e06f-43ee-a700-3c3ba842217c",
     "showTitle": false,
     "tableResultSettingsMap": {},
     "title": ""
    }
   },
   "source": [
    "**Criando dataframe worldcupmatches silver, excluindo colunas não utilizadas e linhas duplicadas/nulas**"
   ]
  },
  {
   "cell_type": "code",
   "execution_count": 0,
   "metadata": {
    "application/vnd.databricks.v1+cell": {
     "cellMetadata": {
      "byteLimit": 2048000,
      "rowLimit": 10000
     },
     "inputWidgets": {},
     "nuid": "c10e5482-77c7-4e90-af09-bd6d2f666993",
     "showTitle": true,
     "tableResultSettingsMap": {},
     "title": "Criando dataframe worldcupmatches silver, excluindo colunas não utilizadas e linhas duplicadas/nulas"
    }
   },
   "outputs": [],
   "source": [
    "# Criando dataframe df_worldcupmatches_silver\n",
    "df_worldcupmatches_silver = spark.sql(\"SELECT * FROM bronze.worldcupmatches\")\n",
    "\n",
    "# Excluindo colunas não utilizadas na análise\n",
    "df_worldcupmatches_silver = df_worldcupmatches_silver.drop(\"Datetime\", \"Stage\", \"Stadium\", \"City\", \"WinConditions\", \\\n",
    "                                                          \"HalfTimeHomeGoals\", \"HalfTimeAwayGoals\", \"Assistant1\", \"Assistant2\", \n",
    "                                                          \"HomeTeamInitials\", \"AwayTeamInitials\", \"RoundID\")\n",
    "\n",
    "# Removendo linha nulas em \"Year\", \"MatchID\" e \"Referee\"\n",
    "df_worldcupmatches_silver = df_worldcupmatches_silver.na.drop(subset=[\"Year\" , \"MatchID\", \"Referee\"])\n",
    "\n",
    "# Excluindo duplicadas\n",
    "df_worldcupmatches_silver = df_worldcupmatches_silver.dropDuplicates()"
   ]
  },
  {
   "cell_type": "markdown",
   "metadata": {
    "application/vnd.databricks.v1+cell": {
     "cellMetadata": {},
     "inputWidgets": {},
     "nuid": "9215f58a-532d-4975-bf77-8fe3426fa6c3",
     "showTitle": false,
     "tableResultSettingsMap": {},
     "title": ""
    }
   },
   "source": [
    "**Listando nomes para correção do dataframe worldcupmatches silver**"
   ]
  },
  {
   "cell_type": "code",
   "execution_count": 0,
   "metadata": {
    "application/vnd.databricks.v1+cell": {
     "cellMetadata": {
      "byteLimit": 2048000,
      "rowLimit": 10000
     },
     "inputWidgets": {},
     "nuid": "77743a93-6b97-46b6-ab93-e8248bd4b2f4",
     "showTitle": true,
     "tableResultSettingsMap": {},
     "title": "Listando nomes para correção do dataframe worldcupmatches silver"
    }
   },
   "outputs": [
    {
     "output_type": "stream",
     "name": "stdout",
     "output_type": "stream",
     "text": [
      "+--------------------------+-----+\n|HomeTeamName              |count|\n+--------------------------+-----+\n|rn\">Trinidad and Tobago   |1    |\n|rn\">United Arab Emirates  |1    |\n|rn\">Serbia and Montenegro |1    |\n|rn\">Bosnia and Herzegovina|1    |\n|rn\">Republic of Ireland   |5    |\n|C�te d'Ivoire             |3    |\n+--------------------------+-----+\n\n+--------------------------+-----+\n|AwayTeamName              |count|\n+--------------------------+-----+\n|rn\">United Arab Emirates  |2    |\n|rn\">Trinidad and Tobago   |2    |\n|rn\">Serbia and Montenegro |2    |\n|rn\">Bosnia and Herzegovina|2    |\n|rn\">Republic of Ireland   |8    |\n|C�te d'Ivoire             |6    |\n+--------------------------+-----+\n\n+--------------------------+-----+\n|Referee                   |count|\n+--------------------------+-----+\n|Bj�rn KUIPERS (NED)       |3    |\n|C�neyt �AKIR (TUR)        |3    |\n|Oleg�rio BENQUEREN�A (POR)|3    |\n|St�phane LANNOY (FRA)     |2    |\n+--------------------------+-----+\n\n"
     ]
    }
   ],
   "source": [
    "# Coluna HomeTeamName\n",
    "df_worldcupmatches_silver_copy = df_worldcupmatches_silver.selectExpr(\"*\")\n",
    "df_worldcupmatches_silver_copy.filter(col(\"HomeTeamName\").rlike(\"�|ï¿½|\\\\?|>\")).groupBy(\"HomeTeamName\").count().show(100, truncate=False)\n",
    "\n",
    "# Coluna AwayTeamName\n",
    "df_worldcupmatches_silver_copy = df_worldcupmatches_silver.selectExpr(\"*\")\n",
    "df_worldcupmatches_silver_copy.filter(col(\"AwayTeamName\").rlike(\"�|ï¿½|\\\\?|>\")).groupBy(\"AwayTeamName\").count().show(100, truncate=False)\n",
    "\n",
    "# Coluna Referee\n",
    "df_worldcupmatches_silver_copy = df_worldcupmatches_silver.selectExpr(\"*\")\n",
    "df_worldcupmatches_silver_copy.filter(col(\"Referee\").rlike(\"�|ï¿½|\\\\?|>\")).groupBy(\"Referee\").count().show(100, truncate=False)\n"
   ]
  },
  {
   "cell_type": "markdown",
   "metadata": {
    "application/vnd.databricks.v1+cell": {
     "cellMetadata": {},
     "inputWidgets": {},
     "nuid": "280005e7-e1fe-4ec0-98e6-a24ec3cde784",
     "showTitle": false,
     "tableResultSettingsMap": {},
     "title": ""
    }
   },
   "source": [
    "**Refinando e modelando os dados do dataframe worldcupmatches silver**"
   ]
  },
  {
   "cell_type": "code",
   "execution_count": 0,
   "metadata": {
    "application/vnd.databricks.v1+cell": {
     "cellMetadata": {
      "byteLimit": 2048000,
      "rowLimit": 10000
     },
     "inputWidgets": {},
     "nuid": "3e8436ac-b643-4144-b717-a843aedc84ab",
     "showTitle": true,
     "tableResultSettingsMap": {},
     "title": "Refinando e modelando os dados do dataframe worldcupmatches silver"
    }
   },
   "outputs": [
    {
     "output_type": "stream",
     "name": "stdout",
     "output_type": "stream",
     "text": [
      "+----+--------------+-------------+-------------+--------------+---------------+--------------------------+---------+--------------+\n|Year|HomeTeamName  |HomeTeamGoals|AwayTeamGoals|AwayTeamName  |AttendanceMatch|Referee                   |MatchID  |RefereeCountry|\n+----+--------------+-------------+-------------+--------------+---------------+--------------------------+---------+--------------+\n|1962|Czechoslovakia|1            |0            |Hungary       |11690          |LATYCHEV Nikolaj (URS)    |1525     |URS           |\n|1994|Colombia      |1            |3            |Romania       |91856          |AL SHARIF Jamal (SYR)     |3053     |SYR           |\n|2002|Germany       |0            |2            |Brazil        |69029          |COLLINA Pierluigi (ITA)   |43950064 |ITA           |\n|2006|Japan         |0            |0            |Croatia       |41000          |DE BLEECKERE Frank (BEL)  |97410028 |BEL           |\n|2014|Uruguay       |1            |3            |Costa Rica    |58679          |BRYCH Felix (GER)         |300186489|GER           |\n|2014|Costa Rica    |0            |0            |England       |57823          |HAIMOUDI Djamel (ALG)     |300186484|ALG           |\n|1938|Switzerland   |4            |2            |Germany       |20025          |EKLIND Ivan (SWE)         |1166     |SWE           |\n|1970|Belgium       |3            |0            |El Salvador   |92205          |RADULESCU Andrei (ROU)    |1747     |ROU           |\n|1974|Argentina     |4            |1            |Haiti         |25900          |SANCHEZ IBANEZ Pablo (ESP)|1947     |ESP           |\n|1994|Germany       |3            |2            |Korea Republic|63998          |QUINIOU Joel (FRA)        |3076     |FRA           |\n+----+--------------+-------------+-------------+--------------+---------------+--------------------------+---------+--------------+\nonly showing top 10 rows\n\n"
     ]
    }
   ],
   "source": [
    "# Corrigindo nomes incorretos/não amigáveis de países\n",
    "old_name_teams = ['IR Iran', \"C�te d'Ivoire\", 'rn\">Republic of Ireland', 'rn\">Bosnia and Herzegovina', 'Korea DPR', 'German DR', \\\n",
    "            'rn\">Trinidad and Tobago', 'rn\">United Arab Emirates', 'China PR', 'rn\">Serbia and Montenegro', 'Germany FR']\n",
    "new_name_teams = ['Iran', \"Cote d'Ivoire\", 'Republic of Ireland', 'Bosnia and Herzegovina', 'North Korea', 'Germany', \\\n",
    "            'Trinidad and Tobago', 'United Arab Emirates', 'China', 'Serbia and Montenegro', 'Germany']\n",
    "\n",
    "# Corrigindo nomes incorretos/não amigáveis de arbritos\n",
    "old_name_referee = ['C�neyt �AKIR', 'Oleg�rio BENQUEREN�A', 'Bj�rn KUIPERS', 'St�phane LANNOY']\n",
    "new_name_referee = ['Cuneyt CAKIR', 'Olegário BENQUERENCA', 'Bjorn KUIPERS', 'Stephane LANNOY']\n",
    "\n",
    "# Alterando nomes nas colunas HomeTeamName e AwayTeamName\n",
    "for index, n in enumerate(old_name_teams):\n",
    "    df_worldcupmatches_silver = df_worldcupmatches_silver.withColumn(\"HomeTeamName\", regexp_replace(\"HomeTeamName\", old_name_teams[index], new_name_teams[index]))\n",
    "    df_worldcupmatches_silver = df_worldcupmatches_silver.withColumn(\"AwayTeamName\", regexp_replace(\"AwayTeamName\", old_name_teams[index], new_name_teams[index]))\n",
    "\n",
    "# Alterando nomes na coluna Referee\n",
    "for index, n in enumerate(old_name_referee):\n",
    "    df_worldcupmatches_silver = df_worldcupmatches_silver.withColumn(\"Referee\", regexp_replace(\"Referee\", old_name_referee[index], new_name_referee[index]))\n",
    "\n",
    "# Extraindo o país da coluna Referee do dataset - Extraindo os últimos 5 caracteres, removendo os parenteses e adicionando em uma nova coluna RefereeCountry\n",
    "df_worldcupmatches_silver = df_worldcupmatches_silver.withColumn(\"RefereeCountry\",expr(\"substring(Referee, length(Referee) - 4, 5)\")).withColumn(\"RefereeCountry\", regexp_replace(\"RefereeCountry\", r\"[()]\", \"\"))\n",
    "\n",
    "# Renomeando colunas para evitar ambiguidade\n",
    "df_worldcupmatches_silver = df_worldcupmatches_silver.withColumnRenamed(\"Attendance\", \"AttendanceMatch\")\n",
    "\n",
    "# Exibindo as 5 primeiras linhas do dataframe para conferência\n",
    "df_worldcupmatches_silver.show(10, truncate=False)"
   ]
  },
  {
   "cell_type": "markdown",
   "metadata": {
    "application/vnd.databricks.v1+cell": {
     "cellMetadata": {},
     "inputWidgets": {},
     "nuid": "f7b77b68-f3ab-4f91-9a0c-b310e804b547",
     "showTitle": false,
     "tableResultSettingsMap": {},
     "title": ""
    }
   },
   "source": [
    "**Analisando a tabela bronze.worldcupplayers**"
   ]
  },
  {
   "cell_type": "code",
   "execution_count": 0,
   "metadata": {
    "application/vnd.databricks.v1+cell": {
     "cellMetadata": {
      "byteLimit": 2048000,
      "implicitDf": true,
      "rowLimit": 10000
     },
     "inputWidgets": {},
     "nuid": "2ff657ca-4ec6-4186-b634-14865e3b194a",
     "showTitle": true,
     "tableResultSettingsMap": {},
     "title": "Analisando a tabela bronze.worldcupplayers"
    }
   },
   "outputs": [
    {
     "output_type": "display_data",
     "data": {
      "text/html": [
       "<style scoped>\n",
       "  .table-result-container {\n",
       "    max-height: 300px;\n",
       "    overflow: auto;\n",
       "  }\n",
       "  table, th, td {\n",
       "    border: 1px solid black;\n",
       "    border-collapse: collapse;\n",
       "  }\n",
       "  th, td {\n",
       "    padding: 5px;\n",
       "  }\n",
       "  th {\n",
       "    text-align: left;\n",
       "  }\n",
       "</style><div class='table-result-container'><table class='table-result'><thead style='background-color: white'><tr><th>RoundID</th><th>MatchID</th><th>TeamInitials</th><th>CoachName</th><th>LineUp</th><th>ShirtNumber</th><th>PlayerName</th><th>Position</th><th>Event</th></tr></thead><tbody><tr><td>201</td><td>1096</td><td>FRA</td><td>CAUDRON Raoul (FRA)</td><td>S</td><td>0</td><td>Alex THEPOT</td><td>GK</td><td>null</td></tr><tr><td>201</td><td>1096</td><td>MEX</td><td>LUQUE Juan (MEX)</td><td>S</td><td>0</td><td>Oscar BONFIGLIO</td><td>GK</td><td>null</td></tr><tr><td>201</td><td>1096</td><td>FRA</td><td>CAUDRON Raoul (FRA)</td><td>S</td><td>0</td><td>Marcel LANGILLER</td><td>null</td><td>G40'</td></tr><tr><td>201</td><td>1096</td><td>MEX</td><td>LUQUE Juan (MEX)</td><td>S</td><td>0</td><td>Juan CARRENO</td><td>null</td><td>G70'</td></tr><tr><td>201</td><td>1096</td><td>FRA</td><td>CAUDRON Raoul (FRA)</td><td>S</td><td>0</td><td>Ernest LIBERATI</td><td>null</td><td>null</td></tr><tr><td>201</td><td>1096</td><td>MEX</td><td>LUQUE Juan (MEX)</td><td>S</td><td>0</td><td>Rafael GARZA</td><td>C</td><td>null</td></tr><tr><td>201</td><td>1096</td><td>FRA</td><td>CAUDRON Raoul (FRA)</td><td>S</td><td>0</td><td>Andre MASCHINOT</td><td>null</td><td>G43' G87'</td></tr><tr><td>201</td><td>1096</td><td>MEX</td><td>LUQUE Juan (MEX)</td><td>S</td><td>0</td><td>Hilario LOPEZ</td><td>null</td><td>null</td></tr><tr><td>201</td><td>1096</td><td>FRA</td><td>CAUDRON Raoul (FRA)</td><td>S</td><td>0</td><td>Etienne MATTLER</td><td>null</td><td>null</td></tr><tr><td>201</td><td>1096</td><td>MEX</td><td>LUQUE Juan (MEX)</td><td>S</td><td>0</td><td>Dionisio MEJIA</td><td>null</td><td>null</td></tr><tr><td>201</td><td>1096</td><td>FRA</td><td>CAUDRON Raoul (FRA)</td><td>S</td><td>0</td><td>Marcel PINEL</td><td>null</td><td>null</td></tr><tr><td>201</td><td>1096</td><td>MEX</td><td>LUQUE Juan (MEX)</td><td>S</td><td>0</td><td>Felipe ROSAS</td><td>null</td><td>null</td></tr><tr><td>201</td><td>1096</td><td>FRA</td><td>CAUDRON Raoul (FRA)</td><td>S</td><td>0</td><td>Alex VILLAPLANE</td><td>C</td><td>null</td></tr><tr><td>201</td><td>1096</td><td>MEX</td><td>LUQUE Juan (MEX)</td><td>S</td><td>0</td><td>Manuel ROSAS</td><td>null</td><td>null</td></tr><tr><td>201</td><td>1096</td><td>FRA</td><td>CAUDRON Raoul (FRA)</td><td>S</td><td>0</td><td>Lucien LAURENT</td><td>null</td><td>G19'</td></tr><tr><td>201</td><td>1096</td><td>MEX</td><td>LUQUE Juan (MEX)</td><td>S</td><td>0</td><td>Jose RUIZ</td><td>null</td><td>null</td></tr><tr><td>201</td><td>1096</td><td>FRA</td><td>CAUDRON Raoul (FRA)</td><td>S</td><td>0</td><td>Marcel CAPELLE</td><td>null</td><td>null</td></tr><tr><td>201</td><td>1096</td><td>MEX</td><td>LUQUE Juan (MEX)</td><td>S</td><td>0</td><td>Alfredo SANCHEZ</td><td>null</td><td>null</td></tr><tr><td>201</td><td>1096</td><td>FRA</td><td>CAUDRON Raoul (FRA)</td><td>S</td><td>0</td><td>Augustin CHANTREL</td><td>null</td><td>null</td></tr><tr><td>201</td><td>1096</td><td>MEX</td><td>LUQUE Juan (MEX)</td><td>S</td><td>0</td><td>Efrain AMEZCUA</td><td>null</td><td>null</td></tr><tr><td>201</td><td>1096</td><td>FRA</td><td>CAUDRON Raoul (FRA)</td><td>S</td><td>0</td><td>Edmond DELFOUR</td><td>null</td><td>null</td></tr><tr><td>201</td><td>1096</td><td>MEX</td><td>LUQUE Juan (MEX)</td><td>S</td><td>0</td><td>Luis PEREZ</td><td>null</td><td>null</td></tr><tr><td>201</td><td>1096</td><td>FRA</td><td>CAUDRON Raoul (FRA)</td><td>N</td><td>0</td><td>Celestin DELMER</td><td>null</td><td>null</td></tr><tr><td>201</td><td>1096</td><td>MEX</td><td>LUQUE Juan (MEX)</td><td>N</td><td>0</td><td>Isidoro SOTA</td><td>null</td><td>null</td></tr><tr><td>201</td><td>1096</td><td>FRA</td><td>CAUDRON Raoul (FRA)</td><td>N</td><td>0</td><td>Andre TASSIN</td><td>null</td><td>null</td></tr><tr><td>201</td><td>1096</td><td>MEX</td><td>LUQUE Juan (MEX)</td><td>N</td><td>0</td><td>Jesus CASTRO</td><td>null</td><td>null</td></tr><tr><td>201</td><td>1096</td><td>FRA</td><td>CAUDRON Raoul (FRA)</td><td>N</td><td>0</td><td>Nouma ANDOIRE</td><td>null</td><td>null</td></tr><tr><td>201</td><td>1096</td><td>MEX</td><td>LUQUE Juan (MEX)</td><td>N</td><td>0</td><td>Felipe OLIVARES</td><td>null</td><td>null</td></tr><tr><td>201</td><td>1096</td><td>FRA</td><td>CAUDRON Raoul (FRA)</td><td>N</td><td>0</td><td>Jean LAURENT</td><td>null</td><td>null</td></tr><tr><td>201</td><td>1096</td><td>MEX</td><td>LUQUE Juan (MEX)</td><td>N</td><td>0</td><td>Raimundo RODRIGUEZ</td><td>null</td><td>null</td></tr><tr><td>201</td><td>1096</td><td>FRA</td><td>CAUDRON Raoul (FRA)</td><td>N</td><td>0</td><td>Emile VEINANTE</td><td>null</td><td>null</td></tr><tr><td>201</td><td>1096</td><td>MEX</td><td>LUQUE Juan (MEX)</td><td>N</td><td>0</td><td>Roberto GAYON</td><td>null</td><td>null</td></tr><tr><td>201</td><td>1096</td><td>MEX</td><td>LUQUE Juan (MEX)</td><td>N</td><td>0</td><td>Francisco GARZA GUTIERREZ</td><td>null</td><td>null</td></tr><tr><td>201</td><td>1090</td><td>USA</td><td>MILLAR Bob (USA)</td><td>S</td><td>0</td><td>Jimmy DOUGLAS</td><td>GK</td><td>null</td></tr><tr><td>201</td><td>1090</td><td>BEL</td><td>GOETINCK Hector (BEL)</td><td>S</td><td>0</td><td>Arnold BADJOU</td><td>GK</td><td>null</td></tr><tr><td>201</td><td>1090</td><td>USA</td><td>MILLAR Bob (USA)</td><td>S</td><td>0</td><td>Tom FLORIE</td><td>C</td><td>G45'</td></tr><tr><td>201</td><td>1090</td><td>BEL</td><td>GOETINCK Hector (BEL)</td><td>S</td><td>0</td><td>Jean DE CLERQ</td><td>null</td><td>null</td></tr><tr><td>201</td><td>1090</td><td>USA</td><td>MILLAR Bob (USA)</td><td>S</td><td>0</td><td>Jimmy GALLAGHER</td><td>null</td><td>null</td></tr><tr><td>201</td><td>1090</td><td>BEL</td><td>GOETINCK Hector (BEL)</td><td>S</td><td>0</td><td>Jan DIDDENS</td><td>null</td><td>null</td></tr><tr><td>201</td><td>1090</td><td>USA</td><td>MILLAR Bob (USA)</td><td>S</td><td>0</td><td>Billy GONSALVES</td><td>null</td><td>null</td></tr><tr><td>201</td><td>1090</td><td>BEL</td><td>GOETINCK Hector (BEL)</td><td>S</td><td>0</td><td>Auguste HELLEMANS</td><td>null</td><td>null</td></tr><tr><td>201</td><td>1090</td><td>USA</td><td>MILLAR Bob (USA)</td><td>S</td><td>0</td><td>Bart McGHEE</td><td>null</td><td>G23'</td></tr><tr><td>201</td><td>1090</td><td>BEL</td><td>GOETINCK Hector (BEL)</td><td>S</td><td>0</td><td>Nikolaas HOYDONCKX</td><td>null</td><td>null</td></tr><tr><td>201</td><td>1090</td><td>USA</td><td>MILLAR Bob (USA)</td><td>S</td><td>0</td><td>George MOORHOUSE</td><td>null</td><td>null</td></tr><tr><td>201</td><td>1090</td><td>BEL</td><td>GOETINCK Hector (BEL)</td><td>S</td><td>0</td><td>Jacques MOESCHAL</td><td>null</td><td>null</td></tr><tr><td>201</td><td>1090</td><td>USA</td><td>MILLAR Bob (USA)</td><td>S</td><td>0</td><td>Bert PATENAUDE</td><td>null</td><td>G69'</td></tr><tr><td>201</td><td>1090</td><td>BEL</td><td>GOETINCK Hector (BEL)</td><td>S</td><td>0</td><td>Theodore NOUWENS</td><td>null</td><td>null</td></tr><tr><td>201</td><td>1090</td><td>USA</td><td>MILLAR Bob (USA)</td><td>S</td><td>0</td><td>Ralph TRACY</td><td>null</td><td>null</td></tr><tr><td>201</td><td>1090</td><td>BEL</td><td>GOETINCK Hector (BEL)</td><td>S</td><td>0</td><td>Fernand ADAMS</td><td>null</td><td>null</td></tr><tr><td>201</td><td>1090</td><td>USA</td><td>MILLAR Bob (USA)</td><td>S</td><td>0</td><td>Alexander WOOD</td><td>null</td><td>null</td></tr><tr><td>201</td><td>1090</td><td>BEL</td><td>GOETINCK Hector (BEL)</td><td>S</td><td>0</td><td>Louis VERSYP</td><td>null</td><td>null</td></tr><tr><td>201</td><td>1090</td><td>USA</td><td>MILLAR Bob (USA)</td><td>S</td><td>0</td><td>Andrew AULD</td><td>null</td><td>null</td></tr><tr><td>201</td><td>1090</td><td>BEL</td><td>GOETINCK Hector (BEL)</td><td>S</td><td>0</td><td>Bernard VOORHOOF</td><td>null</td><td>null</td></tr><tr><td>201</td><td>1090</td><td>USA</td><td>MILLAR Bob (USA)</td><td>S</td><td>0</td><td>Jim BROWN</td><td>null</td><td>null</td></tr><tr><td>201</td><td>1090</td><td>BEL</td><td>GOETINCK Hector (BEL)</td><td>S</td><td>0</td><td>Pierre BRAINE</td><td>C</td><td>null</td></tr><tr><td>201</td><td>1090</td><td>USA</td><td>MILLAR Bob (USA)</td><td>N</td><td>0</td><td>Frank VAUGHN</td><td>null</td><td>null</td></tr><tr><td>201</td><td>1090</td><td>BEL</td><td>GOETINCK Hector (BEL)</td><td>N</td><td>0</td><td>Alexis CHANTRAINE</td><td>null</td><td>null</td></tr><tr><td>201</td><td>1090</td><td>USA</td><td>MILLAR Bob (USA)</td><td>N</td><td>0</td><td>Mike BOOKIE</td><td>null</td><td>null</td></tr><tr><td>201</td><td>1090</td><td>BEL</td><td>GOETINCK Hector (BEL)</td><td>N</td><td>0</td><td>Jean DE BIE</td><td>null</td><td>null</td></tr><tr><td>201</td><td>1090</td><td>USA</td><td>MILLAR Bob (USA)</td><td>N</td><td>0</td><td>Jim GENTLE</td><td>null</td><td>null</td></tr><tr><td>201</td><td>1090</td><td>BEL</td><td>GOETINCK Hector (BEL)</td><td>N</td><td>0</td><td>Andre SAEYS</td><td>null</td><td>null</td></tr><tr><td>201</td><td>1090</td><td>USA</td><td>MILLAR Bob (USA)</td><td>N</td><td>0</td><td>Phil SLONE</td><td>null</td><td>null</td></tr><tr><td>201</td><td>1090</td><td>BEL</td><td>GOETINCK Hector (BEL)</td><td>N</td><td>0</td><td>Henri DE DEKEN</td><td>null</td><td>null</td></tr><tr><td>201</td><td>1090</td><td>USA</td><td>MILLAR Bob (USA)</td><td>N</td><td>0</td><td>Arnie OLIVER</td><td>null</td><td>null</td></tr><tr><td>201</td><td>1090</td><td>BEL</td><td>GOETINCK Hector (BEL)</td><td>N</td><td>0</td><td>Gerard DELBEKE</td><td>null</td><td>null</td></tr><tr><td>201</td><td>1093</td><td>YUG</td><td>SIMONOVIC Bosko (YUG)</td><td>S</td><td>0</td><td>Milovan JAKSIC</td><td>GK</td><td>null</td></tr><tr><td>201</td><td>1093</td><td>BRA</td><td>DE CARVALHO Pindaro (BRA)</td><td>S</td><td>0</td><td>JOEL</td><td>GK</td><td>null</td></tr><tr><td>201</td><td>1093</td><td>YUG</td><td>SIMONOVIC Bosko (YUG)</td><td>S</td><td>0</td><td>Blagoje MARJANOVIC</td><td>null</td><td>null</td></tr><tr><td>201</td><td>1093</td><td>BRA</td><td>DE CARVALHO Pindaro (BRA)</td><td>S</td><td>0</td><td>TEOPHILO</td><td>null</td><td>null</td></tr><tr><td>201</td><td>1093</td><td>YUG</td><td>SIMONOVIC Bosko (YUG)</td><td>S</td><td>0</td><td>Dragan MIHAJLOVIC</td><td>null</td><td>null</td></tr><tr><td>201</td><td>1093</td><td>BRA</td><td>DE CARVALHO Pindaro (BRA)</td><td>S</td><td>0</td><td>POLY</td><td>null</td><td>null</td></tr><tr><td>201</td><td>1093</td><td>YUG</td><td>SIMONOVIC Bosko (YUG)</td><td>S</td><td>0</td><td>Milorad ARSENIJEVIC</td><td>null</td><td>null</td></tr><tr><td>201</td><td>1093</td><td>BRA</td><td>DE CARVALHO Pindaro (BRA)</td><td>S</td><td>0</td><td>FAUSTO</td><td>null</td><td>null</td></tr><tr><td>201</td><td>1093</td><td>YUG</td><td>SIMONOVIC Bosko (YUG)</td><td>S</td><td>0</td><td>Ivica BEK</td><td>null</td><td>G30'</td></tr><tr><td>201</td><td>1093</td><td>BRA</td><td>DE CARVALHO Pindaro (BRA)</td><td>S</td><td>0</td><td>PREGUINHO</td><td>C</td><td>G62'</td></tr><tr><td>201</td><td>1093</td><td>YUG</td><td>SIMONOVIC Bosko (YUG)</td><td>S</td><td>0</td><td>Momcilo DJOKIC</td><td>null</td><td>null</td></tr><tr><td>201</td><td>1093</td><td>BRA</td><td>DE CARVALHO Pindaro (BRA)</td><td>S</td><td>0</td><td>NILO</td><td>null</td><td>null</td></tr><tr><td>201</td><td>1093</td><td>YUG</td><td>SIMONOVIC Bosko (YUG)</td><td>S</td><td>0</td><td>Milutin IVKOVIC</td><td>C</td><td>null</td></tr><tr><td>201</td><td>1093</td><td>BRA</td><td>DE CARVALHO Pindaro (BRA)</td><td>S</td><td>0</td><td>BRILHANTE</td><td>null</td><td>null</td></tr><tr><td>201</td><td>1093</td><td>YUG</td><td>SIMONOVIC Bosko (YUG)</td><td>S</td><td>0</td><td>Djordje VUJADINOVIC</td><td>null</td><td>null</td></tr><tr><td>201</td><td>1093</td><td>BRA</td><td>DE CARVALHO Pindaro (BRA)</td><td>S</td><td>0</td><td>ARAKEN</td><td>null</td><td>null</td></tr><tr><td>201</td><td>1093</td><td>YUG</td><td>SIMONOVIC Bosko (YUG)</td><td>S</td><td>0</td><td>Aleksandar TIRNANIC</td><td>null</td><td>G21'</td></tr><tr><td>201</td><td>1093</td><td>BRA</td><td>DE CARVALHO Pindaro (BRA)</td><td>S</td><td>0</td><td>HERMOGENES</td><td>null</td><td>null</td></tr><tr><td>201</td><td>1093</td><td>YUG</td><td>SIMONOVIC Bosko (YUG)</td><td>S</td><td>0</td><td>Branislav SEKULIC</td><td>null</td><td>null</td></tr><tr><td>201</td><td>1093</td><td>BRA</td><td>DE CARVALHO Pindaro (BRA)</td><td>S</td><td>0</td><td>ITALIA</td><td>null</td><td>null</td></tr><tr><td>201</td><td>1093</td><td>YUG</td><td>SIMONOVIC Bosko (YUG)</td><td>S</td><td>0</td><td>Ljubisa STEFANOVIC</td><td>null</td><td>null</td></tr><tr><td>201</td><td>1093</td><td>BRA</td><td>DE CARVALHO Pindaro (BRA)</td><td>S</td><td>0</td><td>FERNANDO GIUDICELLI</td><td>null</td><td>null</td></tr><tr><td>201</td><td>1093</td><td>YUG</td><td>SIMONOVIC Bosko (YUG)</td><td>N</td><td>0</td><td>Dragan TOSIC</td><td>null</td><td>null</td></tr><tr><td>201</td><td>1093</td><td>BRA</td><td>DE CARVALHO Pindaro (BRA)</td><td>N</td><td>0</td><td>CARVALHO LEITE</td><td>null</td><td>null</td></tr><tr><td>201</td><td>1093</td><td>YUG</td><td>SIMONOVIC Bosko (YUG)</td><td>N</td><td>0</td><td>Milan STOJANOVIC</td><td>null</td><td>null</td></tr><tr><td>201</td><td>1093</td><td>BRA</td><td>DE CARVALHO Pindaro (BRA)</td><td>N</td><td>0</td><td>BENEDICTO</td><td>null</td><td>null</td></tr><tr><td>201</td><td>1093</td><td>YUG</td><td>SIMONOVIC Bosko (YUG)</td><td>N</td><td>0</td><td>Teofilo SPASOJEVIC</td><td>null</td><td>null</td></tr><tr><td>201</td><td>1093</td><td>BRA</td><td>DE CARVALHO Pindaro (BRA)</td><td>N</td><td>0</td><td>OSCARINO</td><td>null</td><td>null</td></tr><tr><td>201</td><td>1093</td><td>YUG</td><td>SIMONOVIC Bosko (YUG)</td><td>N</td><td>0</td><td>Branislav HRNJICEK</td><td>null</td><td>null</td></tr><tr><td>201</td><td>1093</td><td>BRA</td><td>DE CARVALHO Pindaro (BRA)</td><td>N</td><td>0</td><td>BENVENUTTO</td><td>null</td><td>null</td></tr><tr><td>201</td><td>1093</td><td>YUG</td><td>SIMONOVIC Bosko (YUG)</td><td>N</td><td>0</td><td>Vlastimir PETKOVIC</td><td>null</td><td>null</td></tr><tr><td>201</td><td>1093</td><td>BRA</td><td>DE CARVALHO Pindaro (BRA)</td><td>N</td><td>0</td><td>DOCA</td><td>null</td><td>null</td></tr><tr><td>201</td><td>1093</td><td>YUG</td><td>SIMONOVIC Bosko (YUG)</td><td>N</td><td>0</td><td>Dragutin NAJDANOVIC</td><td>null</td><td>null</td></tr><tr><td>201</td><td>1093</td><td>BRA</td><td>DE CARVALHO Pindaro (BRA)</td><td>N</td><td>0</td><td>PAMPLONA</td><td>null</td><td>null</td></tr><tr><td>201</td><td>1093</td><td>BRA</td><td>DE CARVALHO Pindaro (BRA)</td><td>N</td><td>0</td><td>FORTES</td><td>null</td><td>null</td></tr></tbody></table></div>"
      ]
     },
     "metadata": {
      "application/vnd.databricks.v1+output": {
       "addedWidgets": {},
       "aggData": [],
       "aggError": "",
       "aggOverflow": false,
       "aggSchema": [],
       "aggSeriesLimitReached": false,
       "aggType": "",
       "arguments": {},
       "columnCustomDisplayInfos": {},
       "data": [
        [
         201,
         1096,
         "FRA",
         "CAUDRON Raoul (FRA)",
         "S",
         0,
         "Alex THEPOT",
         "GK",
         null
        ],
        [
         201,
         1096,
         "MEX",
         "LUQUE Juan (MEX)",
         "S",
         0,
         "Oscar BONFIGLIO",
         "GK",
         null
        ],
        [
         201,
         1096,
         "FRA",
         "CAUDRON Raoul (FRA)",
         "S",
         0,
         "Marcel LANGILLER",
         null,
         "G40'"
        ],
        [
         201,
         1096,
         "MEX",
         "LUQUE Juan (MEX)",
         "S",
         0,
         "Juan CARRENO",
         null,
         "G70'"
        ],
        [
         201,
         1096,
         "FRA",
         "CAUDRON Raoul (FRA)",
         "S",
         0,
         "Ernest LIBERATI",
         null,
         null
        ],
        [
         201,
         1096,
         "MEX",
         "LUQUE Juan (MEX)",
         "S",
         0,
         "Rafael GARZA",
         "C",
         null
        ],
        [
         201,
         1096,
         "FRA",
         "CAUDRON Raoul (FRA)",
         "S",
         0,
         "Andre MASCHINOT",
         null,
         "G43' G87'"
        ],
        [
         201,
         1096,
         "MEX",
         "LUQUE Juan (MEX)",
         "S",
         0,
         "Hilario LOPEZ",
         null,
         null
        ],
        [
         201,
         1096,
         "FRA",
         "CAUDRON Raoul (FRA)",
         "S",
         0,
         "Etienne MATTLER",
         null,
         null
        ],
        [
         201,
         1096,
         "MEX",
         "LUQUE Juan (MEX)",
         "S",
         0,
         "Dionisio MEJIA",
         null,
         null
        ],
        [
         201,
         1096,
         "FRA",
         "CAUDRON Raoul (FRA)",
         "S",
         0,
         "Marcel PINEL",
         null,
         null
        ],
        [
         201,
         1096,
         "MEX",
         "LUQUE Juan (MEX)",
         "S",
         0,
         "Felipe ROSAS",
         null,
         null
        ],
        [
         201,
         1096,
         "FRA",
         "CAUDRON Raoul (FRA)",
         "S",
         0,
         "Alex VILLAPLANE",
         "C",
         null
        ],
        [
         201,
         1096,
         "MEX",
         "LUQUE Juan (MEX)",
         "S",
         0,
         "Manuel ROSAS",
         null,
         null
        ],
        [
         201,
         1096,
         "FRA",
         "CAUDRON Raoul (FRA)",
         "S",
         0,
         "Lucien LAURENT",
         null,
         "G19'"
        ],
        [
         201,
         1096,
         "MEX",
         "LUQUE Juan (MEX)",
         "S",
         0,
         "Jose RUIZ",
         null,
         null
        ],
        [
         201,
         1096,
         "FRA",
         "CAUDRON Raoul (FRA)",
         "S",
         0,
         "Marcel CAPELLE",
         null,
         null
        ],
        [
         201,
         1096,
         "MEX",
         "LUQUE Juan (MEX)",
         "S",
         0,
         "Alfredo SANCHEZ",
         null,
         null
        ],
        [
         201,
         1096,
         "FRA",
         "CAUDRON Raoul (FRA)",
         "S",
         0,
         "Augustin CHANTREL",
         null,
         null
        ],
        [
         201,
         1096,
         "MEX",
         "LUQUE Juan (MEX)",
         "S",
         0,
         "Efrain AMEZCUA",
         null,
         null
        ],
        [
         201,
         1096,
         "FRA",
         "CAUDRON Raoul (FRA)",
         "S",
         0,
         "Edmond DELFOUR",
         null,
         null
        ],
        [
         201,
         1096,
         "MEX",
         "LUQUE Juan (MEX)",
         "S",
         0,
         "Luis PEREZ",
         null,
         null
        ],
        [
         201,
         1096,
         "FRA",
         "CAUDRON Raoul (FRA)",
         "N",
         0,
         "Celestin DELMER",
         null,
         null
        ],
        [
         201,
         1096,
         "MEX",
         "LUQUE Juan (MEX)",
         "N",
         0,
         "Isidoro SOTA",
         null,
         null
        ],
        [
         201,
         1096,
         "FRA",
         "CAUDRON Raoul (FRA)",
         "N",
         0,
         "Andre TASSIN",
         null,
         null
        ],
        [
         201,
         1096,
         "MEX",
         "LUQUE Juan (MEX)",
         "N",
         0,
         "Jesus CASTRO",
         null,
         null
        ],
        [
         201,
         1096,
         "FRA",
         "CAUDRON Raoul (FRA)",
         "N",
         0,
         "Nouma ANDOIRE",
         null,
         null
        ],
        [
         201,
         1096,
         "MEX",
         "LUQUE Juan (MEX)",
         "N",
         0,
         "Felipe OLIVARES",
         null,
         null
        ],
        [
         201,
         1096,
         "FRA",
         "CAUDRON Raoul (FRA)",
         "N",
         0,
         "Jean LAURENT",
         null,
         null
        ],
        [
         201,
         1096,
         "MEX",
         "LUQUE Juan (MEX)",
         "N",
         0,
         "Raimundo RODRIGUEZ",
         null,
         null
        ],
        [
         201,
         1096,
         "FRA",
         "CAUDRON Raoul (FRA)",
         "N",
         0,
         "Emile VEINANTE",
         null,
         null
        ],
        [
         201,
         1096,
         "MEX",
         "LUQUE Juan (MEX)",
         "N",
         0,
         "Roberto GAYON",
         null,
         null
        ],
        [
         201,
         1096,
         "MEX",
         "LUQUE Juan (MEX)",
         "N",
         0,
         "Francisco GARZA GUTIERREZ",
         null,
         null
        ],
        [
         201,
         1090,
         "USA",
         "MILLAR Bob (USA)",
         "S",
         0,
         "Jimmy DOUGLAS",
         "GK",
         null
        ],
        [
         201,
         1090,
         "BEL",
         "GOETINCK Hector (BEL)",
         "S",
         0,
         "Arnold BADJOU",
         "GK",
         null
        ],
        [
         201,
         1090,
         "USA",
         "MILLAR Bob (USA)",
         "S",
         0,
         "Tom FLORIE",
         "C",
         "G45'"
        ],
        [
         201,
         1090,
         "BEL",
         "GOETINCK Hector (BEL)",
         "S",
         0,
         "Jean DE CLERQ",
         null,
         null
        ],
        [
         201,
         1090,
         "USA",
         "MILLAR Bob (USA)",
         "S",
         0,
         "Jimmy GALLAGHER",
         null,
         null
        ],
        [
         201,
         1090,
         "BEL",
         "GOETINCK Hector (BEL)",
         "S",
         0,
         "Jan DIDDENS",
         null,
         null
        ],
        [
         201,
         1090,
         "USA",
         "MILLAR Bob (USA)",
         "S",
         0,
         "Billy GONSALVES",
         null,
         null
        ],
        [
         201,
         1090,
         "BEL",
         "GOETINCK Hector (BEL)",
         "S",
         0,
         "Auguste HELLEMANS",
         null,
         null
        ],
        [
         201,
         1090,
         "USA",
         "MILLAR Bob (USA)",
         "S",
         0,
         "Bart McGHEE",
         null,
         "G23'"
        ],
        [
         201,
         1090,
         "BEL",
         "GOETINCK Hector (BEL)",
         "S",
         0,
         "Nikolaas HOYDONCKX",
         null,
         null
        ],
        [
         201,
         1090,
         "USA",
         "MILLAR Bob (USA)",
         "S",
         0,
         "George MOORHOUSE",
         null,
         null
        ],
        [
         201,
         1090,
         "BEL",
         "GOETINCK Hector (BEL)",
         "S",
         0,
         "Jacques MOESCHAL",
         null,
         null
        ],
        [
         201,
         1090,
         "USA",
         "MILLAR Bob (USA)",
         "S",
         0,
         "Bert PATENAUDE",
         null,
         "G69'"
        ],
        [
         201,
         1090,
         "BEL",
         "GOETINCK Hector (BEL)",
         "S",
         0,
         "Theodore NOUWENS",
         null,
         null
        ],
        [
         201,
         1090,
         "USA",
         "MILLAR Bob (USA)",
         "S",
         0,
         "Ralph TRACY",
         null,
         null
        ],
        [
         201,
         1090,
         "BEL",
         "GOETINCK Hector (BEL)",
         "S",
         0,
         "Fernand ADAMS",
         null,
         null
        ],
        [
         201,
         1090,
         "USA",
         "MILLAR Bob (USA)",
         "S",
         0,
         "Alexander WOOD",
         null,
         null
        ],
        [
         201,
         1090,
         "BEL",
         "GOETINCK Hector (BEL)",
         "S",
         0,
         "Louis VERSYP",
         null,
         null
        ],
        [
         201,
         1090,
         "USA",
         "MILLAR Bob (USA)",
         "S",
         0,
         "Andrew AULD",
         null,
         null
        ],
        [
         201,
         1090,
         "BEL",
         "GOETINCK Hector (BEL)",
         "S",
         0,
         "Bernard VOORHOOF",
         null,
         null
        ],
        [
         201,
         1090,
         "USA",
         "MILLAR Bob (USA)",
         "S",
         0,
         "Jim BROWN",
         null,
         null
        ],
        [
         201,
         1090,
         "BEL",
         "GOETINCK Hector (BEL)",
         "S",
         0,
         "Pierre BRAINE",
         "C",
         null
        ],
        [
         201,
         1090,
         "USA",
         "MILLAR Bob (USA)",
         "N",
         0,
         "Frank VAUGHN",
         null,
         null
        ],
        [
         201,
         1090,
         "BEL",
         "GOETINCK Hector (BEL)",
         "N",
         0,
         "Alexis CHANTRAINE",
         null,
         null
        ],
        [
         201,
         1090,
         "USA",
         "MILLAR Bob (USA)",
         "N",
         0,
         "Mike BOOKIE",
         null,
         null
        ],
        [
         201,
         1090,
         "BEL",
         "GOETINCK Hector (BEL)",
         "N",
         0,
         "Jean DE BIE",
         null,
         null
        ],
        [
         201,
         1090,
         "USA",
         "MILLAR Bob (USA)",
         "N",
         0,
         "Jim GENTLE",
         null,
         null
        ],
        [
         201,
         1090,
         "BEL",
         "GOETINCK Hector (BEL)",
         "N",
         0,
         "Andre SAEYS",
         null,
         null
        ],
        [
         201,
         1090,
         "USA",
         "MILLAR Bob (USA)",
         "N",
         0,
         "Phil SLONE",
         null,
         null
        ],
        [
         201,
         1090,
         "BEL",
         "GOETINCK Hector (BEL)",
         "N",
         0,
         "Henri DE DEKEN",
         null,
         null
        ],
        [
         201,
         1090,
         "USA",
         "MILLAR Bob (USA)",
         "N",
         0,
         "Arnie OLIVER",
         null,
         null
        ],
        [
         201,
         1090,
         "BEL",
         "GOETINCK Hector (BEL)",
         "N",
         0,
         "Gerard DELBEKE",
         null,
         null
        ],
        [
         201,
         1093,
         "YUG",
         "SIMONOVIC Bosko (YUG)",
         "S",
         0,
         "Milovan JAKSIC",
         "GK",
         null
        ],
        [
         201,
         1093,
         "BRA",
         "DE CARVALHO Pindaro (BRA)",
         "S",
         0,
         "JOEL",
         "GK",
         null
        ],
        [
         201,
         1093,
         "YUG",
         "SIMONOVIC Bosko (YUG)",
         "S",
         0,
         "Blagoje MARJANOVIC",
         null,
         null
        ],
        [
         201,
         1093,
         "BRA",
         "DE CARVALHO Pindaro (BRA)",
         "S",
         0,
         "TEOPHILO",
         null,
         null
        ],
        [
         201,
         1093,
         "YUG",
         "SIMONOVIC Bosko (YUG)",
         "S",
         0,
         "Dragan MIHAJLOVIC",
         null,
         null
        ],
        [
         201,
         1093,
         "BRA",
         "DE CARVALHO Pindaro (BRA)",
         "S",
         0,
         "POLY",
         null,
         null
        ],
        [
         201,
         1093,
         "YUG",
         "SIMONOVIC Bosko (YUG)",
         "S",
         0,
         "Milorad ARSENIJEVIC",
         null,
         null
        ],
        [
         201,
         1093,
         "BRA",
         "DE CARVALHO Pindaro (BRA)",
         "S",
         0,
         "FAUSTO",
         null,
         null
        ],
        [
         201,
         1093,
         "YUG",
         "SIMONOVIC Bosko (YUG)",
         "S",
         0,
         "Ivica BEK",
         null,
         "G30'"
        ],
        [
         201,
         1093,
         "BRA",
         "DE CARVALHO Pindaro (BRA)",
         "S",
         0,
         "PREGUINHO",
         "C",
         "G62'"
        ],
        [
         201,
         1093,
         "YUG",
         "SIMONOVIC Bosko (YUG)",
         "S",
         0,
         "Momcilo DJOKIC",
         null,
         null
        ],
        [
         201,
         1093,
         "BRA",
         "DE CARVALHO Pindaro (BRA)",
         "S",
         0,
         "NILO",
         null,
         null
        ],
        [
         201,
         1093,
         "YUG",
         "SIMONOVIC Bosko (YUG)",
         "S",
         0,
         "Milutin IVKOVIC",
         "C",
         null
        ],
        [
         201,
         1093,
         "BRA",
         "DE CARVALHO Pindaro (BRA)",
         "S",
         0,
         "BRILHANTE",
         null,
         null
        ],
        [
         201,
         1093,
         "YUG",
         "SIMONOVIC Bosko (YUG)",
         "S",
         0,
         "Djordje VUJADINOVIC",
         null,
         null
        ],
        [
         201,
         1093,
         "BRA",
         "DE CARVALHO Pindaro (BRA)",
         "S",
         0,
         "ARAKEN",
         null,
         null
        ],
        [
         201,
         1093,
         "YUG",
         "SIMONOVIC Bosko (YUG)",
         "S",
         0,
         "Aleksandar TIRNANIC",
         null,
         "G21'"
        ],
        [
         201,
         1093,
         "BRA",
         "DE CARVALHO Pindaro (BRA)",
         "S",
         0,
         "HERMOGENES",
         null,
         null
        ],
        [
         201,
         1093,
         "YUG",
         "SIMONOVIC Bosko (YUG)",
         "S",
         0,
         "Branislav SEKULIC",
         null,
         null
        ],
        [
         201,
         1093,
         "BRA",
         "DE CARVALHO Pindaro (BRA)",
         "S",
         0,
         "ITALIA",
         null,
         null
        ],
        [
         201,
         1093,
         "YUG",
         "SIMONOVIC Bosko (YUG)",
         "S",
         0,
         "Ljubisa STEFANOVIC",
         null,
         null
        ],
        [
         201,
         1093,
         "BRA",
         "DE CARVALHO Pindaro (BRA)",
         "S",
         0,
         "FERNANDO GIUDICELLI",
         null,
         null
        ],
        [
         201,
         1093,
         "YUG",
         "SIMONOVIC Bosko (YUG)",
         "N",
         0,
         "Dragan TOSIC",
         null,
         null
        ],
        [
         201,
         1093,
         "BRA",
         "DE CARVALHO Pindaro (BRA)",
         "N",
         0,
         "CARVALHO LEITE",
         null,
         null
        ],
        [
         201,
         1093,
         "YUG",
         "SIMONOVIC Bosko (YUG)",
         "N",
         0,
         "Milan STOJANOVIC",
         null,
         null
        ],
        [
         201,
         1093,
         "BRA",
         "DE CARVALHO Pindaro (BRA)",
         "N",
         0,
         "BENEDICTO",
         null,
         null
        ],
        [
         201,
         1093,
         "YUG",
         "SIMONOVIC Bosko (YUG)",
         "N",
         0,
         "Teofilo SPASOJEVIC",
         null,
         null
        ],
        [
         201,
         1093,
         "BRA",
         "DE CARVALHO Pindaro (BRA)",
         "N",
         0,
         "OSCARINO",
         null,
         null
        ],
        [
         201,
         1093,
         "YUG",
         "SIMONOVIC Bosko (YUG)",
         "N",
         0,
         "Branislav HRNJICEK",
         null,
         null
        ],
        [
         201,
         1093,
         "BRA",
         "DE CARVALHO Pindaro (BRA)",
         "N",
         0,
         "BENVENUTTO",
         null,
         null
        ],
        [
         201,
         1093,
         "YUG",
         "SIMONOVIC Bosko (YUG)",
         "N",
         0,
         "Vlastimir PETKOVIC",
         null,
         null
        ],
        [
         201,
         1093,
         "BRA",
         "DE CARVALHO Pindaro (BRA)",
         "N",
         0,
         "DOCA",
         null,
         null
        ],
        [
         201,
         1093,
         "YUG",
         "SIMONOVIC Bosko (YUG)",
         "N",
         0,
         "Dragutin NAJDANOVIC",
         null,
         null
        ],
        [
         201,
         1093,
         "BRA",
         "DE CARVALHO Pindaro (BRA)",
         "N",
         0,
         "PAMPLONA",
         null,
         null
        ],
        [
         201,
         1093,
         "BRA",
         "DE CARVALHO Pindaro (BRA)",
         "N",
         0,
         "FORTES",
         null,
         null
        ]
       ],
       "datasetInfos": [],
       "dbfsResultPath": null,
       "isJsonSchema": true,
       "metadata": {},
       "overflow": false,
       "plotOptions": {
        "customPlotOptions": {},
        "displayType": "table",
        "pivotAggregation": null,
        "pivotColumns": null,
        "xColumns": null,
        "yColumns": null
       },
       "removedWidgets": [],
       "schema": [
        {
         "metadata": "{}",
         "name": "RoundID",
         "type": "\"integer\""
        },
        {
         "metadata": "{}",
         "name": "MatchID",
         "type": "\"integer\""
        },
        {
         "metadata": "{}",
         "name": "TeamInitials",
         "type": "\"string\""
        },
        {
         "metadata": "{}",
         "name": "CoachName",
         "type": "\"string\""
        },
        {
         "metadata": "{}",
         "name": "LineUp",
         "type": "\"string\""
        },
        {
         "metadata": "{}",
         "name": "ShirtNumber",
         "type": "\"integer\""
        },
        {
         "metadata": "{}",
         "name": "PlayerName",
         "type": "\"string\""
        },
        {
         "metadata": "{}",
         "name": "Position",
         "type": "\"string\""
        },
        {
         "metadata": "{}",
         "name": "Event",
         "type": "\"string\""
        }
       ],
       "type": "table"
      }
     },
     "output_type": "display_data"
    }
   ],
   "source": [
    "%sql SELECT * FROM bronze.worldcupplayers LIMIT 100"
   ]
  },
  {
   "cell_type": "markdown",
   "metadata": {
    "application/vnd.databricks.v1+cell": {
     "cellMetadata": {},
     "inputWidgets": {},
     "nuid": "68f27745-634f-43d6-93e9-23da48c20873",
     "showTitle": false,
     "tableResultSettingsMap": {},
     "title": ""
    }
   },
   "source": [
    "**Data Quality tabela bronze.worldcupplayers**"
   ]
  },
  {
   "cell_type": "code",
   "execution_count": 0,
   "metadata": {
    "application/vnd.databricks.v1+cell": {
     "cellMetadata": {
      "byteLimit": 2048000,
      "implicitDf": true,
      "rowLimit": 10000
     },
     "inputWidgets": {},
     "nuid": "927614b0-9460-456d-855c-9dcb7085829b",
     "showTitle": true,
     "tableResultSettingsMap": {},
     "title": "Data Quality tabela bronze.worldcupplayers"
    }
   },
   "outputs": [
    {
     "output_type": "display_data",
     "data": {
      "text/html": [
       "<style scoped>\n",
       "  .table-result-container {\n",
       "    max-height: 300px;\n",
       "    overflow: auto;\n",
       "  }\n",
       "  table, th, td {\n",
       "    border: 1px solid black;\n",
       "    border-collapse: collapse;\n",
       "  }\n",
       "  th, td {\n",
       "    padding: 5px;\n",
       "  }\n",
       "  th {\n",
       "    text-align: left;\n",
       "  }\n",
       "</style><div class='table-result-container'><table class='table-result'><thead style='background-color: white'><tr><th>null_matchID</th><th>null_teamInitials</th><th>null_playerName</th></tr></thead><tbody><tr><td>0</td><td>0</td><td>0</td></tr></tbody></table></div>"
      ]
     },
     "metadata": {
      "application/vnd.databricks.v1+output": {
       "addedWidgets": {},
       "aggData": [],
       "aggError": "",
       "aggOverflow": false,
       "aggSchema": [],
       "aggSeriesLimitReached": false,
       "aggType": "",
       "arguments": {},
       "columnCustomDisplayInfos": {},
       "data": [
        [
         0,
         0,
         0
        ]
       ],
       "datasetInfos": [],
       "dbfsResultPath": null,
       "isJsonSchema": true,
       "metadata": {},
       "overflow": false,
       "plotOptions": {
        "customPlotOptions": {},
        "displayType": "table",
        "pivotAggregation": null,
        "pivotColumns": null,
        "xColumns": null,
        "yColumns": null
       },
       "removedWidgets": [],
       "schema": [
        {
         "metadata": "{}",
         "name": "null_matchID",
         "type": "\"long\""
        },
        {
         "metadata": "{}",
         "name": "null_teamInitials",
         "type": "\"long\""
        },
        {
         "metadata": "{}",
         "name": "null_playerName",
         "type": "\"long\""
        }
       ],
       "type": "table"
      }
     },
     "output_type": "display_data"
    }
   ],
   "source": [
    "%sql\n",
    "SELECT \n",
    "    COUNT(CASE WHEN MatchID IS NULL THEN 1 END) AS null_matchID,\n",
    "    COUNT(CASE WHEN TeamInitials IS NULL THEN 1 END) AS null_teamInitials,\n",
    "    COUNT(CASE WHEN PlayerName IS NULL THEN 1 END) AS null_playerName\n",
    "FROM bronze.worldcupplayers;"
   ]
  },
  {
   "cell_type": "markdown",
   "metadata": {
    "application/vnd.databricks.v1+cell": {
     "cellMetadata": {},
     "inputWidgets": {},
     "nuid": "fab52526-c1da-4cf5-a414-1f65c5b5b6bb",
     "showTitle": false,
     "tableResultSettingsMap": {},
     "title": ""
    }
   },
   "source": [
    "**Criando dataframe worldcupplayers silver, excluindo colunas não utilizadas e linhas duplicadas/nulas**"
   ]
  },
  {
   "cell_type": "code",
   "execution_count": 0,
   "metadata": {
    "application/vnd.databricks.v1+cell": {
     "cellMetadata": {
      "byteLimit": 2048000,
      "rowLimit": 10000
     },
     "inputWidgets": {},
     "nuid": "aa87b0e8-633d-4a0e-b5f6-8050a39421e8",
     "showTitle": true,
     "tableResultSettingsMap": {},
     "title": "Criando dataframe worldcupplayers silver, [excluindo](url) colunas não utilizadas e linhas duplicadas/nulas"
    }
   },
   "outputs": [],
   "source": [
    "# Criando dataframe df_worldcupplayers_silver\n",
    "df_worldcupplayers_silver = spark.sql(\"SELECT * FROM bronze.worldcupplayers\")\n",
    "\n",
    "# Excluindo colunas não utilizadas na análise\n",
    "df_worldcupplayers_silver = df_worldcupplayers_silver.drop(\"RoundID\", \"CoachName\", \"LineUp\", \"ShirtNumber\", \"Position\")\n",
    "\n",
    "# Removendo linha nulas em \"MatchID\", \"TeamInitials\" e \"PlayerName\"\n",
    "df_worldcupplayers_silver = df_worldcupplayers_silver.na.drop(subset=[\"MatchID\" , \"TeamInitials\", \"PlayerName\"])\n",
    "\n",
    "# Excluindo duplicados\n",
    "df_worldcupplayers_silver = df_worldcupplayers_silver.dropDuplicates()"
   ]
  },
  {
   "cell_type": "markdown",
   "metadata": {
    "application/vnd.databricks.v1+cell": {
     "cellMetadata": {},
     "inputWidgets": {},
     "nuid": "62054fe5-341c-430c-ad3a-1e21d01980bd",
     "showTitle": false,
     "tableResultSettingsMap": {},
     "title": ""
    }
   },
   "source": [
    "**Listando nomes para correção do dataframe worldcupplayers silver**"
   ]
  },
  {
   "cell_type": "code",
   "execution_count": 0,
   "metadata": {
    "application/vnd.databricks.v1+cell": {
     "cellMetadata": {
      "byteLimit": 2048000,
      "rowLimit": 10000
     },
     "inputWidgets": {},
     "nuid": "2b737314-3563-425c-be3f-5b188aa0c9e9",
     "showTitle": true,
     "tableResultSettingsMap": {},
     "title": "Listando nomes para correção do dataframe worldcupplayers silver"
    }
   },
   "outputs": [
    {
     "output_type": "stream",
     "name": "stdout",
     "output_type": "stream",
     "text": [
      "+----------------------------------+-----+\n|PlayerName                        |count|\n+----------------------------------+-----+\n|Z� ROBERTO                        |12   |\n|GUTI�RREZ                         |4    |\n|F. COENTR�O                       |7    |\n|JOSU�                             |5    |\n|BE�I?                             |3    |\n|LAM�                              |3    |\n|CH. AR�NGUIZ                      |4    |\n|ETAM�                             |3    |\n|JO�O RICARDO                      |3    |\n|SUBA�I?                           |3    |\n|�STENSTAD                         |4    |\n|M�LLER                            |24   |\n|SU�I?                             |3    |\n|ACU�A                             |7    |\n|JOKI?                             |3    |\n|R. MU�OZ                          |4    |\n|LUKOVI?                           |3    |\n|GROD�S                            |4    |\n|PE?NIK                            |3    |\n|BOLA�O                            |3    |\n|Hugo S�NCHEZ                      |12   |\n|Z� CARLOS                         |7    |\n|CASTA�EDA                         |4    |\n|RADOSAVLJEVI?                     |3    |\n|ETXEBERR�A                        |3    |\n|D�EKO                             |3    |\n|LJUBIJANKI?                       |3    |\n|ANDR� MACANGA                     |3    |\n|VI�?A                             |3    |\n|J�                                |7    |\n|SCH�R                             |4    |\n|W�LFLI                            |3    |\n|DEDI?                             |3    |\n|REBI?                             |3    |\n|D�INI?                            |3    |\n|KR�LDRUP                          |3    |\n|�IGI?                             |3    |\n|MUJD�A                            |3    |\n|TO�I?                             |3    |\n|HAJROVI?                          |3    |\n|BI?AK?I?                          |3    |\n|LUIS�O                            |10   |\n|FILEKOVI?                         |3    |\n|GON�ALVES                         |7    |\n|�ULER                             |3    |\n|URE�A M.                          |5    |\n|VUKOJEVI?                         |3    |\n|C. PE�A                           |4    |\n|ALVB�GE                           |4    |\n|STANKOVI?                         |3    |\n|MISIMOVI?                         |3    |\n|JELAVI?                           |3    |\n|SALIHOVI?                         |3    |\n|NINKOVI?                          |3    |\n|FL�VIO                            |2    |\n|KUZMANOVI?                        |3    |\n|OBRADOVI?                         |3    |\n|MATTH�US                          |10   |\n|B�RKI                             |4    |\n|F�BREGAS                          |3    |\n|SUBOTI?                           |3    |\n|H�WEDES                           |7    |\n|PRANJI?                           |3    |\n|ZUBERB�HLER                       |4    |\n|KA?AR                             |3    |\n|VIDI?                             |3    |\n|PJANI?                            |3    |\n|FEJZI?                            |3    |\n|KJ�R                              |3    |\n|K�LLSTR�M                         |4    |\n|LAZOVI?                           |3    |\n|WOM�                              |3    |\n|S�RENSEN                          |3    |\n|KOVA?I?                           |3    |\n|PEL� (Edson Arantes do Nascimento)|21   |\n|HANDANOVI? S.                     |3    |\n|RAKITI?                           |3    |\n|PIQU�                             |10   |\n|C�CERES                           |3    |\n|ISAILOVI?                         |3    |\n|W�RNS                             |5    |\n|NU�EZ V.                          |3    |\n|M�RIO                             |3    |\n|NOVAKOVI?                         |3    |\n|SIM�O                             |11   |\n|GRO�KREUTZ                        |7    |\n|KOLA�INAC                         |3    |\n|PENS�E                            |3    |\n|AKW�                              |3    |\n|OLEMB�                            |3    |\n|SCH�RRLE                          |7    |\n|STOJKOVI?                         |3    |\n|G�TZE                             |7    |\n|H�SSLER                           |10   |\n|�ELIGA                            |3    |\n|STEVANOVI?                        |3    |\n|KRASI?                            |3    |\n|MILIJA�                           |3    |\n|IBRI?I?                           |3    |\n|HANDANOVI? J.                     |3    |\n|KAK�                              |10   |\n|�DER                              |3    |\n|BEGOVI?                           |3    |\n|PERI�I?                           |3    |\n|OLI?                              |3    |\n|VER�N                             |5    |\n|GR�NKJ�R                          |3    |\n|BRE?KO                            |3    |\n|ILI?                              |3    |\n|MAHOUV�                           |3    |\n|�ZIL                              |14   |\n|C. ZU�IGA                         |5    |\n|J�RGENSEN                         |3    |\n|VR�AJEVI?                         |3    |\n|VRANJE�                           |3    |\n|CA�IZARES                         |12   |\n|MAVRI?                            |3    |\n|CABA�AS                           |3    |\n|L�CIO                             |10   |\n|IBI�EVI?                          |3    |\n|MODRI?                            |3    |\n|�UNJI?                            |3    |\n|UMA�A M.                          |8    |\n|PANTELI?                          |3    |\n|SOLSKJ�R                          |4    |\n|BOLA�OS C.                        |8    |\n|ALLB�CK                           |4    |\n|MATAV�                            |3    |\n|K�PKE                             |5    |\n|ROM�RIO (Rom�rio de Souza Faria)  |11   |\n|CA�IZA                            |3    |\n|IVANOVI?                          |3    |\n|Z� KALANGA                        |3    |\n|JOVANOVI?                         |3    |\n|BROZOVI?                          |3    |\n|LOC�                              |3    |\n|MAND�UKI?                         |3    |\n|PETROVI?                          |3    |\n|?URI?I?                           |3    |\n|HAD�I?                            |3    |\n|SPAHI?                            |3    |\n|KIE�LING                          |7    |\n|NU�EZ                             |6    |\n|AVDUKI?                           |3    |\n|BJ�RNEBYE                         |7    |\n|JAVI MART�NEZ                     |3    |\n|LULI?                             |3    |\n+----------------------------------+-----+\n\n"
     ]
    }
   ],
   "source": [
    "# Coluna PlayerName\n",
    "df_worldcupplayers_silver_copy = df_worldcupplayers_silver.selectExpr(\"*\")\n",
    "df_worldcupplayers_silver_copy.filter(col(\"PlayerName\").rlike(\"�|ï¿½|\\\\?|>\")).groupBy(\"PlayerName\").count().show(1000, truncate=False)"
   ]
  },
  {
   "cell_type": "markdown",
   "metadata": {
    "application/vnd.databricks.v1+cell": {
     "cellMetadata": {},
     "inputWidgets": {},
     "nuid": "a9eadabe-b2df-44fe-aa27-c275b23cb06f",
     "showTitle": false,
     "tableResultSettingsMap": {},
     "title": ""
    }
   },
   "source": [
    "**Refinando e modelando os dados do dataframe worldcupplayers silver**"
   ]
  },
  {
   "cell_type": "code",
   "execution_count": 0,
   "metadata": {
    "application/vnd.databricks.v1+cell": {
     "cellMetadata": {
      "byteLimit": 2048000,
      "rowLimit": 10000
     },
     "inputWidgets": {},
     "nuid": "616de67e-3dc5-4032-9d6f-3759bf60aac6",
     "showTitle": true,
     "tableResultSettingsMap": {},
     "title": "Refinando e modelando os dados do dataframe worldcupplayers silver"
    }
   },
   "outputs": [
    {
     "output_type": "stream",
     "name": "stdout",
     "output_type": "stream",
     "text": [
      "+-------+------------+----------------+-----+-----------+--------+\n|MatchID|TeamInitials|PlayerName      |Goals|YellowCards|RedCards|\n+-------+------------+----------------+-----+-----------+--------+\n|29     |ROU         |LACATUS         |0    |1          |0       |\n|3053   |COL         |VALDERRAMA      |0    |1          |0       |\n|3058   |NED         |JONK            |1    |0          |0       |\n|3076   |GER         |Stefan EFFENBERG|0    |1          |0       |\n|3103   |BUL         |Zlatko YANKOV   |0    |1          |0       |\n+-------+------------+----------------+-----+-----------+--------+\nonly showing top 5 rows\n\n"
     ]
    }
   ],
   "source": [
    "# Corrigindo nomes incorretos/não amigáveis de jogadores\n",
    "old_name = ['VI�?A', 'GUTI�RREZ', 'MATTH�US', 'VER�N', '�ULER', 'AKW�', 'IBI�EVI?', '�ZIL',\\\n",
    "    'VRANJE�', 'C. ZU�IGA', 'MILIJA�', 'ALVB�GE', 'JOKI?', 'LUKOVI?', 'SIM�O', 'PE?NIK',\\\n",
    "    'F. COENTR�O', 'M�RIO', 'ZUBERB�HLER', 'RADOSAVLJEVI?', 'D�INI?', 'SUBA�I?', '�DER', 'G�TZE',\\\n",
    "    'W�RNS', 'LJUBIJANKI?', 'BE�I?', 'DEDI?', 'REBI?', 'BJ�RNEBYE', 'FL�VIO', 'LUIS�O',\\\n",
    "    'BI?AK?I?', 'HAJROVI?', 'BOLA�O', 'Z� KALANGA', 'FILEKOVI?', 'NU�EZ V.', 'VUKOJEVI?', '�ELIGA',\\\n",
    "    'KJ�R', 'C�CERES', 'WOM�', 'STANKOVI?', 'JELAVI?', 'MISIMOVI?', 'SALIHOVI?', 'NINKOVI?',\\\n",
    "    'KOLA�INAC', 'KUZMANOVI?', 'CABA�AS', 'JO�O RICARDO', 'OBRADOVI?', 'PERI�I?', 'KIE�LING', 'LAM�',\\\n",
    "    'SUBOTI?', 'ETAM�', 'MATAV�', 'J�RGENSEN', 'PRANJI?', 'VIDI?', 'KA?AR', 'PJANI?',\\\n",
    "    'BOLA�OS C.', 'SCH�R', 'FEJZI?', 'CH. AR�NGUIZ', 'LAZOVI?', 'KOVA?I?', 'HANDANOVI? S.', 'RAKITI?',\\\n",
    "    'K�LLSTR�M', 'SOLSKJ�R', 'ALLB�CK', 'ISAILOVI?', 'NOVAKOVI?', 'KAK�', 'H�WEDES', 'W�LFLI',\\\n",
    "    'STOJKOVI?', 'STEVANOVI?', 'NU�EZ', 'KRASI?', 'IBRI?I?', 'HANDANOVI? J.', 'MUJD�A', 'SU�I?',\\\n",
    "    'PEL� (Edson Arantes do Nascimento)', 'BEGOVI?', 'ROM�RIO (Rom�rio de Souza Faria)', 'M�LLER', 'ACU�A', 'OLI?', 'MAND�UKI?', 'B�RKI',\\\n",
    "    'Z� CARLOS', 'JOSU�', '�STENSTAD', 'L�CIO', 'BRE?KO', 'R. MU�OZ', 'ILI?', 'SCH�RRLE',\\\n",
    "    'TO�I?', 'C. PE�A', 'OLEMB�', 'HAD�I?', 'J�', 'Z� ROBERTO', 'ETXEBERR�A', 'KR�LDRUP',\\\n",
    "    'GRO�KREUTZ', 'MAVRI?', 'MODRI?', 'PANTELI?', 'GROD�S', '�IGI?', 'LOC�', 'K�PKE',\\\n",
    "    'PIQU�', 'URE�A M.', 'UMA�A M.', '�UNJI?', 'VR�AJEVI?', 'ANDR� MACANGA', 'GR�NKJ�R', 'IVANOVI?',\\\n",
    "    'CA�IZARES', 'CASTA�EDA', 'S�RENSEN', 'F�BREGAS', 'D�EKO', 'PENS�E', 'JOVANOVI?', 'BROZOVI?',\\\n",
    "    'CA�IZA', 'MAHOUV�', 'PETROVI?', 'H�SSLER', 'Hugo S�NCHEZ', 'GON�ALVES', '?URI?I?', 'SPAHI?',\\\n",
    "    'AVDUKI?', 'LULI?']\n",
    "\n",
    "new_name = ['VIZA', 'GUTIERREZ', 'MATTHAUS', 'VERON', 'SULER', 'AKWA', 'IBISEVIC', 'OZIL',\\\n",
    "    'VRANJES', 'C. ZUNIGA', 'MILIJAS', 'ALVBAGE', 'JOKIC', 'LUKOVIC', 'SIMAO', 'PECNIK',\\\n",
    "    'F. COENTRAO', 'MARIO', 'ZUBERBUHLER', 'RADOSAVLJEVIC', 'DZINIC', 'SUBASIC', 'EDER', 'GOTZE',\\\n",
    "    'WORNS', 'LJUBIJANKIC', 'BESIC', 'DEDIC', 'REBIC', 'BJORNEBYE', 'FLAVIO', 'LUISAO',\\\n",
    "    'BICAKCIC', 'HAJROVIC', 'BOLANOS', 'ZE KALANGA', 'FILEKOVIC', 'NUNEZ V.', 'VUKOJEVIC', 'SELIGA',\\\n",
    "    'KJAER', 'CACERES', 'WOME', 'STANKOVIC', 'JELAVIC', 'MISIMOVIC', 'SALIHOVIC', 'NINKOVIC',\\\n",
    "    'KOLASINAC', 'KUZMANOVIC', 'CABANAS', 'JOAO RICARDO', 'OBRADOVIC', 'PERISIC', 'KIESLING', 'LAMA',\\\n",
    "    'SUBOTIC', 'ETAME', 'MATAVZ', 'JORGENSEN', 'PRANJIC', 'VIDIC', 'KACAR', 'PJANIC',\\\n",
    "    'BOLANOS C.', 'SCHAR', 'FEJZIC', 'CH. ARANGUIZ', 'LAZOVIC', 'KOVACIC', 'HANDANOVIC S.', 'RAKITIC',\\\n",
    "    'KALLSTROM', 'SOLSKJAER', 'ALLBACK', 'ISAILOVIC', 'NOVAKOVIC', 'KAKA', 'HOWEDES', 'WOLFLI',\\\n",
    "    'STOJKOVIC', 'STEVANOVIC', 'NUNEZ', 'KRASIC', 'IBRICIC', 'HANDANOVIC J.', 'MUJDA', 'SUSIC',\\\n",
    "    'PELE', 'BEGOVIC', 'ROMARIO', 'MULLER', 'ACUNA', 'OLIC', 'MANDZUKIC', 'BURKI',\\\n",
    "    'ZE CARLOS', 'JOSUE', 'OSTENSTAD', 'LUCIO', 'BRECKO', 'R. MUNOZ', 'ILIC', 'SCHURRLE',\\\n",
    "    'TOSIC', 'C. PENA', 'OLEMBE', 'HADZIC', 'JO', 'ZE ROBERTO', 'ETXEBERRIA', 'KRALDRUP',\\\n",
    "    'GROSSKREUTZ', 'MAVRIC', 'MODRIC', 'PANTELIC', 'GRODAS', 'SIGIC', 'LOCO', 'KOPKE',\\\n",
    "    'PIQUE', 'URENA M.', 'UMANA M.', 'SUNJIC', 'VRANJEVIC', 'ANDRE MACANGA', 'GRONKJAER', 'IVANOVIC',\\\n",
    "    'CANIZARES', 'CASTANEDA', 'SORENSEN', 'FABREGAS', 'DZEKO', 'PENSEE', 'JOVANOVIC', 'BROZOVIC',\\\n",
    "    'CANIZA', 'MAHOUVE', 'PETROVIC', 'HASSLER', 'Hugo SANCHEZ', 'GONCALVES', 'DURICIC', 'SPAHIC',\\\n",
    "    'AVDUKIC', 'LULIC']\n",
    "\n",
    "# Alterando nomes na coluna PlayerName\n",
    "for index, n in enumerate(old_name):\n",
    "    regex_segura = re.escape(old_name[index])\n",
    "    df_worldcupplayers_silver = df_worldcupplayers_silver.withColumn(\"PlayerName\", regexp_replace(\"PlayerName\", regex_segura, new_name[index]))\n",
    "\n",
    "# Extraindo o número de gols da coluna Event e adicinando em uma nova coluna Goals\n",
    "df_worldcupplayers_silver = df_worldcupplayers_silver.withColumn(\"Goals\",length(\"Event\") - length(regexp_replace(\"Event\", \"[GP]\", \"\")))\n",
    "\n",
    "# Extraindo o número de cartões amarelos da coluna Event e adicinando em uma nova coluna YellowCards\n",
    "df_worldcupplayers_silver = df_worldcupplayers_silver.withColumn(\"YellowCards\",length(\"Event\") - length(regexp_replace(\"Event\", \"Y\", \"\")))\n",
    "\n",
    "# Extraindo o número de cartões vermelhos da coluna Event e adicinando em uma nova coluna RedCards\n",
    "df_worldcupplayers_silver = df_worldcupplayers_silver.withColumn(\"RedCards\",length(\"Event\") - length(regexp_replace(\"Event\", \"R\", \"\")))\n",
    "\n",
    "# Removendo linha nulas em \"Goals\" ,\"YellowCards\" e \"RedCards\"\n",
    "df_worldcupplayers_silver = df_worldcupplayers_silver.na.drop(subset=[\"Goals\" ,\"YellowCards\", \"RedCards\"])\n",
    "\n",
    "# Removendo linha com valor 0 em \"Goals\" ,\"YellowCards\" e \"RedCards\"\n",
    "df_worldcupplayers_silver = df_worldcupplayers_silver.filter(~((col(\"Goals\") == 0) & (col(\"YellowCards\") == 0) & (col(\"RedCards\") == 0)))\n",
    "\n",
    "# Removendo a coluna Event\n",
    "df_worldcupplayers_silver = df_worldcupplayers_silver.drop(\"Event\")\n",
    "\n",
    "# Exibindo as 5 primeiras linhas do dataframe para conferência\n",
    "df_worldcupplayers_silver.show(5, truncate=False)"
   ]
  },
  {
   "cell_type": "markdown",
   "metadata": {
    "application/vnd.databricks.v1+cell": {
     "cellMetadata": {},
     "inputWidgets": {},
     "nuid": "be1dbbc8-2b8a-4935-b726-16e2a8557c06",
     "showTitle": false,
     "tableResultSettingsMap": {},
     "title": ""
    }
   },
   "source": [
    "**Deletando o database 'silver', caso ele exista**"
   ]
  },
  {
   "cell_type": "code",
   "execution_count": 0,
   "metadata": {
    "application/vnd.databricks.v1+cell": {
     "cellMetadata": {
      "byteLimit": 2048000,
      "implicitDf": true,
      "rowLimit": 10000
     },
     "inputWidgets": {},
     "nuid": "29e42a1c-01f6-4698-a61a-df99888361da",
     "showTitle": true,
     "tableResultSettingsMap": {},
     "title": "Deletando o database 'silver', caso ele exista"
    }
   },
   "outputs": [
    {
     "output_type": "display_data",
     "data": {
      "text/html": [
       "<style scoped>\n",
       "  .table-result-container {\n",
       "    max-height: 300px;\n",
       "    overflow: auto;\n",
       "  }\n",
       "  table, th, td {\n",
       "    border: 1px solid black;\n",
       "    border-collapse: collapse;\n",
       "  }\n",
       "  th, td {\n",
       "    padding: 5px;\n",
       "  }\n",
       "  th {\n",
       "    text-align: left;\n",
       "  }\n",
       "</style><div class='table-result-container'><table class='table-result'><thead style='background-color: white'><tr></tr></thead><tbody></tbody></table></div>"
      ]
     },
     "metadata": {
      "application/vnd.databricks.v1+output": {
       "addedWidgets": {},
       "aggData": [],
       "aggError": "",
       "aggOverflow": false,
       "aggSchema": [],
       "aggSeriesLimitReached": false,
       "aggType": "",
       "arguments": {},
       "columnCustomDisplayInfos": {},
       "data": [],
       "datasetInfos": [],
       "dbfsResultPath": null,
       "isJsonSchema": true,
       "metadata": {},
       "overflow": false,
       "plotOptions": {
        "customPlotOptions": {},
        "displayType": "table",
        "pivotAggregation": null,
        "pivotColumns": null,
        "xColumns": null,
        "yColumns": null
       },
       "removedWidgets": [],
       "schema": [],
       "type": "table"
      }
     },
     "output_type": "display_data"
    }
   ],
   "source": [
    "%sql DROP DATABASE IF EXISTS silver CASCADE"
   ]
  },
  {
   "cell_type": "markdown",
   "metadata": {
    "application/vnd.databricks.v1+cell": {
     "cellMetadata": {},
     "inputWidgets": {},
     "nuid": "a96e9cdc-4d2f-47a2-8a94-9c04e8b9f8cd",
     "showTitle": false,
     "tableResultSettingsMap": {},
     "title": ""
    }
   },
   "source": [
    "**Criando o database 'silver'**"
   ]
  },
  {
   "cell_type": "code",
   "execution_count": 0,
   "metadata": {
    "application/vnd.databricks.v1+cell": {
     "cellMetadata": {
      "byteLimit": 2048000,
      "implicitDf": true,
      "rowLimit": 10000
     },
     "inputWidgets": {},
     "nuid": "f2e59b60-9b80-45bc-a2fb-2a298387e6eb",
     "showTitle": true,
     "tableResultSettingsMap": {},
     "title": "Criando o database 'silver'"
    }
   },
   "outputs": [
    {
     "output_type": "display_data",
     "data": {
      "text/html": [
       "<style scoped>\n",
       "  .table-result-container {\n",
       "    max-height: 300px;\n",
       "    overflow: auto;\n",
       "  }\n",
       "  table, th, td {\n",
       "    border: 1px solid black;\n",
       "    border-collapse: collapse;\n",
       "  }\n",
       "  th, td {\n",
       "    padding: 5px;\n",
       "  }\n",
       "  th {\n",
       "    text-align: left;\n",
       "  }\n",
       "</style><div class='table-result-container'><table class='table-result'><thead style='background-color: white'><tr></tr></thead><tbody></tbody></table></div>"
      ]
     },
     "metadata": {
      "application/vnd.databricks.v1+output": {
       "addedWidgets": {},
       "aggData": [],
       "aggError": "",
       "aggOverflow": false,
       "aggSchema": [],
       "aggSeriesLimitReached": false,
       "aggType": "",
       "arguments": {},
       "columnCustomDisplayInfos": {},
       "data": [],
       "datasetInfos": [],
       "dbfsResultPath": null,
       "isJsonSchema": true,
       "metadata": {},
       "overflow": false,
       "plotOptions": {
        "customPlotOptions": {},
        "displayType": "table",
        "pivotAggregation": null,
        "pivotColumns": null,
        "xColumns": null,
        "yColumns": null
       },
       "removedWidgets": [],
       "schema": [],
       "type": "table"
      }
     },
     "output_type": "display_data"
    }
   ],
   "source": [
    "%sql CREATE DATABASE silver;"
   ]
  },
  {
   "cell_type": "markdown",
   "metadata": {
    "application/vnd.databricks.v1+cell": {
     "cellMetadata": {},
     "inputWidgets": {},
     "nuid": "7c611d6a-2d2d-458c-bb6c-0f6d49163cc7",
     "showTitle": false,
     "tableResultSettingsMap": {},
     "title": ""
    }
   },
   "source": [
    "**Criando as tabelas 'silver'**"
   ]
  },
  {
   "cell_type": "code",
   "execution_count": 0,
   "metadata": {
    "application/vnd.databricks.v1+cell": {
     "cellMetadata": {
      "byteLimit": 2048000,
      "rowLimit": 10000
     },
     "inputWidgets": {},
     "nuid": "65f877e6-7e30-458d-9ba3-ed736b9c6692",
     "showTitle": true,
     "tableResultSettingsMap": {},
     "title": "Criando as tabelas 'silver'"
    }
   },
   "outputs": [],
   "source": [
    "# Criando a tabela worldcups\n",
    "df_worldcups_silver.write.mode(\"overwrite\").saveAsTable(\"silver.worldcups\")\n",
    "\n",
    "# Criando a tabela worldcupmatches\n",
    "df_worldcupmatches_silver.write.mode(\"overwrite\").saveAsTable(\"silver.worldcupmatches\")\n",
    "\n",
    "# Criando a tabela worldcupplayers\n",
    "df_worldcupplayers_silver.write.mode(\"overwrite\").saveAsTable(\"silver.worldcupplayers\")"
   ]
  },
  {
   "cell_type": "markdown",
   "metadata": {
    "application/vnd.databricks.v1+cell": {
     "cellMetadata": {},
     "inputWidgets": {},
     "nuid": "a4b6a085-16a1-4c18-9d8e-7f419d06faa7",
     "showTitle": false,
     "tableResultSettingsMap": {},
     "title": ""
    }
   },
   "source": [
    "**Analisando a tabela silver.worldcups**"
   ]
  },
  {
   "cell_type": "code",
   "execution_count": 0,
   "metadata": {
    "application/vnd.databricks.v1+cell": {
     "cellMetadata": {
      "byteLimit": 2048000,
      "implicitDf": true,
      "rowLimit": 10000
     },
     "inputWidgets": {},
     "nuid": "ea21e498-4613-4840-858f-6bb3c8610844",
     "showTitle": true,
     "tableResultSettingsMap": {},
     "title": "Analisando a tabela silver.worldcups"
    }
   },
   "outputs": [
    {
     "output_type": "display_data",
     "data": {
      "text/html": [
       "<style scoped>\n",
       "  .table-result-container {\n",
       "    max-height: 300px;\n",
       "    overflow: auto;\n",
       "  }\n",
       "  table, th, td {\n",
       "    border: 1px solid black;\n",
       "    border-collapse: collapse;\n",
       "  }\n",
       "  th, td {\n",
       "    padding: 5px;\n",
       "  }\n",
       "  th {\n",
       "    text-align: left;\n",
       "  }\n",
       "</style><div class='table-result-container'><table class='table-result'><thead style='background-color: white'><tr><th>Year</th><th>CountryCup</th><th>WinnerCup</th><th>RunnersUpCup</th><th>ThirdCup</th><th>GoalsScoredCup</th><th>AttendanceCup</th></tr></thead><tbody><tr><td>1990</td><td>Italy</td><td>Germany</td><td>Argentina</td><td>Italy</td><td>115</td><td>2516215</td></tr><tr><td>1958</td><td>Sweden</td><td>Brazil</td><td>Sweden</td><td>France</td><td>126</td><td>819810</td></tr><tr><td>2010</td><td>South Africa</td><td>Spain</td><td>Netherlands</td><td>Germany</td><td>145</td><td>3178856</td></tr><tr><td>1934</td><td>Italy</td><td>Italy</td><td>Czechoslovakia</td><td>Germany</td><td>70</td><td>363000</td></tr><tr><td>1970</td><td>Mexico</td><td>Brazil</td><td>Italy</td><td>Germany</td><td>95</td><td>1603975</td></tr><tr><td>1986</td><td>Mexico</td><td>Argentina</td><td>Germany</td><td>France</td><td>132</td><td>2394031</td></tr><tr><td>1998</td><td>France</td><td>France</td><td>Brazil</td><td>Croatia</td><td>171</td><td>2785100</td></tr><tr><td>1974</td><td>Germany</td><td>Germany</td><td>Netherlands</td><td>Poland</td><td>97</td><td>1865753</td></tr><tr><td>1978</td><td>Argentina</td><td>Argentina</td><td>Netherlands</td><td>Brazil</td><td>102</td><td>1545791</td></tr><tr><td>2006</td><td>Germany</td><td>Italy</td><td>France</td><td>Germany</td><td>147</td><td>3359439</td></tr><tr><td>2014</td><td>Brazil</td><td>Germany</td><td>Argentina</td><td>Netherlands</td><td>171</td><td>3386810</td></tr><tr><td>1954</td><td>Switzerland</td><td>Germany</td><td>Hungary</td><td>Austria</td><td>140</td><td>768607</td></tr><tr><td>1994</td><td>United States</td><td>Brazil</td><td>Italy</td><td>Sweden</td><td>141</td><td>3587538</td></tr><tr><td>2002</td><td>Korea/Japan</td><td>Brazil</td><td>Germany</td><td>Turkey</td><td>161</td><td>2705197</td></tr><tr><td>1962</td><td>Chile</td><td>Brazil</td><td>Czechoslovakia</td><td>Chile</td><td>89</td><td>893172</td></tr><tr><td>1982</td><td>Spain</td><td>Italy</td><td>Germany</td><td>Poland</td><td>146</td><td>2109723</td></tr><tr><td>1938</td><td>France</td><td>Italy</td><td>Hungary</td><td>Brazil</td><td>84</td><td>375700</td></tr><tr><td>1950</td><td>Brazil</td><td>Uruguay</td><td>Brazil</td><td>Sweden</td><td>88</td><td>1045246</td></tr><tr><td>1930</td><td>Uruguay</td><td>Uruguay</td><td>Argentina</td><td>United States</td><td>70</td><td>590549</td></tr><tr><td>1966</td><td>England</td><td>England</td><td>Germany</td><td>Portugal</td><td>89</td><td>1563135</td></tr></tbody></table></div>"
      ]
     },
     "metadata": {
      "application/vnd.databricks.v1+output": {
       "addedWidgets": {},
       "aggData": [],
       "aggError": "",
       "aggOverflow": false,
       "aggSchema": [],
       "aggSeriesLimitReached": false,
       "aggType": "",
       "arguments": {},
       "columnCustomDisplayInfos": {},
       "data": [
        [
         1990,
         "Italy",
         "Germany",
         "Argentina",
         "Italy",
         115,
         2516215
        ],
        [
         1958,
         "Sweden",
         "Brazil",
         "Sweden",
         "France",
         126,
         819810
        ],
        [
         2010,
         "South Africa",
         "Spain",
         "Netherlands",
         "Germany",
         145,
         3178856
        ],
        [
         1934,
         "Italy",
         "Italy",
         "Czechoslovakia",
         "Germany",
         70,
         363000
        ],
        [
         1970,
         "Mexico",
         "Brazil",
         "Italy",
         "Germany",
         95,
         1603975
        ],
        [
         1986,
         "Mexico",
         "Argentina",
         "Germany",
         "France",
         132,
         2394031
        ],
        [
         1998,
         "France",
         "France",
         "Brazil",
         "Croatia",
         171,
         2785100
        ],
        [
         1974,
         "Germany",
         "Germany",
         "Netherlands",
         "Poland",
         97,
         1865753
        ],
        [
         1978,
         "Argentina",
         "Argentina",
         "Netherlands",
         "Brazil",
         102,
         1545791
        ],
        [
         2006,
         "Germany",
         "Italy",
         "France",
         "Germany",
         147,
         3359439
        ],
        [
         2014,
         "Brazil",
         "Germany",
         "Argentina",
         "Netherlands",
         171,
         3386810
        ],
        [
         1954,
         "Switzerland",
         "Germany",
         "Hungary",
         "Austria",
         140,
         768607
        ],
        [
         1994,
         "United States",
         "Brazil",
         "Italy",
         "Sweden",
         141,
         3587538
        ],
        [
         2002,
         "Korea/Japan",
         "Brazil",
         "Germany",
         "Turkey",
         161,
         2705197
        ],
        [
         1962,
         "Chile",
         "Brazil",
         "Czechoslovakia",
         "Chile",
         89,
         893172
        ],
        [
         1982,
         "Spain",
         "Italy",
         "Germany",
         "Poland",
         146,
         2109723
        ],
        [
         1938,
         "France",
         "Italy",
         "Hungary",
         "Brazil",
         84,
         375700
        ],
        [
         1950,
         "Brazil",
         "Uruguay",
         "Brazil",
         "Sweden",
         88,
         1045246
        ],
        [
         1930,
         "Uruguay",
         "Uruguay",
         "Argentina",
         "United States",
         70,
         590549
        ],
        [
         1966,
         "England",
         "England",
         "Germany",
         "Portugal",
         89,
         1563135
        ]
       ],
       "datasetInfos": [],
       "dbfsResultPath": null,
       "isJsonSchema": true,
       "metadata": {},
       "overflow": false,
       "plotOptions": {
        "customPlotOptions": {},
        "displayType": "table",
        "pivotAggregation": null,
        "pivotColumns": null,
        "xColumns": null,
        "yColumns": null
       },
       "removedWidgets": [],
       "schema": [
        {
         "metadata": "{}",
         "name": "Year",
         "type": "\"integer\""
        },
        {
         "metadata": "{}",
         "name": "CountryCup",
         "type": "\"string\""
        },
        {
         "metadata": "{}",
         "name": "WinnerCup",
         "type": "\"string\""
        },
        {
         "metadata": "{}",
         "name": "RunnersUpCup",
         "type": "\"string\""
        },
        {
         "metadata": "{}",
         "name": "ThirdCup",
         "type": "\"string\""
        },
        {
         "metadata": "{}",
         "name": "GoalsScoredCup",
         "type": "\"integer\""
        },
        {
         "metadata": "{}",
         "name": "AttendanceCup",
         "type": "\"integer\""
        }
       ],
       "type": "table"
      }
     },
     "output_type": "display_data"
    }
   ],
   "source": [
    "%sql SELECT * FROM silver.worldcups LIMIT 100"
   ]
  },
  {
   "cell_type": "markdown",
   "metadata": {
    "application/vnd.databricks.v1+cell": {
     "cellMetadata": {},
     "inputWidgets": {},
     "nuid": "18601eb3-4c88-43c8-8ab3-e282d50a6555",
     "showTitle": false,
     "tableResultSettingsMap": {},
     "title": ""
    }
   },
   "source": [
    "**Analisando a tabela silver.worldcupmatches**"
   ]
  },
  {
   "cell_type": "code",
   "execution_count": 0,
   "metadata": {
    "application/vnd.databricks.v1+cell": {
     "cellMetadata": {
      "byteLimit": 2048000,
      "implicitDf": true,
      "rowLimit": 10000
     },
     "inputWidgets": {},
     "nuid": "81028b8d-2e4b-4628-9fbb-f811dff0f19a",
     "showTitle": true,
     "tableResultSettingsMap": {},
     "title": "Analisando a tabela silver.worldcupmatches"
    }
   },
   "outputs": [
    {
     "output_type": "display_data",
     "data": {
      "text/html": [
       "<style scoped>\n",
       "  .table-result-container {\n",
       "    max-height: 300px;\n",
       "    overflow: auto;\n",
       "  }\n",
       "  table, th, td {\n",
       "    border: 1px solid black;\n",
       "    border-collapse: collapse;\n",
       "  }\n",
       "  th, td {\n",
       "    padding: 5px;\n",
       "  }\n",
       "  th {\n",
       "    text-align: left;\n",
       "  }\n",
       "</style><div class='table-result-container'><table class='table-result'><thead style='background-color: white'><tr><th>Year</th><th>HomeTeamName</th><th>HomeTeamGoals</th><th>AwayTeamGoals</th><th>AwayTeamName</th><th>AttendanceMatch</th><th>Referee</th><th>MatchID</th><th>RefereeCountry</th></tr></thead><tbody><tr><td>1962</td><td>Czechoslovakia</td><td>1</td><td>0</td><td>Hungary</td><td>11690</td><td>LATYCHEV Nikolaj (URS)</td><td>1525</td><td>URS</td></tr><tr><td>1994</td><td>Colombia</td><td>1</td><td>3</td><td>Romania</td><td>91856</td><td>AL SHARIF Jamal (SYR)</td><td>3053</td><td>SYR</td></tr><tr><td>2002</td><td>Germany</td><td>0</td><td>2</td><td>Brazil</td><td>69029</td><td>COLLINA Pierluigi (ITA)</td><td>43950064</td><td>ITA</td></tr><tr><td>2006</td><td>Japan</td><td>0</td><td>0</td><td>Croatia</td><td>41000</td><td>DE BLEECKERE Frank (BEL)</td><td>97410028</td><td>BEL</td></tr><tr><td>2014</td><td>Uruguay</td><td>1</td><td>3</td><td>Costa Rica</td><td>58679</td><td>BRYCH Felix (GER)</td><td>300186489</td><td>GER</td></tr><tr><td>2014</td><td>Costa Rica</td><td>0</td><td>0</td><td>England</td><td>57823</td><td>HAIMOUDI Djamel (ALG)</td><td>300186484</td><td>ALG</td></tr><tr><td>1938</td><td>Switzerland</td><td>4</td><td>2</td><td>Germany</td><td>20025</td><td>EKLIND Ivan (SWE)</td><td>1166</td><td>SWE</td></tr><tr><td>1970</td><td>Belgium</td><td>3</td><td>0</td><td>El Salvador</td><td>92205</td><td>RADULESCU Andrei (ROU)</td><td>1747</td><td>ROU</td></tr><tr><td>1974</td><td>Argentina</td><td>4</td><td>1</td><td>Haiti</td><td>25900</td><td>SANCHEZ IBANEZ Pablo (ESP)</td><td>1947</td><td>ESP</td></tr><tr><td>1994</td><td>Germany</td><td>3</td><td>2</td><td>Korea Republic</td><td>63998</td><td>QUINIOU Joel (FRA)</td><td>3076</td><td>FRA</td></tr><tr><td>2002</td><td>Germany</td><td>8</td><td>0</td><td>Saudi Arabia</td><td>32218</td><td>AQUINO Ubaldo (PAR)</td><td>43950004</td><td>PAR</td></tr><tr><td>2014</td><td>Argentina</td><td>1</td><td>0</td><td>Iran</td><td>57698</td><td>MAZIC Milorad (SRB)</td><td>300186466</td><td>SRB</td></tr><tr><td>1966</td><td>England</td><td>4</td><td>2</td><td>Germany</td><td>96924</td><td>DIENST Gottfried (SUI)</td><td>1633</td><td>SUI</td></tr><tr><td>1998</td><td>France</td><td>2</td><td>1</td><td>Croatia</td><td>76000</td><td>GARCIA ARANDA Jose Maria (ESP)</td><td>8786</td><td>ESP</td></tr><tr><td>1974</td><td>Haiti</td><td>0</td><td>7</td><td>Poland</td><td>25300</td><td>SUPPIAH George (SIN)</td><td>2085</td><td>SIN</td></tr><tr><td>1990</td><td>Yugoslavia</td><td>0</td><td>0</td><td>Argentina</td><td>38971</td><td>ROETHLISBERGER Kurt (SUI)</td><td>31</td><td>SUI</td></tr><tr><td>2010</td><td>Ghana</td><td>1</td><td>1</td><td>Australia</td><td>34812</td><td>ROSETTI Roberto (ITA)</td><td>300061469</td><td>ITA</td></tr><tr><td>2014</td><td>Germany</td><td>4</td><td>0</td><td>Portugal</td><td>51081</td><td>MAZIC Milorad (SRB)</td><td>300186475</td><td>SRB</td></tr><tr><td>2014</td><td>Algeria</td><td>1</td><td>1</td><td>Russia</td><td>39311</td><td>Cuneyt CAKIR (TUR)</td><td>300186506</td><td>TUR</td></tr><tr><td>1950</td><td>Brazil</td><td>2</td><td>0</td><td>Yugoslavia</td><td>142429</td><td>GRIFFITHS Benjamin (WAL)</td><td>1191</td><td>WAL</td></tr><tr><td>1978</td><td>Poland</td><td>3</td><td>1</td><td>Mexico</td><td>22651</td><td>NAMDAR Jafar (IRN)</td><td>2431</td><td>IRN</td></tr><tr><td>1998</td><td>Brazil</td><td>3</td><td>2</td><td>Denmark</td><td>35500</td><td>EL GHANDOUR Gamal (EGY)</td><td>8782</td><td>EGY</td></tr><tr><td>2014</td><td>Russia</td><td>1</td><td>1</td><td>Korea Republic</td><td>37603</td><td>PITANA Nestor (ARG)</td><td>300186499</td><td>ARG</td></tr><tr><td>2014</td><td>Argentina</td><td>1</td><td>0</td><td>Belgium</td><td>68551</td><td>Nicola RIZZOLI (ITA)</td><td>300186504</td><td>ITA</td></tr><tr><td>1990</td><td>USA</td><td>1</td><td>5</td><td>Czechoslovakia</td><td>33266</td><td>ROETHLISBERGER Kurt (SUI)</td><td>355</td><td>SUI</td></tr><tr><td>1998</td><td>Brazil</td><td>0</td><td>3</td><td>France</td><td>80000</td><td>BELQOLA Said (MAR)</td><td>8788</td><td>MAR</td></tr><tr><td>1990</td><td>Republic of Ireland</td><td>0</td><td>0</td><td>Egypt</td><td>33288</td><td>VAN LANGENHOVE Marcel (BEL)</td><td>152</td><td>BEL</td></tr><tr><td>1994</td><td>Italy</td><td>0</td><td>1</td><td>Republic of Ireland</td><td>75338</td><td>VAN DER ENDE Mario (NED)</td><td>3052</td><td>NED</td></tr><tr><td>2002</td><td>Italy</td><td>2</td><td>0</td><td>Ecuador</td><td>31081</td><td>HALL Brian (USA)</td><td>43950011</td><td>USA</td></tr><tr><td>1982</td><td>Spain</td><td>2</td><td>1</td><td>Yugoslavia</td><td>48000</td><td>LUND-SORENSEN Henning (DEN)</td><td>903</td><td>DEN</td></tr><tr><td>2014</td><td>Colombia</td><td>2</td><td>1</td><td>Cote d'Ivoire</td><td>68748</td><td>WEBB Howard (ENG)</td><td>300186468</td><td>ENG</td></tr><tr><td>1962</td><td>England</td><td>0</td><td>0</td><td>Bulgaria</td><td>5700</td><td>BLAVIER Arthur (BEL)</td><td>1464</td><td>BEL</td></tr><tr><td>1994</td><td>Korea Republic</td><td>0</td><td>0</td><td>Bolivia</td><td>54453</td><td>MOTTRAM Leslie (SCO)</td><td>3065</td><td>SCO</td></tr><tr><td>2014</td><td>USA</td><td>2</td><td>2</td><td>Portugal</td><td>40123</td><td>PITANA Nestor (ARG)</td><td>300186483</td><td>ARG</td></tr><tr><td>1938</td><td>Brazil</td><td>6</td><td>5</td><td>Poland</td><td>13452</td><td>EKLIND Ivan (SWE)</td><td>1150</td><td>SWE</td></tr><tr><td>1970</td><td>Soviet Union</td><td>4</td><td>1</td><td>Belgium</td><td>95261</td><td>SCHEURER Ruedi (SUI)</td><td>1753</td><td>SUI</td></tr><tr><td>1986</td><td>Portugal</td><td>1</td><td>0</td><td>England</td><td>23000</td><td>ROTH Volker (GER)</td><td>538</td><td>GER</td></tr><tr><td>1958</td><td>Soviet Union</td><td>1</td><td>0</td><td>England</td><td>23182</td><td>DUSCH Albert (GER)</td><td>1373</td><td>GER</td></tr><tr><td>2010</td><td>Japan</td><td>1</td><td>0</td><td>Cameroon</td><td>30620</td><td>Olegário BENQUERENCA (POR)</td><td>300061477</td><td>POR</td></tr><tr><td>2010</td><td>Cameroon</td><td>1</td><td>2</td><td>Netherlands</td><td>63093</td><td>POZO Pablo (CHI)</td><td>300061473</td><td>CHI</td></tr><tr><td>2010</td><td>USA</td><td>1</td><td>2</td><td>Ghana</td><td>34976</td><td>KASSAI Viktor (HUN)</td><td>300061503</td><td>HUN</td></tr><tr><td>1978</td><td>Peru</td><td>4</td><td>1</td><td>Iran</td><td>21262</td><td>JARGUZ Alojzy (POL)</td><td>2405</td><td>POL</td></tr><tr><td>1998</td><td>South Africa</td><td>1</td><td>1</td><td>Denmark</td><td>33500</td><td>TORO RENDON John (COL)</td><td>8746</td><td>COL</td></tr><tr><td>2010</td><td>South Africa</td><td>0</td><td>3</td><td>Uruguay</td><td>42658</td><td>BUSACCA Massimo (SUI)</td><td>300061452</td><td>SUI</td></tr><tr><td>2014</td><td>England</td><td>1</td><td>2</td><td>Italy</td><td>39800</td><td>Bjorn KUIPERS (NED)</td><td>300186513</td><td>NED</td></tr><tr><td>1986</td><td>Morocco</td><td>0</td><td>1</td><td>Germany</td><td>19800</td><td>PETROVIC Zoran (SRB)</td><td>574</td><td>SRB</td></tr><tr><td>2014</td><td>Costa Rica</td><td>1</td><td>1</td><td>Greece</td><td>41242</td><td>Ben WILLIAMS (AUS)</td><td>300186459</td><td>AUS</td></tr><tr><td>1962</td><td>Germany</td><td>2</td><td>0</td><td>Chile</td><td>67224</td><td>DAVIDSON Bob (SCO)</td><td>1471</td><td>SCO</td></tr><tr><td>1974</td><td>Yugoslavia</td><td>0</td><td>2</td><td>Germany</td><td>67385</td><td>MARQUES Armando (BRA)</td><td>2066</td><td>BRA</td></tr><tr><td>2002</td><td>China</td><td>0</td><td>2</td><td>Costa Rica</td><td>27217</td><td>VASSARAS Kyros (GRE)</td><td>43950012</td><td>GRE</td></tr><tr><td>2002</td><td>Mexico</td><td>1</td><td>1</td><td>Italy</td><td>39291</td><td>SIMON Carlos (BRA)</td><td>43950043</td><td>BRA</td></tr><tr><td>2014</td><td>Cameroon</td><td>0</td><td>4</td><td>Croatia</td><td>39982</td><td>PROENCA Pedro (POR)</td><td>300186453</td><td>POR</td></tr><tr><td>2014</td><td>Brazil</td><td>2</td><td>1</td><td>Colombia</td><td>60342</td><td>Carlos VELASCO CARBALLO (ESP)</td><td>300186461</td><td>ESP</td></tr><tr><td>2014</td><td>Argentina</td><td>1</td><td>0</td><td>Switzerland</td><td>63255</td><td>ERIKSSON Jonas (SWE)</td><td>300186503</td><td>SWE</td></tr><tr><td>1938</td><td>Italy</td><td>2</td><td>1</td><td>Brazil</td><td>33000</td><td>WUETHRICH Hans (SUI)</td><td>1149</td><td>SUI</td></tr><tr><td>1978</td><td>Brazil</td><td>0</td><td>0</td><td>Spain</td><td>34771</td><td>GONELLA Sergio (ITA)</td><td>2246</td><td>ITA</td></tr><tr><td>1978</td><td>Brazil</td><td>2</td><td>1</td><td>Italy</td><td>69659</td><td>KLEIN Abraham (ISR)</td><td>2247</td><td>ISR</td></tr><tr><td>2006</td><td>Tunisia</td><td>2</td><td>2</td><td>Saudi Arabia</td><td>66000</td><td>SHIELD Mark (AUS)</td><td>97410016</td><td>AUS</td></tr><tr><td>2006</td><td>Netherlands</td><td>2</td><td>1</td><td>Cote d'Ivoire</td><td>52000</td><td>RUIZ Oscar (COL)</td><td>97410022</td><td>COL</td></tr><tr><td>1998</td><td>Romania</td><td>0</td><td>1</td><td>Croatia</td><td>31800</td><td>CASTRILLI Javier (ARG)</td><td>8780</td><td>ARG</td></tr><tr><td>1954</td><td>Hungary</td><td>9</td><td>0</td><td>Korea Republic</td><td>13000</td><td>VINCENTI Raymond (FRA)</td><td>1294</td><td>FRA</td></tr><tr><td>1974</td><td>Yugoslavia</td><td>9</td><td>0</td><td>Zaire</td><td>31700</td><td>DELGADO Omar (COL)</td><td>2186</td><td>COL</td></tr><tr><td>1974</td><td>Germany</td><td>1</td><td>0</td><td>Germany</td><td>60200</td><td>BARRETO RUIZ Ramon (URU)</td><td>2062</td><td>URU</td></tr><tr><td>2002</td><td>Poland</td><td>3</td><td>1</td><td>USA</td><td>26482</td><td>LU Jun (CHN)</td><td>43950048</td><td>CHN</td></tr><tr><td>1930</td><td>Argentina</td><td>3</td><td>1</td><td>Chile</td><td>41459</td><td>LANGENUS Jean (BEL)</td><td>1084</td><td>BEL</td></tr><tr><td>1970</td><td>England</td><td>1</td><td>0</td><td>Romania</td><td>50560</td><td>LORAUX Vital (BEL)</td><td>1812</td><td>BEL</td></tr><tr><td>1978</td><td>Argentina</td><td>2</td><td>0</td><td>Poland</td><td>37091</td><td>ERIKSSON Ulf (SWE)</td><td>2202</td><td>SWE</td></tr><tr><td>1982</td><td>France</td><td>1</td><td>1</td><td>Czechoslovakia</td><td>28000</td><td>CASARIN Paolo (ITA)</td><td>922</td><td>ITA</td></tr><tr><td>1990</td><td>Yugoslavia</td><td>1</td><td>0</td><td>Colombia</td><td>32257</td><td>AGNOLIN Luigi (ITA)</td><td>120</td><td>ITA</td></tr><tr><td>1998</td><td>Brazil</td><td>1</td><td>1</td><td>Netherlands</td><td>54000</td><td>BUJSAIM Ali (UAE)</td><td>8785</td><td>UAE</td></tr><tr><td>2006</td><td>Germany</td><td>3</td><td>1</td><td>Portugal</td><td>52000</td><td>KAMIKAWA Toru (JPN)</td><td>97410063</td><td>JPN</td></tr><tr><td>2014</td><td>Croatia</td><td>1</td><td>3</td><td>Mexico</td><td>41212</td><td>Ravshan IRMATOV (UZB)</td><td>300186452</td><td>UZB</td></tr><tr><td>1958</td><td>Sweden</td><td>2</td><td>1</td><td>Hungary</td><td>38850</td><td>MOWAT Jack (SCO)</td><td>1406</td><td>SCO</td></tr><tr><td>1998</td><td>Colombia</td><td>1</td><td>0</td><td>Tunisia</td><td>29800</td><td>HEYNEMANN Bernd (GER)</td><td>8755</td><td>GER</td></tr><tr><td>1954</td><td>Italy</td><td>4</td><td>1</td><td>Belgium</td><td>24000</td><td>STEINER Carl (AUT)</td><td>1243</td><td>AUT</td></tr><tr><td>1958</td><td>Paraguay</td><td>3</td><td>2</td><td>Scotland</td><td>11665</td><td>ORLANDINI Vincenzo (ITA)</td><td>1423</td><td>ITA</td></tr><tr><td>1990</td><td>England</td><td>1</td><td>0</td><td>Belgium</td><td>34520</td><td>MIKKELSEN Peter (DEN)</td><td>55</td><td>DEN</td></tr><tr><td>2002</td><td>USA</td><td>3</td><td>2</td><td>Portugal</td><td>37306</td><td>MORENO Byron (ECU)</td><td>43950016</td><td>ECU</td></tr><tr><td>2002</td><td>Germany</td><td>1</td><td>0</td><td>USA</td><td>37337</td><td>DALLAS Hugh (SCO)</td><td>43950058</td><td>SCO</td></tr><tr><td>2014</td><td>Honduras</td><td>1</td><td>2</td><td>Ecuador</td><td>39224</td><td>Ben WILLIAMS (AUS)</td><td>300186463</td><td>AUS</td></tr><tr><td>1978</td><td>Netherlands</td><td>5</td><td>1</td><td>Austria</td><td>25050</td><td>GORDON John (SCO)</td><td>2220</td><td>SCO</td></tr><tr><td>1986</td><td>England</td><td>0</td><td>0</td><td>Morocco</td><td>20200</td><td>GONZALEZ ROA Gabriel (PAR)</td><td>533</td><td>PAR</td></tr><tr><td>2010</td><td>Chile</td><td>1</td><td>0</td><td>Switzerland</td><td>34872</td><td>AL GHAMDI Khalil (KSA)</td><td>300061493</td><td>KSA</td></tr><tr><td>2010</td><td>Portugal</td><td>0</td><td>0</td><td>Brazil</td><td>62712</td><td>ARCHUNDIA Benito (MEX)</td><td>300111111</td><td>MEX</td></tr><tr><td>2014</td><td>Belgium</td><td>1</td><td>0</td><td>Russia</td><td>73819</td><td>BRYCH Felix (GER)</td><td>300186481</td><td>GER</td></tr><tr><td>1958</td><td>Argentina</td><td>3</td><td>1</td><td>Northern Ireland</td><td>14174</td><td>AHLNER Sten (SWE)</td><td>1324</td><td>SWE</td></tr><tr><td>1958</td><td>Brazil</td><td>5</td><td>2</td><td>Sweden</td><td>49737</td><td>GUIGUE Maurice (FRA)</td><td>1343</td><td>FRA</td></tr><tr><td>1966</td><td>Germany</td><td>0</td><td>0</td><td>Argentina</td><td>46587</td><td>ZECEVIC Konstantin (YUG)</td><td>1579</td><td>YUG</td></tr><tr><td>1974</td><td>Sweden</td><td>0</td><td>0</td><td>Bulgaria</td><td>23800</td><td>PEREZ NUNEZ Edison A. (PER)</td><td>1995</td><td>PER</td></tr><tr><td>1982</td><td>Germany</td><td>4</td><td>1</td><td>Chile</td><td>42000</td><td>GALLER Bruno (SUI)</td><td>813</td><td>SUI</td></tr><tr><td>1998</td><td>Spain</td><td>6</td><td>1</td><td>Bulgaria</td><td>38100</td><td>VAN DER ENDE Mario (NED)</td><td>8761</td><td>NED</td></tr><tr><td>1970</td><td>Italy</td><td>0</td><td>0</td><td>Israel</td><td>9890</td><td>DE MORAES Ayrton Vieira (BRA)</td><td>1877</td><td>BRA</td></tr><tr><td>1950</td><td>Spain</td><td>3</td><td>1</td><td>USA</td><td>9511</td><td>VIANA Mario (BRA)</td><td>1208</td><td>BRA</td></tr><tr><td>1962</td><td>Hungary</td><td>6</td><td>1</td><td>Bulgaria</td><td>7442</td><td>GARDEAZABAL Juan (ESP)</td><td>1470</td><td>ESP</td></tr><tr><td>1974</td><td>Germany</td><td>1</td><td>0</td><td>Chile</td><td>81100</td><td>BABACAN Dogan (TUR)</td><td>2003</td><td>TUR</td></tr><tr><td>2002</td><td>Republic of Ireland</td><td>1</td><td>1</td><td>Cameroon</td><td>33679</td><td>KAMIKAWA Toru (JPN)</td><td>43950002</td><td>JPN</td></tr><tr><td>2006</td><td>Sweden</td><td>2</td><td>2</td><td>England</td><td>45000</td><td>BUSACCA Massimo (SUI)</td><td>97410035</td><td>SUI</td></tr><tr><td>1958</td><td>France</td><td>7</td><td>3</td><td>Paraguay</td><td>16518</td><td>GARDEAZABAL Juan (ESP)</td><td>1386</td><td>ESP</td></tr><tr><td>1986</td><td>Soviet Union</td><td>6</td><td>0</td><td>Hungary</td><td>16500</td><td>AGNOLIN Luigi (ITA)</td><td>610</td><td>ITA</td></tr><tr><td>1986</td><td>Hungary</td><td>2</td><td>0</td><td>Canada</td><td>13800</td><td>AL SHARIF Jamal (SYR)</td><td>475</td><td>SYR</td></tr></tbody></table></div>"
      ]
     },
     "metadata": {
      "application/vnd.databricks.v1+output": {
       "addedWidgets": {},
       "aggData": [],
       "aggError": "",
       "aggOverflow": false,
       "aggSchema": [],
       "aggSeriesLimitReached": false,
       "aggType": "",
       "arguments": {},
       "columnCustomDisplayInfos": {},
       "data": [
        [
         1962,
         "Czechoslovakia",
         1,
         0,
         "Hungary",
         11690,
         "LATYCHEV Nikolaj (URS)",
         1525,
         "URS"
        ],
        [
         1994,
         "Colombia",
         1,
         3,
         "Romania",
         91856,
         "AL SHARIF Jamal (SYR)",
         3053,
         "SYR"
        ],
        [
         2002,
         "Germany",
         0,
         2,
         "Brazil",
         69029,
         "COLLINA Pierluigi (ITA)",
         43950064,
         "ITA"
        ],
        [
         2006,
         "Japan",
         0,
         0,
         "Croatia",
         41000,
         "DE BLEECKERE Frank (BEL)",
         97410028,
         "BEL"
        ],
        [
         2014,
         "Uruguay",
         1,
         3,
         "Costa Rica",
         58679,
         "BRYCH Felix (GER)",
         300186489,
         "GER"
        ],
        [
         2014,
         "Costa Rica",
         0,
         0,
         "England",
         57823,
         "HAIMOUDI Djamel (ALG)",
         300186484,
         "ALG"
        ],
        [
         1938,
         "Switzerland",
         4,
         2,
         "Germany",
         20025,
         "EKLIND Ivan (SWE)",
         1166,
         "SWE"
        ],
        [
         1970,
         "Belgium",
         3,
         0,
         "El Salvador",
         92205,
         "RADULESCU Andrei (ROU)",
         1747,
         "ROU"
        ],
        [
         1974,
         "Argentina",
         4,
         1,
         "Haiti",
         25900,
         "SANCHEZ IBANEZ Pablo (ESP)",
         1947,
         "ESP"
        ],
        [
         1994,
         "Germany",
         3,
         2,
         "Korea Republic",
         63998,
         "QUINIOU Joel (FRA)",
         3076,
         "FRA"
        ],
        [
         2002,
         "Germany",
         8,
         0,
         "Saudi Arabia",
         32218,
         "AQUINO Ubaldo (PAR)",
         43950004,
         "PAR"
        ],
        [
         2014,
         "Argentina",
         1,
         0,
         "Iran",
         57698,
         "MAZIC Milorad (SRB)",
         300186466,
         "SRB"
        ],
        [
         1966,
         "England",
         4,
         2,
         "Germany",
         96924,
         "DIENST Gottfried (SUI)",
         1633,
         "SUI"
        ],
        [
         1998,
         "France",
         2,
         1,
         "Croatia",
         76000,
         "GARCIA ARANDA Jose Maria (ESP)",
         8786,
         "ESP"
        ],
        [
         1974,
         "Haiti",
         0,
         7,
         "Poland",
         25300,
         "SUPPIAH George (SIN)",
         2085,
         "SIN"
        ],
        [
         1990,
         "Yugoslavia",
         0,
         0,
         "Argentina",
         38971,
         "ROETHLISBERGER Kurt (SUI)",
         31,
         "SUI"
        ],
        [
         2010,
         "Ghana",
         1,
         1,
         "Australia",
         34812,
         "ROSETTI Roberto (ITA)",
         300061469,
         "ITA"
        ],
        [
         2014,
         "Germany",
         4,
         0,
         "Portugal",
         51081,
         "MAZIC Milorad (SRB)",
         300186475,
         "SRB"
        ],
        [
         2014,
         "Algeria",
         1,
         1,
         "Russia",
         39311,
         "Cuneyt CAKIR (TUR)",
         300186506,
         "TUR"
        ],
        [
         1950,
         "Brazil",
         2,
         0,
         "Yugoslavia",
         142429,
         "GRIFFITHS Benjamin (WAL)",
         1191,
         "WAL"
        ],
        [
         1978,
         "Poland",
         3,
         1,
         "Mexico",
         22651,
         "NAMDAR Jafar (IRN)",
         2431,
         "IRN"
        ],
        [
         1998,
         "Brazil",
         3,
         2,
         "Denmark",
         35500,
         "EL GHANDOUR Gamal (EGY)",
         8782,
         "EGY"
        ],
        [
         2014,
         "Russia",
         1,
         1,
         "Korea Republic",
         37603,
         "PITANA Nestor (ARG)",
         300186499,
         "ARG"
        ],
        [
         2014,
         "Argentina",
         1,
         0,
         "Belgium",
         68551,
         "Nicola RIZZOLI (ITA)",
         300186504,
         "ITA"
        ],
        [
         1990,
         "USA",
         1,
         5,
         "Czechoslovakia",
         33266,
         "ROETHLISBERGER Kurt (SUI)",
         355,
         "SUI"
        ],
        [
         1998,
         "Brazil",
         0,
         3,
         "France",
         80000,
         "BELQOLA Said (MAR)",
         8788,
         "MAR"
        ],
        [
         1990,
         "Republic of Ireland",
         0,
         0,
         "Egypt",
         33288,
         "VAN LANGENHOVE Marcel (BEL)",
         152,
         "BEL"
        ],
        [
         1994,
         "Italy",
         0,
         1,
         "Republic of Ireland",
         75338,
         "VAN DER ENDE Mario (NED)",
         3052,
         "NED"
        ],
        [
         2002,
         "Italy",
         2,
         0,
         "Ecuador",
         31081,
         "HALL Brian (USA)",
         43950011,
         "USA"
        ],
        [
         1982,
         "Spain",
         2,
         1,
         "Yugoslavia",
         48000,
         "LUND-SORENSEN Henning (DEN)",
         903,
         "DEN"
        ],
        [
         2014,
         "Colombia",
         2,
         1,
         "Cote d'Ivoire",
         68748,
         "WEBB Howard (ENG)",
         300186468,
         "ENG"
        ],
        [
         1962,
         "England",
         0,
         0,
         "Bulgaria",
         5700,
         "BLAVIER Arthur (BEL)",
         1464,
         "BEL"
        ],
        [
         1994,
         "Korea Republic",
         0,
         0,
         "Bolivia",
         54453,
         "MOTTRAM Leslie (SCO)",
         3065,
         "SCO"
        ],
        [
         2014,
         "USA",
         2,
         2,
         "Portugal",
         40123,
         "PITANA Nestor (ARG)",
         300186483,
         "ARG"
        ],
        [
         1938,
         "Brazil",
         6,
         5,
         "Poland",
         13452,
         "EKLIND Ivan (SWE)",
         1150,
         "SWE"
        ],
        [
         1970,
         "Soviet Union",
         4,
         1,
         "Belgium",
         95261,
         "SCHEURER Ruedi (SUI)",
         1753,
         "SUI"
        ],
        [
         1986,
         "Portugal",
         1,
         0,
         "England",
         23000,
         "ROTH Volker (GER)",
         538,
         "GER"
        ],
        [
         1958,
         "Soviet Union",
         1,
         0,
         "England",
         23182,
         "DUSCH Albert (GER)",
         1373,
         "GER"
        ],
        [
         2010,
         "Japan",
         1,
         0,
         "Cameroon",
         30620,
         "Olegário BENQUERENCA (POR)",
         300061477,
         "POR"
        ],
        [
         2010,
         "Cameroon",
         1,
         2,
         "Netherlands",
         63093,
         "POZO Pablo (CHI)",
         300061473,
         "CHI"
        ],
        [
         2010,
         "USA",
         1,
         2,
         "Ghana",
         34976,
         "KASSAI Viktor (HUN)",
         300061503,
         "HUN"
        ],
        [
         1978,
         "Peru",
         4,
         1,
         "Iran",
         21262,
         "JARGUZ Alojzy (POL)",
         2405,
         "POL"
        ],
        [
         1998,
         "South Africa",
         1,
         1,
         "Denmark",
         33500,
         "TORO RENDON John (COL)",
         8746,
         "COL"
        ],
        [
         2010,
         "South Africa",
         0,
         3,
         "Uruguay",
         42658,
         "BUSACCA Massimo (SUI)",
         300061452,
         "SUI"
        ],
        [
         2014,
         "England",
         1,
         2,
         "Italy",
         39800,
         "Bjorn KUIPERS (NED)",
         300186513,
         "NED"
        ],
        [
         1986,
         "Morocco",
         0,
         1,
         "Germany",
         19800,
         "PETROVIC Zoran (SRB)",
         574,
         "SRB"
        ],
        [
         2014,
         "Costa Rica",
         1,
         1,
         "Greece",
         41242,
         "Ben WILLIAMS (AUS)",
         300186459,
         "AUS"
        ],
        [
         1962,
         "Germany",
         2,
         0,
         "Chile",
         67224,
         "DAVIDSON Bob (SCO)",
         1471,
         "SCO"
        ],
        [
         1974,
         "Yugoslavia",
         0,
         2,
         "Germany",
         67385,
         "MARQUES Armando (BRA)",
         2066,
         "BRA"
        ],
        [
         2002,
         "China",
         0,
         2,
         "Costa Rica",
         27217,
         "VASSARAS Kyros (GRE)",
         43950012,
         "GRE"
        ],
        [
         2002,
         "Mexico",
         1,
         1,
         "Italy",
         39291,
         "SIMON Carlos (BRA)",
         43950043,
         "BRA"
        ],
        [
         2014,
         "Cameroon",
         0,
         4,
         "Croatia",
         39982,
         "PROENCA Pedro (POR)",
         300186453,
         "POR"
        ],
        [
         2014,
         "Brazil",
         2,
         1,
         "Colombia",
         60342,
         "Carlos VELASCO CARBALLO (ESP)",
         300186461,
         "ESP"
        ],
        [
         2014,
         "Argentina",
         1,
         0,
         "Switzerland",
         63255,
         "ERIKSSON Jonas (SWE)",
         300186503,
         "SWE"
        ],
        [
         1938,
         "Italy",
         2,
         1,
         "Brazil",
         33000,
         "WUETHRICH Hans (SUI)",
         1149,
         "SUI"
        ],
        [
         1978,
         "Brazil",
         0,
         0,
         "Spain",
         34771,
         "GONELLA Sergio (ITA)",
         2246,
         "ITA"
        ],
        [
         1978,
         "Brazil",
         2,
         1,
         "Italy",
         69659,
         "KLEIN Abraham (ISR)",
         2247,
         "ISR"
        ],
        [
         2006,
         "Tunisia",
         2,
         2,
         "Saudi Arabia",
         66000,
         "SHIELD Mark (AUS)",
         97410016,
         "AUS"
        ],
        [
         2006,
         "Netherlands",
         2,
         1,
         "Cote d'Ivoire",
         52000,
         "RUIZ Oscar (COL)",
         97410022,
         "COL"
        ],
        [
         1998,
         "Romania",
         0,
         1,
         "Croatia",
         31800,
         "CASTRILLI Javier (ARG)",
         8780,
         "ARG"
        ],
        [
         1954,
         "Hungary",
         9,
         0,
         "Korea Republic",
         13000,
         "VINCENTI Raymond (FRA)",
         1294,
         "FRA"
        ],
        [
         1974,
         "Yugoslavia",
         9,
         0,
         "Zaire",
         31700,
         "DELGADO Omar (COL)",
         2186,
         "COL"
        ],
        [
         1974,
         "Germany",
         1,
         0,
         "Germany",
         60200,
         "BARRETO RUIZ Ramon (URU)",
         2062,
         "URU"
        ],
        [
         2002,
         "Poland",
         3,
         1,
         "USA",
         26482,
         "LU Jun (CHN)",
         43950048,
         "CHN"
        ],
        [
         1930,
         "Argentina",
         3,
         1,
         "Chile",
         41459,
         "LANGENUS Jean (BEL)",
         1084,
         "BEL"
        ],
        [
         1970,
         "England",
         1,
         0,
         "Romania",
         50560,
         "LORAUX Vital (BEL)",
         1812,
         "BEL"
        ],
        [
         1978,
         "Argentina",
         2,
         0,
         "Poland",
         37091,
         "ERIKSSON Ulf (SWE)",
         2202,
         "SWE"
        ],
        [
         1982,
         "France",
         1,
         1,
         "Czechoslovakia",
         28000,
         "CASARIN Paolo (ITA)",
         922,
         "ITA"
        ],
        [
         1990,
         "Yugoslavia",
         1,
         0,
         "Colombia",
         32257,
         "AGNOLIN Luigi (ITA)",
         120,
         "ITA"
        ],
        [
         1998,
         "Brazil",
         1,
         1,
         "Netherlands",
         54000,
         "BUJSAIM Ali (UAE)",
         8785,
         "UAE"
        ],
        [
         2006,
         "Germany",
         3,
         1,
         "Portugal",
         52000,
         "KAMIKAWA Toru (JPN)",
         97410063,
         "JPN"
        ],
        [
         2014,
         "Croatia",
         1,
         3,
         "Mexico",
         41212,
         "Ravshan IRMATOV (UZB)",
         300186452,
         "UZB"
        ],
        [
         1958,
         "Sweden",
         2,
         1,
         "Hungary",
         38850,
         "MOWAT Jack (SCO)",
         1406,
         "SCO"
        ],
        [
         1998,
         "Colombia",
         1,
         0,
         "Tunisia",
         29800,
         "HEYNEMANN Bernd (GER)",
         8755,
         "GER"
        ],
        [
         1954,
         "Italy",
         4,
         1,
         "Belgium",
         24000,
         "STEINER Carl (AUT)",
         1243,
         "AUT"
        ],
        [
         1958,
         "Paraguay",
         3,
         2,
         "Scotland",
         11665,
         "ORLANDINI Vincenzo (ITA)",
         1423,
         "ITA"
        ],
        [
         1990,
         "England",
         1,
         0,
         "Belgium",
         34520,
         "MIKKELSEN Peter (DEN)",
         55,
         "DEN"
        ],
        [
         2002,
         "USA",
         3,
         2,
         "Portugal",
         37306,
         "MORENO Byron (ECU)",
         43950016,
         "ECU"
        ],
        [
         2002,
         "Germany",
         1,
         0,
         "USA",
         37337,
         "DALLAS Hugh (SCO)",
         43950058,
         "SCO"
        ],
        [
         2014,
         "Honduras",
         1,
         2,
         "Ecuador",
         39224,
         "Ben WILLIAMS (AUS)",
         300186463,
         "AUS"
        ],
        [
         1978,
         "Netherlands",
         5,
         1,
         "Austria",
         25050,
         "GORDON John (SCO)",
         2220,
         "SCO"
        ],
        [
         1986,
         "England",
         0,
         0,
         "Morocco",
         20200,
         "GONZALEZ ROA Gabriel (PAR)",
         533,
         "PAR"
        ],
        [
         2010,
         "Chile",
         1,
         0,
         "Switzerland",
         34872,
         "AL GHAMDI Khalil (KSA)",
         300061493,
         "KSA"
        ],
        [
         2010,
         "Portugal",
         0,
         0,
         "Brazil",
         62712,
         "ARCHUNDIA Benito (MEX)",
         300111111,
         "MEX"
        ],
        [
         2014,
         "Belgium",
         1,
         0,
         "Russia",
         73819,
         "BRYCH Felix (GER)",
         300186481,
         "GER"
        ],
        [
         1958,
         "Argentina",
         3,
         1,
         "Northern Ireland",
         14174,
         "AHLNER Sten (SWE)",
         1324,
         "SWE"
        ],
        [
         1958,
         "Brazil",
         5,
         2,
         "Sweden",
         49737,
         "GUIGUE Maurice (FRA)",
         1343,
         "FRA"
        ],
        [
         1966,
         "Germany",
         0,
         0,
         "Argentina",
         46587,
         "ZECEVIC Konstantin (YUG)",
         1579,
         "YUG"
        ],
        [
         1974,
         "Sweden",
         0,
         0,
         "Bulgaria",
         23800,
         "PEREZ NUNEZ Edison A. (PER)",
         1995,
         "PER"
        ],
        [
         1982,
         "Germany",
         4,
         1,
         "Chile",
         42000,
         "GALLER Bruno (SUI)",
         813,
         "SUI"
        ],
        [
         1998,
         "Spain",
         6,
         1,
         "Bulgaria",
         38100,
         "VAN DER ENDE Mario (NED)",
         8761,
         "NED"
        ],
        [
         1970,
         "Italy",
         0,
         0,
         "Israel",
         9890,
         "DE MORAES Ayrton Vieira (BRA)",
         1877,
         "BRA"
        ],
        [
         1950,
         "Spain",
         3,
         1,
         "USA",
         9511,
         "VIANA Mario (BRA)",
         1208,
         "BRA"
        ],
        [
         1962,
         "Hungary",
         6,
         1,
         "Bulgaria",
         7442,
         "GARDEAZABAL Juan (ESP)",
         1470,
         "ESP"
        ],
        [
         1974,
         "Germany",
         1,
         0,
         "Chile",
         81100,
         "BABACAN Dogan (TUR)",
         2003,
         "TUR"
        ],
        [
         2002,
         "Republic of Ireland",
         1,
         1,
         "Cameroon",
         33679,
         "KAMIKAWA Toru (JPN)",
         43950002,
         "JPN"
        ],
        [
         2006,
         "Sweden",
         2,
         2,
         "England",
         45000,
         "BUSACCA Massimo (SUI)",
         97410035,
         "SUI"
        ],
        [
         1958,
         "France",
         7,
         3,
         "Paraguay",
         16518,
         "GARDEAZABAL Juan (ESP)",
         1386,
         "ESP"
        ],
        [
         1986,
         "Soviet Union",
         6,
         0,
         "Hungary",
         16500,
         "AGNOLIN Luigi (ITA)",
         610,
         "ITA"
        ],
        [
         1986,
         "Hungary",
         2,
         0,
         "Canada",
         13800,
         "AL SHARIF Jamal (SYR)",
         475,
         "SYR"
        ]
       ],
       "datasetInfos": [],
       "dbfsResultPath": null,
       "isJsonSchema": true,
       "metadata": {},
       "overflow": false,
       "plotOptions": {
        "customPlotOptions": {},
        "displayType": "table",
        "pivotAggregation": null,
        "pivotColumns": null,
        "xColumns": null,
        "yColumns": null
       },
       "removedWidgets": [],
       "schema": [
        {
         "metadata": "{}",
         "name": "Year",
         "type": "\"integer\""
        },
        {
         "metadata": "{}",
         "name": "HomeTeamName",
         "type": "\"string\""
        },
        {
         "metadata": "{}",
         "name": "HomeTeamGoals",
         "type": "\"integer\""
        },
        {
         "metadata": "{}",
         "name": "AwayTeamGoals",
         "type": "\"integer\""
        },
        {
         "metadata": "{}",
         "name": "AwayTeamName",
         "type": "\"string\""
        },
        {
         "metadata": "{}",
         "name": "AttendanceMatch",
         "type": "\"integer\""
        },
        {
         "metadata": "{}",
         "name": "Referee",
         "type": "\"string\""
        },
        {
         "metadata": "{}",
         "name": "MatchID",
         "type": "\"integer\""
        },
        {
         "metadata": "{}",
         "name": "RefereeCountry",
         "type": "\"string\""
        }
       ],
       "type": "table"
      }
     },
     "output_type": "display_data"
    }
   ],
   "source": [
    "%sql SELECT * FROM silver.worldcupmatches LIMIT 100"
   ]
  },
  {
   "cell_type": "markdown",
   "metadata": {
    "application/vnd.databricks.v1+cell": {
     "cellMetadata": {},
     "inputWidgets": {},
     "nuid": "bb7e15c4-7f4d-49dc-88ab-c5f6419b7ccc",
     "showTitle": false,
     "tableResultSettingsMap": {},
     "title": ""
    }
   },
   "source": [
    "**Analisando a tabela silver.worldcupplayers**"
   ]
  },
  {
   "cell_type": "code",
   "execution_count": 0,
   "metadata": {
    "application/vnd.databricks.v1+cell": {
     "cellMetadata": {
      "byteLimit": 2048000,
      "implicitDf": true,
      "rowLimit": 10000
     },
     "inputWidgets": {},
     "nuid": "56002c69-48e6-43da-9de4-c612d524e5bd",
     "showTitle": true,
     "tableResultSettingsMap": {},
     "title": "Analisando a tabela silver.worldcupplayers"
    }
   },
   "outputs": [
    {
     "output_type": "display_data",
     "data": {
      "text/html": [
       "<style scoped>\n",
       "  .table-result-container {\n",
       "    max-height: 300px;\n",
       "    overflow: auto;\n",
       "  }\n",
       "  table, th, td {\n",
       "    border: 1px solid black;\n",
       "    border-collapse: collapse;\n",
       "  }\n",
       "  th, td {\n",
       "    padding: 5px;\n",
       "  }\n",
       "  th {\n",
       "    text-align: left;\n",
       "  }\n",
       "</style><div class='table-result-container'><table class='table-result'><thead style='background-color: white'><tr><th>MatchID</th><th>TeamInitials</th><th>PlayerName</th><th>Goals</th><th>YellowCards</th><th>RedCards</th></tr></thead><tbody><tr><td>29</td><td>ROU</td><td>LACATUS</td><td>0</td><td>1</td><td>0</td></tr><tr><td>3053</td><td>COL</td><td>VALDERRAMA</td><td>0</td><td>1</td><td>0</td></tr><tr><td>3058</td><td>NED</td><td>JONK</td><td>1</td><td>0</td><td>0</td></tr><tr><td>3076</td><td>GER</td><td>Stefan EFFENBERG</td><td>0</td><td>1</td><td>0</td></tr><tr><td>3103</td><td>BUL</td><td>Zlatko YANKOV</td><td>0</td><td>1</td><td>0</td></tr><tr><td>196</td><td>NED</td><td>Jan WOUTERS</td><td>0</td><td>1</td><td>0</td></tr><tr><td>31</td><td>YUG</td><td>Refik SABANADZOVIC</td><td>0</td><td>1</td><td>1</td></tr><tr><td>3064</td><td>NOR</td><td>Alf HALAND</td><td>0</td><td>1</td><td>0</td></tr><tr><td>3070</td><td>KSA</td><td>S. AL-JABER</td><td>1</td><td>0</td><td>0</td></tr><tr><td>3090</td><td>USA</td><td>Fernando CLAVIJO</td><td>0</td><td>3</td><td>1</td></tr><tr><td>3062</td><td>SUI</td><td>Alain SUTTER</td><td>1</td><td>0</td><td>0</td></tr><tr><td>3082</td><td>KSA</td><td>S. OWAIRAN</td><td>1</td><td>0</td><td>0</td></tr><tr><td>3095</td><td>ROU</td><td>Nica PANDURU</td><td>0</td><td>1</td><td>0</td></tr><tr><td>3100</td><td>ITA</td><td>COSTACURTA</td><td>0</td><td>1</td><td>0</td></tr><tr><td>8746</td><td>DEN</td><td>Jes HOGH</td><td>0</td><td>1</td><td>0</td></tr><tr><td>114</td><td>COL</td><td>Freddy RINCON</td><td>1</td><td>0</td><td>0</td></tr><tr><td>3097</td><td>ESP</td><td>ABELARDO</td><td>0</td><td>1</td><td>0</td></tr><tr><td>3096</td><td>BUL</td><td>Iordan LETCHKOV</td><td>1</td><td>0</td><td>0</td></tr><tr><td>3054</td><td>MAR</td><td>NAYBET</td><td>0</td><td>1</td><td>0</td></tr><tr><td>3089</td><td>NED</td><td>JONK</td><td>1</td><td>0</td><td>0</td></tr><tr><td>8750</td><td>MEX</td><td>Ramon RAMIREZ</td><td>0</td><td>1</td><td>0</td></tr><tr><td>197</td><td>FRG</td><td>Juergen KLINSMANN</td><td>0</td><td>1</td><td>0</td></tr><tr><td>3052</td><td>IRL</td><td>Terry PHELAN</td><td>0</td><td>1</td><td>0</td></tr><tr><td>8746</td><td>DEN</td><td>Peter SCHMEICHEL</td><td>0</td><td>1</td><td>0</td></tr><tr><td>8748</td><td>PAR</td><td>ARCE</td><td>0</td><td>1</td><td>0</td></tr><tr><td>102</td><td>CMR</td><td>Jules Denis ONANA</td><td>0</td><td>1</td><td>0</td></tr><tr><td>3049</td><td>BOL</td><td>Vladimir SORIA</td><td>0</td><td>1</td><td>0</td></tr><tr><td>3078</td><td>MEX</td><td>Joaquin DEL OLMO</td><td>0</td><td>1</td><td>0</td></tr><tr><td>3082</td><td>BEL</td><td>SCIFO</td><td>0</td><td>1</td><td>0</td></tr><tr><td>3083</td><td>GRE</td><td>Tassos MITROPOULOS</td><td>0</td><td>1</td><td>0</td></tr><tr><td>3084</td><td>BUL</td><td>STOITCHKOV</td><td>1</td><td>1</td><td>0</td></tr><tr><td>28</td><td>ARG</td><td>Ricardo GIUSTI</td><td>0</td><td>3</td><td>1</td></tr><tr><td>3061</td><td>NGA</td><td>AMOKACHI</td><td>1</td><td>0</td><td>0</td></tr><tr><td>162</td><td>ITA</td><td>Salvatore SCHILLACI</td><td>1</td><td>0</td><td>0</td></tr><tr><td>3099</td><td>BRA</td><td>ROMARIO (Rom�rio de Souza Faria)</td><td>1</td><td>0</td><td>0</td></tr><tr><td>8733</td><td>BEL</td><td>Eric DEFLANDRE</td><td>0</td><td>1</td><td>0</td></tr><tr><td>8734</td><td>JPN</td><td>Masami IHARA</td><td>0</td><td>1</td><td>0</td></tr><tr><td>364</td><td>YUG</td><td>Safet SUSIC</td><td>1</td><td>0</td><td>0</td></tr><tr><td>3050</td><td>ESP</td><td>Jose Luis CAMINERO</td><td>0</td><td>1</td><td>0</td></tr><tr><td>3081</td><td>NED</td><td>Bryan ROY</td><td>1</td><td>0</td><td>0</td></tr><tr><td>3085</td><td>BEL</td><td>Philippe ALBERT</td><td>1</td><td>1</td><td>0</td></tr><tr><td>8741</td><td>NOR</td><td>H. FLO</td><td>1</td><td>0</td><td>0</td></tr><tr><td>8743</td><td>CHI</td><td>Fabian ESTAY</td><td>0</td><td>1</td><td>0</td></tr><tr><td>66</td><td>BEL</td><td>Jan CEULEMANS</td><td>1</td><td>0</td><td>0</td></tr><tr><td>102</td><td>CMR</td><td>Roger MILLA</td><td>2</td><td>0</td><td>0</td></tr><tr><td>3066</td><td>IRL</td><td>John ALDRIDGE</td><td>1</td><td>0</td><td>0</td></tr><tr><td>3050</td><td>KOR</td><td>M B HONG</td><td>1</td><td>0</td><td>0</td></tr><tr><td>3066</td><td>IRL</td><td>Terry PHELAN</td><td>0</td><td>1</td><td>0</td></tr><tr><td>3085</td><td>GER</td><td>HELMER</td><td>0</td><td>1</td><td>0</td></tr><tr><td>8738</td><td>USA</td><td>Frankie HEJDUK</td><td>0</td><td>1</td><td>0</td></tr><tr><td>3066</td><td>IRL</td><td>Denis IRWIN</td><td>0</td><td>1</td><td>0</td></tr><tr><td>3097</td><td>ITA</td><td>BAGGIO R.</td><td>1</td><td>0</td><td>0</td></tr><tr><td>3058</td><td>KSA</td><td>F. AMIN</td><td>1</td><td>1</td><td>0</td></tr><tr><td>28</td><td>ITA</td><td>Salvatore SCHILLACI</td><td>1</td><td>0</td><td>0</td></tr><tr><td>3091</td><td>ITA</td><td>COSTACURTA</td><td>0</td><td>1</td><td>0</td></tr><tr><td>4000</td><td>BRA</td><td>C. SAMPAIO</td><td>1</td><td>1</td><td>0</td></tr><tr><td>8744</td><td>CMR</td><td>SONG</td><td>0</td><td>1</td><td>0</td></tr><tr><td>8746</td><td>DEN</td><td>SCHJONBERG</td><td>0</td><td>1</td><td>0</td></tr><tr><td>3059</td><td>ARG</td><td>BATISTUTA</td><td>3</td><td>0</td><td>0</td></tr><tr><td>3087</td><td>SWE</td><td>Kennet ANDERSSON</td><td>2</td><td>0</td><td>0</td></tr><tr><td>3068</td><td>SWE</td><td>Martin DAHLIN</td><td>2</td><td>1</td><td>0</td></tr><tr><td>3104</td><td>ITA</td><td>ALBERTINI</td><td>0</td><td>1</td><td>0</td></tr><tr><td>159</td><td>ENG</td><td>Gary LINEKER</td><td>1</td><td>0</td><td>0</td></tr><tr><td>3087</td><td>SWE</td><td>Roland NILSSON</td><td>0</td><td>1</td><td>0</td></tr><tr><td>8731</td><td>NGA</td><td>Sunday OLISEH</td><td>1</td><td>0</td><td>0</td></tr><tr><td>8747</td><td>NGA</td><td>Jay Jay OKOCHA</td><td>0</td><td>1</td><td>0</td></tr><tr><td>111</td><td>CMR</td><td>Andre KANA-BIYIK</td><td>0</td><td>1</td><td>0</td></tr><tr><td>114</td><td>COL</td><td>Luis HERRERA</td><td>0</td><td>1</td><td>0</td></tr><tr><td>25</td><td>ARG</td><td>Ricardo GIUSTI</td><td>0</td><td>1</td><td>0</td></tr><tr><td>3073</td><td>USA</td><td>Fernando CLAVIJO</td><td>0</td><td>1</td><td>0</td></tr><tr><td>3080</td><td>BRA</td><td>ALDAIR</td><td>0</td><td>1</td><td>0</td></tr><tr><td>3083</td><td>NGA</td><td>FINIDI</td><td>1</td><td>0</td><td>0</td></tr><tr><td>8729</td><td>DEN</td><td>Morten WIEGHORST</td><td>0</td><td>1</td><td>0</td></tr><tr><td>8732</td><td>MEX</td><td>Alberto GARCIA ASPE</td><td>0</td><td>1</td><td>0</td></tr><tr><td>8744</td><td>ITA</td><td>Alessandro COSTACURTA</td><td>0</td><td>1</td><td>0</td></tr><tr><td>48</td><td>AUT</td><td>Robert PECL</td><td>0</td><td>1</td><td>0</td></tr><tr><td>3065</td><td>KOR</td><td>SHIN Hong Gi</td><td>0</td><td>1</td><td>0</td></tr><tr><td>3098</td><td>BRA</td><td>BRANCO</td><td>1</td><td>0</td><td>0</td></tr><tr><td>8748</td><td>ESP</td><td>SERGI</td><td>0</td><td>1</td><td>0</td></tr><tr><td>8751</td><td>JPN</td><td>Yutaka AKITA</td><td>0</td><td>1</td><td>0</td></tr><tr><td>29</td><td>ARG</td><td>Jose SERRIZUELA</td><td>0</td><td>1</td><td>0</td></tr><tr><td>364</td><td>YUG</td><td>Robert PROSINECKI</td><td>1</td><td>0</td><td>0</td></tr><tr><td>228</td><td>IRL</td><td>Niall QUINN</td><td>1</td><td>0</td><td>0</td></tr><tr><td>129</td><td>TCH</td><td>Jan KOCIAN</td><td>0</td><td>1</td><td>0</td></tr><tr><td>3050</td><td>KOR</td><td>J W SEO</td><td>1</td><td>0</td><td>0</td></tr><tr><td>3058</td><td>KSA</td><td>Abdullah AL DOSARI</td><td>0</td><td>1</td><td>0</td></tr><tr><td>3063</td><td>USA</td><td>STEWART</td><td>1</td><td>0</td><td>0</td></tr><tr><td>3065</td><td>BOL</td><td>Miguel Angel RIMBA</td><td>0</td><td>1</td><td>0</td></tr><tr><td>102</td><td>CMR</td><td>Victor NDIP</td><td>0</td><td>1</td><td>0</td></tr><tr><td>3053</td><td>ROU</td><td>HAGI</td><td>1</td><td>0</td><td>0</td></tr><tr><td>3065</td><td>BOL</td><td>Julio BALDIVIESO</td><td>0</td><td>1</td><td>0</td></tr><tr><td>29</td><td>ROU</td><td>Ioan LUPESCU</td><td>0</td><td>1</td><td>0</td></tr><tr><td>3059</td><td>GRE</td><td>Stelios MANOLAS</td><td>0</td><td>1</td><td>0</td></tr><tr><td>3077</td><td>NOR</td><td>Erland JOHNSEN</td><td>0</td><td>1</td><td>0</td></tr><tr><td>3080</td><td>BRA</td><td>ROMARIO (Rom�rio de Souza Faria)</td><td>1</td><td>0</td><td>0</td></tr><tr><td>3092</td><td>MEX</td><td>SUAREZ SANCHEZ</td><td>0</td><td>1</td><td>0</td></tr><tr><td>8738</td><td>GER</td><td>Jens JEREMIES</td><td>0</td><td>1</td><td>0</td></tr><tr><td>3086</td><td>ESP</td><td>Jorge OTERO</td><td>0</td><td>1</td><td>0</td></tr><tr><td>8751</td><td>CRO</td><td>Robert PROSINECKI</td><td>0</td><td>1</td><td>0</td></tr><tr><td>197</td><td>FRG</td><td>Lothar MATTHAEUS</td><td>1</td><td>0</td><td>0</td></tr></tbody></table></div>"
      ]
     },
     "metadata": {
      "application/vnd.databricks.v1+output": {
       "addedWidgets": {},
       "aggData": [],
       "aggError": "",
       "aggOverflow": false,
       "aggSchema": [],
       "aggSeriesLimitReached": false,
       "aggType": "",
       "arguments": {},
       "columnCustomDisplayInfos": {},
       "data": [
        [
         29,
         "ROU",
         "LACATUS",
         0,
         1,
         0
        ],
        [
         3053,
         "COL",
         "VALDERRAMA",
         0,
         1,
         0
        ],
        [
         3058,
         "NED",
         "JONK",
         1,
         0,
         0
        ],
        [
         3076,
         "GER",
         "Stefan EFFENBERG",
         0,
         1,
         0
        ],
        [
         3103,
         "BUL",
         "Zlatko YANKOV",
         0,
         1,
         0
        ],
        [
         196,
         "NED",
         "Jan WOUTERS",
         0,
         1,
         0
        ],
        [
         31,
         "YUG",
         "Refik SABANADZOVIC",
         0,
         1,
         1
        ],
        [
         3064,
         "NOR",
         "Alf HALAND",
         0,
         1,
         0
        ],
        [
         3070,
         "KSA",
         "S. AL-JABER",
         1,
         0,
         0
        ],
        [
         3090,
         "USA",
         "Fernando CLAVIJO",
         0,
         3,
         1
        ],
        [
         3062,
         "SUI",
         "Alain SUTTER",
         1,
         0,
         0
        ],
        [
         3082,
         "KSA",
         "S. OWAIRAN",
         1,
         0,
         0
        ],
        [
         3095,
         "ROU",
         "Nica PANDURU",
         0,
         1,
         0
        ],
        [
         3100,
         "ITA",
         "COSTACURTA",
         0,
         1,
         0
        ],
        [
         8746,
         "DEN",
         "Jes HOGH",
         0,
         1,
         0
        ],
        [
         114,
         "COL",
         "Freddy RINCON",
         1,
         0,
         0
        ],
        [
         3097,
         "ESP",
         "ABELARDO",
         0,
         1,
         0
        ],
        [
         3096,
         "BUL",
         "Iordan LETCHKOV",
         1,
         0,
         0
        ],
        [
         3054,
         "MAR",
         "NAYBET",
         0,
         1,
         0
        ],
        [
         3089,
         "NED",
         "JONK",
         1,
         0,
         0
        ],
        [
         8750,
         "MEX",
         "Ramon RAMIREZ",
         0,
         1,
         0
        ],
        [
         197,
         "FRG",
         "Juergen KLINSMANN",
         0,
         1,
         0
        ],
        [
         3052,
         "IRL",
         "Terry PHELAN",
         0,
         1,
         0
        ],
        [
         8746,
         "DEN",
         "Peter SCHMEICHEL",
         0,
         1,
         0
        ],
        [
         8748,
         "PAR",
         "ARCE",
         0,
         1,
         0
        ],
        [
         102,
         "CMR",
         "Jules Denis ONANA",
         0,
         1,
         0
        ],
        [
         3049,
         "BOL",
         "Vladimir SORIA",
         0,
         1,
         0
        ],
        [
         3078,
         "MEX",
         "Joaquin DEL OLMO",
         0,
         1,
         0
        ],
        [
         3082,
         "BEL",
         "SCIFO",
         0,
         1,
         0
        ],
        [
         3083,
         "GRE",
         "Tassos MITROPOULOS",
         0,
         1,
         0
        ],
        [
         3084,
         "BUL",
         "STOITCHKOV",
         1,
         1,
         0
        ],
        [
         28,
         "ARG",
         "Ricardo GIUSTI",
         0,
         3,
         1
        ],
        [
         3061,
         "NGA",
         "AMOKACHI",
         1,
         0,
         0
        ],
        [
         162,
         "ITA",
         "Salvatore SCHILLACI",
         1,
         0,
         0
        ],
        [
         3099,
         "BRA",
         "ROMARIO (Rom�rio de Souza Faria)",
         1,
         0,
         0
        ],
        [
         8733,
         "BEL",
         "Eric DEFLANDRE",
         0,
         1,
         0
        ],
        [
         8734,
         "JPN",
         "Masami IHARA",
         0,
         1,
         0
        ],
        [
         364,
         "YUG",
         "Safet SUSIC",
         1,
         0,
         0
        ],
        [
         3050,
         "ESP",
         "Jose Luis CAMINERO",
         0,
         1,
         0
        ],
        [
         3081,
         "NED",
         "Bryan ROY",
         1,
         0,
         0
        ],
        [
         3085,
         "BEL",
         "Philippe ALBERT",
         1,
         1,
         0
        ],
        [
         8741,
         "NOR",
         "H. FLO",
         1,
         0,
         0
        ],
        [
         8743,
         "CHI",
         "Fabian ESTAY",
         0,
         1,
         0
        ],
        [
         66,
         "BEL",
         "Jan CEULEMANS",
         1,
         0,
         0
        ],
        [
         102,
         "CMR",
         "Roger MILLA",
         2,
         0,
         0
        ],
        [
         3066,
         "IRL",
         "John ALDRIDGE",
         1,
         0,
         0
        ],
        [
         3050,
         "KOR",
         "M B HONG",
         1,
         0,
         0
        ],
        [
         3066,
         "IRL",
         "Terry PHELAN",
         0,
         1,
         0
        ],
        [
         3085,
         "GER",
         "HELMER",
         0,
         1,
         0
        ],
        [
         8738,
         "USA",
         "Frankie HEJDUK",
         0,
         1,
         0
        ],
        [
         3066,
         "IRL",
         "Denis IRWIN",
         0,
         1,
         0
        ],
        [
         3097,
         "ITA",
         "BAGGIO R.",
         1,
         0,
         0
        ],
        [
         3058,
         "KSA",
         "F. AMIN",
         1,
         1,
         0
        ],
        [
         28,
         "ITA",
         "Salvatore SCHILLACI",
         1,
         0,
         0
        ],
        [
         3091,
         "ITA",
         "COSTACURTA",
         0,
         1,
         0
        ],
        [
         4000,
         "BRA",
         "C. SAMPAIO",
         1,
         1,
         0
        ],
        [
         8744,
         "CMR",
         "SONG",
         0,
         1,
         0
        ],
        [
         8746,
         "DEN",
         "SCHJONBERG",
         0,
         1,
         0
        ],
        [
         3059,
         "ARG",
         "BATISTUTA",
         3,
         0,
         0
        ],
        [
         3087,
         "SWE",
         "Kennet ANDERSSON",
         2,
         0,
         0
        ],
        [
         3068,
         "SWE",
         "Martin DAHLIN",
         2,
         1,
         0
        ],
        [
         3104,
         "ITA",
         "ALBERTINI",
         0,
         1,
         0
        ],
        [
         159,
         "ENG",
         "Gary LINEKER",
         1,
         0,
         0
        ],
        [
         3087,
         "SWE",
         "Roland NILSSON",
         0,
         1,
         0
        ],
        [
         8731,
         "NGA",
         "Sunday OLISEH",
         1,
         0,
         0
        ],
        [
         8747,
         "NGA",
         "Jay Jay OKOCHA",
         0,
         1,
         0
        ],
        [
         111,
         "CMR",
         "Andre KANA-BIYIK",
         0,
         1,
         0
        ],
        [
         114,
         "COL",
         "Luis HERRERA",
         0,
         1,
         0
        ],
        [
         25,
         "ARG",
         "Ricardo GIUSTI",
         0,
         1,
         0
        ],
        [
         3073,
         "USA",
         "Fernando CLAVIJO",
         0,
         1,
         0
        ],
        [
         3080,
         "BRA",
         "ALDAIR",
         0,
         1,
         0
        ],
        [
         3083,
         "NGA",
         "FINIDI",
         1,
         0,
         0
        ],
        [
         8729,
         "DEN",
         "Morten WIEGHORST",
         0,
         1,
         0
        ],
        [
         8732,
         "MEX",
         "Alberto GARCIA ASPE",
         0,
         1,
         0
        ],
        [
         8744,
         "ITA",
         "Alessandro COSTACURTA",
         0,
         1,
         0
        ],
        [
         48,
         "AUT",
         "Robert PECL",
         0,
         1,
         0
        ],
        [
         3065,
         "KOR",
         "SHIN Hong Gi",
         0,
         1,
         0
        ],
        [
         3098,
         "BRA",
         "BRANCO",
         1,
         0,
         0
        ],
        [
         8748,
         "ESP",
         "SERGI",
         0,
         1,
         0
        ],
        [
         8751,
         "JPN",
         "Yutaka AKITA",
         0,
         1,
         0
        ],
        [
         29,
         "ARG",
         "Jose SERRIZUELA",
         0,
         1,
         0
        ],
        [
         364,
         "YUG",
         "Robert PROSINECKI",
         1,
         0,
         0
        ],
        [
         228,
         "IRL",
         "Niall QUINN",
         1,
         0,
         0
        ],
        [
         129,
         "TCH",
         "Jan KOCIAN",
         0,
         1,
         0
        ],
        [
         3050,
         "KOR",
         "J W SEO",
         1,
         0,
         0
        ],
        [
         3058,
         "KSA",
         "Abdullah AL DOSARI",
         0,
         1,
         0
        ],
        [
         3063,
         "USA",
         "STEWART",
         1,
         0,
         0
        ],
        [
         3065,
         "BOL",
         "Miguel Angel RIMBA",
         0,
         1,
         0
        ],
        [
         102,
         "CMR",
         "Victor NDIP",
         0,
         1,
         0
        ],
        [
         3053,
         "ROU",
         "HAGI",
         1,
         0,
         0
        ],
        [
         3065,
         "BOL",
         "Julio BALDIVIESO",
         0,
         1,
         0
        ],
        [
         29,
         "ROU",
         "Ioan LUPESCU",
         0,
         1,
         0
        ],
        [
         3059,
         "GRE",
         "Stelios MANOLAS",
         0,
         1,
         0
        ],
        [
         3077,
         "NOR",
         "Erland JOHNSEN",
         0,
         1,
         0
        ],
        [
         3080,
         "BRA",
         "ROMARIO (Rom�rio de Souza Faria)",
         1,
         0,
         0
        ],
        [
         3092,
         "MEX",
         "SUAREZ SANCHEZ",
         0,
         1,
         0
        ],
        [
         8738,
         "GER",
         "Jens JEREMIES",
         0,
         1,
         0
        ],
        [
         3086,
         "ESP",
         "Jorge OTERO",
         0,
         1,
         0
        ],
        [
         8751,
         "CRO",
         "Robert PROSINECKI",
         0,
         1,
         0
        ],
        [
         197,
         "FRG",
         "Lothar MATTHAEUS",
         1,
         0,
         0
        ]
       ],
       "datasetInfos": [],
       "dbfsResultPath": null,
       "isJsonSchema": true,
       "metadata": {},
       "overflow": false,
       "plotOptions": {
        "customPlotOptions": {},
        "displayType": "table",
        "pivotAggregation": null,
        "pivotColumns": null,
        "xColumns": null,
        "yColumns": null
       },
       "removedWidgets": [],
       "schema": [
        {
         "metadata": "{}",
         "name": "MatchID",
         "type": "\"integer\""
        },
        {
         "metadata": "{}",
         "name": "TeamInitials",
         "type": "\"string\""
        },
        {
         "metadata": "{}",
         "name": "PlayerName",
         "type": "\"string\""
        },
        {
         "metadata": "{}",
         "name": "Goals",
         "type": "\"integer\""
        },
        {
         "metadata": "{}",
         "name": "YellowCards",
         "type": "\"integer\""
        },
        {
         "metadata": "{}",
         "name": "RedCards",
         "type": "\"integer\""
        }
       ],
       "type": "table"
      }
     },
     "output_type": "display_data"
    }
   ],
   "source": [
    "%sql SELECT * FROM silver.worldcupplayers LIMIT 100"
   ]
  },
  {
   "cell_type": "markdown",
   "metadata": {
    "application/vnd.databricks.v1+cell": {
     "cellMetadata": {},
     "inputWidgets": {},
     "nuid": "da8f0d4e-aa93-4604-be25-e96d37ed44f7",
     "showTitle": false,
     "tableResultSettingsMap": {},
     "title": ""
    }
   },
   "source": [
    "**Deletando o database 'gold', caso ele exista**"
   ]
  },
  {
   "cell_type": "code",
   "execution_count": 0,
   "metadata": {
    "application/vnd.databricks.v1+cell": {
     "cellMetadata": {
      "byteLimit": 2048000,
      "implicitDf": true,
      "rowLimit": 10000
     },
     "inputWidgets": {},
     "nuid": "710e46a5-6bd5-442b-ba11-495fb1929c04",
     "showTitle": true,
     "tableResultSettingsMap": {},
     "title": "Deletando o database 'gold', caso ele exista"
    }
   },
   "outputs": [
    {
     "output_type": "display_data",
     "data": {
      "text/html": [
       "<style scoped>\n",
       "  .table-result-container {\n",
       "    max-height: 300px;\n",
       "    overflow: auto;\n",
       "  }\n",
       "  table, th, td {\n",
       "    border: 1px solid black;\n",
       "    border-collapse: collapse;\n",
       "  }\n",
       "  th, td {\n",
       "    padding: 5px;\n",
       "  }\n",
       "  th {\n",
       "    text-align: left;\n",
       "  }\n",
       "</style><div class='table-result-container'><table class='table-result'><thead style='background-color: white'><tr></tr></thead><tbody></tbody></table></div>"
      ]
     },
     "metadata": {
      "application/vnd.databricks.v1+output": {
       "addedWidgets": {},
       "aggData": [],
       "aggError": "",
       "aggOverflow": false,
       "aggSchema": [],
       "aggSeriesLimitReached": false,
       "aggType": "",
       "arguments": {},
       "columnCustomDisplayInfos": {},
       "data": [],
       "datasetInfos": [],
       "dbfsResultPath": null,
       "isJsonSchema": true,
       "metadata": {},
       "overflow": false,
       "plotOptions": {
        "customPlotOptions": {},
        "displayType": "table",
        "pivotAggregation": null,
        "pivotColumns": null,
        "xColumns": null,
        "yColumns": null
       },
       "removedWidgets": [],
       "schema": [],
       "type": "table"
      }
     },
     "output_type": "display_data"
    }
   ],
   "source": [
    "%sql DROP DATABASE IF EXISTS gold CASCADE"
   ]
  },
  {
   "cell_type": "markdown",
   "metadata": {
    "application/vnd.databricks.v1+cell": {
     "cellMetadata": {},
     "inputWidgets": {},
     "nuid": "835bc2e5-5d1a-4def-91a6-c76080dfdc75",
     "showTitle": false,
     "tableResultSettingsMap": {},
     "title": ""
    }
   },
   "source": [
    "**Criando o database 'gold'**"
   ]
  },
  {
   "cell_type": "code",
   "execution_count": 0,
   "metadata": {
    "application/vnd.databricks.v1+cell": {
     "cellMetadata": {
      "byteLimit": 2048000,
      "implicitDf": true,
      "rowLimit": 10000
     },
     "inputWidgets": {},
     "nuid": "718c96d4-4834-4e47-a19b-5420d002d413",
     "showTitle": true,
     "tableResultSettingsMap": {},
     "title": "Criando o database 'gold'"
    }
   },
   "outputs": [
    {
     "output_type": "display_data",
     "data": {
      "text/html": [
       "<style scoped>\n",
       "  .table-result-container {\n",
       "    max-height: 300px;\n",
       "    overflow: auto;\n",
       "  }\n",
       "  table, th, td {\n",
       "    border: 1px solid black;\n",
       "    border-collapse: collapse;\n",
       "  }\n",
       "  th, td {\n",
       "    padding: 5px;\n",
       "  }\n",
       "  th {\n",
       "    text-align: left;\n",
       "  }\n",
       "</style><div class='table-result-container'><table class='table-result'><thead style='background-color: white'><tr></tr></thead><tbody></tbody></table></div>"
      ]
     },
     "metadata": {
      "application/vnd.databricks.v1+output": {
       "addedWidgets": {},
       "aggData": [],
       "aggError": "",
       "aggOverflow": false,
       "aggSchema": [],
       "aggSeriesLimitReached": false,
       "aggType": "",
       "arguments": {},
       "columnCustomDisplayInfos": {},
       "data": [],
       "datasetInfos": [],
       "dbfsResultPath": null,
       "isJsonSchema": true,
       "metadata": {},
       "overflow": false,
       "plotOptions": {
        "customPlotOptions": {},
        "displayType": "table",
        "pivotAggregation": null,
        "pivotColumns": null,
        "xColumns": null,
        "yColumns": null
       },
       "removedWidgets": [],
       "schema": [],
       "type": "table"
      }
     },
     "output_type": "display_data"
    }
   ],
   "source": [
    "%sql CREATE DATABASE gold;"
   ]
  },
  {
   "cell_type": "markdown",
   "metadata": {
    "application/vnd.databricks.v1+cell": {
     "cellMetadata": {},
     "inputWidgets": {},
     "nuid": "ed476578-924a-42db-a973-b097ad8effad",
     "showTitle": false,
     "tableResultSettingsMap": {},
     "title": ""
    }
   },
   "source": [
    "**Criando a tabela 'gold'**"
   ]
  },
  {
   "cell_type": "code",
   "execution_count": 0,
   "metadata": {
    "application/vnd.databricks.v1+cell": {
     "cellMetadata": {
      "byteLimit": 2048000,
      "implicitDf": true,
      "rowLimit": 10000
     },
     "inputWidgets": {},
     "nuid": "e2db42e0-6bdd-43fb-88c5-9dd86ded85c8",
     "showTitle": true,
     "tableResultSettingsMap": {},
     "title": "Criando a tabela 'gold'"
    }
   },
   "outputs": [
    {
     "output_type": "display_data",
     "data": {
      "text/html": [
       "<style scoped>\n",
       "  .table-result-container {\n",
       "    max-height: 300px;\n",
       "    overflow: auto;\n",
       "  }\n",
       "  table, th, td {\n",
       "    border: 1px solid black;\n",
       "    border-collapse: collapse;\n",
       "  }\n",
       "  th, td {\n",
       "    padding: 5px;\n",
       "  }\n",
       "  th {\n",
       "    text-align: left;\n",
       "  }\n",
       "</style><div class='table-result-container'><table class='table-result'><thead style='background-color: white'><tr><th>num_affected_rows</th><th>num_inserted_rows</th></tr></thead><tbody></tbody></table></div>"
      ]
     },
     "metadata": {
      "application/vnd.databricks.v1+output": {
       "addedWidgets": {},
       "aggData": [],
       "aggError": "",
       "aggOverflow": false,
       "aggSchema": [],
       "aggSeriesLimitReached": false,
       "aggType": "",
       "arguments": {},
       "columnCustomDisplayInfos": {},
       "data": [],
       "datasetInfos": [],
       "dbfsResultPath": null,
       "isJsonSchema": true,
       "metadata": {},
       "overflow": false,
       "plotOptions": {
        "customPlotOptions": {},
        "displayType": "table",
        "pivotAggregation": null,
        "pivotColumns": null,
        "xColumns": null,
        "yColumns": null
       },
       "removedWidgets": [],
       "schema": [
        {
         "metadata": "{}",
         "name": "num_affected_rows",
         "type": "\"long\""
        },
        {
         "metadata": "{}",
         "name": "num_inserted_rows",
         "type": "\"long\""
        }
       ],
       "type": "table"
      }
     },
     "output_type": "display_data"
    }
   ],
   "source": [
    "%sql\n",
    "CREATE TABLE gold.wcstats AS SELECT\n",
    "    wcm.MatchID,\n",
    "    wcm.Year,\n",
    "    wc.CountryCup,\n",
    "    wc.WinnerCup,\n",
    "    wc.RunnersUpCup,\n",
    "    wc.ThirdCup,\n",
    "    wc.GoalsScoredCup,\n",
    "    wc.AttendanceCup,\n",
    "    wcm.HomeTeamName,\n",
    "    wcm.HomeTeamGoals,\n",
    "    wcm.AwayTeamGoals,\n",
    "    wcm.AwayTeamName,\n",
    "    wcm.AttendanceMatch,\n",
    "    wcm.Referee,\n",
    "    wcm.RefereeCountry,\n",
    "    wcp.TeamInitials,\n",
    "    wcp.PlayerName,\n",
    "    wcp.Goals,\n",
    "    wcp.YellowCards,\n",
    "    wcp.RedCards\n",
    "FROM silver.worldcupmatches AS wcm\n",
    "LEFT JOIN silver.worldcups AS wc ON wcm.Year=wc.Year\n",
    "LEFT JOIN silver.worldcupplayers AS wcp ON wcm.MatchID=wcp.MatchID"
   ]
  },
  {
   "cell_type": "markdown",
   "metadata": {
    "application/vnd.databricks.v1+cell": {
     "cellMetadata": {},
     "inputWidgets": {},
     "nuid": "7d79d48e-7004-4bc4-8ae6-434d252d66a2",
     "showTitle": false,
     "tableResultSettingsMap": {},
     "title": ""
    }
   },
   "source": [
    "### Qualidade dos Dados"
   ]
  },
  {
   "cell_type": "markdown",
   "metadata": {
    "application/vnd.databricks.v1+cell": {
     "cellMetadata": {},
     "inputWidgets": {},
     "nuid": "b2ca61ab-1b30-4410-82e5-273203f21d62",
     "showTitle": false,
     "tableResultSettingsMap": {},
     "title": ""
    }
   },
   "source": [
    "**Conferindo tabela gold.wcstats**"
   ]
  },
  {
   "cell_type": "code",
   "execution_count": 0,
   "metadata": {
    "application/vnd.databricks.v1+cell": {
     "cellMetadata": {
      "byteLimit": 2048000,
      "implicitDf": true,
      "rowLimit": 10000
     },
     "inputWidgets": {},
     "nuid": "52a4a05c-8326-4808-8eca-6741d0765cb1",
     "showTitle": true,
     "tableResultSettingsMap": {},
     "title": "Conferindo tabela gold.wcstats"
    }
   },
   "outputs": [
    {
     "output_type": "display_data",
     "data": {
      "text/html": [
       "<style scoped>\n",
       "  .table-result-container {\n",
       "    max-height: 300px;\n",
       "    overflow: auto;\n",
       "  }\n",
       "  table, th, td {\n",
       "    border: 1px solid black;\n",
       "    border-collapse: collapse;\n",
       "  }\n",
       "  th, td {\n",
       "    padding: 5px;\n",
       "  }\n",
       "  th {\n",
       "    text-align: left;\n",
       "  }\n",
       "</style><div class='table-result-container'><table class='table-result'><thead style='background-color: white'><tr><th>MatchID</th><th>Year</th><th>CountryCup</th><th>WinnerCup</th><th>RunnersUpCup</th><th>ThirdCup</th><th>GoalsScoredCup</th><th>AttendanceCup</th><th>HomeTeamName</th><th>HomeTeamGoals</th><th>AwayTeamGoals</th><th>AwayTeamName</th><th>AttendanceMatch</th><th>Referee</th><th>RefereeCountry</th><th>TeamInitials</th><th>PlayerName</th><th>Goals</th><th>YellowCards</th><th>RedCards</th></tr></thead><tbody><tr><td>1525</td><td>1962</td><td>Chile</td><td>Brazil</td><td>Czechoslovakia</td><td>Chile</td><td>89</td><td>893172</td><td>Czechoslovakia</td><td>1</td><td>0</td><td>Hungary</td><td>11690</td><td>LATYCHEV Nikolaj (URS)</td><td>URS</td><td>TCH</td><td>Adolf SCHERER</td><td>1</td><td>0</td><td>0</td></tr><tr><td>3053</td><td>1994</td><td>United States</td><td>Brazil</td><td>Italy</td><td>Sweden</td><td>141</td><td>3587538</td><td>Colombia</td><td>1</td><td>3</td><td>Romania</td><td>91856</td><td>AL SHARIF Jamal (SYR)</td><td>SYR</td><td>COL</td><td>VALENCIA</td><td>1</td><td>0</td><td>0</td></tr><tr><td>3053</td><td>1994</td><td>United States</td><td>Brazil</td><td>Italy</td><td>Sweden</td><td>141</td><td>3587538</td><td>Colombia</td><td>1</td><td>3</td><td>Romania</td><td>91856</td><td>AL SHARIF Jamal (SYR)</td><td>SYR</td><td>COL</td><td>Luis HERRERA</td><td>0</td><td>1</td><td>0</td></tr><tr><td>3053</td><td>1994</td><td>United States</td><td>Brazil</td><td>Italy</td><td>Sweden</td><td>141</td><td>3587538</td><td>Colombia</td><td>1</td><td>3</td><td>Romania</td><td>91856</td><td>AL SHARIF Jamal (SYR)</td><td>SYR</td><td>COL</td><td>Leonel ALVAREZ</td><td>0</td><td>1</td><td>0</td></tr><tr><td>3053</td><td>1994</td><td>United States</td><td>Brazil</td><td>Italy</td><td>Sweden</td><td>141</td><td>3587538</td><td>Colombia</td><td>1</td><td>3</td><td>Romania</td><td>91856</td><td>AL SHARIF Jamal (SYR)</td><td>SYR</td><td>ROU</td><td>Florin RADUCIOIU</td><td>2</td><td>1</td><td>0</td></tr><tr><td>3053</td><td>1994</td><td>United States</td><td>Brazil</td><td>Italy</td><td>Sweden</td><td>141</td><td>3587538</td><td>Colombia</td><td>1</td><td>3</td><td>Romania</td><td>91856</td><td>AL SHARIF Jamal (SYR)</td><td>SYR</td><td>ROU</td><td>HAGI</td><td>1</td><td>0</td><td>0</td></tr><tr><td>3053</td><td>1994</td><td>United States</td><td>Brazil</td><td>Italy</td><td>Sweden</td><td>141</td><td>3587538</td><td>Colombia</td><td>1</td><td>3</td><td>Romania</td><td>91856</td><td>AL SHARIF Jamal (SYR)</td><td>SYR</td><td>COL</td><td>VALDERRAMA</td><td>0</td><td>1</td><td>0</td></tr><tr><td>43950064</td><td>2002</td><td>Korea/Japan</td><td>Brazil</td><td>Germany</td><td>Turkey</td><td>161</td><td>2705197</td><td>Germany</td><td>0</td><td>2</td><td>Brazil</td><td>69029</td><td>COLLINA Pierluigi (ITA)</td><td>ITA</td><td>GER</td><td>KLOSE</td><td>0</td><td>1</td><td>0</td></tr><tr><td>43950064</td><td>2002</td><td>Korea/Japan</td><td>Brazil</td><td>Germany</td><td>Turkey</td><td>161</td><td>2705197</td><td>Germany</td><td>0</td><td>2</td><td>Brazil</td><td>69029</td><td>COLLINA Pierluigi (ITA)</td><td>ITA</td><td>BRA</td><td>ROQUE JR</td><td>0</td><td>1</td><td>0</td></tr><tr><td>43950064</td><td>2002</td><td>Korea/Japan</td><td>Brazil</td><td>Germany</td><td>Turkey</td><td>161</td><td>2705197</td><td>Germany</td><td>0</td><td>2</td><td>Brazil</td><td>69029</td><td>COLLINA Pierluigi (ITA)</td><td>ITA</td><td>BRA</td><td>RONALDO</td><td>2</td><td>0</td><td>0</td></tr><tr><td>97410028</td><td>2006</td><td>Germany</td><td>Italy</td><td>France</td><td>Germany</td><td>147</td><td>3359439</td><td>Japan</td><td>0</td><td>0</td><td>Croatia</td><td>41000</td><td>DE BLEECKERE Frank (BEL)</td><td>BEL</td><td>CRO</td><td>SRNA</td><td>0</td><td>1</td><td>0</td></tr><tr><td>97410028</td><td>2006</td><td>Germany</td><td>Italy</td><td>France</td><td>Germany</td><td>147</td><td>3359439</td><td>Japan</td><td>0</td><td>0</td><td>Croatia</td><td>41000</td><td>DE BLEECKERE Frank (BEL)</td><td>BEL</td><td>JPN</td><td>MIYAMOTO</td><td>0</td><td>1</td><td>0</td></tr><tr><td>97410028</td><td>2006</td><td>Germany</td><td>Italy</td><td>France</td><td>Germany</td><td>147</td><td>3359439</td><td>Japan</td><td>0</td><td>0</td><td>Croatia</td><td>41000</td><td>DE BLEECKERE Frank (BEL)</td><td>BEL</td><td>CRO</td><td>R. KOVAC</td><td>0</td><td>1</td><td>0</td></tr><tr><td>97410028</td><td>2006</td><td>Germany</td><td>Italy</td><td>France</td><td>Germany</td><td>147</td><td>3359439</td><td>Japan</td><td>0</td><td>0</td><td>Croatia</td><td>41000</td><td>DE BLEECKERE Frank (BEL)</td><td>BEL</td><td>JPN</td><td>KAWAGUCHI</td><td>0</td><td>1</td><td>0</td></tr><tr><td>97410028</td><td>2006</td><td>Germany</td><td>Italy</td><td>France</td><td>Germany</td><td>147</td><td>3359439</td><td>Japan</td><td>0</td><td>0</td><td>Croatia</td><td>41000</td><td>DE BLEECKERE Frank (BEL)</td><td>BEL</td><td>JPN</td><td>ALEX</td><td>0</td><td>1</td><td>0</td></tr><tr><td>300186489</td><td>2014</td><td>Brazil</td><td>Germany</td><td>Argentina</td><td>Netherlands</td><td>171</td><td>3386810</td><td>Uruguay</td><td>1</td><td>3</td><td>Costa Rica</td><td>58679</td><td>BRYCH Felix (GER)</td><td>GER</td><td>URU</td><td>E. CAVANI</td><td>1</td><td>0</td><td>0</td></tr><tr><td>300186489</td><td>2014</td><td>Brazil</td><td>Germany</td><td>Argentina</td><td>Netherlands</td><td>171</td><td>3386810</td><td>Uruguay</td><td>1</td><td>3</td><td>Costa Rica</td><td>58679</td><td>BRYCH Felix (GER)</td><td>GER</td><td>URU</td><td>M. CACERES</td><td>0</td><td>1</td><td>0</td></tr><tr><td>300186489</td><td>2014</td><td>Brazil</td><td>Germany</td><td>Argentina</td><td>Netherlands</td><td>171</td><td>3386810</td><td>Uruguay</td><td>1</td><td>3</td><td>Costa Rica</td><td>58679</td><td>BRYCH Felix (GER)</td><td>GER</td><td>URU</td><td>W. GARGANO</td><td>0</td><td>1</td><td>0</td></tr><tr><td>300186489</td><td>2014</td><td>Brazil</td><td>Germany</td><td>Argentina</td><td>Netherlands</td><td>171</td><td>3386810</td><td>Uruguay</td><td>1</td><td>3</td><td>Costa Rica</td><td>58679</td><td>BRYCH Felix (GER)</td><td>GER</td><td>CRC</td><td>DUARTE O.</td><td>1</td><td>0</td><td>0</td></tr><tr><td>300186489</td><td>2014</td><td>Brazil</td><td>Germany</td><td>Argentina</td><td>Netherlands</td><td>171</td><td>3386810</td><td>Uruguay</td><td>1</td><td>3</td><td>Costa Rica</td><td>58679</td><td>BRYCH Felix (GER)</td><td>GER</td><td>URU</td><td>D. LUGANO</td><td>0</td><td>1</td><td>0</td></tr><tr><td>300186489</td><td>2014</td><td>Brazil</td><td>Germany</td><td>Argentina</td><td>Netherlands</td><td>171</td><td>3386810</td><td>Uruguay</td><td>1</td><td>3</td><td>Costa Rica</td><td>58679</td><td>BRYCH Felix (GER)</td><td>GER</td><td>CRC</td><td>URENA M.</td><td>1</td><td>0</td><td>0</td></tr><tr><td>300186489</td><td>2014</td><td>Brazil</td><td>Germany</td><td>Argentina</td><td>Netherlands</td><td>171</td><td>3386810</td><td>Uruguay</td><td>1</td><td>3</td><td>Costa Rica</td><td>58679</td><td>BRYCH Felix (GER)</td><td>GER</td><td>URU</td><td>M. PEREIRA</td><td>0</td><td>0</td><td>1</td></tr><tr><td>300186489</td><td>2014</td><td>Brazil</td><td>Germany</td><td>Argentina</td><td>Netherlands</td><td>171</td><td>3386810</td><td>Uruguay</td><td>1</td><td>3</td><td>Costa Rica</td><td>58679</td><td>BRYCH Felix (GER)</td><td>GER</td><td>CRC</td><td>CAMPBELL J.</td><td>1</td><td>0</td><td>0</td></tr><tr><td>300186484</td><td>2014</td><td>Brazil</td><td>Germany</td><td>Argentina</td><td>Netherlands</td><td>171</td><td>3386810</td><td>Costa Rica</td><td>0</td><td>0</td><td>England</td><td>57823</td><td>HAIMOUDI Djamel (ALG)</td><td>ALG</td><td>ENG</td><td>LALLANA</td><td>0</td><td>1</td><td>0</td></tr><tr><td>300186484</td><td>2014</td><td>Brazil</td><td>Germany</td><td>Argentina</td><td>Netherlands</td><td>171</td><td>3386810</td><td>Costa Rica</td><td>0</td><td>0</td><td>England</td><td>57823</td><td>HAIMOUDI Djamel (ALG)</td><td>ALG</td><td>CRC</td><td>GONZALEZ G.</td><td>0</td><td>1</td><td>0</td></tr><tr><td>300186484</td><td>2014</td><td>Brazil</td><td>Germany</td><td>Argentina</td><td>Netherlands</td><td>171</td><td>3386810</td><td>Costa Rica</td><td>0</td><td>0</td><td>England</td><td>57823</td><td>HAIMOUDI Djamel (ALG)</td><td>ALG</td><td>ENG</td><td>BARKLEY</td><td>0</td><td>1</td><td>0</td></tr><tr><td>1166</td><td>1938</td><td>France</td><td>Italy</td><td>Hungary</td><td>Brazil</td><td>84</td><td>375700</td><td>Switzerland</td><td>4</td><td>2</td><td>Germany</td><td>20025</td><td>EKLIND Ivan (SWE)</td><td>SWE</td><td>GER</td><td>Willhelm HAHNEMANN</td><td>1</td><td>0</td><td>0</td></tr><tr><td>1166</td><td>1938</td><td>France</td><td>Italy</td><td>Hungary</td><td>Brazil</td><td>84</td><td>375700</td><td>Switzerland</td><td>4</td><td>2</td><td>Germany</td><td>20025</td><td>EKLIND Ivan (SWE)</td><td>SWE</td><td>SUI</td><td>Fredy BICKEL</td><td>1</td><td>0</td><td>0</td></tr><tr><td>1166</td><td>1938</td><td>France</td><td>Italy</td><td>Hungary</td><td>Brazil</td><td>84</td><td>375700</td><td>Switzerland</td><td>4</td><td>2</td><td>Germany</td><td>20025</td><td>EKLIND Ivan (SWE)</td><td>SWE</td><td>SUI</td><td>Andre ABEGGLEN</td><td>2</td><td>0</td><td>0</td></tr><tr><td>1166</td><td>1938</td><td>France</td><td>Italy</td><td>Hungary</td><td>Brazil</td><td>84</td><td>375700</td><td>Switzerland</td><td>4</td><td>2</td><td>Germany</td><td>20025</td><td>EKLIND Ivan (SWE)</td><td>SWE</td><td>SUI</td><td>Eugen WALASCHEK</td><td>1</td><td>0</td><td>0</td></tr><tr><td>1747</td><td>1970</td><td>Mexico</td><td>Brazil</td><td>Italy</td><td>Germany</td><td>95</td><td>1603975</td><td>Belgium</td><td>3</td><td>0</td><td>El Salvador</td><td>92205</td><td>RADULESCU Andrei (ROU)</td><td>ROU</td><td>BEL</td><td>Wilfried VAN MOER</td><td>2</td><td>0</td><td>0</td></tr><tr><td>1747</td><td>1970</td><td>Mexico</td><td>Brazil</td><td>Italy</td><td>Germany</td><td>95</td><td>1603975</td><td>Belgium</td><td>3</td><td>0</td><td>El Salvador</td><td>92205</td><td>RADULESCU Andrei (ROU)</td><td>ROU</td><td>BEL</td><td>Raoul LAMBERT</td><td>1</td><td>0</td><td>0</td></tr><tr><td>1947</td><td>1974</td><td>Germany</td><td>Germany</td><td>Netherlands</td><td>Poland</td><td>97</td><td>1865753</td><td>Argentina</td><td>4</td><td>1</td><td>Haiti</td><td>25900</td><td>SANCHEZ IBANEZ Pablo (ESP)</td><td>ESP</td><td>ARG</td><td>Hector YAZALDE</td><td>2</td><td>0</td><td>0</td></tr><tr><td>1947</td><td>1974</td><td>Germany</td><td>Germany</td><td>Netherlands</td><td>Poland</td><td>97</td><td>1865753</td><td>Argentina</td><td>4</td><td>1</td><td>Haiti</td><td>25900</td><td>SANCHEZ IBANEZ Pablo (ESP)</td><td>ESP</td><td>HAI</td><td>Fritz LEANDRE</td><td>0</td><td>1</td><td>0</td></tr><tr><td>1947</td><td>1974</td><td>Germany</td><td>Germany</td><td>Netherlands</td><td>Poland</td><td>97</td><td>1865753</td><td>Argentina</td><td>4</td><td>1</td><td>Haiti</td><td>25900</td><td>SANCHEZ IBANEZ Pablo (ESP)</td><td>ESP</td><td>ARG</td><td>Ramon HEREDIA</td><td>0</td><td>1</td><td>0</td></tr><tr><td>1947</td><td>1974</td><td>Germany</td><td>Germany</td><td>Netherlands</td><td>Poland</td><td>97</td><td>1865753</td><td>Argentina</td><td>4</td><td>1</td><td>Haiti</td><td>25900</td><td>SANCHEZ IBANEZ Pablo (ESP)</td><td>ESP</td><td>HAI</td><td>Emmanuel SANON</td><td>1</td><td>0</td><td>0</td></tr><tr><td>1947</td><td>1974</td><td>Germany</td><td>Germany</td><td>Netherlands</td><td>Poland</td><td>97</td><td>1865753</td><td>Argentina</td><td>4</td><td>1</td><td>Haiti</td><td>25900</td><td>SANCHEZ IBANEZ Pablo (ESP)</td><td>ESP</td><td>ARG</td><td>Ruben AYALA</td><td>1</td><td>0</td><td>0</td></tr><tr><td>1947</td><td>1974</td><td>Germany</td><td>Germany</td><td>Netherlands</td><td>Poland</td><td>97</td><td>1865753</td><td>Argentina</td><td>4</td><td>1</td><td>Haiti</td><td>25900</td><td>SANCHEZ IBANEZ Pablo (ESP)</td><td>ESP</td><td>ARG</td><td>Rene HOUSEMAN</td><td>1</td><td>0</td><td>0</td></tr><tr><td>1947</td><td>1974</td><td>Germany</td><td>Germany</td><td>Netherlands</td><td>Poland</td><td>97</td><td>1865753</td><td>Argentina</td><td>4</td><td>1</td><td>Haiti</td><td>25900</td><td>SANCHEZ IBANEZ Pablo (ESP)</td><td>ESP</td><td>ARG</td><td>Carlos BABINGTON</td><td>0</td><td>1</td><td>0</td></tr><tr><td>3076</td><td>1994</td><td>United States</td><td>Brazil</td><td>Italy</td><td>Sweden</td><td>141</td><td>3587538</td><td>Germany</td><td>3</td><td>2</td><td>Korea Republic</td><td>63998</td><td>QUINIOU Joel (FRA)</td><td>FRA</td><td>KOR</td><td>S H HWANG</td><td>1</td><td>0</td><td>0</td></tr><tr><td>3076</td><td>1994</td><td>United States</td><td>Brazil</td><td>Italy</td><td>Sweden</td><td>141</td><td>3587538</td><td>Germany</td><td>3</td><td>2</td><td>Korea Republic</td><td>63998</td><td>QUINIOU Joel (FRA)</td><td>FRA</td><td>KOR</td><td>M B HONG</td><td>1</td><td>0</td><td>0</td></tr><tr><td>3076</td><td>1994</td><td>United States</td><td>Brazil</td><td>Italy</td><td>Sweden</td><td>141</td><td>3587538</td><td>Germany</td><td>3</td><td>2</td><td>Korea Republic</td><td>63998</td><td>QUINIOU Joel (FRA)</td><td>FRA</td><td>GER</td><td>Andreas BREHME</td><td>0</td><td>1</td><td>0</td></tr><tr><td>3076</td><td>1994</td><td>United States</td><td>Brazil</td><td>Italy</td><td>Sweden</td><td>141</td><td>3587538</td><td>Germany</td><td>3</td><td>2</td><td>Korea Republic</td><td>63998</td><td>QUINIOU Joel (FRA)</td><td>FRA</td><td>GER</td><td>Karlheinz RIEDLE</td><td>1</td><td>0</td><td>0</td></tr><tr><td>3076</td><td>1994</td><td>United States</td><td>Brazil</td><td>Italy</td><td>Sweden</td><td>141</td><td>3587538</td><td>Germany</td><td>3</td><td>2</td><td>Korea Republic</td><td>63998</td><td>QUINIOU Joel (FRA)</td><td>FRA</td><td>KOR</td><td>Y I CHOI</td><td>0</td><td>1</td><td>0</td></tr><tr><td>3076</td><td>1994</td><td>United States</td><td>Brazil</td><td>Italy</td><td>Sweden</td><td>141</td><td>3587538</td><td>Germany</td><td>3</td><td>2</td><td>Korea Republic</td><td>63998</td><td>QUINIOU Joel (FRA)</td><td>FRA</td><td>GER</td><td>KLINSMANN</td><td>2</td><td>1</td><td>0</td></tr><tr><td>3076</td><td>1994</td><td>United States</td><td>Brazil</td><td>Italy</td><td>Sweden</td><td>141</td><td>3587538</td><td>Germany</td><td>3</td><td>2</td><td>Korea Republic</td><td>63998</td><td>QUINIOU Joel (FRA)</td><td>FRA</td><td>GER</td><td>Stefan EFFENBERG</td><td>0</td><td>1</td><td>0</td></tr><tr><td>43950004</td><td>2002</td><td>Korea/Japan</td><td>Brazil</td><td>Germany</td><td>Turkey</td><td>161</td><td>2705197</td><td>Germany</td><td>8</td><td>0</td><td>Saudi Arabia</td><td>32218</td><td>AQUINO Ubaldo (PAR)</td><td>PAR</td><td>GER</td><td>SCHNEIDER</td><td>1</td><td>0</td><td>0</td></tr><tr><td>43950004</td><td>2002</td><td>Korea/Japan</td><td>Brazil</td><td>Germany</td><td>Turkey</td><td>161</td><td>2705197</td><td>Germany</td><td>8</td><td>0</td><td>Saudi Arabia</td><td>32218</td><td>AQUINO Ubaldo (PAR)</td><td>PAR</td><td>KSA</td><td>NOOR</td><td>0</td><td>1</td><td>0</td></tr><tr><td>43950004</td><td>2002</td><td>Korea/Japan</td><td>Brazil</td><td>Germany</td><td>Turkey</td><td>161</td><td>2705197</td><td>Germany</td><td>8</td><td>0</td><td>Saudi Arabia</td><td>32218</td><td>AQUINO Ubaldo (PAR)</td><td>PAR</td><td>GER</td><td>ZIEGE</td><td>0</td><td>1</td><td>0</td></tr><tr><td>43950004</td><td>2002</td><td>Korea/Japan</td><td>Brazil</td><td>Germany</td><td>Turkey</td><td>161</td><td>2705197</td><td>Germany</td><td>8</td><td>0</td><td>Saudi Arabia</td><td>32218</td><td>AQUINO Ubaldo (PAR)</td><td>PAR</td><td>GER</td><td>LINKE</td><td>1</td><td>0</td><td>0</td></tr><tr><td>43950004</td><td>2002</td><td>Korea/Japan</td><td>Brazil</td><td>Germany</td><td>Turkey</td><td>161</td><td>2705197</td><td>Germany</td><td>8</td><td>0</td><td>Saudi Arabia</td><td>32218</td><td>AQUINO Ubaldo (PAR)</td><td>PAR</td><td>GER</td><td>HAMANN</td><td>0</td><td>1</td><td>0</td></tr><tr><td>43950004</td><td>2002</td><td>Korea/Japan</td><td>Brazil</td><td>Germany</td><td>Turkey</td><td>161</td><td>2705197</td><td>Germany</td><td>8</td><td>0</td><td>Saudi Arabia</td><td>32218</td><td>AQUINO Ubaldo (PAR)</td><td>PAR</td><td>GER</td><td>JANCKER</td><td>1</td><td>0</td><td>0</td></tr><tr><td>43950004</td><td>2002</td><td>Korea/Japan</td><td>Brazil</td><td>Germany</td><td>Turkey</td><td>161</td><td>2705197</td><td>Germany</td><td>8</td><td>0</td><td>Saudi Arabia</td><td>32218</td><td>AQUINO Ubaldo (PAR)</td><td>PAR</td><td>GER</td><td>BALLACK</td><td>1</td><td>0</td><td>0</td></tr><tr><td>43950004</td><td>2002</td><td>Korea/Japan</td><td>Brazil</td><td>Germany</td><td>Turkey</td><td>161</td><td>2705197</td><td>Germany</td><td>8</td><td>0</td><td>Saudi Arabia</td><td>32218</td><td>AQUINO Ubaldo (PAR)</td><td>PAR</td><td>GER</td><td>KLOSE</td><td>3</td><td>0</td><td>0</td></tr><tr><td>43950004</td><td>2002</td><td>Korea/Japan</td><td>Brazil</td><td>Germany</td><td>Turkey</td><td>161</td><td>2705197</td><td>Germany</td><td>8</td><td>0</td><td>Saudi Arabia</td><td>32218</td><td>AQUINO Ubaldo (PAR)</td><td>PAR</td><td>GER</td><td>BIERHOFF</td><td>1</td><td>0</td><td>0</td></tr><tr><td>300186466</td><td>2014</td><td>Brazil</td><td>Germany</td><td>Argentina</td><td>Netherlands</td><td>171</td><td>3386810</td><td>Argentina</td><td>1</td><td>0</td><td>Iran</td><td>57698</td><td>MAZIC Milorad (SRB)</td><td>SRB</td><td>IRN</td><td>MASOUD. SH</td><td>0</td><td>1</td><td>0</td></tr><tr><td>300186466</td><td>2014</td><td>Brazil</td><td>Germany</td><td>Argentina</td><td>Netherlands</td><td>171</td><td>3386810</td><td>Argentina</td><td>1</td><td>0</td><td>Iran</td><td>57698</td><td>MAZIC Milorad (SRB)</td><td>SRB</td><td>IRN</td><td>J. NEKOUNAM</td><td>0</td><td>1</td><td>0</td></tr><tr><td>300186466</td><td>2014</td><td>Brazil</td><td>Germany</td><td>Argentina</td><td>Netherlands</td><td>171</td><td>3386810</td><td>Argentina</td><td>1</td><td>0</td><td>Iran</td><td>57698</td><td>MAZIC Milorad (SRB)</td><td>SRB</td><td>ARG</td><td>MESSI</td><td>1</td><td>0</td><td>0</td></tr><tr><td>1633</td><td>1966</td><td>England</td><td>England</td><td>Germany</td><td>Portugal</td><td>89</td><td>1563135</td><td>England</td><td>4</td><td>2</td><td>Germany</td><td>96924</td><td>DIENST Gottfried (SUI)</td><td>SUI</td><td>ENG</td><td>Geoff HURST</td><td>3</td><td>0</td><td>0</td></tr><tr><td>1633</td><td>1966</td><td>England</td><td>England</td><td>Germany</td><td>Portugal</td><td>89</td><td>1563135</td><td>England</td><td>4</td><td>2</td><td>Germany</td><td>96924</td><td>DIENST Gottfried (SUI)</td><td>SUI</td><td>FRG</td><td>Wolfgang WEBER</td><td>1</td><td>0</td><td>0</td></tr><tr><td>1633</td><td>1966</td><td>England</td><td>England</td><td>Germany</td><td>Portugal</td><td>89</td><td>1563135</td><td>England</td><td>4</td><td>2</td><td>Germany</td><td>96924</td><td>DIENST Gottfried (SUI)</td><td>SUI</td><td>FRG</td><td>Helmut HALLER</td><td>1</td><td>0</td><td>0</td></tr><tr><td>1633</td><td>1966</td><td>England</td><td>England</td><td>Germany</td><td>Portugal</td><td>89</td><td>1563135</td><td>England</td><td>4</td><td>2</td><td>Germany</td><td>96924</td><td>DIENST Gottfried (SUI)</td><td>SUI</td><td>ENG</td><td>Martin PETERS</td><td>1</td><td>1</td><td>0</td></tr><tr><td>8786</td><td>1998</td><td>France</td><td>France</td><td>Brazil</td><td>Croatia</td><td>171</td><td>2785100</td><td>France</td><td>2</td><td>1</td><td>Croatia</td><td>76000</td><td>GARCIA ARANDA Jose Maria (ESP)</td><td>ESP</td><td>CRO</td><td>Davor SUKER</td><td>1</td><td>0</td><td>0</td></tr><tr><td>8786</td><td>1998</td><td>France</td><td>France</td><td>Brazil</td><td>Croatia</td><td>171</td><td>2785100</td><td>France</td><td>2</td><td>1</td><td>Croatia</td><td>76000</td><td>GARCIA ARANDA Jose Maria (ESP)</td><td>ESP</td><td>FRA</td><td>L. BLANC</td><td>0</td><td>0</td><td>1</td></tr><tr><td>8786</td><td>1998</td><td>France</td><td>France</td><td>Brazil</td><td>Croatia</td><td>171</td><td>2785100</td><td>France</td><td>2</td><td>1</td><td>Croatia</td><td>76000</td><td>GARCIA ARANDA Jose Maria (ESP)</td><td>ESP</td><td>FRA</td><td>Lilian THURAM</td><td>2</td><td>0</td><td>0</td></tr><tr><td>8786</td><td>1998</td><td>France</td><td>France</td><td>Brazil</td><td>Croatia</td><td>171</td><td>2785100</td><td>France</td><td>2</td><td>1</td><td>Croatia</td><td>76000</td><td>GARCIA ARANDA Jose Maria (ESP)</td><td>ESP</td><td>CRO</td><td>Aljosa ASANOVIC</td><td>0</td><td>1</td><td>0</td></tr><tr><td>8786</td><td>1998</td><td>France</td><td>France</td><td>Brazil</td><td>Croatia</td><td>171</td><td>2785100</td><td>France</td><td>2</td><td>1</td><td>Croatia</td><td>76000</td><td>GARCIA ARANDA Jose Maria (ESP)</td><td>ESP</td><td>CRO</td><td>Dario SIMIC</td><td>0</td><td>1</td><td>0</td></tr><tr><td>8786</td><td>1998</td><td>France</td><td>France</td><td>Brazil</td><td>Croatia</td><td>171</td><td>2785100</td><td>France</td><td>2</td><td>1</td><td>Croatia</td><td>76000</td><td>GARCIA ARANDA Jose Maria (ESP)</td><td>ESP</td><td>CRO</td><td>Mario STANIC</td><td>0</td><td>1</td><td>0</td></tr><tr><td>2085</td><td>1974</td><td>Germany</td><td>Germany</td><td>Netherlands</td><td>Poland</td><td>97</td><td>1865753</td><td>Haiti</td><td>0</td><td>7</td><td>Poland</td><td>25300</td><td>SUPPIAH George (SIN)</td><td>SIN</td><td>HAI</td><td>Pierre BAYONNE</td><td>0</td><td>1</td><td>0</td></tr><tr><td>2085</td><td>1974</td><td>Germany</td><td>Germany</td><td>Netherlands</td><td>Poland</td><td>97</td><td>1865753</td><td>Haiti</td><td>0</td><td>7</td><td>Poland</td><td>25300</td><td>SUPPIAH George (SIN)</td><td>SIN</td><td>POL</td><td>Jerzy GORGON</td><td>1</td><td>0</td><td>0</td></tr><tr><td>2085</td><td>1974</td><td>Germany</td><td>Germany</td><td>Netherlands</td><td>Poland</td><td>97</td><td>1865753</td><td>Haiti</td><td>0</td><td>7</td><td>Poland</td><td>25300</td><td>SUPPIAH George (SIN)</td><td>SIN</td><td>POL</td><td>Andrzej SZARMACH</td><td>3</td><td>0</td><td>0</td></tr><tr><td>2085</td><td>1974</td><td>Germany</td><td>Germany</td><td>Netherlands</td><td>Poland</td><td>97</td><td>1865753</td><td>Haiti</td><td>0</td><td>7</td><td>Poland</td><td>25300</td><td>SUPPIAH George (SIN)</td><td>SIN</td><td>POL</td><td>Kazimierz DEYNA</td><td>1</td><td>0</td><td>0</td></tr><tr><td>2085</td><td>1974</td><td>Germany</td><td>Germany</td><td>Netherlands</td><td>Poland</td><td>97</td><td>1865753</td><td>Haiti</td><td>0</td><td>7</td><td>Poland</td><td>25300</td><td>SUPPIAH George (SIN)</td><td>SIN</td><td>POL</td><td>Grzegorz LATO</td><td>2</td><td>0</td><td>0</td></tr><tr><td>31</td><td>1990</td><td>Italy</td><td>Germany</td><td>Argentina</td><td>Italy</td><td>115</td><td>2516215</td><td>Yugoslavia</td><td>0</td><td>0</td><td>Argentina</td><td>38971</td><td>ROETHLISBERGER Kurt (SUI)</td><td>SUI</td><td>ARG</td><td>Juan SIMON</td><td>0</td><td>1</td><td>0</td></tr><tr><td>31</td><td>1990</td><td>Italy</td><td>Germany</td><td>Argentina</td><td>Italy</td><td>115</td><td>2516215</td><td>Yugoslavia</td><td>0</td><td>0</td><td>Argentina</td><td>38971</td><td>ROETHLISBERGER Kurt (SUI)</td><td>SUI</td><td>ARG</td><td>Jose SERRIZUELA</td><td>0</td><td>1</td><td>0</td></tr><tr><td>31</td><td>1990</td><td>Italy</td><td>Germany</td><td>Argentina</td><td>Italy</td><td>115</td><td>2516215</td><td>Yugoslavia</td><td>0</td><td>0</td><td>Argentina</td><td>38971</td><td>ROETHLISBERGER Kurt (SUI)</td><td>SUI</td><td>ARG</td><td>Pedro TROGLIO</td><td>0</td><td>1</td><td>0</td></tr><tr><td>31</td><td>1990</td><td>Italy</td><td>Germany</td><td>Argentina</td><td>Italy</td><td>115</td><td>2516215</td><td>Yugoslavia</td><td>0</td><td>0</td><td>Argentina</td><td>38971</td><td>ROETHLISBERGER Kurt (SUI)</td><td>SUI</td><td>ARG</td><td>Julio OLARTICOECHEA</td><td>0</td><td>1</td><td>0</td></tr><tr><td>31</td><td>1990</td><td>Italy</td><td>Germany</td><td>Argentina</td><td>Italy</td><td>115</td><td>2516215</td><td>Yugoslavia</td><td>0</td><td>0</td><td>Argentina</td><td>38971</td><td>ROETHLISBERGER Kurt (SUI)</td><td>SUI</td><td>YUG</td><td>Refik SABANADZOVIC</td><td>0</td><td>1</td><td>1</td></tr><tr><td>300061469</td><td>2010</td><td>South Africa</td><td>Spain</td><td>Netherlands</td><td>Germany</td><td>145</td><td>3178856</td><td>Ghana</td><td>1</td><td>1</td><td>Australia</td><td>34812</td><td>ROSETTI Roberto (ITA)</td><td>ITA</td><td>GHA</td><td>A. GYAN</td><td>1</td><td>0</td><td>0</td></tr><tr><td>300061469</td><td>2010</td><td>South Africa</td><td>Spain</td><td>Netherlands</td><td>Germany</td><td>145</td><td>3178856</td><td>Ghana</td><td>1</td><td>1</td><td>Australia</td><td>34812</td><td>ROSETTI Roberto (ITA)</td><td>ITA</td><td>AUS</td><td>KEWELL</td><td>0</td><td>0</td><td>1</td></tr><tr><td>300061469</td><td>2010</td><td>South Africa</td><td>Spain</td><td>Netherlands</td><td>Germany</td><td>145</td><td>3178856</td><td>Ghana</td><td>1</td><td>1</td><td>Australia</td><td>34812</td><td>ROSETTI Roberto (ITA)</td><td>ITA</td><td>GHA</td><td>ANNAN</td><td>0</td><td>1</td><td>0</td></tr><tr><td>300061469</td><td>2010</td><td>South Africa</td><td>Spain</td><td>Netherlands</td><td>Germany</td><td>145</td><td>3178856</td><td>Ghana</td><td>1</td><td>1</td><td>Australia</td><td>34812</td><td>ROSETTI Roberto (ITA)</td><td>ITA</td><td>AUS</td><td>MOORE</td><td>0</td><td>1</td><td>0</td></tr><tr><td>300061469</td><td>2010</td><td>South Africa</td><td>Spain</td><td>Netherlands</td><td>Germany</td><td>145</td><td>3178856</td><td>Ghana</td><td>1</td><td>1</td><td>Australia</td><td>34812</td><td>ROSETTI Roberto (ITA)</td><td>ITA</td><td>GHA</td><td>ADDY</td><td>0</td><td>1</td><td>0</td></tr><tr><td>300061469</td><td>2010</td><td>South Africa</td><td>Spain</td><td>Netherlands</td><td>Germany</td><td>145</td><td>3178856</td><td>Ghana</td><td>1</td><td>1</td><td>Australia</td><td>34812</td><td>ROSETTI Roberto (ITA)</td><td>ITA</td><td>AUS</td><td>HOLMAN</td><td>1</td><td>0</td><td>0</td></tr><tr><td>300061469</td><td>2010</td><td>South Africa</td><td>Spain</td><td>Netherlands</td><td>Germany</td><td>145</td><td>3178856</td><td>Ghana</td><td>1</td><td>1</td><td>Australia</td><td>34812</td><td>ROSETTI Roberto (ITA)</td><td>ITA</td><td>GHA</td><td>JONATHAN</td><td>0</td><td>1</td><td>0</td></tr><tr><td>300186475</td><td>2014</td><td>Brazil</td><td>Germany</td><td>Argentina</td><td>Netherlands</td><td>171</td><td>3386810</td><td>Germany</td><td>4</td><td>0</td><td>Portugal</td><td>51081</td><td>MAZIC Milorad (SRB)</td><td>SRB</td><td>GER</td><td>HUMMELS</td><td>1</td><td>0</td><td>0</td></tr><tr><td>300186475</td><td>2014</td><td>Brazil</td><td>Germany</td><td>Argentina</td><td>Netherlands</td><td>171</td><td>3386810</td><td>Germany</td><td>4</td><td>0</td><td>Portugal</td><td>51081</td><td>MAZIC Milorad (SRB)</td><td>SRB</td><td>POR</td><td>PEPE</td><td>0</td><td>0</td><td>1</td></tr><tr><td>300186475</td><td>2014</td><td>Brazil</td><td>Germany</td><td>Argentina</td><td>Netherlands</td><td>171</td><td>3386810</td><td>Germany</td><td>4</td><td>0</td><td>Portugal</td><td>51081</td><td>MAZIC Milorad (SRB)</td><td>SRB</td><td>POR</td><td>J. PEREIRA</td><td>0</td><td>1</td><td>0</td></tr><tr><td>300186475</td><td>2014</td><td>Brazil</td><td>Germany</td><td>Argentina</td><td>Netherlands</td><td>171</td><td>3386810</td><td>Germany</td><td>4</td><td>0</td><td>Portugal</td><td>51081</td><td>MAZIC Milorad (SRB)</td><td>SRB</td><td>GER</td><td>MULLER</td><td>3</td><td>0</td><td>0</td></tr><tr><td>300186506</td><td>2014</td><td>Brazil</td><td>Germany</td><td>Argentina</td><td>Netherlands</td><td>171</td><td>3386810</td><td>Algeria</td><td>1</td><td>1</td><td>Russia</td><td>39311</td><td>Cuneyt CAKIR (TUR)</td><td>TUR</td><td>ALG</td><td>SLIMANI</td><td>1</td><td>0</td><td>0</td></tr><tr><td>300186506</td><td>2014</td><td>Brazil</td><td>Germany</td><td>Argentina</td><td>Netherlands</td><td>171</td><td>3386810</td><td>Algeria</td><td>1</td><td>1</td><td>Russia</td><td>39311</td><td>Cuneyt CAKIR (TUR)</td><td>TUR</td><td>RUS</td><td>KOKORIN</td><td>1</td><td>0</td><td>0</td></tr><tr><td>300186506</td><td>2014</td><td>Brazil</td><td>Germany</td><td>Argentina</td><td>Netherlands</td><td>171</td><td>3386810</td><td>Algeria</td><td>1</td><td>1</td><td>Russia</td><td>39311</td><td>Cuneyt CAKIR (TUR)</td><td>TUR</td><td>ALG</td><td>GHILAS</td><td>0</td><td>1</td><td>0</td></tr><tr><td>300186506</td><td>2014</td><td>Brazil</td><td>Germany</td><td>Argentina</td><td>Netherlands</td><td>171</td><td>3386810</td><td>Algeria</td><td>1</td><td>1</td><td>Russia</td><td>39311</td><td>Cuneyt CAKIR (TUR)</td><td>TUR</td><td>RUS</td><td>KOZLOV</td><td>0</td><td>1</td><td>0</td></tr><tr><td>300186506</td><td>2014</td><td>Brazil</td><td>Germany</td><td>Argentina</td><td>Netherlands</td><td>171</td><td>3386810</td><td>Algeria</td><td>1</td><td>1</td><td>Russia</td><td>39311</td><td>Cuneyt CAKIR (TUR)</td><td>TUR</td><td>RUS</td><td>D. KOMBAROV</td><td>0</td><td>1</td><td>0</td></tr><tr><td>300186506</td><td>2014</td><td>Brazil</td><td>Germany</td><td>Argentina</td><td>Netherlands</td><td>171</td><td>3386810</td><td>Algeria</td><td>1</td><td>1</td><td>Russia</td><td>39311</td><td>Cuneyt CAKIR (TUR)</td><td>TUR</td><td>ALG</td><td>CADAMURO</td><td>0</td><td>1</td><td>0</td></tr><tr><td>300186506</td><td>2014</td><td>Brazil</td><td>Germany</td><td>Argentina</td><td>Netherlands</td><td>171</td><td>3386810</td><td>Algeria</td><td>1</td><td>1</td><td>Russia</td><td>39311</td><td>Cuneyt CAKIR (TUR)</td><td>TUR</td><td>ALG</td><td>MESBAH</td><td>0</td><td>1</td><td>0</td></tr><tr><td>1191</td><td>1950</td><td>Brazil</td><td>Uruguay</td><td>Brazil</td><td>Sweden</td><td>88</td><td>1045246</td><td>Brazil</td><td>2</td><td>0</td><td>Yugoslavia</td><td>142429</td><td>GRIFFITHS Benjamin (WAL)</td><td>WAL</td><td>BRA</td><td>ADEMIR</td><td>1</td><td>0</td><td>0</td></tr><tr><td>1191</td><td>1950</td><td>Brazil</td><td>Uruguay</td><td>Brazil</td><td>Sweden</td><td>88</td><td>1045246</td><td>Brazil</td><td>2</td><td>0</td><td>Yugoslavia</td><td>142429</td><td>GRIFFITHS Benjamin (WAL)</td><td>WAL</td><td>BRA</td><td>ZIZINHO</td><td>1</td><td>0</td><td>0</td></tr><tr><td>2431</td><td>1978</td><td>Argentina</td><td>Argentina</td><td>Netherlands</td><td>Brazil</td><td>102</td><td>1545791</td><td>Poland</td><td>3</td><td>1</td><td>Mexico</td><td>22651</td><td>NAMDAR Jafar (IRN)</td><td>IRN</td><td>POL</td><td>Zbigniew BONIEK</td><td>2</td><td>0</td><td>0</td></tr><tr><td>2431</td><td>1978</td><td>Argentina</td><td>Argentina</td><td>Netherlands</td><td>Brazil</td><td>102</td><td>1545791</td><td>Poland</td><td>3</td><td>1</td><td>Mexico</td><td>22651</td><td>NAMDAR Jafar (IRN)</td><td>IRN</td><td>POL</td><td>Kazimierz DEYNA</td><td>1</td><td>0</td><td>0</td></tr></tbody></table></div>"
      ]
     },
     "metadata": {
      "application/vnd.databricks.v1+output": {
       "addedWidgets": {},
       "aggData": [],
       "aggError": "",
       "aggOverflow": false,
       "aggSchema": [],
       "aggSeriesLimitReached": false,
       "aggType": "",
       "arguments": {},
       "columnCustomDisplayInfos": {},
       "data": [
        [
         1525,
         1962,
         "Chile",
         "Brazil",
         "Czechoslovakia",
         "Chile",
         89,
         893172,
         "Czechoslovakia",
         1,
         0,
         "Hungary",
         11690,
         "LATYCHEV Nikolaj (URS)",
         "URS",
         "TCH",
         "Adolf SCHERER",
         1,
         0,
         0
        ],
        [
         3053,
         1994,
         "United States",
         "Brazil",
         "Italy",
         "Sweden",
         141,
         3587538,
         "Colombia",
         1,
         3,
         "Romania",
         91856,
         "AL SHARIF Jamal (SYR)",
         "SYR",
         "COL",
         "VALENCIA",
         1,
         0,
         0
        ],
        [
         3053,
         1994,
         "United States",
         "Brazil",
         "Italy",
         "Sweden",
         141,
         3587538,
         "Colombia",
         1,
         3,
         "Romania",
         91856,
         "AL SHARIF Jamal (SYR)",
         "SYR",
         "COL",
         "Luis HERRERA",
         0,
         1,
         0
        ],
        [
         3053,
         1994,
         "United States",
         "Brazil",
         "Italy",
         "Sweden",
         141,
         3587538,
         "Colombia",
         1,
         3,
         "Romania",
         91856,
         "AL SHARIF Jamal (SYR)",
         "SYR",
         "COL",
         "Leonel ALVAREZ",
         0,
         1,
         0
        ],
        [
         3053,
         1994,
         "United States",
         "Brazil",
         "Italy",
         "Sweden",
         141,
         3587538,
         "Colombia",
         1,
         3,
         "Romania",
         91856,
         "AL SHARIF Jamal (SYR)",
         "SYR",
         "ROU",
         "Florin RADUCIOIU",
         2,
         1,
         0
        ],
        [
         3053,
         1994,
         "United States",
         "Brazil",
         "Italy",
         "Sweden",
         141,
         3587538,
         "Colombia",
         1,
         3,
         "Romania",
         91856,
         "AL SHARIF Jamal (SYR)",
         "SYR",
         "ROU",
         "HAGI",
         1,
         0,
         0
        ],
        [
         3053,
         1994,
         "United States",
         "Brazil",
         "Italy",
         "Sweden",
         141,
         3587538,
         "Colombia",
         1,
         3,
         "Romania",
         91856,
         "AL SHARIF Jamal (SYR)",
         "SYR",
         "COL",
         "VALDERRAMA",
         0,
         1,
         0
        ],
        [
         43950064,
         2002,
         "Korea/Japan",
         "Brazil",
         "Germany",
         "Turkey",
         161,
         2705197,
         "Germany",
         0,
         2,
         "Brazil",
         69029,
         "COLLINA Pierluigi (ITA)",
         "ITA",
         "GER",
         "KLOSE",
         0,
         1,
         0
        ],
        [
         43950064,
         2002,
         "Korea/Japan",
         "Brazil",
         "Germany",
         "Turkey",
         161,
         2705197,
         "Germany",
         0,
         2,
         "Brazil",
         69029,
         "COLLINA Pierluigi (ITA)",
         "ITA",
         "BRA",
         "ROQUE JR",
         0,
         1,
         0
        ],
        [
         43950064,
         2002,
         "Korea/Japan",
         "Brazil",
         "Germany",
         "Turkey",
         161,
         2705197,
         "Germany",
         0,
         2,
         "Brazil",
         69029,
         "COLLINA Pierluigi (ITA)",
         "ITA",
         "BRA",
         "RONALDO",
         2,
         0,
         0
        ],
        [
         97410028,
         2006,
         "Germany",
         "Italy",
         "France",
         "Germany",
         147,
         3359439,
         "Japan",
         0,
         0,
         "Croatia",
         41000,
         "DE BLEECKERE Frank (BEL)",
         "BEL",
         "CRO",
         "SRNA",
         0,
         1,
         0
        ],
        [
         97410028,
         2006,
         "Germany",
         "Italy",
         "France",
         "Germany",
         147,
         3359439,
         "Japan",
         0,
         0,
         "Croatia",
         41000,
         "DE BLEECKERE Frank (BEL)",
         "BEL",
         "JPN",
         "MIYAMOTO",
         0,
         1,
         0
        ],
        [
         97410028,
         2006,
         "Germany",
         "Italy",
         "France",
         "Germany",
         147,
         3359439,
         "Japan",
         0,
         0,
         "Croatia",
         41000,
         "DE BLEECKERE Frank (BEL)",
         "BEL",
         "CRO",
         "R. KOVAC",
         0,
         1,
         0
        ],
        [
         97410028,
         2006,
         "Germany",
         "Italy",
         "France",
         "Germany",
         147,
         3359439,
         "Japan",
         0,
         0,
         "Croatia",
         41000,
         "DE BLEECKERE Frank (BEL)",
         "BEL",
         "JPN",
         "KAWAGUCHI",
         0,
         1,
         0
        ],
        [
         97410028,
         2006,
         "Germany",
         "Italy",
         "France",
         "Germany",
         147,
         3359439,
         "Japan",
         0,
         0,
         "Croatia",
         41000,
         "DE BLEECKERE Frank (BEL)",
         "BEL",
         "JPN",
         "ALEX",
         0,
         1,
         0
        ],
        [
         300186489,
         2014,
         "Brazil",
         "Germany",
         "Argentina",
         "Netherlands",
         171,
         3386810,
         "Uruguay",
         1,
         3,
         "Costa Rica",
         58679,
         "BRYCH Felix (GER)",
         "GER",
         "URU",
         "E. CAVANI",
         1,
         0,
         0
        ],
        [
         300186489,
         2014,
         "Brazil",
         "Germany",
         "Argentina",
         "Netherlands",
         171,
         3386810,
         "Uruguay",
         1,
         3,
         "Costa Rica",
         58679,
         "BRYCH Felix (GER)",
         "GER",
         "URU",
         "M. CACERES",
         0,
         1,
         0
        ],
        [
         300186489,
         2014,
         "Brazil",
         "Germany",
         "Argentina",
         "Netherlands",
         171,
         3386810,
         "Uruguay",
         1,
         3,
         "Costa Rica",
         58679,
         "BRYCH Felix (GER)",
         "GER",
         "URU",
         "W. GARGANO",
         0,
         1,
         0
        ],
        [
         300186489,
         2014,
         "Brazil",
         "Germany",
         "Argentina",
         "Netherlands",
         171,
         3386810,
         "Uruguay",
         1,
         3,
         "Costa Rica",
         58679,
         "BRYCH Felix (GER)",
         "GER",
         "CRC",
         "DUARTE O.",
         1,
         0,
         0
        ],
        [
         300186489,
         2014,
         "Brazil",
         "Germany",
         "Argentina",
         "Netherlands",
         171,
         3386810,
         "Uruguay",
         1,
         3,
         "Costa Rica",
         58679,
         "BRYCH Felix (GER)",
         "GER",
         "URU",
         "D. LUGANO",
         0,
         1,
         0
        ],
        [
         300186489,
         2014,
         "Brazil",
         "Germany",
         "Argentina",
         "Netherlands",
         171,
         3386810,
         "Uruguay",
         1,
         3,
         "Costa Rica",
         58679,
         "BRYCH Felix (GER)",
         "GER",
         "CRC",
         "URENA M.",
         1,
         0,
         0
        ],
        [
         300186489,
         2014,
         "Brazil",
         "Germany",
         "Argentina",
         "Netherlands",
         171,
         3386810,
         "Uruguay",
         1,
         3,
         "Costa Rica",
         58679,
         "BRYCH Felix (GER)",
         "GER",
         "URU",
         "M. PEREIRA",
         0,
         0,
         1
        ],
        [
         300186489,
         2014,
         "Brazil",
         "Germany",
         "Argentina",
         "Netherlands",
         171,
         3386810,
         "Uruguay",
         1,
         3,
         "Costa Rica",
         58679,
         "BRYCH Felix (GER)",
         "GER",
         "CRC",
         "CAMPBELL J.",
         1,
         0,
         0
        ],
        [
         300186484,
         2014,
         "Brazil",
         "Germany",
         "Argentina",
         "Netherlands",
         171,
         3386810,
         "Costa Rica",
         0,
         0,
         "England",
         57823,
         "HAIMOUDI Djamel (ALG)",
         "ALG",
         "ENG",
         "LALLANA",
         0,
         1,
         0
        ],
        [
         300186484,
         2014,
         "Brazil",
         "Germany",
         "Argentina",
         "Netherlands",
         171,
         3386810,
         "Costa Rica",
         0,
         0,
         "England",
         57823,
         "HAIMOUDI Djamel (ALG)",
         "ALG",
         "CRC",
         "GONZALEZ G.",
         0,
         1,
         0
        ],
        [
         300186484,
         2014,
         "Brazil",
         "Germany",
         "Argentina",
         "Netherlands",
         171,
         3386810,
         "Costa Rica",
         0,
         0,
         "England",
         57823,
         "HAIMOUDI Djamel (ALG)",
         "ALG",
         "ENG",
         "BARKLEY",
         0,
         1,
         0
        ],
        [
         1166,
         1938,
         "France",
         "Italy",
         "Hungary",
         "Brazil",
         84,
         375700,
         "Switzerland",
         4,
         2,
         "Germany",
         20025,
         "EKLIND Ivan (SWE)",
         "SWE",
         "GER",
         "Willhelm HAHNEMANN",
         1,
         0,
         0
        ],
        [
         1166,
         1938,
         "France",
         "Italy",
         "Hungary",
         "Brazil",
         84,
         375700,
         "Switzerland",
         4,
         2,
         "Germany",
         20025,
         "EKLIND Ivan (SWE)",
         "SWE",
         "SUI",
         "Fredy BICKEL",
         1,
         0,
         0
        ],
        [
         1166,
         1938,
         "France",
         "Italy",
         "Hungary",
         "Brazil",
         84,
         375700,
         "Switzerland",
         4,
         2,
         "Germany",
         20025,
         "EKLIND Ivan (SWE)",
         "SWE",
         "SUI",
         "Andre ABEGGLEN",
         2,
         0,
         0
        ],
        [
         1166,
         1938,
         "France",
         "Italy",
         "Hungary",
         "Brazil",
         84,
         375700,
         "Switzerland",
         4,
         2,
         "Germany",
         20025,
         "EKLIND Ivan (SWE)",
         "SWE",
         "SUI",
         "Eugen WALASCHEK",
         1,
         0,
         0
        ],
        [
         1747,
         1970,
         "Mexico",
         "Brazil",
         "Italy",
         "Germany",
         95,
         1603975,
         "Belgium",
         3,
         0,
         "El Salvador",
         92205,
         "RADULESCU Andrei (ROU)",
         "ROU",
         "BEL",
         "Wilfried VAN MOER",
         2,
         0,
         0
        ],
        [
         1747,
         1970,
         "Mexico",
         "Brazil",
         "Italy",
         "Germany",
         95,
         1603975,
         "Belgium",
         3,
         0,
         "El Salvador",
         92205,
         "RADULESCU Andrei (ROU)",
         "ROU",
         "BEL",
         "Raoul LAMBERT",
         1,
         0,
         0
        ],
        [
         1947,
         1974,
         "Germany",
         "Germany",
         "Netherlands",
         "Poland",
         97,
         1865753,
         "Argentina",
         4,
         1,
         "Haiti",
         25900,
         "SANCHEZ IBANEZ Pablo (ESP)",
         "ESP",
         "ARG",
         "Hector YAZALDE",
         2,
         0,
         0
        ],
        [
         1947,
         1974,
         "Germany",
         "Germany",
         "Netherlands",
         "Poland",
         97,
         1865753,
         "Argentina",
         4,
         1,
         "Haiti",
         25900,
         "SANCHEZ IBANEZ Pablo (ESP)",
         "ESP",
         "HAI",
         "Fritz LEANDRE",
         0,
         1,
         0
        ],
        [
         1947,
         1974,
         "Germany",
         "Germany",
         "Netherlands",
         "Poland",
         97,
         1865753,
         "Argentina",
         4,
         1,
         "Haiti",
         25900,
         "SANCHEZ IBANEZ Pablo (ESP)",
         "ESP",
         "ARG",
         "Ramon HEREDIA",
         0,
         1,
         0
        ],
        [
         1947,
         1974,
         "Germany",
         "Germany",
         "Netherlands",
         "Poland",
         97,
         1865753,
         "Argentina",
         4,
         1,
         "Haiti",
         25900,
         "SANCHEZ IBANEZ Pablo (ESP)",
         "ESP",
         "HAI",
         "Emmanuel SANON",
         1,
         0,
         0
        ],
        [
         1947,
         1974,
         "Germany",
         "Germany",
         "Netherlands",
         "Poland",
         97,
         1865753,
         "Argentina",
         4,
         1,
         "Haiti",
         25900,
         "SANCHEZ IBANEZ Pablo (ESP)",
         "ESP",
         "ARG",
         "Ruben AYALA",
         1,
         0,
         0
        ],
        [
         1947,
         1974,
         "Germany",
         "Germany",
         "Netherlands",
         "Poland",
         97,
         1865753,
         "Argentina",
         4,
         1,
         "Haiti",
         25900,
         "SANCHEZ IBANEZ Pablo (ESP)",
         "ESP",
         "ARG",
         "Rene HOUSEMAN",
         1,
         0,
         0
        ],
        [
         1947,
         1974,
         "Germany",
         "Germany",
         "Netherlands",
         "Poland",
         97,
         1865753,
         "Argentina",
         4,
         1,
         "Haiti",
         25900,
         "SANCHEZ IBANEZ Pablo (ESP)",
         "ESP",
         "ARG",
         "Carlos BABINGTON",
         0,
         1,
         0
        ],
        [
         3076,
         1994,
         "United States",
         "Brazil",
         "Italy",
         "Sweden",
         141,
         3587538,
         "Germany",
         3,
         2,
         "Korea Republic",
         63998,
         "QUINIOU Joel (FRA)",
         "FRA",
         "KOR",
         "S H HWANG",
         1,
         0,
         0
        ],
        [
         3076,
         1994,
         "United States",
         "Brazil",
         "Italy",
         "Sweden",
         141,
         3587538,
         "Germany",
         3,
         2,
         "Korea Republic",
         63998,
         "QUINIOU Joel (FRA)",
         "FRA",
         "KOR",
         "M B HONG",
         1,
         0,
         0
        ],
        [
         3076,
         1994,
         "United States",
         "Brazil",
         "Italy",
         "Sweden",
         141,
         3587538,
         "Germany",
         3,
         2,
         "Korea Republic",
         63998,
         "QUINIOU Joel (FRA)",
         "FRA",
         "GER",
         "Andreas BREHME",
         0,
         1,
         0
        ],
        [
         3076,
         1994,
         "United States",
         "Brazil",
         "Italy",
         "Sweden",
         141,
         3587538,
         "Germany",
         3,
         2,
         "Korea Republic",
         63998,
         "QUINIOU Joel (FRA)",
         "FRA",
         "GER",
         "Karlheinz RIEDLE",
         1,
         0,
         0
        ],
        [
         3076,
         1994,
         "United States",
         "Brazil",
         "Italy",
         "Sweden",
         141,
         3587538,
         "Germany",
         3,
         2,
         "Korea Republic",
         63998,
         "QUINIOU Joel (FRA)",
         "FRA",
         "KOR",
         "Y I CHOI",
         0,
         1,
         0
        ],
        [
         3076,
         1994,
         "United States",
         "Brazil",
         "Italy",
         "Sweden",
         141,
         3587538,
         "Germany",
         3,
         2,
         "Korea Republic",
         63998,
         "QUINIOU Joel (FRA)",
         "FRA",
         "GER",
         "KLINSMANN",
         2,
         1,
         0
        ],
        [
         3076,
         1994,
         "United States",
         "Brazil",
         "Italy",
         "Sweden",
         141,
         3587538,
         "Germany",
         3,
         2,
         "Korea Republic",
         63998,
         "QUINIOU Joel (FRA)",
         "FRA",
         "GER",
         "Stefan EFFENBERG",
         0,
         1,
         0
        ],
        [
         43950004,
         2002,
         "Korea/Japan",
         "Brazil",
         "Germany",
         "Turkey",
         161,
         2705197,
         "Germany",
         8,
         0,
         "Saudi Arabia",
         32218,
         "AQUINO Ubaldo (PAR)",
         "PAR",
         "GER",
         "SCHNEIDER",
         1,
         0,
         0
        ],
        [
         43950004,
         2002,
         "Korea/Japan",
         "Brazil",
         "Germany",
         "Turkey",
         161,
         2705197,
         "Germany",
         8,
         0,
         "Saudi Arabia",
         32218,
         "AQUINO Ubaldo (PAR)",
         "PAR",
         "KSA",
         "NOOR",
         0,
         1,
         0
        ],
        [
         43950004,
         2002,
         "Korea/Japan",
         "Brazil",
         "Germany",
         "Turkey",
         161,
         2705197,
         "Germany",
         8,
         0,
         "Saudi Arabia",
         32218,
         "AQUINO Ubaldo (PAR)",
         "PAR",
         "GER",
         "ZIEGE",
         0,
         1,
         0
        ],
        [
         43950004,
         2002,
         "Korea/Japan",
         "Brazil",
         "Germany",
         "Turkey",
         161,
         2705197,
         "Germany",
         8,
         0,
         "Saudi Arabia",
         32218,
         "AQUINO Ubaldo (PAR)",
         "PAR",
         "GER",
         "LINKE",
         1,
         0,
         0
        ],
        [
         43950004,
         2002,
         "Korea/Japan",
         "Brazil",
         "Germany",
         "Turkey",
         161,
         2705197,
         "Germany",
         8,
         0,
         "Saudi Arabia",
         32218,
         "AQUINO Ubaldo (PAR)",
         "PAR",
         "GER",
         "HAMANN",
         0,
         1,
         0
        ],
        [
         43950004,
         2002,
         "Korea/Japan",
         "Brazil",
         "Germany",
         "Turkey",
         161,
         2705197,
         "Germany",
         8,
         0,
         "Saudi Arabia",
         32218,
         "AQUINO Ubaldo (PAR)",
         "PAR",
         "GER",
         "JANCKER",
         1,
         0,
         0
        ],
        [
         43950004,
         2002,
         "Korea/Japan",
         "Brazil",
         "Germany",
         "Turkey",
         161,
         2705197,
         "Germany",
         8,
         0,
         "Saudi Arabia",
         32218,
         "AQUINO Ubaldo (PAR)",
         "PAR",
         "GER",
         "BALLACK",
         1,
         0,
         0
        ],
        [
         43950004,
         2002,
         "Korea/Japan",
         "Brazil",
         "Germany",
         "Turkey",
         161,
         2705197,
         "Germany",
         8,
         0,
         "Saudi Arabia",
         32218,
         "AQUINO Ubaldo (PAR)",
         "PAR",
         "GER",
         "KLOSE",
         3,
         0,
         0
        ],
        [
         43950004,
         2002,
         "Korea/Japan",
         "Brazil",
         "Germany",
         "Turkey",
         161,
         2705197,
         "Germany",
         8,
         0,
         "Saudi Arabia",
         32218,
         "AQUINO Ubaldo (PAR)",
         "PAR",
         "GER",
         "BIERHOFF",
         1,
         0,
         0
        ],
        [
         300186466,
         2014,
         "Brazil",
         "Germany",
         "Argentina",
         "Netherlands",
         171,
         3386810,
         "Argentina",
         1,
         0,
         "Iran",
         57698,
         "MAZIC Milorad (SRB)",
         "SRB",
         "IRN",
         "MASOUD. SH",
         0,
         1,
         0
        ],
        [
         300186466,
         2014,
         "Brazil",
         "Germany",
         "Argentina",
         "Netherlands",
         171,
         3386810,
         "Argentina",
         1,
         0,
         "Iran",
         57698,
         "MAZIC Milorad (SRB)",
         "SRB",
         "IRN",
         "J. NEKOUNAM",
         0,
         1,
         0
        ],
        [
         300186466,
         2014,
         "Brazil",
         "Germany",
         "Argentina",
         "Netherlands",
         171,
         3386810,
         "Argentina",
         1,
         0,
         "Iran",
         57698,
         "MAZIC Milorad (SRB)",
         "SRB",
         "ARG",
         "MESSI",
         1,
         0,
         0
        ],
        [
         1633,
         1966,
         "England",
         "England",
         "Germany",
         "Portugal",
         89,
         1563135,
         "England",
         4,
         2,
         "Germany",
         96924,
         "DIENST Gottfried (SUI)",
         "SUI",
         "ENG",
         "Geoff HURST",
         3,
         0,
         0
        ],
        [
         1633,
         1966,
         "England",
         "England",
         "Germany",
         "Portugal",
         89,
         1563135,
         "England",
         4,
         2,
         "Germany",
         96924,
         "DIENST Gottfried (SUI)",
         "SUI",
         "FRG",
         "Wolfgang WEBER",
         1,
         0,
         0
        ],
        [
         1633,
         1966,
         "England",
         "England",
         "Germany",
         "Portugal",
         89,
         1563135,
         "England",
         4,
         2,
         "Germany",
         96924,
         "DIENST Gottfried (SUI)",
         "SUI",
         "FRG",
         "Helmut HALLER",
         1,
         0,
         0
        ],
        [
         1633,
         1966,
         "England",
         "England",
         "Germany",
         "Portugal",
         89,
         1563135,
         "England",
         4,
         2,
         "Germany",
         96924,
         "DIENST Gottfried (SUI)",
         "SUI",
         "ENG",
         "Martin PETERS",
         1,
         1,
         0
        ],
        [
         8786,
         1998,
         "France",
         "France",
         "Brazil",
         "Croatia",
         171,
         2785100,
         "France",
         2,
         1,
         "Croatia",
         76000,
         "GARCIA ARANDA Jose Maria (ESP)",
         "ESP",
         "CRO",
         "Davor SUKER",
         1,
         0,
         0
        ],
        [
         8786,
         1998,
         "France",
         "France",
         "Brazil",
         "Croatia",
         171,
         2785100,
         "France",
         2,
         1,
         "Croatia",
         76000,
         "GARCIA ARANDA Jose Maria (ESP)",
         "ESP",
         "FRA",
         "L. BLANC",
         0,
         0,
         1
        ],
        [
         8786,
         1998,
         "France",
         "France",
         "Brazil",
         "Croatia",
         171,
         2785100,
         "France",
         2,
         1,
         "Croatia",
         76000,
         "GARCIA ARANDA Jose Maria (ESP)",
         "ESP",
         "FRA",
         "Lilian THURAM",
         2,
         0,
         0
        ],
        [
         8786,
         1998,
         "France",
         "France",
         "Brazil",
         "Croatia",
         171,
         2785100,
         "France",
         2,
         1,
         "Croatia",
         76000,
         "GARCIA ARANDA Jose Maria (ESP)",
         "ESP",
         "CRO",
         "Aljosa ASANOVIC",
         0,
         1,
         0
        ],
        [
         8786,
         1998,
         "France",
         "France",
         "Brazil",
         "Croatia",
         171,
         2785100,
         "France",
         2,
         1,
         "Croatia",
         76000,
         "GARCIA ARANDA Jose Maria (ESP)",
         "ESP",
         "CRO",
         "Dario SIMIC",
         0,
         1,
         0
        ],
        [
         8786,
         1998,
         "France",
         "France",
         "Brazil",
         "Croatia",
         171,
         2785100,
         "France",
         2,
         1,
         "Croatia",
         76000,
         "GARCIA ARANDA Jose Maria (ESP)",
         "ESP",
         "CRO",
         "Mario STANIC",
         0,
         1,
         0
        ],
        [
         2085,
         1974,
         "Germany",
         "Germany",
         "Netherlands",
         "Poland",
         97,
         1865753,
         "Haiti",
         0,
         7,
         "Poland",
         25300,
         "SUPPIAH George (SIN)",
         "SIN",
         "HAI",
         "Pierre BAYONNE",
         0,
         1,
         0
        ],
        [
         2085,
         1974,
         "Germany",
         "Germany",
         "Netherlands",
         "Poland",
         97,
         1865753,
         "Haiti",
         0,
         7,
         "Poland",
         25300,
         "SUPPIAH George (SIN)",
         "SIN",
         "POL",
         "Jerzy GORGON",
         1,
         0,
         0
        ],
        [
         2085,
         1974,
         "Germany",
         "Germany",
         "Netherlands",
         "Poland",
         97,
         1865753,
         "Haiti",
         0,
         7,
         "Poland",
         25300,
         "SUPPIAH George (SIN)",
         "SIN",
         "POL",
         "Andrzej SZARMACH",
         3,
         0,
         0
        ],
        [
         2085,
         1974,
         "Germany",
         "Germany",
         "Netherlands",
         "Poland",
         97,
         1865753,
         "Haiti",
         0,
         7,
         "Poland",
         25300,
         "SUPPIAH George (SIN)",
         "SIN",
         "POL",
         "Kazimierz DEYNA",
         1,
         0,
         0
        ],
        [
         2085,
         1974,
         "Germany",
         "Germany",
         "Netherlands",
         "Poland",
         97,
         1865753,
         "Haiti",
         0,
         7,
         "Poland",
         25300,
         "SUPPIAH George (SIN)",
         "SIN",
         "POL",
         "Grzegorz LATO",
         2,
         0,
         0
        ],
        [
         31,
         1990,
         "Italy",
         "Germany",
         "Argentina",
         "Italy",
         115,
         2516215,
         "Yugoslavia",
         0,
         0,
         "Argentina",
         38971,
         "ROETHLISBERGER Kurt (SUI)",
         "SUI",
         "ARG",
         "Juan SIMON",
         0,
         1,
         0
        ],
        [
         31,
         1990,
         "Italy",
         "Germany",
         "Argentina",
         "Italy",
         115,
         2516215,
         "Yugoslavia",
         0,
         0,
         "Argentina",
         38971,
         "ROETHLISBERGER Kurt (SUI)",
         "SUI",
         "ARG",
         "Jose SERRIZUELA",
         0,
         1,
         0
        ],
        [
         31,
         1990,
         "Italy",
         "Germany",
         "Argentina",
         "Italy",
         115,
         2516215,
         "Yugoslavia",
         0,
         0,
         "Argentina",
         38971,
         "ROETHLISBERGER Kurt (SUI)",
         "SUI",
         "ARG",
         "Pedro TROGLIO",
         0,
         1,
         0
        ],
        [
         31,
         1990,
         "Italy",
         "Germany",
         "Argentina",
         "Italy",
         115,
         2516215,
         "Yugoslavia",
         0,
         0,
         "Argentina",
         38971,
         "ROETHLISBERGER Kurt (SUI)",
         "SUI",
         "ARG",
         "Julio OLARTICOECHEA",
         0,
         1,
         0
        ],
        [
         31,
         1990,
         "Italy",
         "Germany",
         "Argentina",
         "Italy",
         115,
         2516215,
         "Yugoslavia",
         0,
         0,
         "Argentina",
         38971,
         "ROETHLISBERGER Kurt (SUI)",
         "SUI",
         "YUG",
         "Refik SABANADZOVIC",
         0,
         1,
         1
        ],
        [
         300061469,
         2010,
         "South Africa",
         "Spain",
         "Netherlands",
         "Germany",
         145,
         3178856,
         "Ghana",
         1,
         1,
         "Australia",
         34812,
         "ROSETTI Roberto (ITA)",
         "ITA",
         "GHA",
         "A. GYAN",
         1,
         0,
         0
        ],
        [
         300061469,
         2010,
         "South Africa",
         "Spain",
         "Netherlands",
         "Germany",
         145,
         3178856,
         "Ghana",
         1,
         1,
         "Australia",
         34812,
         "ROSETTI Roberto (ITA)",
         "ITA",
         "AUS",
         "KEWELL",
         0,
         0,
         1
        ],
        [
         300061469,
         2010,
         "South Africa",
         "Spain",
         "Netherlands",
         "Germany",
         145,
         3178856,
         "Ghana",
         1,
         1,
         "Australia",
         34812,
         "ROSETTI Roberto (ITA)",
         "ITA",
         "GHA",
         "ANNAN",
         0,
         1,
         0
        ],
        [
         300061469,
         2010,
         "South Africa",
         "Spain",
         "Netherlands",
         "Germany",
         145,
         3178856,
         "Ghana",
         1,
         1,
         "Australia",
         34812,
         "ROSETTI Roberto (ITA)",
         "ITA",
         "AUS",
         "MOORE",
         0,
         1,
         0
        ],
        [
         300061469,
         2010,
         "South Africa",
         "Spain",
         "Netherlands",
         "Germany",
         145,
         3178856,
         "Ghana",
         1,
         1,
         "Australia",
         34812,
         "ROSETTI Roberto (ITA)",
         "ITA",
         "GHA",
         "ADDY",
         0,
         1,
         0
        ],
        [
         300061469,
         2010,
         "South Africa",
         "Spain",
         "Netherlands",
         "Germany",
         145,
         3178856,
         "Ghana",
         1,
         1,
         "Australia",
         34812,
         "ROSETTI Roberto (ITA)",
         "ITA",
         "AUS",
         "HOLMAN",
         1,
         0,
         0
        ],
        [
         300061469,
         2010,
         "South Africa",
         "Spain",
         "Netherlands",
         "Germany",
         145,
         3178856,
         "Ghana",
         1,
         1,
         "Australia",
         34812,
         "ROSETTI Roberto (ITA)",
         "ITA",
         "GHA",
         "JONATHAN",
         0,
         1,
         0
        ],
        [
         300186475,
         2014,
         "Brazil",
         "Germany",
         "Argentina",
         "Netherlands",
         171,
         3386810,
         "Germany",
         4,
         0,
         "Portugal",
         51081,
         "MAZIC Milorad (SRB)",
         "SRB",
         "GER",
         "HUMMELS",
         1,
         0,
         0
        ],
        [
         300186475,
         2014,
         "Brazil",
         "Germany",
         "Argentina",
         "Netherlands",
         171,
         3386810,
         "Germany",
         4,
         0,
         "Portugal",
         51081,
         "MAZIC Milorad (SRB)",
         "SRB",
         "POR",
         "PEPE",
         0,
         0,
         1
        ],
        [
         300186475,
         2014,
         "Brazil",
         "Germany",
         "Argentina",
         "Netherlands",
         171,
         3386810,
         "Germany",
         4,
         0,
         "Portugal",
         51081,
         "MAZIC Milorad (SRB)",
         "SRB",
         "POR",
         "J. PEREIRA",
         0,
         1,
         0
        ],
        [
         300186475,
         2014,
         "Brazil",
         "Germany",
         "Argentina",
         "Netherlands",
         171,
         3386810,
         "Germany",
         4,
         0,
         "Portugal",
         51081,
         "MAZIC Milorad (SRB)",
         "SRB",
         "GER",
         "MULLER",
         3,
         0,
         0
        ],
        [
         300186506,
         2014,
         "Brazil",
         "Germany",
         "Argentina",
         "Netherlands",
         171,
         3386810,
         "Algeria",
         1,
         1,
         "Russia",
         39311,
         "Cuneyt CAKIR (TUR)",
         "TUR",
         "ALG",
         "SLIMANI",
         1,
         0,
         0
        ],
        [
         300186506,
         2014,
         "Brazil",
         "Germany",
         "Argentina",
         "Netherlands",
         171,
         3386810,
         "Algeria",
         1,
         1,
         "Russia",
         39311,
         "Cuneyt CAKIR (TUR)",
         "TUR",
         "RUS",
         "KOKORIN",
         1,
         0,
         0
        ],
        [
         300186506,
         2014,
         "Brazil",
         "Germany",
         "Argentina",
         "Netherlands",
         171,
         3386810,
         "Algeria",
         1,
         1,
         "Russia",
         39311,
         "Cuneyt CAKIR (TUR)",
         "TUR",
         "ALG",
         "GHILAS",
         0,
         1,
         0
        ],
        [
         300186506,
         2014,
         "Brazil",
         "Germany",
         "Argentina",
         "Netherlands",
         171,
         3386810,
         "Algeria",
         1,
         1,
         "Russia",
         39311,
         "Cuneyt CAKIR (TUR)",
         "TUR",
         "RUS",
         "KOZLOV",
         0,
         1,
         0
        ],
        [
         300186506,
         2014,
         "Brazil",
         "Germany",
         "Argentina",
         "Netherlands",
         171,
         3386810,
         "Algeria",
         1,
         1,
         "Russia",
         39311,
         "Cuneyt CAKIR (TUR)",
         "TUR",
         "RUS",
         "D. KOMBAROV",
         0,
         1,
         0
        ],
        [
         300186506,
         2014,
         "Brazil",
         "Germany",
         "Argentina",
         "Netherlands",
         171,
         3386810,
         "Algeria",
         1,
         1,
         "Russia",
         39311,
         "Cuneyt CAKIR (TUR)",
         "TUR",
         "ALG",
         "CADAMURO",
         0,
         1,
         0
        ],
        [
         300186506,
         2014,
         "Brazil",
         "Germany",
         "Argentina",
         "Netherlands",
         171,
         3386810,
         "Algeria",
         1,
         1,
         "Russia",
         39311,
         "Cuneyt CAKIR (TUR)",
         "TUR",
         "ALG",
         "MESBAH",
         0,
         1,
         0
        ],
        [
         1191,
         1950,
         "Brazil",
         "Uruguay",
         "Brazil",
         "Sweden",
         88,
         1045246,
         "Brazil",
         2,
         0,
         "Yugoslavia",
         142429,
         "GRIFFITHS Benjamin (WAL)",
         "WAL",
         "BRA",
         "ADEMIR",
         1,
         0,
         0
        ],
        [
         1191,
         1950,
         "Brazil",
         "Uruguay",
         "Brazil",
         "Sweden",
         88,
         1045246,
         "Brazil",
         2,
         0,
         "Yugoslavia",
         142429,
         "GRIFFITHS Benjamin (WAL)",
         "WAL",
         "BRA",
         "ZIZINHO",
         1,
         0,
         0
        ],
        [
         2431,
         1978,
         "Argentina",
         "Argentina",
         "Netherlands",
         "Brazil",
         102,
         1545791,
         "Poland",
         3,
         1,
         "Mexico",
         22651,
         "NAMDAR Jafar (IRN)",
         "IRN",
         "POL",
         "Zbigniew BONIEK",
         2,
         0,
         0
        ],
        [
         2431,
         1978,
         "Argentina",
         "Argentina",
         "Netherlands",
         "Brazil",
         102,
         1545791,
         "Poland",
         3,
         1,
         "Mexico",
         22651,
         "NAMDAR Jafar (IRN)",
         "IRN",
         "POL",
         "Kazimierz DEYNA",
         1,
         0,
         0
        ]
       ],
       "datasetInfos": [],
       "dbfsResultPath": null,
       "isJsonSchema": true,
       "metadata": {},
       "overflow": false,
       "plotOptions": {
        "customPlotOptions": {},
        "displayType": "table",
        "pivotAggregation": null,
        "pivotColumns": null,
        "xColumns": null,
        "yColumns": null
       },
       "removedWidgets": [],
       "schema": [
        {
         "metadata": "{}",
         "name": "MatchID",
         "type": "\"integer\""
        },
        {
         "metadata": "{}",
         "name": "Year",
         "type": "\"integer\""
        },
        {
         "metadata": "{}",
         "name": "CountryCup",
         "type": "\"string\""
        },
        {
         "metadata": "{}",
         "name": "WinnerCup",
         "type": "\"string\""
        },
        {
         "metadata": "{}",
         "name": "RunnersUpCup",
         "type": "\"string\""
        },
        {
         "metadata": "{}",
         "name": "ThirdCup",
         "type": "\"string\""
        },
        {
         "metadata": "{}",
         "name": "GoalsScoredCup",
         "type": "\"integer\""
        },
        {
         "metadata": "{}",
         "name": "AttendanceCup",
         "type": "\"integer\""
        },
        {
         "metadata": "{}",
         "name": "HomeTeamName",
         "type": "\"string\""
        },
        {
         "metadata": "{}",
         "name": "HomeTeamGoals",
         "type": "\"integer\""
        },
        {
         "metadata": "{}",
         "name": "AwayTeamGoals",
         "type": "\"integer\""
        },
        {
         "metadata": "{}",
         "name": "AwayTeamName",
         "type": "\"string\""
        },
        {
         "metadata": "{}",
         "name": "AttendanceMatch",
         "type": "\"integer\""
        },
        {
         "metadata": "{}",
         "name": "Referee",
         "type": "\"string\""
        },
        {
         "metadata": "{}",
         "name": "RefereeCountry",
         "type": "\"string\""
        },
        {
         "metadata": "{}",
         "name": "TeamInitials",
         "type": "\"string\""
        },
        {
         "metadata": "{}",
         "name": "PlayerName",
         "type": "\"string\""
        },
        {
         "metadata": "{}",
         "name": "Goals",
         "type": "\"integer\""
        },
        {
         "metadata": "{}",
         "name": "YellowCards",
         "type": "\"integer\""
        },
        {
         "metadata": "{}",
         "name": "RedCards",
         "type": "\"integer\""
        }
       ],
       "type": "table"
      }
     },
     "output_type": "display_data"
    }
   ],
   "source": [
    "%sql\n",
    "SELECT * FROM gold.wcstats limit 100"
   ]
  },
  {
   "cell_type": "markdown",
   "metadata": {
    "application/vnd.databricks.v1+cell": {
     "cellMetadata": {},
     "inputWidgets": {},
     "nuid": "56c003e4-66ab-4a92-a933-bb9aaa7dff2b",
     "showTitle": false,
     "tableResultSettingsMap": {},
     "title": ""
    }
   },
   "source": [
    "### Solução do Problema"
   ]
  },
  {
   "cell_type": "markdown",
   "metadata": {
    "application/vnd.databricks.v1+cell": {
     "cellMetadata": {},
     "inputWidgets": {},
     "nuid": "5c822300-3b81-4ff2-aa9d-ccd6e2c3032d",
     "showTitle": false,
     "tableResultSettingsMap": {},
     "title": ""
    }
   },
   "source": [
    "**1 - Quais os 5 maiores campeões da Copa do Mundo FIFA?**"
   ]
  },
  {
   "cell_type": "code",
   "execution_count": 0,
   "metadata": {
    "application/vnd.databricks.v1+cell": {
     "cellMetadata": {
      "byteLimit": 2048000,
      "implicitDf": true,
      "rowLimit": 10000
     },
     "inputWidgets": {},
     "nuid": "7fa32bd6-ee53-40e2-a973-b63638d65798",
     "showTitle": false,
     "tableResultSettingsMap": {},
     "title": ""
    }
   },
   "outputs": [
    {
     "output_type": "display_data",
     "data": {
      "text/html": [
       "<style scoped>\n",
       "  .table-result-container {\n",
       "    max-height: 300px;\n",
       "    overflow: auto;\n",
       "  }\n",
       "  table, th, td {\n",
       "    border: 1px solid black;\n",
       "    border-collapse: collapse;\n",
       "  }\n",
       "  th, td {\n",
       "    padding: 5px;\n",
       "  }\n",
       "  th {\n",
       "    text-align: left;\n",
       "  }\n",
       "</style><div class='table-result-container'><table class='table-result'><thead style='background-color: white'><tr><th>Pais</th><th>Total_Titulos</th><th>Titulos</th></tr></thead><tbody><tr><td>Brazil</td><td>5</td><td>List(1958, 1962, 1970, 1994, 2002)</td></tr><tr><td>Germany</td><td>4</td><td>List(1954, 1974, 1990, 2014)</td></tr><tr><td>Italy</td><td>4</td><td>List(1934, 1938, 1982, 2006)</td></tr><tr><td>Argentina</td><td>2</td><td>List(1978, 1986)</td></tr><tr><td>Uruguay</td><td>2</td><td>List(1930, 1950)</td></tr></tbody></table></div>"
      ]
     },
     "metadata": {
      "application/vnd.databricks.v1+output": {
       "addedWidgets": {},
       "aggData": [],
       "aggError": "",
       "aggOverflow": false,
       "aggSchema": [],
       "aggSeriesLimitReached": false,
       "aggType": "",
       "arguments": {},
       "columnCustomDisplayInfos": {},
       "data": [
        [
         "Brazil",
         5,
         [
          1958,
          1962,
          1970,
          1994,
          2002
         ]
        ],
        [
         "Germany",
         4,
         [
          1954,
          1974,
          1990,
          2014
         ]
        ],
        [
         "Italy",
         4,
         [
          1934,
          1938,
          1982,
          2006
         ]
        ],
        [
         "Argentina",
         2,
         [
          1978,
          1986
         ]
        ],
        [
         "Uruguay",
         2,
         [
          1930,
          1950
         ]
        ]
       ],
       "datasetInfos": [],
       "dbfsResultPath": null,
       "isJsonSchema": true,
       "metadata": {},
       "overflow": false,
       "plotOptions": {
        "customPlotOptions": {},
        "displayType": "table",
        "pivotAggregation": null,
        "pivotColumns": null,
        "xColumns": null,
        "yColumns": null
       },
       "removedWidgets": [],
       "schema": [
        {
         "metadata": "{}",
         "name": "Pais",
         "type": "\"string\""
        },
        {
         "metadata": "{}",
         "name": "Total_Titulos",
         "type": "\"long\""
        },
        {
         "metadata": "{}",
         "name": "Titulos",
         "type": "{\"type\":\"array\",\"elementType\":\"integer\",\"containsNull\":false}"
        }
       ],
       "type": "table"
      }
     },
     "output_type": "display_data"
    }
   ],
   "source": [
    "%sql\n",
    "SELECT WinnerCup AS Pais, COUNT(DISTINCT Year) AS Total_Titulos, SORT_ARRAY(COLLECT_SET(Year)) AS Titulos\n",
    "FROM gold.wcstats GROUP BY WinnerCup ORDER BY Total_Titulos DESC LIMIT 5"
   ]
  },
  {
   "cell_type": "markdown",
   "metadata": {
    "application/vnd.databricks.v1+cell": {
     "cellMetadata": {},
     "inputWidgets": {},
     "nuid": "41d5f48a-0727-4783-8629-9f588415aea1",
     "showTitle": false,
     "tableResultSettingsMap": {},
     "title": ""
    }
   },
   "source": [
    "R - O maior campeão da Copas do Mundo FIFA é o Brasil com 5 títulos, em seguida temos a Alemanha e Itália com 4 títulos cada uma, e a Argentina e Uruguai com 2 títulos cada."
   ]
  },
  {
   "cell_type": "markdown",
   "metadata": {
    "application/vnd.databricks.v1+cell": {
     "cellMetadata": {},
     "inputWidgets": {},
     "nuid": "5aee4e4e-7cd6-4888-8830-b989d67689a7",
     "showTitle": false,
     "tableResultSettingsMap": {},
     "title": ""
    }
   },
   "source": [
    "**2 - Quais os 5 países com maior número de troféus?**"
   ]
  },
  {
   "cell_type": "code",
   "execution_count": 0,
   "metadata": {
    "application/vnd.databricks.v1+cell": {
     "cellMetadata": {
      "byteLimit": 2048000,
      "implicitDf": true,
      "rowLimit": 10000
     },
     "inputWidgets": {},
     "nuid": "0d875db3-1e8e-40c6-9ef4-193c9321932e",
     "showTitle": false,
     "tableResultSettingsMap": {},
     "title": ""
    }
   },
   "outputs": [
    {
     "output_type": "display_data",
     "data": {
      "text/html": [
       "<style scoped>\n",
       "  .table-result-container {\n",
       "    max-height: 300px;\n",
       "    overflow: auto;\n",
       "  }\n",
       "  table, th, td {\n",
       "    border: 1px solid black;\n",
       "    border-collapse: collapse;\n",
       "  }\n",
       "  th, td {\n",
       "    padding: 5px;\n",
       "  }\n",
       "  th {\n",
       "    text-align: left;\n",
       "  }\n",
       "</style><div class='table-result-container'><table class='table-result'><thead style='background-color: white'><tr><th>Pais</th><th>Total_Titulos</th><th>Titulos</th><th>Total_Vice</th><th>Vice</th><th>Total_Terceiro</th><th>Terceiro</th><th>Total_Trofeus</th></tr></thead><tbody><tr><td>Germany</td><td>4</td><td>List(1954, 1974, 1990, 2014)</td><td>4</td><td>List(1966, 1982, 1986, 2002)</td><td>4</td><td>List(1934, 1970, 2006, 2010)</td><td>12</td></tr><tr><td>Brazil</td><td>5</td><td>List(1958, 1962, 1970, 1994, 2002)</td><td>2</td><td>List(1950, 1998)</td><td>2</td><td>List(1938, 1978)</td><td>9</td></tr><tr><td>Italy</td><td>4</td><td>List(1934, 1938, 1982, 2006)</td><td>2</td><td>List(1970, 1994)</td><td>1</td><td>List(1990)</td><td>7</td></tr><tr><td>Argentina</td><td>2</td><td>List(1978, 1986)</td><td>3</td><td>List(1930, 1990, 2014)</td><td>null</td><td>null</td><td>5</td></tr><tr><td>France</td><td>1</td><td>List(1998)</td><td>1</td><td>List(2006)</td><td>2</td><td>List(1958, 1986)</td><td>4</td></tr></tbody></table></div>"
      ]
     },
     "metadata": {
      "application/vnd.databricks.v1+output": {
       "addedWidgets": {},
       "aggData": [],
       "aggError": "",
       "aggOverflow": false,
       "aggSchema": [],
       "aggSeriesLimitReached": false,
       "aggType": "",
       "arguments": {},
       "columnCustomDisplayInfos": {},
       "data": [
        [
         "Germany",
         4,
         [
          1954,
          1974,
          1990,
          2014
         ],
         4,
         [
          1966,
          1982,
          1986,
          2002
         ],
         4,
         [
          1934,
          1970,
          2006,
          2010
         ],
         12
        ],
        [
         "Brazil",
         5,
         [
          1958,
          1962,
          1970,
          1994,
          2002
         ],
         2,
         [
          1950,
          1998
         ],
         2,
         [
          1938,
          1978
         ],
         9
        ],
        [
         "Italy",
         4,
         [
          1934,
          1938,
          1982,
          2006
         ],
         2,
         [
          1970,
          1994
         ],
         1,
         [
          1990
         ],
         7
        ],
        [
         "Argentina",
         2,
         [
          1978,
          1986
         ],
         3,
         [
          1930,
          1990,
          2014
         ],
         null,
         null,
         5
        ],
        [
         "France",
         1,
         [
          1998
         ],
         1,
         [
          2006
         ],
         2,
         [
          1958,
          1986
         ],
         4
        ]
       ],
       "datasetInfos": [],
       "dbfsResultPath": null,
       "isJsonSchema": true,
       "metadata": {},
       "overflow": false,
       "plotOptions": {
        "customPlotOptions": {},
        "displayType": "table",
        "pivotAggregation": null,
        "pivotColumns": null,
        "xColumns": null,
        "yColumns": null
       },
       "removedWidgets": [],
       "schema": [
        {
         "metadata": "{}",
         "name": "Pais",
         "type": "\"string\""
        },
        {
         "metadata": "{}",
         "name": "Total_Titulos",
         "type": "\"long\""
        },
        {
         "metadata": "{}",
         "name": "Titulos",
         "type": "{\"type\":\"array\",\"elementType\":\"integer\",\"containsNull\":false}"
        },
        {
         "metadata": "{}",
         "name": "Total_Vice",
         "type": "\"long\""
        },
        {
         "metadata": "{}",
         "name": "Vice",
         "type": "{\"type\":\"array\",\"elementType\":\"integer\",\"containsNull\":false}"
        },
        {
         "metadata": "{}",
         "name": "Total_Terceiro",
         "type": "\"long\""
        },
        {
         "metadata": "{}",
         "name": "Terceiro",
         "type": "{\"type\":\"array\",\"elementType\":\"integer\",\"containsNull\":false}"
        },
        {
         "metadata": "{}",
         "name": "Total_Trofeus",
         "type": "\"long\""
        }
       ],
       "type": "table"
      }
     },
     "output_type": "display_data"
    }
   ],
   "source": [
    "%sql\n",
    "SELECT \n",
    "Winner.Pais,\n",
    "Winner.Total_Titulos,\n",
    "Winner.Titulos,\n",
    "RunnersUp.Total_Vice,\n",
    "RunnersUp.Vice,\n",
    "Third.Total_Terceiro,\n",
    "Third.Terceiro,\n",
    "COALESCE(Winner.Total_Titulos,0) + COALESCE(RunnersUp.Total_Vice,0) + COALESCE(Third.Total_Terceiro, 0) AS Total_Trofeus\n",
    "FROM (SELECT WinnerCup AS Pais, COUNT(DISTINCT Year) AS Total_Titulos, SORT_ARRAY(COLLECT_SET(Year)) AS Titulos\n",
    "FROM gold.wcstats GROUP BY Pais) AS Winner\n",
    "LEFT JOIN (SELECT RunnersUpCup AS Pais, COUNT(DISTINCT Year) AS Total_Vice, SORT_ARRAY(COLLECT_SET(Year)) AS Vice \n",
    "FROM gold.wcstats GROUP BY Pais) AS RunnersUp ON Winner.Pais = RunnersUp.Pais\n",
    "LEFT JOIN (SELECT ThirdCup AS Pais, COUNT(DISTINCT Year) AS Total_Terceiro, SORT_ARRAY(COLLECT_SET(Year)) AS Terceiro\n",
    "FROM gold.wcstats GROUP BY Pais) AS Third ON Winner.Pais = Third.Pais\n",
    "ORDER BY Total_Trofeus DESC LIMIT 5"
   ]
  },
  {
   "cell_type": "markdown",
   "metadata": {
    "application/vnd.databricks.v1+cell": {
     "cellMetadata": {},
     "inputWidgets": {},
     "nuid": "8c8df98e-3913-4591-b339-e819b410913f",
     "showTitle": false,
     "tableResultSettingsMap": {},
     "title": ""
    }
   },
   "source": [
    "R - A seleçção com maior número de troféus é a Alemanha com 12 troféus, sendo 4 títulos de campeão, 4 títulos de vice e 4 títulos de terceiro lugar, na segunda posição desse ranking segue o Brasil com 9 troféus, sendo 5 títulos de campeão, 2 títulos de vice e 2 títulos de terceiro lugar, seguindo em terceira posição vem a Itália com 7 troféus, sendo 4 títulos de campeão, 2 títulos de vice e 1 títulos de terceiro lugar, na quarta posição vem a Argentina com 5 troféus, sendo 2 títulos de campeão e 3 títulos de vice, e na última posição do ranking vem a França com 4 troféus, sendo 1 título de campeão, 1 título de vice e 2 títulos em terceiro lugar."
   ]
  },
  {
   "cell_type": "markdown",
   "metadata": {
    "application/vnd.databricks.v1+cell": {
     "cellMetadata": {},
     "inputWidgets": {},
     "nuid": "3976b473-0e93-4c83-a50d-2c4d990d7d40",
     "showTitle": false,
     "tableResultSettingsMap": {},
     "title": ""
    }
   },
   "source": [
    "**3 - Qual é o maior número de público geral?**"
   ]
  },
  {
   "cell_type": "code",
   "execution_count": 0,
   "metadata": {
    "application/vnd.databricks.v1+cell": {
     "cellMetadata": {
      "byteLimit": 2048000,
      "implicitDf": true,
      "rowLimit": 10000
     },
     "inputWidgets": {},
     "nuid": "c46aab68-3ee7-4f15-a6d2-2dac50914fc7",
     "showTitle": false,
     "tableResultSettingsMap": {},
     "title": ""
    }
   },
   "outputs": [
    {
     "output_type": "display_data",
     "data": {
      "text/html": [
       "<style scoped>\n",
       "  .table-result-container {\n",
       "    max-height: 300px;\n",
       "    overflow: auto;\n",
       "  }\n",
       "  table, th, td {\n",
       "    border: 1px solid black;\n",
       "    border-collapse: collapse;\n",
       "  }\n",
       "  th, td {\n",
       "    padding: 5px;\n",
       "  }\n",
       "  th {\n",
       "    text-align: left;\n",
       "  }\n",
       "</style><div class='table-result-container'><table class='table-result'><thead style='background-color: white'><tr><th>Pais</th><th>Ano</th><th>Publico</th></tr></thead><tbody><tr><td>United States</td><td>1994</td><td>3587538</td></tr></tbody></table></div>"
      ]
     },
     "metadata": {
      "application/vnd.databricks.v1+output": {
       "addedWidgets": {},
       "aggData": [],
       "aggError": "",
       "aggOverflow": false,
       "aggSchema": [],
       "aggSeriesLimitReached": false,
       "aggType": "",
       "arguments": {},
       "columnCustomDisplayInfos": {},
       "data": [
        [
         "United States",
         1994,
         3587538
        ]
       ],
       "datasetInfos": [],
       "dbfsResultPath": null,
       "isJsonSchema": true,
       "metadata": {},
       "overflow": false,
       "plotOptions": {
        "customPlotOptions": {},
        "displayType": "table",
        "pivotAggregation": null,
        "pivotColumns": null,
        "xColumns": null,
        "yColumns": null
       },
       "removedWidgets": [],
       "schema": [
        {
         "metadata": "{}",
         "name": "Pais",
         "type": "\"string\""
        },
        {
         "metadata": "{}",
         "name": "Ano",
         "type": "\"integer\""
        },
        {
         "metadata": "{}",
         "name": "Publico",
         "type": "\"integer\""
        }
       ],
       "type": "table"
      }
     },
     "output_type": "display_data"
    }
   ],
   "source": [
    "%sql\n",
    "SELECT CountryCup AS Pais, Year AS Ano, MAX(AttendanceCup) AS Publico \n",
    "FROM gold.wcstats GROUP BY CountryCup, Year ORDER BY Publico DESC LIMIT 1"
   ]
  },
  {
   "cell_type": "markdown",
   "metadata": {
    "application/vnd.databricks.v1+cell": {
     "cellMetadata": {},
     "inputWidgets": {},
     "nuid": "3d372f59-738a-40b3-b893-efb56b35154f",
     "showTitle": false,
     "tableResultSettingsMap": {},
     "title": ""
    }
   },
   "source": [
    "R - O maior público geral de todas as edições foi na Copa do Mundo FIFA de 1994 nos EUA, onde o total de público geral contabilizou 3.587.538 pessoas."
   ]
  },
  {
   "cell_type": "markdown",
   "metadata": {
    "application/vnd.databricks.v1+cell": {
     "cellMetadata": {},
     "inputWidgets": {},
     "nuid": "52ea0d39-4cc8-4abe-9b68-18d180a6bb87",
     "showTitle": false,
     "tableResultSettingsMap": {},
     "title": ""
    }
   },
   "source": [
    "**4 - Quais os 5 maiores públicos registrados em uma partida?**"
   ]
  },
  {
   "cell_type": "code",
   "execution_count": 0,
   "metadata": {
    "application/vnd.databricks.v1+cell": {
     "cellMetadata": {
      "byteLimit": 2048000,
      "implicitDf": true,
      "rowLimit": 10000
     },
     "inputWidgets": {},
     "nuid": "38fbcc5b-2a23-4c9d-8e0b-c49354660f67",
     "showTitle": false,
     "tableResultSettingsMap": {},
     "title": ""
    }
   },
   "outputs": [
    {
     "output_type": "display_data",
     "data": {
      "text/html": [
       "<style scoped>\n",
       "  .table-result-container {\n",
       "    max-height: 300px;\n",
       "    overflow: auto;\n",
       "  }\n",
       "  table, th, td {\n",
       "    border: 1px solid black;\n",
       "    border-collapse: collapse;\n",
       "  }\n",
       "  th, td {\n",
       "    padding: 5px;\n",
       "  }\n",
       "  th {\n",
       "    text-align: left;\n",
       "  }\n",
       "</style><div class='table-result-container'><table class='table-result'><thead style='background-color: white'><tr><th>Pais</th><th>Ano</th><th>Jogo</th><th>Publico</th></tr></thead><tbody><tr><td>Brazil</td><td>1950</td><td>Uruguay X Brazil</td><td>173850</td></tr><tr><td>Brazil</td><td>1950</td><td>Brazil X Spain</td><td>152772</td></tr><tr><td>Brazil</td><td>1950</td><td>Brazil X Yugoslavia</td><td>142429</td></tr><tr><td>Brazil</td><td>1950</td><td>Brazil X Sweden</td><td>138886</td></tr><tr><td>Mexico</td><td>1986</td><td>Mexico X Paraguay</td><td>114600</td></tr></tbody></table></div>"
      ]
     },
     "metadata": {
      "application/vnd.databricks.v1+output": {
       "addedWidgets": {},
       "aggData": [],
       "aggError": "",
       "aggOverflow": false,
       "aggSchema": [],
       "aggSeriesLimitReached": false,
       "aggType": "",
       "arguments": {},
       "columnCustomDisplayInfos": {},
       "data": [
        [
         "Brazil",
         1950,
         "Uruguay X Brazil",
         173850
        ],
        [
         "Brazil",
         1950,
         "Brazil X Spain",
         152772
        ],
        [
         "Brazil",
         1950,
         "Brazil X Yugoslavia",
         142429
        ],
        [
         "Brazil",
         1950,
         "Brazil X Sweden",
         138886
        ],
        [
         "Mexico",
         1986,
         "Mexico X Paraguay",
         114600
        ]
       ],
       "datasetInfos": [],
       "dbfsResultPath": null,
       "isJsonSchema": true,
       "metadata": {},
       "overflow": false,
       "plotOptions": {
        "customPlotOptions": {},
        "displayType": "table",
        "pivotAggregation": null,
        "pivotColumns": null,
        "xColumns": null,
        "yColumns": null
       },
       "removedWidgets": [],
       "schema": [
        {
         "metadata": "{}",
         "name": "Pais",
         "type": "\"string\""
        },
        {
         "metadata": "{}",
         "name": "Ano",
         "type": "\"integer\""
        },
        {
         "metadata": "{}",
         "name": "Jogo",
         "type": "\"string\""
        },
        {
         "metadata": "{}",
         "name": "Publico",
         "type": "\"integer\""
        }
       ],
       "type": "table"
      }
     },
     "output_type": "display_data"
    }
   ],
   "source": [
    "%sql\n",
    "SELECT CountryCup AS Pais, Year AS Ano, CONCAT(HomeTeamName, CONCAT(\" X \", AwayTeamName)) AS Jogo, MAX(AttendanceMatch) AS Publico \n",
    "FROM gold.wcstats GROUP BY CountryCup, Year, Jogo ORDER BY Publico DESC LIMIT 5"
   ]
  },
  {
   "cell_type": "markdown",
   "metadata": {
    "application/vnd.databricks.v1+cell": {
     "cellMetadata": {},
     "inputWidgets": {},
     "nuid": "4ee6821f-4350-4057-a683-f5d28c95efbd",
     "showTitle": false,
     "tableResultSettingsMap": {},
     "title": ""
    }
   },
   "source": [
    "R - A Copa do Mundo FIFA no Brasil de 1950, lidera as 4 primeira posições no top 5 de maiores públicos por partida, sendo maior público de 173.850 pessoas no jogo Uruguai e Brasil, o segundo 152.772 no jogo Brazil X Espanha, 142.429 no jogo Brazil X Iugoslávia, 138.886 no jogo Brazil X Suécia e por último 114.600 no jogo Méximo e Paraguai."
   ]
  },
  {
   "cell_type": "markdown",
   "metadata": {
    "application/vnd.databricks.v1+cell": {
     "cellMetadata": {},
     "inputWidgets": {},
     "nuid": "4405f14c-8a01-49ab-b878-05bb0eb61c56",
     "showTitle": false,
     "tableResultSettingsMap": {},
     "title": ""
    }
   },
   "source": [
    "**5 - Qual país que mais sediou a copa do mundo?**"
   ]
  },
  {
   "cell_type": "code",
   "execution_count": 0,
   "metadata": {
    "application/vnd.databricks.v1+cell": {
     "cellMetadata": {
      "byteLimit": 2048000,
      "implicitDf": true,
      "rowLimit": 10000
     },
     "inputWidgets": {},
     "nuid": "a0bd02c8-446d-4fb5-86c1-846e9d9b688a",
     "showTitle": false,
     "tableResultSettingsMap": {},
     "title": ""
    }
   },
   "outputs": [
    {
     "output_type": "display_data",
     "data": {
      "text/html": [
       "<style scoped>\n",
       "  .table-result-container {\n",
       "    max-height: 300px;\n",
       "    overflow: auto;\n",
       "  }\n",
       "  table, th, td {\n",
       "    border: 1px solid black;\n",
       "    border-collapse: collapse;\n",
       "  }\n",
       "  th, td {\n",
       "    padding: 5px;\n",
       "  }\n",
       "  th {\n",
       "    text-align: left;\n",
       "  }\n",
       "</style><div class='table-result-container'><table class='table-result'><thead style='background-color: white'><tr><th>Pais</th><th>Copas</th><th>Total_Copas</th></tr></thead><tbody><tr><td>Germany</td><td>List(1974, 2006)</td><td>2</td></tr></tbody></table></div>"
      ]
     },
     "metadata": {
      "application/vnd.databricks.v1+output": {
       "addedWidgets": {},
       "aggData": [],
       "aggError": "",
       "aggOverflow": false,
       "aggSchema": [],
       "aggSeriesLimitReached": false,
       "aggType": "",
       "arguments": {},
       "columnCustomDisplayInfos": {},
       "data": [
        [
         "Germany",
         [
          1974,
          2006
         ],
         2
        ]
       ],
       "datasetInfos": [],
       "dbfsResultPath": null,
       "isJsonSchema": true,
       "metadata": {},
       "overflow": false,
       "plotOptions": {
        "customPlotOptions": {},
        "displayType": "table",
        "pivotAggregation": null,
        "pivotColumns": null,
        "xColumns": null,
        "yColumns": null
       },
       "removedWidgets": [],
       "schema": [
        {
         "metadata": "{}",
         "name": "Pais",
         "type": "\"string\""
        },
        {
         "metadata": "{}",
         "name": "Copas",
         "type": "{\"type\":\"array\",\"elementType\":\"integer\",\"containsNull\":false}"
        },
        {
         "metadata": "{}",
         "name": "Total_Copas",
         "type": "\"long\""
        }
       ],
       "type": "table"
      }
     },
     "output_type": "display_data"
    }
   ],
   "source": [
    "%sql\n",
    "SELECT CountryCup AS Pais, SORT_ARRAY(COLLECT_SET(Year)) AS Copas, COUNT(DISTINCT Year) AS Total_Copas\n",
    "FROM gold.wcstats GROUP BY CountryCup ORDER BY Total_Copas DESC LIMIT 1"
   ]
  },
  {
   "cell_type": "markdown",
   "metadata": {
    "application/vnd.databricks.v1+cell": {
     "cellMetadata": {},
     "inputWidgets": {},
     "nuid": "68bec360-c36e-4c6b-8a19-ce770b954285",
     "showTitle": false,
     "tableResultSettingsMap": {},
     "title": ""
    }
   },
   "source": [
    "R - A Alemanha foi o país que mais sediu a Copa do Mundo FIFA, com 2 edições completas, em 1974 e 2006."
   ]
  },
  {
   "cell_type": "markdown",
   "metadata": {
    "application/vnd.databricks.v1+cell": {
     "cellMetadata": {},
     "inputWidgets": {},
     "nuid": "6e502f63-8fa2-4856-8b6f-0e97c92dcab6",
     "showTitle": false,
     "tableResultSettingsMap": {},
     "title": ""
    }
   },
   "source": [
    "**6 - Quais os 5 maiores recorde de gols nas Copas?**"
   ]
  },
  {
   "cell_type": "code",
   "execution_count": 0,
   "metadata": {
    "application/vnd.databricks.v1+cell": {
     "cellMetadata": {
      "byteLimit": 2048000,
      "implicitDf": true,
      "rowLimit": 10000
     },
     "inputWidgets": {},
     "nuid": "13cecba4-d3ce-4824-80a1-b94b42d1489e",
     "showTitle": false,
     "tableResultSettingsMap": {},
     "title": ""
    }
   },
   "outputs": [
    {
     "output_type": "display_data",
     "data": {
      "text/html": [
       "<style scoped>\n",
       "  .table-result-container {\n",
       "    max-height: 300px;\n",
       "    overflow: auto;\n",
       "  }\n",
       "  table, th, td {\n",
       "    border: 1px solid black;\n",
       "    border-collapse: collapse;\n",
       "  }\n",
       "  th, td {\n",
       "    padding: 5px;\n",
       "  }\n",
       "  th {\n",
       "    text-align: left;\n",
       "  }\n",
       "</style><div class='table-result-container'><table class='table-result'><thead style='background-color: white'><tr><th>Pais</th><th>Ano</th><th>Total_Gols</th></tr></thead><tbody><tr><td>Brazil</td><td>2014</td><td>171</td></tr><tr><td>France</td><td>1998</td><td>171</td></tr><tr><td>Korea/Japan</td><td>2002</td><td>161</td></tr><tr><td>Germany</td><td>2006</td><td>147</td></tr><tr><td>Spain</td><td>1982</td><td>146</td></tr></tbody></table></div>"
      ]
     },
     "metadata": {
      "application/vnd.databricks.v1+output": {
       "addedWidgets": {},
       "aggData": [],
       "aggError": "",
       "aggOverflow": false,
       "aggSchema": [],
       "aggSeriesLimitReached": false,
       "aggType": "",
       "arguments": {},
       "columnCustomDisplayInfos": {},
       "data": [
        [
         "Brazil",
         2014,
         171
        ],
        [
         "France",
         1998,
         171
        ],
        [
         "Korea/Japan",
         2002,
         161
        ],
        [
         "Germany",
         2006,
         147
        ],
        [
         "Spain",
         1982,
         146
        ]
       ],
       "datasetInfos": [],
       "dbfsResultPath": null,
       "isJsonSchema": true,
       "metadata": {},
       "overflow": false,
       "plotOptions": {
        "customPlotOptions": {},
        "displayType": "table",
        "pivotAggregation": null,
        "pivotColumns": null,
        "xColumns": null,
        "yColumns": null
       },
       "removedWidgets": [],
       "schema": [
        {
         "metadata": "{}",
         "name": "Pais",
         "type": "\"string\""
        },
        {
         "metadata": "{}",
         "name": "Ano",
         "type": "\"integer\""
        },
        {
         "metadata": "{}",
         "name": "Total_Gols",
         "type": "\"integer\""
        }
       ],
       "type": "table"
      }
     },
     "output_type": "display_data"
    }
   ],
   "source": [
    "%sql\n",
    "SELECT CountryCup AS Pais, Year AS Ano, MAX(GoalsScoredCup) AS Total_Gols \n",
    "FROM gold.wcstats GROUP BY CountryCup, Year ORDER BY Total_Gols DESC LIMIT 5"
   ]
  },
  {
   "cell_type": "markdown",
   "metadata": {
    "application/vnd.databricks.v1+cell": {
     "cellMetadata": {},
     "inputWidgets": {},
     "nuid": "9fd1f0c8-00f5-4924-adf3-72e4f7a5296f",
     "showTitle": false,
     "tableResultSettingsMap": {},
     "title": ""
    }
   },
   "source": [
    "R - O top 5 no recorde de gols em uma edição da Copa do Mundo FIFA é liderado pela edição de 2014 no Brasil, com 171 gols, seguindo empatado pela edição de 1998 na França, em terceiro lugar vem a edição da Coreia/Japão em 2002 com 161 gols, em quarto lugar temos a edição da Alemanha de 2006 com 147 gols e por último a edição de 1982 na Espanha com 146 gols."
   ]
  },
  {
   "cell_type": "markdown",
   "metadata": {
    "application/vnd.databricks.v1+cell": {
     "cellMetadata": {},
     "inputWidgets": {},
     "nuid": "60a0fb7b-85f9-496d-a1a9-96e70cbbccec",
     "showTitle": false,
     "tableResultSettingsMap": {},
     "title": ""
    }
   },
   "source": [
    "**7 - Quais são os 10 maiores artilheiros das Copas?**"
   ]
  },
  {
   "cell_type": "code",
   "execution_count": 0,
   "metadata": {
    "application/vnd.databricks.v1+cell": {
     "cellMetadata": {
      "byteLimit": 2048000,
      "implicitDf": true,
      "rowLimit": 10000
     },
     "inputWidgets": {},
     "nuid": "537a13e7-4da7-4544-948e-cc3161ee9bc6",
     "showTitle": false,
     "tableResultSettingsMap": {},
     "title": ""
    }
   },
   "outputs": [
    {
     "output_type": "display_data",
     "data": {
      "text/html": [
       "<style scoped>\n",
       "  .table-result-container {\n",
       "    max-height: 300px;\n",
       "    overflow: auto;\n",
       "  }\n",
       "  table, th, td {\n",
       "    border: 1px solid black;\n",
       "    border-collapse: collapse;\n",
       "  }\n",
       "  th, td {\n",
       "    padding: 5px;\n",
       "  }\n",
       "  th {\n",
       "    text-align: left;\n",
       "  }\n",
       "</style><div class='table-result-container'><table class='table-result'><thead style='background-color: white'><tr><th>Pais</th><th>Jogador</th><th>Gols</th></tr></thead><tbody><tr><td>GER</td><td>KLOSE</td><td>16</td></tr><tr><td>BRA</td><td>RONALDO</td><td>15</td></tr><tr><td>FRG</td><td>Gerd MUELLER</td><td>14</td></tr><tr><td>FRA</td><td>Just FONTAINE</td><td>13</td></tr><tr><td>BRA</td><td>PELE</td><td>12</td></tr><tr><td>HUN</td><td>Sandor KOCSIS</td><td>11</td></tr><tr><td>GER</td><td>MULLER</td><td>11</td></tr><tr><td>PER</td><td>Teofilo CUBILLAS</td><td>10</td></tr><tr><td>FRG</td><td>Helmut RAHN</td><td>10</td></tr><tr><td>POL</td><td>Grzegorz LATO</td><td>10</td></tr></tbody></table></div>"
      ]
     },
     "metadata": {
      "application/vnd.databricks.v1+output": {
       "addedWidgets": {},
       "aggData": [],
       "aggError": "",
       "aggOverflow": false,
       "aggSchema": [],
       "aggSeriesLimitReached": false,
       "aggType": "",
       "arguments": {},
       "columnCustomDisplayInfos": {},
       "data": [
        [
         "GER",
         "KLOSE",
         16
        ],
        [
         "BRA",
         "RONALDO",
         15
        ],
        [
         "FRG",
         "Gerd MUELLER",
         14
        ],
        [
         "FRA",
         "Just FONTAINE",
         13
        ],
        [
         "BRA",
         "PELE",
         12
        ],
        [
         "HUN",
         "Sandor KOCSIS",
         11
        ],
        [
         "GER",
         "MULLER",
         11
        ],
        [
         "PER",
         "Teofilo CUBILLAS",
         10
        ],
        [
         "FRG",
         "Helmut RAHN",
         10
        ],
        [
         "POL",
         "Grzegorz LATO",
         10
        ]
       ],
       "datasetInfos": [],
       "dbfsResultPath": null,
       "isJsonSchema": true,
       "metadata": {},
       "overflow": false,
       "plotOptions": {
        "customPlotOptions": {},
        "displayType": "table",
        "pivotAggregation": null,
        "pivotColumns": null,
        "xColumns": null,
        "yColumns": null
       },
       "removedWidgets": [],
       "schema": [
        {
         "metadata": "{}",
         "name": "Pais",
         "type": "\"string\""
        },
        {
         "metadata": "{}",
         "name": "Jogador",
         "type": "\"string\""
        },
        {
         "metadata": "{}",
         "name": "Gols",
         "type": "\"long\""
        }
       ],
       "type": "table"
      }
     },
     "output_type": "display_data"
    }
   ],
   "source": [
    "%sql\n",
    "SELECT\n",
    "  TeamInitials AS Pais,\n",
    "  PlayerName AS Jogador,\n",
    "  SUM(Goals) AS Gols\n",
    "FROM gold.wcstats\n",
    "GROUP BY Pais, Jogador\n",
    "ORDER BY Gols DESC\n",
    "LIMIT 10"
   ]
  },
  {
   "cell_type": "markdown",
   "metadata": {
    "application/vnd.databricks.v1+cell": {
     "cellMetadata": {},
     "inputWidgets": {},
     "nuid": "c1f7f612-ce25-4e00-844a-e79f33915ffb",
     "showTitle": false,
     "tableResultSettingsMap": {},
     "title": ""
    }
   },
   "source": [
    "R - O maior artilheiro da Copa do Mundo FIFA é o Alemão Klose com 16 gols, seguido pelo Brasileiro Ronaldo que balançou a rede 15 vezes, em terceiro lugar temos o também Alemão Gerd Mueller, que jogou na época da República Federal da Alemanha (FRG), e marcou 14 gols, em seguida temos o Francês Just Fontaine com 13 gols, em quinto lugar temos o Rei Pelé com 12 gols, seguido do Húngaro Sandor Kocsis e do Alemão Muller ambos com 11 gols, na 8 posição temos o Peruano Teofilo Cubillas, o também Alemão Helmut Rahn e o Polonês Grzegorz Lato, ambos com 10 gols nas posições finais."
   ]
  },
  {
   "cell_type": "markdown",
   "metadata": {
    "application/vnd.databricks.v1+cell": {
     "cellMetadata": {},
     "inputWidgets": {},
     "nuid": "690ab39a-4b4a-478a-96f0-664420249248",
     "showTitle": false,
     "tableResultSettingsMap": {},
     "title": ""
    }
   },
   "source": [
    "**8 - Quais são os 10 jogadores com mais cartões amarelos?**"
   ]
  },
  {
   "cell_type": "code",
   "execution_count": 0,
   "metadata": {
    "application/vnd.databricks.v1+cell": {
     "cellMetadata": {
      "byteLimit": 2048000,
      "implicitDf": true,
      "rowLimit": 10000
     },
     "inputWidgets": {},
     "nuid": "6b388bca-e3df-4d01-b4af-40e1306deb77",
     "showTitle": false,
     "tableResultSettingsMap": {},
     "title": ""
    }
   },
   "outputs": [
    {
     "output_type": "display_data",
     "data": {
      "text/html": [
       "<style scoped>\n",
       "  .table-result-container {\n",
       "    max-height: 300px;\n",
       "    overflow: auto;\n",
       "  }\n",
       "  table, th, td {\n",
       "    border: 1px solid black;\n",
       "    border-collapse: collapse;\n",
       "  }\n",
       "  th, td {\n",
       "    padding: 5px;\n",
       "  }\n",
       "  th {\n",
       "    text-align: left;\n",
       "  }\n",
       "</style><div class='table-result-container'><table class='table-result'><thead style='background-color: white'><tr><th>Pais</th><th>Jogador</th><th>Cartoes</th></tr></thead><tbody><tr><td>BRA</td><td>CAFU</td><td>6</td></tr><tr><td>NED</td><td>V. BRONCKHORST</td><td>6</td></tr><tr><td>GHA</td><td>MUNTARI</td><td>5</td></tr><tr><td>USA</td><td>POPE</td><td>5</td></tr><tr><td>HON</td><td>W. PALACIOS</td><td>5</td></tr><tr><td>POR</td><td>COSTINHA</td><td>5</td></tr><tr><td>PAR</td><td>PAREDES</td><td>5</td></tr><tr><td>NED</td><td>HEITINGA</td><td>5</td></tr><tr><td>ARG</td><td>MASCHERANO</td><td>5</td></tr><tr><td>AUS</td><td>EMERTON</td><td>5</td></tr></tbody></table></div>"
      ]
     },
     "metadata": {
      "application/vnd.databricks.v1+output": {
       "addedWidgets": {},
       "aggData": [],
       "aggError": "",
       "aggOverflow": false,
       "aggSchema": [],
       "aggSeriesLimitReached": false,
       "aggType": "",
       "arguments": {},
       "columnCustomDisplayInfos": {},
       "data": [
        [
         "BRA",
         "CAFU",
         6
        ],
        [
         "NED",
         "V. BRONCKHORST",
         6
        ],
        [
         "GHA",
         "MUNTARI",
         5
        ],
        [
         "USA",
         "POPE",
         5
        ],
        [
         "HON",
         "W. PALACIOS",
         5
        ],
        [
         "POR",
         "COSTINHA",
         5
        ],
        [
         "PAR",
         "PAREDES",
         5
        ],
        [
         "NED",
         "HEITINGA",
         5
        ],
        [
         "ARG",
         "MASCHERANO",
         5
        ],
        [
         "AUS",
         "EMERTON",
         5
        ]
       ],
       "datasetInfos": [],
       "dbfsResultPath": null,
       "isJsonSchema": true,
       "metadata": {},
       "overflow": false,
       "plotOptions": {
        "customPlotOptions": {},
        "displayType": "table",
        "pivotAggregation": null,
        "pivotColumns": null,
        "xColumns": null,
        "yColumns": null
       },
       "removedWidgets": [],
       "schema": [
        {
         "metadata": "{}",
         "name": "Pais",
         "type": "\"string\""
        },
        {
         "metadata": "{}",
         "name": "Jogador",
         "type": "\"string\""
        },
        {
         "metadata": "{}",
         "name": "Cartoes",
         "type": "\"long\""
        }
       ],
       "type": "table"
      }
     },
     "output_type": "display_data"
    }
   ],
   "source": [
    "%sql\n",
    "SELECT\n",
    "  TeamInitials AS Pais,\n",
    "  PlayerName AS Jogador,\n",
    "  SUM(YellowCards) AS Cartoes\n",
    "FROM gold.wcstats\n",
    "GROUP BY Pais, Jogador\n",
    "ORDER BY Cartoes DESC\n",
    "LIMIT 10"
   ]
  },
  {
   "cell_type": "markdown",
   "metadata": {
    "application/vnd.databricks.v1+cell": {
     "cellMetadata": {},
     "inputWidgets": {},
     "nuid": "425d9d95-4531-43af-8d08-4242f1a04936",
     "showTitle": false,
     "tableResultSettingsMap": {},
     "title": ""
    }
   },
   "source": [
    "R - Os jogadores com mais cartões amarelos na história da Copa do Mundo FIFA começam com o Brasileiro Cafu e o Holandês Van Bronckhorst, ambos no topo da lista com 6 cartões cada. Logo atrás, com 5 cartões, temos uma lista de atletas de diferentes nacionalidades: o Ganês Muntari, o Norte-Americano Pope, o Hondurenho W. Palacios, o Português Costinha, o Paraguaio Paredes, o também Holandês Heitinga, o Argentino Mascherano e o Australiano Emerton."
   ]
  },
  {
   "cell_type": "markdown",
   "metadata": {
    "application/vnd.databricks.v1+cell": {
     "cellMetadata": {},
     "inputWidgets": {},
     "nuid": "d5b898c2-f870-4dd7-96cf-0bfd3a96b71e",
     "showTitle": false,
     "tableResultSettingsMap": {},
     "title": ""
    }
   },
   "source": [
    "**9 - Quais são os 10 jogadores com mais cartões vermelho?**"
   ]
  },
  {
   "cell_type": "code",
   "execution_count": 0,
   "metadata": {
    "application/vnd.databricks.v1+cell": {
     "cellMetadata": {
      "byteLimit": 2048000,
      "implicitDf": true,
      "rowLimit": 10000
     },
     "inputWidgets": {},
     "nuid": "f7630430-e362-47be-b7e4-20b97fac1b7a",
     "showTitle": false,
     "tableResultSettingsMap": {},
     "title": ""
    }
   },
   "outputs": [
    {
     "output_type": "display_data",
     "data": {
      "text/html": [
       "<style scoped>\n",
       "  .table-result-container {\n",
       "    max-height: 300px;\n",
       "    overflow: auto;\n",
       "  }\n",
       "  table, th, td {\n",
       "    border: 1px solid black;\n",
       "    border-collapse: collapse;\n",
       "  }\n",
       "  th, td {\n",
       "    padding: 5px;\n",
       "  }\n",
       "  th {\n",
       "    text-align: left;\n",
       "  }\n",
       "</style><div class='table-result-container'><table class='table-result'><thead style='background-color: white'><tr><th>Pais</th><th>Jogador</th><th>Cartoes</th></tr></thead><tbody><tr><td>CMR</td><td>SONG</td><td>2</td></tr><tr><td>ITA</td><td>MATERAZZI </td><td>1</td></tr><tr><td>BEL</td><td>Eric GERETS</td><td>1</td></tr><tr><td>CMR</td><td>Andre KANA-BIYIK</td><td>1</td></tr><tr><td>PER</td><td>Placido GALINDO</td><td>1</td></tr><tr><td>TRI</td><td>A. JOHN</td><td>1</td></tr><tr><td>GER</td><td>WORNS</td><td>1</td></tr><tr><td>HUN</td><td>Tibor NYILASI</td><td>1</td></tr><tr><td>USA</td><td>Eric WYNALDA</td><td>1</td></tr><tr><td>URU</td><td>SUAREZ</td><td>1</td></tr></tbody></table></div>"
      ]
     },
     "metadata": {
      "application/vnd.databricks.v1+output": {
       "addedWidgets": {},
       "aggData": [],
       "aggError": "",
       "aggOverflow": false,
       "aggSchema": [],
       "aggSeriesLimitReached": false,
       "aggType": "",
       "arguments": {},
       "columnCustomDisplayInfos": {},
       "data": [
        [
         "CMR",
         "SONG",
         2
        ],
        [
         "ITA",
         "MATERAZZI ",
         1
        ],
        [
         "BEL",
         "Eric GERETS",
         1
        ],
        [
         "CMR",
         "Andre KANA-BIYIK",
         1
        ],
        [
         "PER",
         "Placido GALINDO",
         1
        ],
        [
         "TRI",
         "A. JOHN",
         1
        ],
        [
         "GER",
         "WORNS",
         1
        ],
        [
         "HUN",
         "Tibor NYILASI",
         1
        ],
        [
         "USA",
         "Eric WYNALDA",
         1
        ],
        [
         "URU",
         "SUAREZ",
         1
        ]
       ],
       "datasetInfos": [],
       "dbfsResultPath": null,
       "isJsonSchema": true,
       "metadata": {},
       "overflow": false,
       "plotOptions": {
        "customPlotOptions": {},
        "displayType": "table",
        "pivotAggregation": null,
        "pivotColumns": null,
        "xColumns": null,
        "yColumns": null
       },
       "removedWidgets": [],
       "schema": [
        {
         "metadata": "{}",
         "name": "Pais",
         "type": "\"string\""
        },
        {
         "metadata": "{}",
         "name": "Jogador",
         "type": "\"string\""
        },
        {
         "metadata": "{}",
         "name": "Cartoes",
         "type": "\"long\""
        }
       ],
       "type": "table"
      }
     },
     "output_type": "display_data"
    }
   ],
   "source": [
    "%sql\n",
    "SELECT\n",
    "  TeamInitials AS Pais,\n",
    "  PlayerName AS Jogador,\n",
    "  SUM(RedCards) AS Cartoes\n",
    "FROM gold.wcstats\n",
    "GROUP BY Pais, Jogador\n",
    "ORDER BY Cartoes DESC\n",
    "LIMIT 10"
   ]
  },
  {
   "cell_type": "markdown",
   "metadata": {
    "application/vnd.databricks.v1+cell": {
     "cellMetadata": {},
     "inputWidgets": {},
     "nuid": "f5204beb-1ace-4194-8e58-0a07df3d965b",
     "showTitle": false,
     "tableResultSettingsMap": {},
     "title": ""
    }
   },
   "source": [
    "R - Os jogadores com mais cartões vermelhos na história da Copa do Mundo FIFA começam com o Camaronês Song, que lidera com 2 expulsões em Copas. Em seguida, com 1 cartão vermelho cada, temos uma lista de atletas de diversas seleções: o Italiano Materazzi, o Belga Eric Gerets, o também Camaronês André Kana-Biyik, o Peruano Plácido Galindo, o A. John, o Alemão Wörns, o Húngaro Tibor Nyilasi, o Norte-Americano Eric Wynalda e o Uruguaio Suárez."
   ]
  },
  {
   "cell_type": "markdown",
   "metadata": {
    "application/vnd.databricks.v1+cell": {
     "cellMetadata": {},
     "inputWidgets": {},
     "nuid": "a7b0468c-3cae-48b1-8d67-6223d3b29bdc",
     "showTitle": false,
     "tableResultSettingsMap": {},
     "title": ""
    }
   },
   "source": [
    "**10 - Quais os 5 países com mais vitórias das Copas?**"
   ]
  },
  {
   "cell_type": "code",
   "execution_count": 0,
   "metadata": {
    "application/vnd.databricks.v1+cell": {
     "cellMetadata": {
      "byteLimit": 2048000,
      "implicitDf": true,
      "rowLimit": 10000
     },
     "inputWidgets": {},
     "nuid": "3eb451b7-c0df-46dd-aab9-ce318e712546",
     "showTitle": false,
     "tableResultSettingsMap": {},
     "title": ""
    }
   },
   "outputs": [
    {
     "output_type": "display_data",
     "data": {
      "text/html": [
       "<style scoped>\n",
       "  .table-result-container {\n",
       "    max-height: 300px;\n",
       "    overflow: auto;\n",
       "  }\n",
       "  table, th, td {\n",
       "    border: 1px solid black;\n",
       "    border-collapse: collapse;\n",
       "  }\n",
       "  th, td {\n",
       "    padding: 5px;\n",
       "  }\n",
       "  th {\n",
       "    text-align: left;\n",
       "  }\n",
       "</style><div class='table-result-container'><table class='table-result'><thead style='background-color: white'><tr><th>Pais</th><th>Total_Vitorias</th></tr></thead><tbody><tr><td>Brazil</td><td>70</td></tr><tr><td>Germany</td><td>68</td></tr><tr><td>Italy</td><td>45</td></tr><tr><td>Argentina</td><td>42</td></tr><tr><td>Spain</td><td>29</td></tr></tbody></table></div>"
      ]
     },
     "metadata": {
      "application/vnd.databricks.v1+output": {
       "addedWidgets": {},
       "aggData": [],
       "aggError": "",
       "aggOverflow": false,
       "aggSchema": [],
       "aggSeriesLimitReached": false,
       "aggType": "",
       "arguments": {},
       "columnCustomDisplayInfos": {},
       "data": [
        [
         "Brazil",
         70
        ],
        [
         "Germany",
         68
        ],
        [
         "Italy",
         45
        ],
        [
         "Argentina",
         42
        ],
        [
         "Spain",
         29
        ]
       ],
       "datasetInfos": [],
       "dbfsResultPath": null,
       "isJsonSchema": true,
       "metadata": {},
       "overflow": false,
       "plotOptions": {
        "customPlotOptions": {},
        "displayType": "table",
        "pivotAggregation": null,
        "pivotColumns": null,
        "xColumns": null,
        "yColumns": null
       },
       "removedWidgets": [],
       "schema": [
        {
         "metadata": "{}",
         "name": "Pais",
         "type": "\"string\""
        },
        {
         "metadata": "{}",
         "name": "Total_Vitorias",
         "type": "\"long\""
        }
       ],
       "type": "table"
      }
     },
     "output_type": "display_data"
    }
   ],
   "source": [
    "%sql\n",
    "SELECT * FROM (SELECT\n",
    "CASE \n",
    "    WHEN HomeTeamGoals > AwayTeamGoals THEN HomeTeamName\n",
    "    WHEN AwayTeamGoals > HomeTeamGoals THEN AwayTeamName\n",
    "    ELSE NULL\n",
    "END AS Pais,\n",
    "COUNT(DISTINCT MatchID) AS Total_Vitorias\n",
    "FROM gold.wcstats GROUP BY Pais) WHERE Pais IS NOT NULL ORDER BY Total_Vitorias DESC LIMIT 5"
   ]
  },
  {
   "cell_type": "markdown",
   "metadata": {
    "application/vnd.databricks.v1+cell": {
     "cellMetadata": {},
     "inputWidgets": {},
     "nuid": "4bb23ea7-df9a-44c6-9a31-292852391e59",
     "showTitle": false,
     "tableResultSettingsMap": {},
     "title": ""
    }
   },
   "source": [
    "R - As seleções com mais vitórias na história da Copa do Mundo FIFA são lideradas pelo Brasil, que ocupa o topo do ranking 70 vitórias em partidas oficiais do torneio. Logo atrás vem a Alemanha, com 68 vitórias. Em terceiro lugar está a Itália com 45 triunfos, seguida de perto pela Argentina, que soma 42 vitórias. Fechando o top 5 está a Espanha, com 29 vitórias."
   ]
  },
  {
   "cell_type": "markdown",
   "metadata": {
    "application/vnd.databricks.v1+cell": {
     "cellMetadata": {},
     "inputWidgets": {},
     "nuid": "92420576-9b29-4c6f-aa17-cc1a30c968c9",
     "showTitle": false,
     "tableResultSettingsMap": {},
     "title": ""
    }
   },
   "source": [
    "**11 - Quais os 5 países com mais derrotas das Copas?**"
   ]
  },
  {
   "cell_type": "code",
   "execution_count": 0,
   "metadata": {
    "application/vnd.databricks.v1+cell": {
     "cellMetadata": {
      "byteLimit": 2048000,
      "implicitDf": true,
      "rowLimit": 10000
     },
     "inputWidgets": {},
     "nuid": "54089408-063b-492f-a1c9-20bf428e5a4b",
     "showTitle": false,
     "tableResultSettingsMap": {},
     "title": ""
    }
   },
   "outputs": [
    {
     "output_type": "display_data",
     "data": {
      "text/html": [
       "<style scoped>\n",
       "  .table-result-container {\n",
       "    max-height: 300px;\n",
       "    overflow: auto;\n",
       "  }\n",
       "  table, th, td {\n",
       "    border: 1px solid black;\n",
       "    border-collapse: collapse;\n",
       "  }\n",
       "  th, td {\n",
       "    padding: 5px;\n",
       "  }\n",
       "  th {\n",
       "    text-align: left;\n",
       "  }\n",
       "</style><div class='table-result-container'><table class='table-result'><thead style='background-color: white'><tr><th>Pais</th><th>Total_Derrotas</th></tr></thead><tbody><tr><td>Mexico</td><td>25</td></tr><tr><td>Germany</td><td>22</td></tr><tr><td>Argentina</td><td>21</td></tr><tr><td>France</td><td>19</td></tr><tr><td>USA</td><td>19</td></tr></tbody></table></div>"
      ]
     },
     "metadata": {
      "application/vnd.databricks.v1+output": {
       "addedWidgets": {},
       "aggData": [],
       "aggError": "",
       "aggOverflow": false,
       "aggSchema": [],
       "aggSeriesLimitReached": false,
       "aggType": "",
       "arguments": {},
       "columnCustomDisplayInfos": {},
       "data": [
        [
         "Mexico",
         25
        ],
        [
         "Germany",
         22
        ],
        [
         "Argentina",
         21
        ],
        [
         "France",
         19
        ],
        [
         "USA",
         19
        ]
       ],
       "datasetInfos": [],
       "dbfsResultPath": null,
       "isJsonSchema": true,
       "metadata": {},
       "overflow": false,
       "plotOptions": {
        "customPlotOptions": {},
        "displayType": "table",
        "pivotAggregation": null,
        "pivotColumns": null,
        "xColumns": null,
        "yColumns": null
       },
       "removedWidgets": [],
       "schema": [
        {
         "metadata": "{}",
         "name": "Pais",
         "type": "\"string\""
        },
        {
         "metadata": "{}",
         "name": "Total_Derrotas",
         "type": "\"long\""
        }
       ],
       "type": "table"
      }
     },
     "output_type": "display_data"
    }
   ],
   "source": [
    "%sql\n",
    "SELECT * FROM (SELECT\n",
    "CASE \n",
    "    WHEN HomeTeamGoals < AwayTeamGoals THEN HomeTeamName\n",
    "    WHEN AwayTeamGoals < HomeTeamGoals THEN AwayTeamName\n",
    "    ELSE NULL\n",
    "END AS Pais,\n",
    "COUNT(DISTINCT MatchID) AS Total_Derrotas\n",
    "FROM gold.wcstats GROUP BY Pais) WHERE Pais IS NOT NULL ORDER BY Total_Derrotas DESC LIMIT 5"
   ]
  },
  {
   "cell_type": "markdown",
   "metadata": {
    "application/vnd.databricks.v1+cell": {
     "cellMetadata": {},
     "inputWidgets": {},
     "nuid": "ff2015fc-5255-4015-9230-24a0923c484f",
     "showTitle": false,
     "tableResultSettingsMap": {},
     "title": ""
    }
   },
   "source": [
    "R - As seleções com mais derrotas em Copas do Mundo FIFA, é liderada pelo o México que lista 25 derrotas ao longo de sua longa trajetória no torneio. Em segundo lugar aparece a Alemanha, com 22 derrotas, um número que chama a atenção especialmente considerando o alto número de vitórias que também possui. Logo atrás vem a Argentina, com 21 derrotas, seguida pela França e pelos Estados Unidos, ambos com 19 partidas perdidas."
   ]
  },
  {
   "cell_type": "markdown",
   "metadata": {
    "application/vnd.databricks.v1+cell": {
     "cellMetadata": {
      "byteLimit": 2048000,
      "rowLimit": 10000
     },
     "inputWidgets": {},
     "nuid": "279cfab3-002f-4e79-acae-11adab6e1b7c",
     "showTitle": false,
     "tableResultSettingsMap": {},
     "title": ""
    }
   },
   "source": [
    "**12 - Quais os 5 países com maior número de gols marcados?**"
   ]
  },
  {
   "cell_type": "code",
   "execution_count": 0,
   "metadata": {
    "application/vnd.databricks.v1+cell": {
     "cellMetadata": {
      "byteLimit": 2048000,
      "implicitDf": true,
      "rowLimit": 10000
     },
     "inputWidgets": {},
     "nuid": "48500a3a-6f11-4c46-9e08-a47383733f27",
     "showTitle": false,
     "tableResultSettingsMap": {},
     "title": ""
    }
   },
   "outputs": [
    {
     "output_type": "display_data",
     "data": {
      "text/html": [
       "<style scoped>\n",
       "  .table-result-container {\n",
       "    max-height: 300px;\n",
       "    overflow: auto;\n",
       "  }\n",
       "  table, th, td {\n",
       "    border: 1px solid black;\n",
       "    border-collapse: collapse;\n",
       "  }\n",
       "  th, td {\n",
       "    padding: 5px;\n",
       "  }\n",
       "  th {\n",
       "    text-align: left;\n",
       "  }\n",
       "</style><div class='table-result-container'><table class='table-result'><thead style='background-color: white'><tr><th>Pais</th><th>Gols_Casa</th><th>Gols_Fora</th><th>Total_Gols</th></tr></thead><tbody><tr><td>Germany</td><td>168</td><td>61</td><td>229</td></tr><tr><td>Brazil</td><td>176</td><td>45</td><td>221</td></tr><tr><td>Argentina</td><td>109</td><td>22</td><td>131</td></tr><tr><td>Italy</td><td>99</td><td>29</td><td>128</td></tr><tr><td>France</td><td>66</td><td>40</td><td>106</td></tr></tbody></table></div>"
      ]
     },
     "metadata": {
      "application/vnd.databricks.v1+output": {
       "addedWidgets": {},
       "aggData": [],
       "aggError": "",
       "aggOverflow": false,
       "aggSchema": [],
       "aggSeriesLimitReached": false,
       "aggType": "",
       "arguments": {},
       "columnCustomDisplayInfos": {},
       "data": [
        [
         "Germany",
         168,
         61,
         229
        ],
        [
         "Brazil",
         176,
         45,
         221
        ],
        [
         "Argentina",
         109,
         22,
         131
        ],
        [
         "Italy",
         99,
         29,
         128
        ],
        [
         "France",
         66,
         40,
         106
        ]
       ],
       "datasetInfos": [],
       "dbfsResultPath": null,
       "isJsonSchema": true,
       "metadata": {},
       "overflow": false,
       "plotOptions": {
        "customPlotOptions": {},
        "displayType": "table",
        "pivotAggregation": null,
        "pivotColumns": null,
        "xColumns": null,
        "yColumns": null
       },
       "removedWidgets": [],
       "schema": [
        {
         "metadata": "{}",
         "name": "Pais",
         "type": "\"string\""
        },
        {
         "metadata": "{}",
         "name": "Gols_Casa",
         "type": "\"long\""
        },
        {
         "metadata": "{}",
         "name": "Gols_Fora",
         "type": "\"long\""
        },
        {
         "metadata": "{}",
         "name": "Total_Gols",
         "type": "\"long\""
        }
       ],
       "type": "table"
      }
     },
     "output_type": "display_data"
    }
   ],
   "source": [
    "%sql\n",
    "SELECT\n",
    "home.Pais AS Pais,\n",
    "home.Gols_Casa,\n",
    "away.Gols_Fora,\n",
    "home.Gols_Casa + away.Gols_Fora AS Total_Gols\n",
    "FROM\n",
    "(SELECT Pais,\n",
    "SUM(HomeTeamGoals) AS Gols_Casa\n",
    "FROM (SELECT DISTINCT MatchID, HomeTeamName AS Pais, HomeTeamGoals FROM gold.wcstats)\n",
    "GROUP BY Pais) home\n",
    "LEFT JOIN\n",
    "(SELECT Pais,\n",
    "SUM(AwayTeamGoals) AS Gols_Fora\n",
    "FROM (SELECT DISTINCT MatchID, AwayTeamName AS Pais, AwayTeamGoals FROM gold.wcstats)\n",
    "GROUP BY Pais) away ON home.Pais = away.Pais\n",
    "ORDER BY Total_Gols DESC LIMIT 5"
   ]
  },
  {
   "cell_type": "markdown",
   "metadata": {
    "application/vnd.databricks.v1+cell": {
     "cellMetadata": {},
     "inputWidgets": {},
     "nuid": "a83d8e72-e35a-4efd-ad74-8fcfd6a0558e",
     "showTitle": false,
     "tableResultSettingsMap": {},
     "title": ""
    }
   },
   "source": [
    "R - As seleções que mais balançaram as redes na história da Copa do Mundo FIFA começam com a Alemanha, que lidera o ranking com impressionantes 229 gols, sendo 168 marcados como mandante e 61 fora de casa. Em seguida vem o Brasil, que anotou 221 gols, 176 em casa e 45 como visitante, destacando seu estilo ofensivo tradicional. Na terceira posição está a Argentina, com 131 gols (109 em casa e 22 fora), seguida de perto pela Itália, que soma 128 gols no total, com 99 como mandante e 29 como visitante. Fechando o top 5 aparece a França, com 106 gols marcados, sendo 66 em casa e 40 fora."
   ]
  },
  {
   "cell_type": "markdown",
   "metadata": {
    "application/vnd.databricks.v1+cell": {
     "cellMetadata": {},
     "inputWidgets": {},
     "nuid": "81176379-ec6f-4364-a459-6a6f937a0242",
     "showTitle": false,
     "tableResultSettingsMap": {},
     "title": ""
    }
   },
   "source": [
    "**13 - Quais os 5 países com maior número de gols sofridos?**"
   ]
  },
  {
   "cell_type": "code",
   "execution_count": 0,
   "metadata": {
    "application/vnd.databricks.v1+cell": {
     "cellMetadata": {
      "byteLimit": 2048000,
      "implicitDf": true,
      "rowLimit": 10000
     },
     "inputWidgets": {},
     "nuid": "cb214d54-209d-4e91-8e7e-675ee47012fe",
     "showTitle": false,
     "tableResultSettingsMap": {},
     "title": ""
    }
   },
   "outputs": [
    {
     "output_type": "display_data",
     "data": {
      "text/html": [
       "<style scoped>\n",
       "  .table-result-container {\n",
       "    max-height: 300px;\n",
       "    overflow: auto;\n",
       "  }\n",
       "  table, th, td {\n",
       "    border: 1px solid black;\n",
       "    border-collapse: collapse;\n",
       "  }\n",
       "  th, td {\n",
       "    padding: 5px;\n",
       "  }\n",
       "  th {\n",
       "    text-align: left;\n",
       "  }\n",
       "</style><div class='table-result-container'><table class='table-result'><thead style='background-color: white'><tr><th>Pais</th><th>Gols_Casa</th><th>Gols_Fora</th><th>Total_Gols</th></tr></thead><tbody><tr><td>Germany</td><td>69</td><td>57</td><td>126</td></tr><tr><td>Brazil</td><td>66</td><td>36</td><td>102</td></tr><tr><td>Mexico</td><td>11</td><td>81</td><td>92</td></tr><tr><td>Argentina</td><td>44</td><td>40</td><td>84</td></tr><tr><td>Italy</td><td>41</td><td>36</td><td>77</td></tr></tbody></table></div>"
      ]
     },
     "metadata": {
      "application/vnd.databricks.v1+output": {
       "addedWidgets": {},
       "aggData": [],
       "aggError": "",
       "aggOverflow": false,
       "aggSchema": [],
       "aggSeriesLimitReached": false,
       "aggType": "",
       "arguments": {},
       "columnCustomDisplayInfos": {},
       "data": [
        [
         "Germany",
         69,
         57,
         126
        ],
        [
         "Brazil",
         66,
         36,
         102
        ],
        [
         "Mexico",
         11,
         81,
         92
        ],
        [
         "Argentina",
         44,
         40,
         84
        ],
        [
         "Italy",
         41,
         36,
         77
        ]
       ],
       "datasetInfos": [],
       "dbfsResultPath": null,
       "isJsonSchema": true,
       "metadata": {},
       "overflow": false,
       "plotOptions": {
        "customPlotOptions": {},
        "displayType": "table",
        "pivotAggregation": null,
        "pivotColumns": null,
        "xColumns": null,
        "yColumns": null
       },
       "removedWidgets": [],
       "schema": [
        {
         "metadata": "{}",
         "name": "Pais",
         "type": "\"string\""
        },
        {
         "metadata": "{}",
         "name": "Gols_Casa",
         "type": "\"long\""
        },
        {
         "metadata": "{}",
         "name": "Gols_Fora",
         "type": "\"long\""
        },
        {
         "metadata": "{}",
         "name": "Total_Gols",
         "type": "\"long\""
        }
       ],
       "type": "table"
      }
     },
     "output_type": "display_data"
    }
   ],
   "source": [
    "%sql\n",
    "SELECT\n",
    "home.Pais AS Pais,\n",
    "home.Gols_Casa,\n",
    "away.Gols_Fora,\n",
    "home.Gols_Casa + away.Gols_Fora AS Total_Gols\n",
    "FROM\n",
    "(SELECT Pais,\n",
    "SUM(AwayTeamGoals) AS Gols_Casa\n",
    "FROM (SELECT DISTINCT MatchID, HomeTeamName AS Pais, AwayTeamGoals FROM gold.wcstats)\n",
    "GROUP BY Pais) home\n",
    "LEFT JOIN\n",
    "(SELECT Pais,\n",
    "SUM(HomeTeamGoals) AS Gols_Fora\n",
    "FROM (SELECT DISTINCT MatchID, AwayTeamName AS Pais, HomeTeamGoals FROM gold.wcstats)\n",
    "GROUP BY Pais) away ON home.Pais = away.Pais\n",
    "ORDER BY Total_Gols DESC LIMIT 5"
   ]
  },
  {
   "cell_type": "markdown",
   "metadata": {
    "application/vnd.databricks.v1+cell": {
     "cellMetadata": {},
     "inputWidgets": {},
     "nuid": "556eb9d4-f6c6-4eda-abdb-b92aaecea032",
     "showTitle": false,
     "tableResultSettingsMap": {},
     "title": ""
    }
   },
   "source": [
    "R - Ss seleções que mais sofreram gols na história da Copa do Mundo FIFA, a Alemanha aparece no topo da lista com 126 gols sofridos, sendo 69 em casa e 57 fora. O Brasil vem logo em seguida, com 102 gols sofridos no total, 66 em casa e 36 como visitante. Em terceiro lugar está o México, que teve sua defesa vazada 92 vezes, com apenas 11 gols sofridos em casa, mas 81 fora de casa. A Argentina aparece em quarto com 84 gols sofridos (44 em casa e 40 fora), enquanto a Itália fecha o top 5 com 77 gols levados, sendo 41 como mandante e 36 fora."
   ]
  },
  {
   "cell_type": "markdown",
   "metadata": {
    "application/vnd.databricks.v1+cell": {
     "cellMetadata": {},
     "inputWidgets": {},
     "nuid": "ae962f08-f67c-4534-bbfd-bbdb25f738dd",
     "showTitle": false,
     "tableResultSettingsMap": {},
     "title": ""
    }
   },
   "source": [
    "**14 - Quais os 10 árbitros principais que mais apitaram jogos?**"
   ]
  },
  {
   "cell_type": "code",
   "execution_count": 0,
   "metadata": {
    "application/vnd.databricks.v1+cell": {
     "cellMetadata": {
      "byteLimit": 2048000,
      "implicitDf": true,
      "rowLimit": 10000
     },
     "inputWidgets": {},
     "nuid": "88328789-c1fa-4d36-8111-2b96a32daa13",
     "showTitle": false,
     "tableResultSettingsMap": {},
     "title": ""
    }
   },
   "outputs": [
    {
     "output_type": "display_data",
     "data": {
      "text/html": [
       "<style scoped>\n",
       "  .table-result-container {\n",
       "    max-height: 300px;\n",
       "    overflow: auto;\n",
       "  }\n",
       "  table, th, td {\n",
       "    border: 1px solid black;\n",
       "    border-collapse: collapse;\n",
       "  }\n",
       "  th, td {\n",
       "    padding: 5px;\n",
       "  }\n",
       "  th {\n",
       "    text-align: left;\n",
       "  }\n",
       "</style><div class='table-result-container'><table class='table-result'><thead style='background-color: white'><tr><th>Arbitro</th><th>Total_Jogos</th></tr></thead><tbody><tr><td>Ravshan IRMATOV (UZB)</td><td>9</td></tr><tr><td>LARRIONDA Jorge (URU)</td><td>8</td></tr><tr><td>ARCHUNDIA Benito (MEX)</td><td>8</td></tr><tr><td>QUINIOU Joel (FRA)</td><td>8</td></tr><tr><td>DE BLEECKERE Frank (BEL)</td><td>7</td></tr><tr><td>GARDEAZABAL Juan (ESP)</td><td>7</td></tr><tr><td>GRIFFITHS Benjamin (WAL)</td><td>7</td></tr><tr><td>SIMON Carlos (BRA)</td><td>7</td></tr><tr><td>LANGENUS Jean (BEL)</td><td>7</td></tr><tr><td>RODRIGUEZ Marco (MEX)</td><td>7</td></tr></tbody></table></div>"
      ]
     },
     "metadata": {
      "application/vnd.databricks.v1+output": {
       "addedWidgets": {},
       "aggData": [],
       "aggError": "",
       "aggOverflow": false,
       "aggSchema": [],
       "aggSeriesLimitReached": false,
       "aggType": "",
       "arguments": {},
       "columnCustomDisplayInfos": {},
       "data": [
        [
         "Ravshan IRMATOV (UZB)",
         9
        ],
        [
         "LARRIONDA Jorge (URU)",
         8
        ],
        [
         "ARCHUNDIA Benito (MEX)",
         8
        ],
        [
         "QUINIOU Joel (FRA)",
         8
        ],
        [
         "DE BLEECKERE Frank (BEL)",
         7
        ],
        [
         "GARDEAZABAL Juan (ESP)",
         7
        ],
        [
         "GRIFFITHS Benjamin (WAL)",
         7
        ],
        [
         "SIMON Carlos (BRA)",
         7
        ],
        [
         "LANGENUS Jean (BEL)",
         7
        ],
        [
         "RODRIGUEZ Marco (MEX)",
         7
        ]
       ],
       "datasetInfos": [],
       "dbfsResultPath": null,
       "isJsonSchema": true,
       "metadata": {},
       "overflow": false,
       "plotOptions": {
        "customPlotOptions": {},
        "displayType": "table",
        "pivotAggregation": null,
        "pivotColumns": null,
        "xColumns": null,
        "yColumns": null
       },
       "removedWidgets": [],
       "schema": [
        {
         "metadata": "{}",
         "name": "Arbitro",
         "type": "\"string\""
        },
        {
         "metadata": "{}",
         "name": "Total_Jogos",
         "type": "\"long\""
        }
       ],
       "type": "table"
      }
     },
     "output_type": "display_data"
    }
   ],
   "source": [
    "%sql\n",
    "SELECT Referee AS Arbitro, COUNT(DISTINCT MatchID) AS Total_Jogos \n",
    "FROM gold.wcstats GROUP BY Arbitro\n",
    "ORDER BY Total_Jogos DESC LIMIT 10"
   ]
  },
  {
   "cell_type": "markdown",
   "metadata": {
    "application/vnd.databricks.v1+cell": {
     "cellMetadata": {},
     "inputWidgets": {},
     "nuid": "068f45ec-d7ea-449a-b4da-e8bcb9fe0423",
     "showTitle": false,
     "tableResultSettingsMap": {},
     "title": ""
    }
   },
   "source": [
    "R - Os árbitros que mais apitaram partidas na história da Copa do Mundo FIFA começam com Ravshan Irmatov, do Uzbequistão, que lidera o ranking com 9 jogos arbitrados. Logo atrás, com 8 partidas cada, estão o Uruguaio Jorge Larrionda, o Mexicano Benito Archundia e o Francês Joel Quiniou. Na sequência, com 7 jogos apitados, temos uma lista diversa de nacionalidades: o Belga Frank De Bleeckere, o Espanhol Juan Gardeazabal, o Galês Benjamin Griffiths, o Brasileiro Carlos Simon, o também Belga Jean Langenus e o Mexicano Marco Rodríguez."
   ]
  },
  {
   "cell_type": "markdown",
   "metadata": {
    "application/vnd.databricks.v1+cell": {
     "cellMetadata": {},
     "inputWidgets": {},
     "nuid": "98ff6d13-d6f6-43fb-b533-eae61a2b6573",
     "showTitle": false,
     "tableResultSettingsMap": {},
     "title": ""
    }
   },
   "source": [
    "**15 - Quais os 5 países com o maior número de árbitros principais?**"
   ]
  },
  {
   "cell_type": "code",
   "execution_count": 0,
   "metadata": {
    "application/vnd.databricks.v1+cell": {
     "cellMetadata": {
      "byteLimit": 2048000,
      "implicitDf": true,
      "rowLimit": 10000
     },
     "inputWidgets": {},
     "nuid": "4b82b24c-5982-467d-9eb9-c8a42b2ca3aa",
     "showTitle": false,
     "tableResultSettingsMap": {},
     "title": ""
    }
   },
   "outputs": [
    {
     "output_type": "display_data",
     "data": {
      "text/html": [
       "<style scoped>\n",
       "  .table-result-container {\n",
       "    max-height: 300px;\n",
       "    overflow: auto;\n",
       "  }\n",
       "  table, th, td {\n",
       "    border: 1px solid black;\n",
       "    border-collapse: collapse;\n",
       "  }\n",
       "  th, td {\n",
       "    padding: 5px;\n",
       "  }\n",
       "  th {\n",
       "    text-align: left;\n",
       "  }\n",
       "</style><div class='table-result-container'><table class='table-result'><thead style='background-color: white'><tr><th>Pais</th><th>Total_Jogos</th></tr></thead><tbody><tr><td>ITA</td><td>50</td></tr><tr><td>ENG</td><td>44</td></tr><tr><td>FRA</td><td>40</td></tr><tr><td>MEX</td><td>40</td></tr><tr><td>GER</td><td>35</td></tr></tbody></table></div>"
      ]
     },
     "metadata": {
      "application/vnd.databricks.v1+output": {
       "addedWidgets": {},
       "aggData": [],
       "aggError": "",
       "aggOverflow": false,
       "aggSchema": [],
       "aggSeriesLimitReached": false,
       "aggType": "",
       "arguments": {},
       "columnCustomDisplayInfos": {},
       "data": [
        [
         "ITA",
         50
        ],
        [
         "ENG",
         44
        ],
        [
         "FRA",
         40
        ],
        [
         "MEX",
         40
        ],
        [
         "GER",
         35
        ]
       ],
       "datasetInfos": [],
       "dbfsResultPath": null,
       "isJsonSchema": true,
       "metadata": {},
       "overflow": false,
       "plotOptions": {
        "customPlotOptions": {},
        "displayType": "table",
        "pivotAggregation": null,
        "pivotColumns": null,
        "xColumns": null,
        "yColumns": null
       },
       "removedWidgets": [],
       "schema": [
        {
         "metadata": "{}",
         "name": "Pais",
         "type": "\"string\""
        },
        {
         "metadata": "{}",
         "name": "Total_Jogos",
         "type": "\"long\""
        }
       ],
       "type": "table"
      }
     },
     "output_type": "display_data"
    }
   ],
   "source": [
    "%sql\n",
    "SELECT RefereeCountry AS Pais, COUNT(DISTINCT MatchID) AS Total_Jogos \n",
    "FROM gold.wcstats GROUP BY Pais\n",
    "ORDER BY Total_Jogos DESC LIMIT 5"
   ]
  },
  {
   "cell_type": "markdown",
   "metadata": {
    "application/vnd.databricks.v1+cell": {
     "cellMetadata": {},
     "inputWidgets": {},
     "nuid": "0ddd881f-b69c-4767-96d5-ed149930f42b",
     "showTitle": false,
     "tableResultSettingsMap": {},
     "title": ""
    }
   },
   "source": [
    "R - Os países com maior presença de árbitros na história da Copa do Mundo FIFA começam com a Itália, cujos árbitros apitaram um total de 50 jogos, liderando esse ranking de representatividade na arbitragem. Em segundo lugar vem a Inglaterra, com 44 partidas conduzidas por seus juízes. A França e o México dividem a terceira posição, ambos com 40 jogos apitados, mostrando a tradição e a confiança da FIFA nesses países ao longo das edições. Fechando o top 5 está a Alemanha, com 35 jogos apitados por seus representantes. "
   ]
  },
  {
   "cell_type": "markdown",
   "metadata": {
    "application/vnd.databricks.v1+cell": {
     "cellMetadata": {},
     "inputWidgets": {},
     "nuid": "adf191e0-1410-462f-8073-90edd82bca37",
     "showTitle": false,
     "tableResultSettingsMap": {},
     "title": ""
    }
   },
   "source": [
    "### Autoavaliação\n",
    "\n",
    "Trabalho com ciência de dados há 6 anos, realizando modelagens, manipulações de dados e banco de dados, modelo preditivos de machine learning, entre outras atividades envolvidas, pórém o início da pós graduação, com as aulas, materiais e discusões me deu um embasamento teórico que me faltava, devido a minha experiência ter sido adquirida na prática e atráves de muita leitura.\n",
    "\n",
    "Hoje, além da capacidade de estruturar consultas, extração, modelagem e manipução de dados, além das análise, já tenho uma forte tendência em melhorar meus códigos e análise, aplicando todo conhecimento aqui adquirido, enxugando e empregando as ferramentas com uma melhor qualidade, alinhando a prática com a teória.\n",
    "\n",
    "A familiarização com o Python e SQL, tornou essa jornada um pouco mais tranquilo, mas não deixou de ser um desafio, a busca pela melhor metodologia, as inúmeras consultas realizadas em busca das melhores soluções e o jeito certo de aplica-las.\n",
    "\n",
    "Tenho certeza que finalizo esse MVP muito melhor que há 4 meses atrás e diante desse cenário tenho a certeza que irei melhorar cada vez mais o meu aprendizado e entregas, tanto acadêmica quanto profissinal."
   ]
  }
 ],
 "metadata": {
  "application/vnd.databricks.v1+notebook": {
   "computePreferences": null,
   "dashboards": [],
   "environmentMetadata": {
    "base_environment": "",
    "environment_version": "1"
   },
   "inputWidgetPreferences": null,
   "language": "python",
   "notebookMetadata": {
    "mostRecentlyExecutedCommandWithImplicitDF": {
     "commandId": 2686497946760058,
     "dataframes": [
      "_sqldf"
     ]
    },
    "pythonIndentUnit": 4
   },
   "notebookName": "Estatíticas das Copas - 2025-03-21 14:44:15",
   "widgets": {}
  }
 },
 "nbformat": 4,
 "nbformat_minor": 0
}